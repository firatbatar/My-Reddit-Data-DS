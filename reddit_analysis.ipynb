{
 "cells": [
  {
   "cell_type": "markdown",
   "id": "efef5571-7315-42eb-9c9b-8fb2d2658716",
   "metadata": {},
   "source": [
    "# Imports"
   ]
  },
  {
   "cell_type": "code",
   "execution_count": 1,
   "id": "32598af6-a5c2-4a19-b55f-e3c17097402f",
   "metadata": {},
   "outputs": [],
   "source": [
    "import pandas as pd\n",
    "import numpy as np\n",
    "# import matplotlib.pyplot as plt\n",
    "# import seaborn as sns\n",
    "# import altair as alt"
   ]
  },
  {
   "cell_type": "markdown",
   "id": "6ab5ff07-6d4d-4d89-bc28-74acc258670c",
   "metadata": {},
   "source": [
    "# Data Collecting\n",
    "\n",
    "Get the data from the .csv files, clear and format a bit to get useful pandas DataFrames.  \n",
    "\n",
    "## Different Data\n",
    "* Subscribed Subreddits\n",
    "* IP Logs\n",
    "* Post Votes\n",
    "* Comment Votes\n",
    "* Comments\n",
    "* Posts"
   ]
  },
  {
   "cell_type": "code",
   "execution_count": 2,
   "id": "7196d180-f678-4694-b44d-478b47b44554",
   "metadata": {},
   "outputs": [],
   "source": [
    "# Data path\n",
    "data_path = \"./data/\""
   ]
  },
  {
   "cell_type": "markdown",
   "id": "e7134578-d757-4fa4-95fe-aa3fb2106d70",
   "metadata": {
    "jp-MarkdownHeadingCollapsed": true
   },
   "source": [
    "## Subscribed Subreddits\n",
    "\n",
    "This data holds the subreddits that I am _currently_ subscribed to. It does not hold a history or any temporal data.  \n",
    "\n",
    "Reddit subreddits doesn't include a way to distinguish them from each other by some kind of a tag or topic system. However, to better analyse them a tag system might be useful. From a list of basic tags subs can be tagged by hand. If the read data has a sub missing tags then it will automatically asks for tags from a pre-defined list of tags. After updating the tags data will be written onto the original .csv file.  \n",
    "\n",
    "This data file also includes followed users (not subs). They are marked with a 'u_' prefix in the data. They will be filtered, but saved anyway since they might be useful in the future."
   ]
  },
  {
   "cell_type": "code",
   "execution_count": 30,
   "id": "d11ce6dc-a8ce-43e0-908c-a069557fcb0c",
   "metadata": {},
   "outputs": [],
   "source": [
    "# Read the file, sort by name of the subreddits and reset the index after sorting\n",
    "fname = \"subscribed_subreddits.csv\"\n",
    "subreddits_df = pd.read_csv(data_path + fname).sort_values(by=\"subreddit\").reset_index().drop(columns=\"index\")"
   ]
  },
  {
   "cell_type": "code",
   "execution_count": 29,
   "id": "733d3b3f-aa5c-4a5f-afe6-9d54c1a8f1a5",
   "metadata": {},
   "outputs": [
    {
     "name": "stdin",
     "output_type": "stream",
     "text": [
      "Enter a tag for the subreddit 'ExposurePorn', amongst ('fandom', 'game', 'hobby', 'information', 'meme', 'movie/show', 'other', 'programming', 'user')\n",
      "Enter 'q' to finish.\n",
      " hobby\n",
      "Enter a tag for the subreddit 'ExposurePorn', amongst ('fandom', 'game', 'hobby', 'information', 'meme', 'movie/show', 'other', 'programming', 'user')\n",
      "Enter 'q' to finish.\n",
      " other\n",
      "Enter a tag for the subreddit 'ExposurePorn', amongst ('fandom', 'game', 'hobby', 'information', 'meme', 'movie/show', 'other', 'programming', 'user')\n",
      "Enter 'q' to finish.\n",
      " q\n"
     ]
    },
    {
     "name": "stdout",
     "output_type": "stream",
     "text": [
      "-----\n"
     ]
    },
    {
     "name": "stdin",
     "output_type": "stream",
     "text": [
      "Enter a tag for the subreddit 'FATErpg', amongst ('fandom', 'game', 'hobby', 'information', 'meme', 'movie/show', 'other', 'programming', 'user')\n",
      "Enter 'q' to finish.\n",
      " game\n",
      "Enter a tag for the subreddit 'FATErpg', amongst ('fandom', 'game', 'hobby', 'information', 'meme', 'movie/show', 'other', 'programming', 'user')\n",
      "Enter 'q' to finish.\n",
      " hobby\n",
      "Enter a tag for the subreddit 'FATErpg', amongst ('fandom', 'game', 'hobby', 'information', 'meme', 'movie/show', 'other', 'programming', 'user')\n",
      "Enter 'q' to finish.\n",
      " information\n",
      "Enter a tag for the subreddit 'FATErpg', amongst ('fandom', 'game', 'hobby', 'information', 'meme', 'movie/show', 'other', 'programming', 'user')\n",
      "Enter 'q' to finish.\n",
      " q\n"
     ]
    },
    {
     "name": "stdout",
     "output_type": "stream",
     "text": [
      "-----\n"
     ]
    },
    {
     "name": "stdin",
     "output_type": "stream",
     "text": [
      "Enter a tag for the subreddit 'GeekyaparLamers', amongst ('fandom', 'game', 'hobby', 'information', 'meme', 'movie/show', 'other', 'programming', 'user')\n",
      "Enter 'q' to finish.\n",
      " other\n",
      "Enter a tag for the subreddit 'GeekyaparLamers', amongst ('fandom', 'game', 'hobby', 'information', 'meme', 'movie/show', 'other', 'programming', 'user')\n",
      "Enter 'q' to finish.\n",
      " q\n"
     ]
    },
    {
     "name": "stdout",
     "output_type": "stream",
     "text": [
      "-----\n"
     ]
    },
    {
     "name": "stdin",
     "output_type": "stream",
     "text": [
      "Enter a tag for the subreddit 'GreekMythology', amongst ('fandom', 'game', 'hobby', 'information', 'meme', 'movie/show', 'other', 'programming', 'user')\n",
      "Enter 'q' to finish.\n",
      " information\n",
      "Enter a tag for the subreddit 'GreekMythology', amongst ('fandom', 'game', 'hobby', 'information', 'meme', 'movie/show', 'other', 'programming', 'user')\n",
      "Enter 'q' to finish.\n",
      " q\n"
     ]
    },
    {
     "name": "stdout",
     "output_type": "stream",
     "text": [
      "-----\n"
     ]
    },
    {
     "name": "stdin",
     "output_type": "stream",
     "text": [
      "Enter a tag for the subreddit 'GuessTheMovie', amongst ('fandom', 'game', 'hobby', 'information', 'meme', 'movie/show', 'other', 'programming', 'user')\n",
      "Enter 'q' to finish.\n",
      " other\n",
      "Enter a tag for the subreddit 'GuessTheMovie', amongst ('fandom', 'game', 'hobby', 'information', 'meme', 'movie/show', 'other', 'programming', 'user')\n",
      "Enter 'q' to finish.\n",
      " q\n"
     ]
    },
    {
     "name": "stdout",
     "output_type": "stream",
     "text": [
      "-----\n"
     ]
    },
    {
     "name": "stdin",
     "output_type": "stream",
     "text": [
      "Enter a tag for the subreddit 'KaderOyunu', amongst ('fandom', 'game', 'hobby', 'information', 'meme', 'movie/show', 'other', 'programming', 'user')\n",
      "Enter 'q' to finish.\n",
      " game\n",
      "Enter a tag for the subreddit 'KaderOyunu', amongst ('fandom', 'game', 'hobby', 'information', 'meme', 'movie/show', 'other', 'programming', 'user')\n",
      "Enter 'q' to finish.\n",
      " hobby\n",
      "Enter a tag for the subreddit 'KaderOyunu', amongst ('fandom', 'game', 'hobby', 'information', 'meme', 'movie/show', 'other', 'programming', 'user')\n",
      "Enter 'q' to finish.\n",
      " information\n",
      "Enter a tag for the subreddit 'KaderOyunu', amongst ('fandom', 'game', 'hobby', 'information', 'meme', 'movie/show', 'other', 'programming', 'user')\n",
      "Enter 'q' to finish.\n",
      " q\n"
     ]
    },
    {
     "name": "stdout",
     "output_type": "stream",
     "text": [
      "-----\n"
     ]
    },
    {
     "name": "stdin",
     "output_type": "stream",
     "text": [
      "Enter a tag for the subreddit 'MontyPythonMemes', amongst ('fandom', 'game', 'hobby', 'information', 'meme', 'movie/show', 'other', 'programming', 'user')\n",
      "Enter 'q' to finish.\n",
      " fandom\n",
      "Enter a tag for the subreddit 'MontyPythonMemes', amongst ('fandom', 'game', 'hobby', 'information', 'meme', 'movie/show', 'other', 'programming', 'user')\n",
      "Enter 'q' to finish.\n",
      " meme\n",
      "Enter a tag for the subreddit 'MontyPythonMemes', amongst ('fandom', 'game', 'hobby', 'information', 'meme', 'movie/show', 'other', 'programming', 'user')\n",
      "Enter 'q' to finish.\n",
      " movie/show\n",
      "Enter a tag for the subreddit 'MontyPythonMemes', amongst ('fandom', 'game', 'hobby', 'information', 'meme', 'movie/show', 'other', 'programming', 'user')\n",
      "Enter 'q' to finish.\n",
      " q\n"
     ]
    },
    {
     "name": "stdout",
     "output_type": "stream",
     "text": [
      "-----\n"
     ]
    },
    {
     "name": "stdin",
     "output_type": "stream",
     "text": [
      "Enter a tag for the subreddit 'MovieQuotes', amongst ('fandom', 'game', 'hobby', 'information', 'meme', 'movie/show', 'other', 'programming', 'user')\n",
      "Enter 'q' to finish.\n",
      " other\n",
      "Enter a tag for the subreddit 'MovieQuotes', amongst ('fandom', 'game', 'hobby', 'information', 'meme', 'movie/show', 'other', 'programming', 'user')\n",
      "Enter 'q' to finish.\n",
      " movie/show\n",
      "Enter a tag for the subreddit 'MovieQuotes', amongst ('fandom', 'game', 'hobby', 'information', 'meme', 'movie/show', 'other', 'programming', 'user')\n",
      "Enter 'q' to finish.\n",
      " q\n"
     ]
    },
    {
     "name": "stdout",
     "output_type": "stream",
     "text": [
      "-----\n"
     ]
    },
    {
     "name": "stdin",
     "output_type": "stream",
     "text": [
      "Enter a tag for the subreddit 'MrData', amongst ('fandom', 'game', 'hobby', 'information', 'meme', 'movie/show', 'other', 'programming', 'user')\n",
      "Enter 'q' to finish.\n",
      " fandom\n",
      "Enter a tag for the subreddit 'MrData', amongst ('fandom', 'game', 'hobby', 'information', 'meme', 'movie/show', 'other', 'programming', 'user')\n",
      "Enter 'q' to finish.\n",
      " meme\n",
      "Enter a tag for the subreddit 'MrData', amongst ('fandom', 'game', 'hobby', 'information', 'meme', 'movie/show', 'other', 'programming', 'user')\n",
      "Enter 'q' to finish.\n",
      " movie/show\n",
      "Enter a tag for the subreddit 'MrData', amongst ('fandom', 'game', 'hobby', 'information', 'meme', 'movie/show', 'other', 'programming', 'user')\n",
      "Enter 'q' to finish.\n",
      " q\n"
     ]
    },
    {
     "name": "stdout",
     "output_type": "stream",
     "text": [
      "-----\n"
     ]
    },
    {
     "name": "stdin",
     "output_type": "stream",
     "text": [
      "Enter a tag for the subreddit 'Percabeth', amongst ('fandom', 'game', 'hobby', 'information', 'meme', 'movie/show', 'other', 'programming', 'user')\n",
      "Enter 'q' to finish.\n",
      " fandom\n",
      "Enter a tag for the subreddit 'Percabeth', amongst ('fandom', 'game', 'hobby', 'information', 'meme', 'movie/show', 'other', 'programming', 'user')\n",
      "Enter 'q' to finish.\n",
      " q\n"
     ]
    },
    {
     "name": "stdout",
     "output_type": "stream",
     "text": [
      "-----\n"
     ]
    },
    {
     "name": "stdin",
     "output_type": "stream",
     "text": [
      "Enter a tag for the subreddit 'PercyJacksonMemes', amongst ('fandom', 'game', 'hobby', 'information', 'meme', 'movie/show', 'other', 'programming', 'user')\n",
      "Enter 'q' to finish.\n",
      " fandom\n",
      "Enter a tag for the subreddit 'PercyJacksonMemes', amongst ('fandom', 'game', 'hobby', 'information', 'meme', 'movie/show', 'other', 'programming', 'user')\n",
      "Enter 'q' to finish.\n",
      " meme\n",
      "Enter a tag for the subreddit 'PercyJacksonMemes', amongst ('fandom', 'game', 'hobby', 'information', 'meme', 'movie/show', 'other', 'programming', 'user')\n",
      "Enter 'q' to finish.\n",
      " q\n"
     ]
    },
    {
     "name": "stdout",
     "output_type": "stream",
     "text": [
      "-----\n"
     ]
    },
    {
     "name": "stdin",
     "output_type": "stream",
     "text": [
      "Enter a tag for the subreddit 'ProgrammerHumor', amongst ('fandom', 'game', 'hobby', 'information', 'meme', 'movie/show', 'other', 'programming', 'user')\n",
      "Enter 'q' to finish.\n",
      " meme\n",
      "Enter a tag for the subreddit 'ProgrammerHumor', amongst ('fandom', 'game', 'hobby', 'information', 'meme', 'movie/show', 'other', 'programming', 'user')\n",
      "Enter 'q' to finish.\n",
      " programming\n",
      "Enter a tag for the subreddit 'ProgrammerHumor', amongst ('fandom', 'game', 'hobby', 'information', 'meme', 'movie/show', 'other', 'programming', 'user')\n",
      "Enter 'q' to finish.\n",
      " q\n"
     ]
    },
    {
     "name": "stdout",
     "output_type": "stream",
     "text": [
      "-----\n"
     ]
    },
    {
     "name": "stdin",
     "output_type": "stream",
     "text": [
      "Enter a tag for the subreddit 'Python', amongst ('fandom', 'game', 'hobby', 'information', 'meme', 'movie/show', 'other', 'programming', 'user')\n",
      "Enter 'q' to finish.\n",
      " information\n",
      "Enter a tag for the subreddit 'Python', amongst ('fandom', 'game', 'hobby', 'information', 'meme', 'movie/show', 'other', 'programming', 'user')\n",
      "Enter 'q' to finish.\n",
      " programming\n",
      "Enter a tag for the subreddit 'Python', amongst ('fandom', 'game', 'hobby', 'information', 'meme', 'movie/show', 'other', 'programming', 'user')\n",
      "Enter 'q' to finish.\n",
      " q\n"
     ]
    },
    {
     "name": "stdout",
     "output_type": "stream",
     "text": [
      "-----\n"
     ]
    },
    {
     "name": "stdin",
     "output_type": "stream",
     "text": [
      "Enter a tag for the subreddit 'PythonJobs', amongst ('fandom', 'game', 'hobby', 'information', 'meme', 'movie/show', 'other', 'programming', 'user')\n",
      "Enter 'q' to finish.\n",
      " programming\n",
      "Enter a tag for the subreddit 'PythonJobs', amongst ('fandom', 'game', 'hobby', 'information', 'meme', 'movie/show', 'other', 'programming', 'user')\n",
      "Enter 'q' to finish.\n",
      " q\n"
     ]
    },
    {
     "name": "stdout",
     "output_type": "stream",
     "text": [
      "-----\n"
     ]
    },
    {
     "name": "stdin",
     "output_type": "stream",
     "text": [
      "Enter a tag for the subreddit 'SatisfactoryGame', amongst ('fandom', 'game', 'hobby', 'information', 'meme', 'movie/show', 'other', 'programming', 'user')\n",
      "Enter 'q' to finish.\n",
      " game\n",
      "Enter a tag for the subreddit 'SatisfactoryGame', amongst ('fandom', 'game', 'hobby', 'information', 'meme', 'movie/show', 'other', 'programming', 'user')\n",
      "Enter 'q' to finish.\n",
      " meme\n",
      "Enter a tag for the subreddit 'SatisfactoryGame', amongst ('fandom', 'game', 'hobby', 'information', 'meme', 'movie/show', 'other', 'programming', 'user')\n",
      "Enter 'q' to finish.\n",
      " q\n"
     ]
    },
    {
     "name": "stdout",
     "output_type": "stream",
     "text": [
      "-----\n"
     ]
    },
    {
     "name": "stdin",
     "output_type": "stream",
     "text": [
      "Enter a tag for the subreddit 'ScarySigns', amongst ('fandom', 'game', 'hobby', 'information', 'meme', 'movie/show', 'other', 'programming', 'user')\n",
      "Enter 'q' to finish.\n",
      " meme\n",
      "Enter a tag for the subreddit 'ScarySigns', amongst ('fandom', 'game', 'hobby', 'information', 'meme', 'movie/show', 'other', 'programming', 'user')\n",
      "Enter 'q' to finish.\n",
      " q\n"
     ]
    },
    {
     "name": "stdout",
     "output_type": "stream",
     "text": [
      "-----\n"
     ]
    },
    {
     "name": "stdin",
     "output_type": "stream",
     "text": [
      "Enter a tag for the subreddit 'SenNeDiyon', amongst ('fandom', 'game', 'hobby', 'information', 'meme', 'movie/show', 'other', 'programming', 'user')\n",
      "Enter 'q' to finish.\n",
      " other\n",
      "Enter a tag for the subreddit 'SenNeDiyon', amongst ('fandom', 'game', 'hobby', 'information', 'meme', 'movie/show', 'other', 'programming', 'user')\n",
      "Enter 'q' to finish.\n",
      " q\n"
     ]
    },
    {
     "name": "stdout",
     "output_type": "stream",
     "text": [
      "-----\n"
     ]
    },
    {
     "name": "stdin",
     "output_type": "stream",
     "text": [
      "Enter a tag for the subreddit 'TheLastAirbender', amongst ('fandom', 'game', 'hobby', 'information', 'meme', 'movie/show', 'other', 'programming', 'user')\n",
      "Enter 'q' to finish.\n",
      " fandom\n",
      "Enter a tag for the subreddit 'TheLastAirbender', amongst ('fandom', 'game', 'hobby', 'information', 'meme', 'movie/show', 'other', 'programming', 'user')\n",
      "Enter 'q' to finish.\n",
      " movie/show\n",
      "Enter a tag for the subreddit 'TheLastAirbender', amongst ('fandom', 'game', 'hobby', 'information', 'meme', 'movie/show', 'other', 'programming', 'user')\n",
      "Enter 'q' to finish.\n",
      " q\n"
     ]
    },
    {
     "name": "stdout",
     "output_type": "stream",
     "text": [
      "-----\n"
     ]
    },
    {
     "name": "stdin",
     "output_type": "stream",
     "text": [
      "Enter a tag for the subreddit 'TheLibrarians', amongst ('fandom', 'game', 'hobby', 'information', 'meme', 'movie/show', 'other', 'programming', 'user')\n",
      "Enter 'q' to finish.\n",
      " fandom\n",
      "Enter a tag for the subreddit 'TheLibrarians', amongst ('fandom', 'game', 'hobby', 'information', 'meme', 'movie/show', 'other', 'programming', 'user')\n",
      "Enter 'q' to finish.\n",
      " movie/sho\n"
     ]
    },
    {
     "name": "stdout",
     "output_type": "stream",
     "text": [
      "You didn't enter a valid tag.\n"
     ]
    },
    {
     "name": "stdin",
     "output_type": "stream",
     "text": [
      "Enter a tag for the subreddit 'TheLibrarians', amongst ('fandom', 'game', 'hobby', 'information', 'meme', 'movie/show', 'other', 'programming', 'user')\n",
      "Enter 'q' to finish.\n",
      " movie/show\n",
      "Enter a tag for the subreddit 'TheLibrarians', amongst ('fandom', 'game', 'hobby', 'information', 'meme', 'movie/show', 'other', 'programming', 'user')\n",
      "Enter 'q' to finish.\n",
      " q\n"
     ]
    },
    {
     "name": "stdout",
     "output_type": "stream",
     "text": [
      "-----\n"
     ]
    },
    {
     "name": "stdin",
     "output_type": "stream",
     "text": [
      "Enter a tag for the subreddit 'TheNewestOlympian', amongst ('fandom', 'game', 'hobby', 'information', 'meme', 'movie/show', 'other', 'programming', 'user')\n",
      "Enter 'q' to finish.\n",
      " other\n",
      "Enter a tag for the subreddit 'TheNewestOlympian', amongst ('fandom', 'game', 'hobby', 'information', 'meme', 'movie/show', 'other', 'programming', 'user')\n",
      "Enter 'q' to finish.\n",
      " q\n"
     ]
    },
    {
     "name": "stdout",
     "output_type": "stream",
     "text": [
      "-----\n"
     ]
    },
    {
     "name": "stdin",
     "output_type": "stream",
     "text": [
      "Enter a tag for the subreddit 'Ubuntu', amongst ('fandom', 'game', 'hobby', 'information', 'meme', 'movie/show', 'other', 'programming', 'user')\n",
      "Enter 'q' to finish.\n",
      " information\n",
      "Enter a tag for the subreddit 'Ubuntu', amongst ('fandom', 'game', 'hobby', 'information', 'meme', 'movie/show', 'other', 'programming', 'user')\n",
      "Enter 'q' to finish.\n",
      " q\n"
     ]
    },
    {
     "name": "stdout",
     "output_type": "stream",
     "text": [
      "-----\n"
     ]
    },
    {
     "name": "stdin",
     "output_type": "stream",
     "text": [
      "Enter a tag for the subreddit 'UnexpectedSeinfeld', amongst ('fandom', 'game', 'hobby', 'information', 'meme', 'movie/show', 'other', 'programming', 'user')\n",
      "Enter 'q' to finish.\n",
      " fandom\n",
      "Enter a tag for the subreddit 'UnexpectedSeinfeld', amongst ('fandom', 'game', 'hobby', 'information', 'meme', 'movie/show', 'other', 'programming', 'user')\n",
      "Enter 'q' to finish.\n",
      " movie/show\n",
      "Enter a tag for the subreddit 'UnexpectedSeinfeld', amongst ('fandom', 'game', 'hobby', 'information', 'meme', 'movie/show', 'other', 'programming', 'user')\n",
      "Enter 'q' to finish.\n",
      " meme\n",
      "Enter a tag for the subreddit 'UnexpectedSeinfeld', amongst ('fandom', 'game', 'hobby', 'information', 'meme', 'movie/show', 'other', 'programming', 'user')\n",
      "Enter 'q' to finish.\n",
      " q\n"
     ]
    },
    {
     "name": "stdout",
     "output_type": "stream",
     "text": [
      "-----\n"
     ]
    },
    {
     "name": "stdin",
     "output_type": "stream",
     "text": [
      "Enter a tag for the subreddit 'boardgames', amongst ('fandom', 'game', 'hobby', 'information', 'meme', 'movie/show', 'other', 'programming', 'user')\n",
      "Enter 'q' to finish.\n",
      " game\n",
      "Enter a tag for the subreddit 'boardgames', amongst ('fandom', 'game', 'hobby', 'information', 'meme', 'movie/show', 'other', 'programming', 'user')\n",
      "Enter 'q' to finish.\n",
      " hobby\n",
      "Enter a tag for the subreddit 'boardgames', amongst ('fandom', 'game', 'hobby', 'information', 'meme', 'movie/show', 'other', 'programming', 'user')\n",
      "Enter 'q' to finish.\n",
      " q\n"
     ]
    },
    {
     "name": "stdout",
     "output_type": "stream",
     "text": [
      "-----\n"
     ]
    },
    {
     "name": "stdin",
     "output_type": "stream",
     "text": [
      "Enter a tag for the subreddit 'camphalfblood', amongst ('fandom', 'game', 'hobby', 'information', 'meme', 'movie/show', 'other', 'programming', 'user')\n",
      "Enter 'q' to finish.\n",
      " fandom\n",
      "Enter a tag for the subreddit 'camphalfblood', amongst ('fandom', 'game', 'hobby', 'information', 'meme', 'movie/show', 'other', 'programming', 'user')\n",
      "Enter 'q' to finish.\n",
      " meme\n",
      "Enter a tag for the subreddit 'camphalfblood', amongst ('fandom', 'game', 'hobby', 'information', 'meme', 'movie/show', 'other', 'programming', 'user')\n",
      "Enter 'q' to finish.\n",
      " q\n"
     ]
    },
    {
     "name": "stdout",
     "output_type": "stream",
     "text": [
      "-----\n"
     ]
    },
    {
     "name": "stdin",
     "output_type": "stream",
     "text": [
      "Enter a tag for the subreddit 'consolerepair', amongst ('fandom', 'game', 'hobby', 'information', 'meme', 'movie/show', 'other', 'programming', 'user')\n",
      "Enter 'q' to finish.\n",
      " information\n",
      "Enter a tag for the subreddit 'consolerepair', amongst ('fandom', 'game', 'hobby', 'information', 'meme', 'movie/show', 'other', 'programming', 'user')\n",
      "Enter 'q' to finish.\n",
      " hobby\n",
      "Enter a tag for the subreddit 'consolerepair', amongst ('fandom', 'game', 'hobby', 'information', 'meme', 'movie/show', 'other', 'programming', 'user')\n",
      "Enter 'q' to finish.\n",
      " q\n"
     ]
    },
    {
     "name": "stdout",
     "output_type": "stream",
     "text": [
      "-----\n"
     ]
    },
    {
     "name": "stdin",
     "output_type": "stream",
     "text": [
      "Enter a tag for the subreddit 'datasets', amongst ('fandom', 'game', 'hobby', 'information', 'meme', 'movie/show', 'other', 'programming', 'user')\n",
      "Enter 'q' to finish.\n",
      " programming\n",
      "Enter a tag for the subreddit 'datasets', amongst ('fandom', 'game', 'hobby', 'information', 'meme', 'movie/show', 'other', 'programming', 'user')\n",
      "Enter 'q' to finish.\n",
      " q\n"
     ]
    },
    {
     "name": "stdout",
     "output_type": "stream",
     "text": [
      "-----\n"
     ]
    },
    {
     "name": "stdin",
     "output_type": "stream",
     "text": [
      "Enter a tag for the subreddit 'django', amongst ('fandom', 'game', 'hobby', 'information', 'meme', 'movie/show', 'other', 'programming', 'user')\n",
      "Enter 'q' to finish.\n",
      " information\n",
      "Enter a tag for the subreddit 'django', amongst ('fandom', 'game', 'hobby', 'information', 'meme', 'movie/show', 'other', 'programming', 'user')\n",
      "Enter 'q' to finish.\n",
      " programmig\n"
     ]
    },
    {
     "name": "stdout",
     "output_type": "stream",
     "text": [
      "You didn't enter a valid tag.\n"
     ]
    },
    {
     "name": "stdin",
     "output_type": "stream",
     "text": [
      "Enter a tag for the subreddit 'django', amongst ('fandom', 'game', 'hobby', 'information', 'meme', 'movie/show', 'other', 'programming', 'user')\n",
      "Enter 'q' to finish.\n",
      " programming\n",
      "Enter a tag for the subreddit 'django', amongst ('fandom', 'game', 'hobby', 'information', 'meme', 'movie/show', 'other', 'programming', 'user')\n",
      "Enter 'q' to finish.\n",
      " information\n"
     ]
    },
    {
     "name": "stdout",
     "output_type": "stream",
     "text": [
      "You didn't enter a valid tag.\n"
     ]
    },
    {
     "name": "stdin",
     "output_type": "stream",
     "text": [
      "Enter a tag for the subreddit 'django', amongst ('fandom', 'game', 'hobby', 'information', 'meme', 'movie/show', 'other', 'programming', 'user')\n",
      "Enter 'q' to finish.\n",
      " programming\n"
     ]
    },
    {
     "name": "stdout",
     "output_type": "stream",
     "text": [
      "You didn't enter a valid tag.\n"
     ]
    },
    {
     "name": "stdin",
     "output_type": "stream",
     "text": [
      "Enter a tag for the subreddit 'django', amongst ('fandom', 'game', 'hobby', 'information', 'meme', 'movie/show', 'other', 'programming', 'user')\n",
      "Enter 'q' to finish.\n",
      " information\n"
     ]
    },
    {
     "name": "stdout",
     "output_type": "stream",
     "text": [
      "You didn't enter a valid tag.\n"
     ]
    },
    {
     "name": "stdin",
     "output_type": "stream",
     "text": [
      "Enter a tag for the subreddit 'django', amongst ('fandom', 'game', 'hobby', 'information', 'meme', 'movie/show', 'other', 'programming', 'user')\n",
      "Enter 'q' to finish.\n",
      " q\n"
     ]
    },
    {
     "name": "stdout",
     "output_type": "stream",
     "text": [
      "-----\n"
     ]
    },
    {
     "name": "stdin",
     "output_type": "stream",
     "text": [
      "Enter a tag for the subreddit 'djangolearning', amongst ('fandom', 'game', 'hobby', 'information', 'meme', 'movie/show', 'other', 'programming', 'user')\n",
      "Enter 'q' to finish.\n",
      " information\n",
      "Enter a tag for the subreddit 'djangolearning', amongst ('fandom', 'game', 'hobby', 'information', 'meme', 'movie/show', 'other', 'programming', 'user')\n",
      "Enter 'q' to finish.\n",
      " programming\n",
      "Enter a tag for the subreddit 'djangolearning', amongst ('fandom', 'game', 'hobby', 'information', 'meme', 'movie/show', 'other', 'programming', 'user')\n",
      "Enter 'q' to finish.\n",
      " q\n"
     ]
    },
    {
     "name": "stdout",
     "output_type": "stream",
     "text": [
      "-----\n"
     ]
    },
    {
     "name": "stdin",
     "output_type": "stream",
     "text": [
      "Enter a tag for the subreddit 'gaming', amongst ('fandom', 'game', 'hobby', 'information', 'meme', 'movie/show', 'other', 'programming', 'user')\n",
      "Enter 'q' to finish.\n",
      " game\n",
      "Enter a tag for the subreddit 'gaming', amongst ('fandom', 'game', 'hobby', 'information', 'meme', 'movie/show', 'other', 'programming', 'user')\n",
      "Enter 'q' to finish.\n",
      " q\n"
     ]
    },
    {
     "name": "stdout",
     "output_type": "stream",
     "text": [
      "-----\n"
     ]
    },
    {
     "name": "stdin",
     "output_type": "stream",
     "text": [
      "Enter a tag for the subreddit 'geek', amongst ('fandom', 'game', 'hobby', 'information', 'meme', 'movie/show', 'other', 'programming', 'user')\n",
      "Enter 'q' to finish.\n",
      " other\n",
      "Enter a tag for the subreddit 'geek', amongst ('fandom', 'game', 'hobby', 'information', 'meme', 'movie/show', 'other', 'programming', 'user')\n",
      "Enter 'q' to finish.\n",
      " q\n"
     ]
    },
    {
     "name": "stdout",
     "output_type": "stream",
     "text": [
      "-----\n"
     ]
    },
    {
     "name": "stdin",
     "output_type": "stream",
     "text": [
      "Enter a tag for the subreddit 'learnprogramming', amongst ('fandom', 'game', 'hobby', 'information', 'meme', 'movie/show', 'other', 'programming', 'user')\n",
      "Enter 'q' to finish.\n",
      " information\n",
      "Enter a tag for the subreddit 'learnprogramming', amongst ('fandom', 'game', 'hobby', 'information', 'meme', 'movie/show', 'other', 'programming', 'user')\n",
      "Enter 'q' to finish.\n",
      " programming\n",
      "Enter a tag for the subreddit 'learnprogramming', amongst ('fandom', 'game', 'hobby', 'information', 'meme', 'movie/show', 'other', 'programming', 'user')\n",
      "Enter 'q' to finish.\n",
      " q\n"
     ]
    },
    {
     "name": "stdout",
     "output_type": "stream",
     "text": [
      "-----\n"
     ]
    },
    {
     "name": "stdin",
     "output_type": "stream",
     "text": [
      "Enter a tag for the subreddit 'mathmemes', amongst ('fandom', 'game', 'hobby', 'information', 'meme', 'movie/show', 'other', 'programming', 'user')\n",
      "Enter 'q' to finish.\n",
      " meme\n",
      "Enter a tag for the subreddit 'mathmemes', amongst ('fandom', 'game', 'hobby', 'information', 'meme', 'movie/show', 'other', 'programming', 'user')\n",
      "Enter 'q' to finish.\n",
      " q\n"
     ]
    },
    {
     "name": "stdout",
     "output_type": "stream",
     "text": [
      "-----\n"
     ]
    },
    {
     "name": "stdin",
     "output_type": "stream",
     "text": [
      "Enter a tag for the subreddit 'montypython', amongst ('fandom', 'game', 'hobby', 'information', 'meme', 'movie/show', 'other', 'programming', 'user')\n",
      "Enter 'q' to finish.\n",
      " fandom\n",
      "Enter a tag for the subreddit 'montypython', amongst ('fandom', 'game', 'hobby', 'information', 'meme', 'movie/show', 'other', 'programming', 'user')\n",
      "Enter 'q' to finish.\n",
      " movie/show\n",
      "Enter a tag for the subreddit 'montypython', amongst ('fandom', 'game', 'hobby', 'information', 'meme', 'movie/show', 'other', 'programming', 'user')\n",
      "Enter 'q' to finish.\n",
      " q\n"
     ]
    },
    {
     "name": "stdout",
     "output_type": "stream",
     "text": [
      "-----\n"
     ]
    },
    {
     "name": "stdin",
     "output_type": "stream",
     "text": [
      "Enter a tag for the subreddit 'movies', amongst ('fandom', 'game', 'hobby', 'information', 'meme', 'movie/show', 'other', 'programming', 'user')\n",
      "Enter 'q' to finish.\n",
      " movie/show\n",
      "Enter a tag for the subreddit 'movies', amongst ('fandom', 'game', 'hobby', 'information', 'meme', 'movie/show', 'other', 'programming', 'user')\n",
      "Enter 'q' to finish.\n",
      " other\n",
      "Enter a tag for the subreddit 'movies', amongst ('fandom', 'game', 'hobby', 'information', 'meme', 'movie/show', 'other', 'programming', 'user')\n",
      "Enter 'q' to finish.\n",
      " q\n"
     ]
    },
    {
     "name": "stdout",
     "output_type": "stream",
     "text": [
      "-----\n"
     ]
    },
    {
     "name": "stdin",
     "output_type": "stream",
     "text": [
      "Enter a tag for the subreddit 'projecteuler', amongst ('fandom', 'game', 'hobby', 'information', 'meme', 'movie/show', 'other', 'programming', 'user')\n",
      "Enter 'q' to finish.\n",
      " programming\n",
      "Enter a tag for the subreddit 'projecteuler', amongst ('fandom', 'game', 'hobby', 'information', 'meme', 'movie/show', 'other', 'programming', 'user')\n",
      "Enter 'q' to finish.\n",
      " q\n"
     ]
    },
    {
     "name": "stdout",
     "output_type": "stream",
     "text": [
      "-----\n"
     ]
    },
    {
     "name": "stdin",
     "output_type": "stream",
     "text": [
      "Enter a tag for the subreddit 'pythontips', amongst ('fandom', 'game', 'hobby', 'information', 'meme', 'movie/show', 'other', 'programming', 'user')\n",
      "Enter 'q' to finish.\n",
      " information\n",
      "Enter a tag for the subreddit 'pythontips', amongst ('fandom', 'game', 'hobby', 'information', 'meme', 'movie/show', 'other', 'programming', 'user')\n",
      "Enter 'q' to finish.\n",
      " programming\n",
      "Enter a tag for the subreddit 'pythontips', amongst ('fandom', 'game', 'hobby', 'information', 'meme', 'movie/show', 'other', 'programming', 'user')\n",
      "Enter 'q' to finish.\n",
      " q\n"
     ]
    },
    {
     "name": "stdout",
     "output_type": "stream",
     "text": [
      "-----\n"
     ]
    },
    {
     "name": "stdin",
     "output_type": "stream",
     "text": [
      "Enter a tag for the subreddit 'risa', amongst ('fandom', 'game', 'hobby', 'information', 'meme', 'movie/show', 'other', 'programming', 'user')\n",
      "Enter 'q' to finish.\n",
      " fandom\n",
      "Enter a tag for the subreddit 'risa', amongst ('fandom', 'game', 'hobby', 'information', 'meme', 'movie/show', 'other', 'programming', 'user')\n",
      "Enter 'q' to finish.\n",
      " meme\n",
      "Enter a tag for the subreddit 'risa', amongst ('fandom', 'game', 'hobby', 'information', 'meme', 'movie/show', 'other', 'programming', 'user')\n",
      "Enter 'q' to finish.\n",
      " movie/show\n",
      "Enter a tag for the subreddit 'risa', amongst ('fandom', 'game', 'hobby', 'information', 'meme', 'movie/show', 'other', 'programming', 'user')\n",
      "Enter 'q' to finish.\n",
      " q\n"
     ]
    },
    {
     "name": "stdout",
     "output_type": "stream",
     "text": [
      "-----\n"
     ]
    },
    {
     "name": "stdin",
     "output_type": "stream",
     "text": [
      "Enter a tag for the subreddit 'satisfactory', amongst ('fandom', 'game', 'hobby', 'information', 'meme', 'movie/show', 'other', 'programming', 'user')\n",
      "Enter 'q' to finish.\n",
      " game\n",
      "Enter a tag for the subreddit 'satisfactory', amongst ('fandom', 'game', 'hobby', 'information', 'meme', 'movie/show', 'other', 'programming', 'user')\n",
      "Enter 'q' to finish.\n",
      " meme\n",
      "Enter a tag for the subreddit 'satisfactory', amongst ('fandom', 'game', 'hobby', 'information', 'meme', 'movie/show', 'other', 'programming', 'user')\n",
      "Enter 'q' to finish.\n",
      " q\n"
     ]
    },
    {
     "name": "stdout",
     "output_type": "stream",
     "text": [
      "-----\n"
     ]
    },
    {
     "name": "stdin",
     "output_type": "stream",
     "text": [
      "Enter a tag for the subreddit 'seinfeld', amongst ('fandom', 'game', 'hobby', 'information', 'meme', 'movie/show', 'other', 'programming', 'user')\n",
      "Enter 'q' to finish.\n",
      " fandom\n",
      "Enter a tag for the subreddit 'seinfeld', amongst ('fandom', 'game', 'hobby', 'information', 'meme', 'movie/show', 'other', 'programming', 'user')\n",
      "Enter 'q' to finish.\n",
      " meme\n",
      "Enter a tag for the subreddit 'seinfeld', amongst ('fandom', 'game', 'hobby', 'information', 'meme', 'movie/show', 'other', 'programming', 'user')\n",
      "Enter 'q' to finish.\n",
      " movie/show\n",
      "Enter a tag for the subreddit 'seinfeld', amongst ('fandom', 'game', 'hobby', 'information', 'meme', 'movie/show', 'other', 'programming', 'user')\n",
      "Enter 'q' to finish.\n",
      " q\n"
     ]
    },
    {
     "name": "stdout",
     "output_type": "stream",
     "text": [
      "-----\n"
     ]
    },
    {
     "name": "stdin",
     "output_type": "stream",
     "text": [
      "Enter a tag for the subreddit 'seinfeldgifs', amongst ('fandom', 'game', 'hobby', 'information', 'meme', 'movie/show', 'other', 'programming', 'user')\n",
      "Enter 'q' to finish.\n",
      " fandom\n",
      "Enter a tag for the subreddit 'seinfeldgifs', amongst ('fandom', 'game', 'hobby', 'information', 'meme', 'movie/show', 'other', 'programming', 'user')\n",
      "Enter 'q' to finish.\n",
      " movie/show\n",
      "Enter a tag for the subreddit 'seinfeldgifs', amongst ('fandom', 'game', 'hobby', 'information', 'meme', 'movie/show', 'other', 'programming', 'user')\n",
      "Enter 'q' to finish.\n",
      " q\n"
     ]
    },
    {
     "name": "stdout",
     "output_type": "stream",
     "text": [
      "-----\n"
     ]
    },
    {
     "name": "stdin",
     "output_type": "stream",
     "text": [
      "Enter a tag for the subreddit 'startrek', amongst ('fandom', 'game', 'hobby', 'information', 'meme', 'movie/show', 'other', 'programming', 'user')\n",
      "Enter 'q' to finish.\n",
      " fandom\n",
      "Enter a tag for the subreddit 'startrek', amongst ('fandom', 'game', 'hobby', 'information', 'meme', 'movie/show', 'other', 'programming', 'user')\n",
      "Enter 'q' to finish.\n",
      " movie/show\n",
      "Enter a tag for the subreddit 'startrek', amongst ('fandom', 'game', 'hobby', 'information', 'meme', 'movie/show', 'other', 'programming', 'user')\n",
      "Enter 'q' to finish.\n",
      " q\n"
     ]
    },
    {
     "name": "stdout",
     "output_type": "stream",
     "text": [
      "-----\n"
     ]
    },
    {
     "name": "stdin",
     "output_type": "stream",
     "text": [
      "Enter a tag for the subreddit 'startrekmemes', amongst ('fandom', 'game', 'hobby', 'information', 'meme', 'movie/show', 'other', 'programming', 'user')\n",
      "Enter 'q' to finish.\n",
      " fandom\n",
      "Enter a tag for the subreddit 'startrekmemes', amongst ('fandom', 'game', 'hobby', 'information', 'meme', 'movie/show', 'other', 'programming', 'user')\n",
      "Enter 'q' to finish.\n",
      " meme\n",
      "Enter a tag for the subreddit 'startrekmemes', amongst ('fandom', 'game', 'hobby', 'information', 'meme', 'movie/show', 'other', 'programming', 'user')\n",
      "Enter 'q' to finish.\n",
      " movie/show\n",
      "Enter a tag for the subreddit 'startrekmemes', amongst ('fandom', 'game', 'hobby', 'information', 'meme', 'movie/show', 'other', 'programming', 'user')\n",
      "Enter 'q' to finish.\n",
      " q\n"
     ]
    },
    {
     "name": "stdout",
     "output_type": "stream",
     "text": [
      "-----\n"
     ]
    },
    {
     "name": "stdin",
     "output_type": "stream",
     "text": [
      "Enter a tag for the subreddit 'thenextgeneration', amongst ('fandom', 'game', 'hobby', 'information', 'meme', 'movie/show', 'other', 'programming', 'user')\n",
      "Enter 'q' to finish.\n",
      " fandom\n",
      "Enter a tag for the subreddit 'thenextgeneration', amongst ('fandom', 'game', 'hobby', 'information', 'meme', 'movie/show', 'other', 'programming', 'user')\n",
      "Enter 'q' to finish.\n",
      " movie/shpw\n"
     ]
    },
    {
     "name": "stdout",
     "output_type": "stream",
     "text": [
      "You didn't enter a valid tag.\n"
     ]
    },
    {
     "name": "stdin",
     "output_type": "stream",
     "text": [
      "Enter a tag for the subreddit 'thenextgeneration', amongst ('fandom', 'game', 'hobby', 'information', 'meme', 'movie/show', 'other', 'programming', 'user')\n",
      "Enter 'q' to finish.\n",
      " movie/show\n",
      "Enter a tag for the subreddit 'thenextgeneration', amongst ('fandom', 'game', 'hobby', 'information', 'meme', 'movie/show', 'other', 'programming', 'user')\n",
      "Enter 'q' to finish.\n",
      " q\n"
     ]
    },
    {
     "name": "stdout",
     "output_type": "stream",
     "text": [
      "-----\n"
     ]
    },
    {
     "name": "stdin",
     "output_type": "stream",
     "text": [
      "Enter a tag for the subreddit 'u_JayPea__', amongst ('fandom', 'game', 'hobby', 'information', 'meme', 'movie/show', 'other', 'programming', 'user')\n",
      "Enter 'q' to finish.\n",
      " user\n",
      "Enter a tag for the subreddit 'u_JayPea__', amongst ('fandom', 'game', 'hobby', 'information', 'meme', 'movie/show', 'other', 'programming', 'user')\n",
      "Enter 'q' to finish.\n",
      " q\n"
     ]
    },
    {
     "name": "stdout",
     "output_type": "stream",
     "text": [
      "-----\n"
     ]
    },
    {
     "name": "stdin",
     "output_type": "stream",
     "text": [
      "Enter a tag for the subreddit 'u_adobecrack', amongst ('fandom', 'game', 'hobby', 'information', 'meme', 'movie/show', 'other', 'programming', 'user')\n",
      "Enter 'q' to finish.\n",
      " user\n",
      "Enter a tag for the subreddit 'u_adobecrack', amongst ('fandom', 'game', 'hobby', 'information', 'meme', 'movie/show', 'other', 'programming', 'user')\n",
      "Enter 'q' to finish.\n",
      " q\n"
     ]
    },
    {
     "name": "stdout",
     "output_type": "stream",
     "text": [
      "-----\n"
     ]
    },
    {
     "name": "stdin",
     "output_type": "stream",
     "text": [
      "Enter a tag for the subreddit 'u_azakreis', amongst ('fandom', 'game', 'hobby', 'information', 'meme', 'movie/show', 'other', 'programming', 'user')\n",
      "Enter 'q' to finish.\n",
      " user\n",
      "Enter a tag for the subreddit 'u_azakreis', amongst ('fandom', 'game', 'hobby', 'information', 'meme', 'movie/show', 'other', 'programming', 'user')\n",
      "Enter 'q' to finish.\n",
      " q\n"
     ]
    },
    {
     "name": "stdout",
     "output_type": "stream",
     "text": [
      "-----\n"
     ]
    },
    {
     "name": "stdin",
     "output_type": "stream",
     "text": [
      "Enter a tag for the subreddit 'ubuntucinnamon', amongst ('fandom', 'game', 'hobby', 'information', 'meme', 'movie/show', 'other', 'programming', 'user')\n",
      "Enter 'q' to finish.\n",
      " information\n",
      "Enter a tag for the subreddit 'ubuntucinnamon', amongst ('fandom', 'game', 'hobby', 'information', 'meme', 'movie/show', 'other', 'programming', 'user')\n",
      "Enter 'q' to finish.\n",
      " q\n"
     ]
    },
    {
     "name": "stdout",
     "output_type": "stream",
     "text": [
      "-----\n"
     ]
    },
    {
     "name": "stdin",
     "output_type": "stream",
     "text": [
      "Enter a tag for the subreddit 'unexpectedMontyPython', amongst ('fandom', 'game', 'hobby', 'information', 'meme', 'movie/show', 'other', 'programming', 'user')\n",
      "Enter 'q' to finish.\n",
      " fandom\n",
      "Enter a tag for the subreddit 'unexpectedMontyPython', amongst ('fandom', 'game', 'hobby', 'information', 'meme', 'movie/show', 'other', 'programming', 'user')\n",
      "Enter 'q' to finish.\n",
      " meme\n",
      "Enter a tag for the subreddit 'unexpectedMontyPython', amongst ('fandom', 'game', 'hobby', 'information', 'meme', 'movie/show', 'other', 'programming', 'user')\n",
      "Enter 'q' to finish.\n",
      " movie/show\n",
      "Enter a tag for the subreddit 'unexpectedMontyPython', amongst ('fandom', 'game', 'hobby', 'information', 'meme', 'movie/show', 'other', 'programming', 'user')\n",
      "Enter 'q' to finish.\n",
      " q\n"
     ]
    },
    {
     "name": "stdout",
     "output_type": "stream",
     "text": [
      "-----\n"
     ]
    },
    {
     "name": "stdin",
     "output_type": "stream",
     "text": [
      "Enter a tag for the subreddit 'unexpectedpython', amongst ('fandom', 'game', 'hobby', 'information', 'meme', 'movie/show', 'other', 'programming', 'user')\n",
      "Enter 'q' to finish.\n",
      " fandom\n",
      "Enter a tag for the subreddit 'unexpectedpython', amongst ('fandom', 'game', 'hobby', 'information', 'meme', 'movie/show', 'other', 'programming', 'user')\n",
      "Enter 'q' to finish.\n",
      " meme\n",
      "Enter a tag for the subreddit 'unexpectedpython', amongst ('fandom', 'game', 'hobby', 'information', 'meme', 'movie/show', 'other', 'programming', 'user')\n",
      "Enter 'q' to finish.\n",
      " movie/show\n",
      "Enter a tag for the subreddit 'unexpectedpython', amongst ('fandom', 'game', 'hobby', 'information', 'meme', 'movie/show', 'other', 'programming', 'user')\n",
      "Enter 'q' to finish.\n",
      " q\n"
     ]
    },
    {
     "name": "stdout",
     "output_type": "stream",
     "text": [
      "-----\n"
     ]
    },
    {
     "name": "stdin",
     "output_type": "stream",
     "text": [
      "Enter a tag for the subreddit 'veYakinEvren', amongst ('fandom', 'game', 'hobby', 'information', 'meme', 'movie/show', 'other', 'programming', 'user')\n",
      "Enter 'q' to finish.\n",
      " game\n",
      "Enter a tag for the subreddit 'veYakinEvren', amongst ('fandom', 'game', 'hobby', 'information', 'meme', 'movie/show', 'other', 'programming', 'user')\n",
      "Enter 'q' to finish.\n",
      " other\n",
      "Enter a tag for the subreddit 'veYakinEvren', amongst ('fandom', 'game', 'hobby', 'information', 'meme', 'movie/show', 'other', 'programming', 'user')\n",
      "Enter 'q' to finish.\n",
      " q\n"
     ]
    },
    {
     "name": "stdout",
     "output_type": "stream",
     "text": [
      "-----\n"
     ]
    },
    {
     "name": "stdin",
     "output_type": "stream",
     "text": [
      "Enter a tag for the subreddit 'yugioh', amongst ('fandom', 'game', 'hobby', 'information', 'meme', 'movie/show', 'other', 'programming', 'user')\n",
      "Enter 'q' to finish.\n",
      " game\n",
      "Enter a tag for the subreddit 'yugioh', amongst ('fandom', 'game', 'hobby', 'information', 'meme', 'movie/show', 'other', 'programming', 'user')\n",
      "Enter 'q' to finish.\n",
      " hobby\n",
      "Enter a tag for the subreddit 'yugioh', amongst ('fandom', 'game', 'hobby', 'information', 'meme', 'movie/show', 'other', 'programming', 'user')\n",
      "Enter 'q' to finish.\n",
      " q\n"
     ]
    },
    {
     "name": "stdout",
     "output_type": "stream",
     "text": [
      "-----\n"
     ]
    }
   ],
   "source": [
    "# Predefine the minimal amount of basic and useful tags\n",
    "predefined_tags = tuple(sorted((\n",
    "    'meme',\n",
    "    'movie/show',\n",
    "    'fandom',\n",
    "    'game',\n",
    "    'hobby',\n",
    "    'information',\n",
    "    'programming',\n",
    "    'other',\n",
    "    'user',\n",
    ")))\n",
    "\n",
    "retake_tags = False\n",
    "try:\n",
    "    # Check if the 'Tags' column exists at all\n",
    "    sub_tags = subreddits_df[\"Tags\"]\n",
    "except KeyError:\n",
    "    # Add an empty 'Tags' column\n",
    "    subreddits_df[\"Tags\"] = None\n",
    "    sub_tags = subreddits_df[\"Tags\"]\n",
    "    retake_tags = True\n",
    "\n",
    "# Check if there are any missing entry without tags\n",
    "if sub_tags.isnull().sum() > 0:\n",
    "    retake_tags = True\n",
    "\n",
    "# Ask for tags\n",
    "if retake_tags:\n",
    "    save = False\n",
    "    for idx in range(len(sub_tags)):\n",
    "        sub = subreddits_df.loc[idx, \"subreddit\"]\n",
    "        tags = subreddits_df.loc[idx, \"Tags\"]\n",
    "        if type(tags) != str:\n",
    "            tags = list()\n",
    "            while True:\n",
    "                tag = input(f\"Enter a tag for the subreddit '{sub}', amongst {predefined_tags}\\nEnter 'q' to finish.\\n\")\n",
    "                if tag == \"save\":\n",
    "                    subreddits_df.loc[idx, \"Tags\"] = \", \".join(sorted(tags))\n",
    "                    save = True\n",
    "                    break\n",
    "                if tag == 'q':\n",
    "                    if len(tags) != 0:\n",
    "                        subreddits_df.loc[idx, \"Tags\"] = \", \".join(sorted(tags))\n",
    "                        print(\"-----\")\n",
    "                        break\n",
    "                    else:\n",
    "                        print(\"You didn't enter any valid tags yet!\")\n",
    "                        continue\n",
    "                if tag in predefined_tags and tag not in tags:\n",
    "                    tags.append(tag)\n",
    "                else:\n",
    "                    print(\"You didn't enter a valid tag.\")\n",
    "        if save:\n",
    "            break\n",
    "\n",
    "subreddits_df.to_csv(data_path + fname, index=False)"
   ]
  },
  {
   "cell_type": "code",
   "execution_count": 85,
   "id": "db48dd68-e1e7-4cb6-9cf1-bc7d89d60bda",
   "metadata": {},
   "outputs": [
    {
     "data": {
      "text/html": [
       "<div>\n",
       "<style scoped>\n",
       "    .dataframe tbody tr th:only-of-type {\n",
       "        vertical-align: middle;\n",
       "    }\n",
       "\n",
       "    .dataframe tbody tr th {\n",
       "        vertical-align: top;\n",
       "    }\n",
       "\n",
       "    .dataframe thead th {\n",
       "        text-align: right;\n",
       "    }\n",
       "</style>\n",
       "<table border=\"1\" class=\"dataframe\">\n",
       "  <thead>\n",
       "    <tr style=\"text-align: right;\">\n",
       "      <th></th>\n",
       "      <th>subreddit</th>\n",
       "      <th>Tags</th>\n",
       "    </tr>\n",
       "  </thead>\n",
       "  <tbody>\n",
       "    <tr>\n",
       "      <th>0</th>\n",
       "      <td>AskScienceFiction</td>\n",
       "      <td>information</td>\n",
       "    </tr>\n",
       "    <tr>\n",
       "      <th>1</th>\n",
       "      <td>CodeBullet</td>\n",
       "      <td>other</td>\n",
       "    </tr>\n",
       "    <tr>\n",
       "      <th>2</th>\n",
       "      <td>DMAcademy</td>\n",
       "      <td>game, hobby, information</td>\n",
       "    </tr>\n",
       "    <tr>\n",
       "      <th>3</th>\n",
       "      <td>DaystromInstitute</td>\n",
       "      <td>fandom, information, movie/show</td>\n",
       "    </tr>\n",
       "    <tr>\n",
       "      <th>4</th>\n",
       "      <td>Deepspaceninememes</td>\n",
       "      <td>fandom, meme, movie/show</td>\n",
       "    </tr>\n",
       "    <tr>\n",
       "      <th>5</th>\n",
       "      <td>ElectroBOOM</td>\n",
       "      <td>information, other</td>\n",
       "    </tr>\n",
       "    <tr>\n",
       "      <th>6</th>\n",
       "      <td>ExposurePorn</td>\n",
       "      <td>hobby, other</td>\n",
       "    </tr>\n",
       "    <tr>\n",
       "      <th>7</th>\n",
       "      <td>FATErpg</td>\n",
       "      <td>game, hobby, information</td>\n",
       "    </tr>\n",
       "    <tr>\n",
       "      <th>8</th>\n",
       "      <td>GeekyaparLamers</td>\n",
       "      <td>other</td>\n",
       "    </tr>\n",
       "    <tr>\n",
       "      <th>9</th>\n",
       "      <td>GreekMythology</td>\n",
       "      <td>information</td>\n",
       "    </tr>\n",
       "    <tr>\n",
       "      <th>10</th>\n",
       "      <td>GuessTheMovie</td>\n",
       "      <td>other</td>\n",
       "    </tr>\n",
       "    <tr>\n",
       "      <th>11</th>\n",
       "      <td>KaderOyunu</td>\n",
       "      <td>game, hobby, information</td>\n",
       "    </tr>\n",
       "    <tr>\n",
       "      <th>12</th>\n",
       "      <td>MontyPythonMemes</td>\n",
       "      <td>fandom, meme, movie/show</td>\n",
       "    </tr>\n",
       "    <tr>\n",
       "      <th>13</th>\n",
       "      <td>MovieQuotes</td>\n",
       "      <td>movie/show, other</td>\n",
       "    </tr>\n",
       "    <tr>\n",
       "      <th>14</th>\n",
       "      <td>MrData</td>\n",
       "      <td>fandom, meme, movie/show</td>\n",
       "    </tr>\n",
       "    <tr>\n",
       "      <th>15</th>\n",
       "      <td>Percabeth</td>\n",
       "      <td>fandom</td>\n",
       "    </tr>\n",
       "    <tr>\n",
       "      <th>16</th>\n",
       "      <td>PercyJacksonMemes</td>\n",
       "      <td>fandom, meme</td>\n",
       "    </tr>\n",
       "    <tr>\n",
       "      <th>17</th>\n",
       "      <td>ProgrammerHumor</td>\n",
       "      <td>meme, programming</td>\n",
       "    </tr>\n",
       "    <tr>\n",
       "      <th>18</th>\n",
       "      <td>Python</td>\n",
       "      <td>information, programming</td>\n",
       "    </tr>\n",
       "    <tr>\n",
       "      <th>19</th>\n",
       "      <td>PythonJobs</td>\n",
       "      <td>programming</td>\n",
       "    </tr>\n",
       "    <tr>\n",
       "      <th>20</th>\n",
       "      <td>SatisfactoryGame</td>\n",
       "      <td>game, meme</td>\n",
       "    </tr>\n",
       "    <tr>\n",
       "      <th>21</th>\n",
       "      <td>ScarySigns</td>\n",
       "      <td>meme</td>\n",
       "    </tr>\n",
       "    <tr>\n",
       "      <th>22</th>\n",
       "      <td>SenNeDiyon</td>\n",
       "      <td>other</td>\n",
       "    </tr>\n",
       "    <tr>\n",
       "      <th>23</th>\n",
       "      <td>TheLastAirbender</td>\n",
       "      <td>fandom, movie/show</td>\n",
       "    </tr>\n",
       "    <tr>\n",
       "      <th>24</th>\n",
       "      <td>TheLibrarians</td>\n",
       "      <td>fandom, movie/show</td>\n",
       "    </tr>\n",
       "    <tr>\n",
       "      <th>25</th>\n",
       "      <td>TheNewestOlympian</td>\n",
       "      <td>other</td>\n",
       "    </tr>\n",
       "    <tr>\n",
       "      <th>26</th>\n",
       "      <td>Ubuntu</td>\n",
       "      <td>information</td>\n",
       "    </tr>\n",
       "    <tr>\n",
       "      <th>27</th>\n",
       "      <td>UnexpectedSeinfeld</td>\n",
       "      <td>fandom, meme, movie/show</td>\n",
       "    </tr>\n",
       "    <tr>\n",
       "      <th>28</th>\n",
       "      <td>boardgames</td>\n",
       "      <td>game, hobby</td>\n",
       "    </tr>\n",
       "    <tr>\n",
       "      <th>29</th>\n",
       "      <td>camphalfblood</td>\n",
       "      <td>fandom, meme</td>\n",
       "    </tr>\n",
       "    <tr>\n",
       "      <th>30</th>\n",
       "      <td>consolerepair</td>\n",
       "      <td>hobby, information</td>\n",
       "    </tr>\n",
       "    <tr>\n",
       "      <th>31</th>\n",
       "      <td>datasets</td>\n",
       "      <td>programming</td>\n",
       "    </tr>\n",
       "    <tr>\n",
       "      <th>32</th>\n",
       "      <td>django</td>\n",
       "      <td>information, programming</td>\n",
       "    </tr>\n",
       "    <tr>\n",
       "      <th>33</th>\n",
       "      <td>djangolearning</td>\n",
       "      <td>information, programming</td>\n",
       "    </tr>\n",
       "    <tr>\n",
       "      <th>34</th>\n",
       "      <td>gaming</td>\n",
       "      <td>game</td>\n",
       "    </tr>\n",
       "    <tr>\n",
       "      <th>35</th>\n",
       "      <td>geek</td>\n",
       "      <td>other</td>\n",
       "    </tr>\n",
       "    <tr>\n",
       "      <th>36</th>\n",
       "      <td>learnprogramming</td>\n",
       "      <td>information, programming</td>\n",
       "    </tr>\n",
       "    <tr>\n",
       "      <th>37</th>\n",
       "      <td>mathmemes</td>\n",
       "      <td>meme</td>\n",
       "    </tr>\n",
       "    <tr>\n",
       "      <th>38</th>\n",
       "      <td>montypython</td>\n",
       "      <td>fandom, movie/show</td>\n",
       "    </tr>\n",
       "    <tr>\n",
       "      <th>39</th>\n",
       "      <td>movies</td>\n",
       "      <td>movie/show, other</td>\n",
       "    </tr>\n",
       "    <tr>\n",
       "      <th>40</th>\n",
       "      <td>projecteuler</td>\n",
       "      <td>programming</td>\n",
       "    </tr>\n",
       "    <tr>\n",
       "      <th>41</th>\n",
       "      <td>pythontips</td>\n",
       "      <td>information, programming</td>\n",
       "    </tr>\n",
       "    <tr>\n",
       "      <th>42</th>\n",
       "      <td>risa</td>\n",
       "      <td>fandom, meme, movie/show</td>\n",
       "    </tr>\n",
       "    <tr>\n",
       "      <th>43</th>\n",
       "      <td>satisfactory</td>\n",
       "      <td>game, meme</td>\n",
       "    </tr>\n",
       "    <tr>\n",
       "      <th>44</th>\n",
       "      <td>seinfeld</td>\n",
       "      <td>fandom, meme, movie/show</td>\n",
       "    </tr>\n",
       "    <tr>\n",
       "      <th>45</th>\n",
       "      <td>seinfeldgifs</td>\n",
       "      <td>fandom, movie/show</td>\n",
       "    </tr>\n",
       "    <tr>\n",
       "      <th>46</th>\n",
       "      <td>startrek</td>\n",
       "      <td>fandom, movie/show</td>\n",
       "    </tr>\n",
       "    <tr>\n",
       "      <th>47</th>\n",
       "      <td>startrekmemes</td>\n",
       "      <td>fandom, meme, movie/show</td>\n",
       "    </tr>\n",
       "    <tr>\n",
       "      <th>48</th>\n",
       "      <td>thenextgeneration</td>\n",
       "      <td>fandom, movie/show</td>\n",
       "    </tr>\n",
       "    <tr>\n",
       "      <th>52</th>\n",
       "      <td>ubuntucinnamon</td>\n",
       "      <td>information</td>\n",
       "    </tr>\n",
       "    <tr>\n",
       "      <th>53</th>\n",
       "      <td>unexpectedMontyPython</td>\n",
       "      <td>fandom, meme, movie/show</td>\n",
       "    </tr>\n",
       "    <tr>\n",
       "      <th>54</th>\n",
       "      <td>unexpectedpython</td>\n",
       "      <td>fandom, meme, movie/show</td>\n",
       "    </tr>\n",
       "    <tr>\n",
       "      <th>55</th>\n",
       "      <td>veYakinEvren</td>\n",
       "      <td>game, other</td>\n",
       "    </tr>\n",
       "    <tr>\n",
       "      <th>56</th>\n",
       "      <td>yugioh</td>\n",
       "      <td>game, hobby</td>\n",
       "    </tr>\n",
       "  </tbody>\n",
       "</table>\n",
       "</div>"
      ],
      "text/plain": [
       "                subreddit                             Tags\n",
       "0       AskScienceFiction                      information\n",
       "1              CodeBullet                            other\n",
       "2               DMAcademy         game, hobby, information\n",
       "3       DaystromInstitute  fandom, information, movie/show\n",
       "4      Deepspaceninememes         fandom, meme, movie/show\n",
       "5             ElectroBOOM               information, other\n",
       "6            ExposurePorn                     hobby, other\n",
       "7                 FATErpg         game, hobby, information\n",
       "8         GeekyaparLamers                            other\n",
       "9          GreekMythology                      information\n",
       "10          GuessTheMovie                            other\n",
       "11             KaderOyunu         game, hobby, information\n",
       "12       MontyPythonMemes         fandom, meme, movie/show\n",
       "13            MovieQuotes                movie/show, other\n",
       "14                 MrData         fandom, meme, movie/show\n",
       "15              Percabeth                           fandom\n",
       "16      PercyJacksonMemes                     fandom, meme\n",
       "17        ProgrammerHumor                meme, programming\n",
       "18                 Python         information, programming\n",
       "19             PythonJobs                      programming\n",
       "20       SatisfactoryGame                       game, meme\n",
       "21             ScarySigns                             meme\n",
       "22             SenNeDiyon                            other\n",
       "23       TheLastAirbender               fandom, movie/show\n",
       "24          TheLibrarians               fandom, movie/show\n",
       "25      TheNewestOlympian                            other\n",
       "26                 Ubuntu                      information\n",
       "27     UnexpectedSeinfeld         fandom, meme, movie/show\n",
       "28             boardgames                      game, hobby\n",
       "29          camphalfblood                     fandom, meme\n",
       "30          consolerepair               hobby, information\n",
       "31               datasets                      programming\n",
       "32                 django         information, programming\n",
       "33         djangolearning         information, programming\n",
       "34                 gaming                             game\n",
       "35                   geek                            other\n",
       "36       learnprogramming         information, programming\n",
       "37              mathmemes                             meme\n",
       "38            montypython               fandom, movie/show\n",
       "39                 movies                movie/show, other\n",
       "40           projecteuler                      programming\n",
       "41             pythontips         information, programming\n",
       "42                   risa         fandom, meme, movie/show\n",
       "43           satisfactory                       game, meme\n",
       "44               seinfeld         fandom, meme, movie/show\n",
       "45           seinfeldgifs               fandom, movie/show\n",
       "46               startrek               fandom, movie/show\n",
       "47          startrekmemes         fandom, meme, movie/show\n",
       "48      thenextgeneration               fandom, movie/show\n",
       "52         ubuntucinnamon                      information\n",
       "53  unexpectedMontyPython         fandom, meme, movie/show\n",
       "54       unexpectedpython         fandom, meme, movie/show\n",
       "55           veYakinEvren                      game, other\n",
       "56                 yugioh                      game, hobby"
      ]
     },
     "execution_count": 85,
     "metadata": {},
     "output_type": "execute_result"
    }
   ],
   "source": [
    "followed_users_df = subreddits_df[subreddits_df[\"subreddit\"].str.contains(\"u_\")]\n",
    "subreddits_df = subreddits_df[~subreddits_df[\"subreddit\"].str.contains(\"u_\")]\n",
    "\n",
    "subreddits_df"
   ]
  },
  {
   "cell_type": "markdown",
   "id": "98027d16-8437-4cb0-98b2-c58edc0a9d94",
   "metadata": {
    "jp-MarkdownHeadingCollapsed": true
   },
   "source": [
    "## IP Logs\n",
    "\n",
    "IP logs data holds information about my logins to Reddit. It holds the date, time and the IP that I used. This data might be used on showing my active times even though it doesn't hold information on how long I have stayed active.  \n",
    "\n",
    "The date data is in the form of \"yyyy-mm-dd hh:mm:ss UTC\". I will split the date and time, convert time into GMT+3, and name the months."
   ]
  },
  {
   "cell_type": "code",
   "execution_count": 83,
   "id": "65b5d101-f552-473e-bee9-ca22949c46d9",
   "metadata": {},
   "outputs": [],
   "source": [
    "# Read the file, drop the first row that holds the registiration IP only, drop the IP colum and reset the indexing\n",
    "fname = \"ip_logs.csv\"\n",
    "login_datetime_df = pd.read_csv(data_path + fname).rename(columns={\"date\": \"RawDate\"}).drop(index=0, columns=\"ip\").reset_index().drop(columns=\"index\")"
   ]
  },
  {
   "cell_type": "code",
   "execution_count": 84,
   "id": "65de18df-5feb-4307-bfa5-2ea643aee4c6",
   "metadata": {},
   "outputs": [
    {
     "data": {
      "text/html": [
       "<div>\n",
       "<style scoped>\n",
       "    .dataframe tbody tr th:only-of-type {\n",
       "        vertical-align: middle;\n",
       "    }\n",
       "\n",
       "    .dataframe tbody tr th {\n",
       "        vertical-align: top;\n",
       "    }\n",
       "\n",
       "    .dataframe thead th {\n",
       "        text-align: right;\n",
       "    }\n",
       "</style>\n",
       "<table border=\"1\" class=\"dataframe\">\n",
       "  <thead>\n",
       "    <tr style=\"text-align: right;\">\n",
       "      <th></th>\n",
       "      <th>Date</th>\n",
       "      <th>MonthName</th>\n",
       "      <th>Time</th>\n",
       "    </tr>\n",
       "  </thead>\n",
       "  <tbody>\n",
       "    <tr>\n",
       "      <th>0</th>\n",
       "      <td>29-06-2023</td>\n",
       "      <td>June</td>\n",
       "      <td>10:16+0300</td>\n",
       "    </tr>\n",
       "    <tr>\n",
       "      <th>1</th>\n",
       "      <td>29-06-2023</td>\n",
       "      <td>June</td>\n",
       "      <td>14:25+0300</td>\n",
       "    </tr>\n",
       "    <tr>\n",
       "      <th>2</th>\n",
       "      <td>30-06-2023</td>\n",
       "      <td>June</td>\n",
       "      <td>01:16+0300</td>\n",
       "    </tr>\n",
       "    <tr>\n",
       "      <th>3</th>\n",
       "      <td>30-06-2023</td>\n",
       "      <td>June</td>\n",
       "      <td>04:15+0300</td>\n",
       "    </tr>\n",
       "    <tr>\n",
       "      <th>4</th>\n",
       "      <td>30-06-2023</td>\n",
       "      <td>June</td>\n",
       "      <td>05:46+0300</td>\n",
       "    </tr>\n",
       "    <tr>\n",
       "      <th>...</th>\n",
       "      <td>...</td>\n",
       "      <td>...</td>\n",
       "      <td>...</td>\n",
       "    </tr>\n",
       "    <tr>\n",
       "      <th>357</th>\n",
       "      <td>06-10-2023</td>\n",
       "      <td>October</td>\n",
       "      <td>12:19+0300</td>\n",
       "    </tr>\n",
       "    <tr>\n",
       "      <th>358</th>\n",
       "      <td>06-10-2023</td>\n",
       "      <td>October</td>\n",
       "      <td>13:40+0300</td>\n",
       "    </tr>\n",
       "    <tr>\n",
       "      <th>359</th>\n",
       "      <td>06-10-2023</td>\n",
       "      <td>October</td>\n",
       "      <td>15:16+0300</td>\n",
       "    </tr>\n",
       "    <tr>\n",
       "      <th>360</th>\n",
       "      <td>07-10-2023</td>\n",
       "      <td>October</td>\n",
       "      <td>08:04+0300</td>\n",
       "    </tr>\n",
       "    <tr>\n",
       "      <th>361</th>\n",
       "      <td>07-10-2023</td>\n",
       "      <td>October</td>\n",
       "      <td>09:05+0300</td>\n",
       "    </tr>\n",
       "  </tbody>\n",
       "</table>\n",
       "<p>362 rows × 3 columns</p>\n",
       "</div>"
      ],
      "text/plain": [
       "           Date MonthName        Time\n",
       "0    29-06-2023      June  10:16+0300\n",
       "1    29-06-2023      June  14:25+0300\n",
       "2    30-06-2023      June  01:16+0300\n",
       "3    30-06-2023      June  04:15+0300\n",
       "4    30-06-2023      June  05:46+0300\n",
       "..          ...       ...         ...\n",
       "357  06-10-2023   October  12:19+0300\n",
       "358  06-10-2023   October  13:40+0300\n",
       "359  06-10-2023   October  15:16+0300\n",
       "360  07-10-2023   October  08:04+0300\n",
       "361  07-10-2023   October  09:05+0300\n",
       "\n",
       "[362 rows x 3 columns]"
      ]
     },
     "execution_count": 84,
     "metadata": {},
     "output_type": "execute_result"
    }
   ],
   "source": [
    "from datetime import datetime\n",
    "\n",
    "# Add new columns\n",
    "login_datetime_df[[\"Date\", \"MonthName\", \"Time\"]] = None\n",
    "\n",
    "for idx in range(len(login_datetime_df[\"RawDate\"])):\n",
    "    raw_date = login_datetime_df.loc[idx, \"RawDate\"].replace(\" UTC\", \"\")  # Get the time in UTC time\n",
    "\n",
    "    # Convert datetime to local time zone\n",
    "    local_datetime = datetime.fromisoformat(raw_date).astimezone()  \n",
    "    datetime_dict = {\"RawDate\": raw_date + \" UTC\", \"Date\": None, \"MonthName\": None, \"Time\": None}  # New row to replace\n",
    "    datetime_dict[\"Date\"] = local_datetime.strftime(\"%d-%m-%Y\")  # Get the date in the format \"DD.MM.YYYY\"\n",
    "    datetime_dict[\"MonthName\"] = local_datetime.strftime(\"%B\")  # Get the full month name\n",
    "    datetime_dict[\"Time\"] = local_datetime.strftime(\"%H:%M%z\")  # Get the time in format \"HH:MM+HHMM\"\n",
    "    \n",
    "    login_datetime_df.iloc[idx] = datetime_dict  # Insert the new row\n",
    "\n",
    "login_datetime_df = login_datetime_df.drop(columns=\"RawDate\")\n",
    "\n",
    "login_datetime_df"
   ]
  },
  {
   "cell_type": "markdown",
   "id": "e06d44d3-fea5-4445-a518-2f5fb634ed22",
   "metadata": {},
   "source": [
    "## Post Votes\n",
    "\n",
    "This data includes the posts that I have upvoted or downvoted. It includes and ID, the post link and the type of the vote; however, no temporal data.  \n",
    "\n",
    "I will remove the ID, get the subreddit name from the URL, my vote and I will compare the sub to the subscribed subs data and get wheter or not I am subscribed to that subreddit currently."
   ]
  },
  {
   "cell_type": "code",
   "execution_count": 108,
   "id": "caac9cc3-c712-4a62-a7f7-efbc3c509e83",
   "metadata": {},
   "outputs": [],
   "source": [
    "# Read the file, rename the vote direction column drop the ID columns reset the indexing\n",
    "fname = \"post_votes.csv\"\n",
    "post_votes_df = pd.read_csv(data_path + fname).rename(columns={\"direction\": \"Vote\"}).drop(columns=\"id\").reset_index().drop(columns=\"index\")"
   ]
  },
  {
   "cell_type": "code",
   "execution_count": 117,
   "id": "5cd39b5d-a173-44ab-929e-f86027666837",
   "metadata": {},
   "outputs": [
    {
     "name": "stdout",
     "output_type": "stream",
     "text": [
      "<class 'pandas.core.frame.DataFrame'>\n",
      "RangeIndex: 1222 entries, 0 to 1221\n",
      "Data columns (total 3 columns):\n",
      " #   Column         Non-Null Count  Dtype \n",
      "---  ------         --------------  ----- \n",
      " 0   Vote           1222 non-null   object\n",
      " 1   SubredditName  1222 non-null   object\n",
      " 2   IsSubscribed   1222 non-null   bool  \n",
      "dtypes: bool(1), object(2)\n",
      "memory usage: 20.4+ KB\n"
     ]
    }
   ],
   "source": [
    "# Add the new columns\n",
    "for idx in range(len(post_votes_df[\"permalink\"])):\n",
    "    post_vote_dict = {\"SubredditName\": None, \"IsSubscribed\": None}\n",
    "        \n",
    "    # Get the sub name from the link\n",
    "    permalink = post_votes_df.loc[idx, \"permalink\"]\n",
    "    start_idx = permalink.find(\"r/\") + 2\n",
    "    stop_idx = permalink.find(\"/\", start_idx)\n",
    "    sub_name = permalink[start_idx:stop_idx]\n",
    "    post_vote_dict[\"SubredditName\"] = sub_name\n",
    "\n",
    "    # Check if the sub is subscribed\n",
    "    is_subscribed = (subreddits_df == sub_name).any().any()\n",
    "    post_vote_dict[\"IsSubscribed\"] = is_subscribed\n",
    "\n",
    "    # Add the existing data to the new row dictionary\n",
    "    post_vote_dict[\"permalink\"] = permalink\n",
    "    post_vote_dict[\"Vote\"] = post_votes_df.loc[idx, \"Vote\"]\n",
    "\n",
    "    # Add the new row data\n",
    "    post_votes_df.iloc[idx] = post_vote_dict\n",
    "\n",
    "# Drop the permalink column\n",
    "post_votes_df = post_votes_df.drop(columns=\"permalink\")\n",
    "# Specify the Dtypes for later use\n",
    "post_votes_df[\"IsSubscribed\"] = post_votes_df[\"IsSubscribed\"].astype(dtype=\"bool\")\n",
    "post_votes_df.info()"
   ]
  }
 ],
 "metadata": {
  "kernelspec": {
   "display_name": "Python 3 (ipykernel)",
   "language": "python",
   "name": "python3"
  },
  "language_info": {
   "codemirror_mode": {
    "name": "ipython",
    "version": 3
   },
   "file_extension": ".py",
   "mimetype": "text/x-python",
   "name": "python",
   "nbconvert_exporter": "python",
   "pygments_lexer": "ipython3",
   "version": "3.11.6"
  }
 },
 "nbformat": 4,
 "nbformat_minor": 5
}
