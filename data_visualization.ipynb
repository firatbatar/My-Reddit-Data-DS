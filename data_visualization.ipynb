{
 "cells": [
  {
   "cell_type": "markdown",
   "id": "35eb4084-d25e-4185-8098-fa1429b31f4b",
   "metadata": {},
   "source": [
    "# Imports and Functions  "
   ]
  },
  {
   "cell_type": "code",
   "execution_count": 1,
   "id": "0bb6afc8-8a13-44e0-b84f-8e8bb5605bee",
   "metadata": {},
   "outputs": [],
   "source": [
    "import pandas as pd\n",
    "import numpy as np\n",
    "from datetime import datetime, timedelta\n",
    "import altair as alt\n",
    "\n",
    "alt.renderers.enable('mimetype')\n",
    "\n",
    "def dt_to_min(dt):\n",
    "    if type(dt) == str:\n",
    "        hour, minute = map(int, dt.split(\":\"))\n",
    "        return hour * 60 + minute\n",
    "    \n",
    "    return dt.hour * 60 + dt.minute\n",
    "\n",
    "def is_subscribed_to(subreddit_name, subscribed_subs_df):\n",
    "    if (subscribed_subs_df == subreddit_name).any().any():\n",
    "        return 1\n",
    "    return 0"
   ]
  },
  {
   "cell_type": "markdown",
   "id": "ad937100-ba12-4aeb-a0cf-8a7119b76ab9",
   "metadata": {},
   "source": [
    "# Data Visiualization"
   ]
  },
  {
   "cell_type": "markdown",
   "metadata": {},
   "source": [
    "## Tags and Flairs\n",
    "\n",
    "I will count and visualize the tags and flairs of the subreddits that I am subscribed to. It is worth to note that while tags have no missing data since they are annotated by hand, flairs have missing data since some of the subreddits do not have flairs or they have a poor flair system.\n",
    "\n",
    "Also, I will not use flairs because they are inconsistent, missing, and usually unique to each subreddit. I will use tags instead."
   ]
  },
  {
   "cell_type": "code",
   "execution_count": 2,
   "id": "1c2b2b0d-1ba9-462c-a5a6-37692239af94",
   "metadata": {},
   "outputs": [
    {
     "data": {
      "application/vnd.vegalite.v5+json": {
       "$schema": "https://vega.github.io/schema/vega-lite/v5.16.3.json",
       "config": {
        "axisX": {
         "domainColor": "#000",
         "domainWidth": 2,
         "grid": false,
         "labelFontSize": 13
        },
        "axisY": {
         "domain": false,
         "labelFontSize": 14,
         "titleFontSize": 18
        },
        "padding": {
         "bottom": 15,
         "left": 15,
         "right": 15,
         "top": 15
        },
        "title": {
         "fontSize": 18
        },
        "view": {
         "continuousHeight": 300,
         "continuousWidth": 300,
         "stroke": null
        }
       },
       "datasets": {
        "data-75a2b4159e87f0596e8c46ce503a0b68": [
         {
          "Count": 23,
          "Tag": "fandom"
         },
         {
          "Count": 19,
          "Tag": "movie/show"
         },
         {
          "Count": 16,
          "Tag": "meme"
         },
         {
          "Count": 13,
          "Tag": "information/question"
         },
         {
          "Count": 12,
          "Tag": "programming"
         },
         {
          "Count": 11,
          "Tag": "hobby"
         },
         {
          "Count": 6,
          "Tag": "discussion"
         },
         {
          "Count": 4,
          "Tag": "game"
         }
        ],
        "data-a67bd82e95f6058a71a3d3d1626de41f": [
         {
          "Count": 12,
          "Flair": "discussion"
         },
         {
          "Count": 9,
          "Flair": "meme"
         },
         {
          "Count": 8,
          "Flair": "question"
         },
         {
          "Count": 7,
          "Flair": "news"
         },
         {
          "Count": 5,
          "Flair": "fan art"
         },
         {
          "Count": 4,
          "Flair": "other"
         },
         {
          "Count": 4,
          "Flair": "tutorial"
         },
         {
          "Count": 3,
          "Flair": "review"
         },
         {
          "Count": 3,
          "Flair": "meta"
         },
         {
          "Count": 3,
          "Flair": "resource"
         },
         {
          "Count": 3,
          "Flair": "image"
         },
         {
          "Count": 3,
          "Flair": "cosplay"
         },
         {
          "Count": 3,
          "Flair": "help"
         },
         {
          "Count": 2,
          "Flair": "theory"
         },
         {
          "Count": 2,
          "Flair": "quote"
         },
         {
          "Count": 2,
          "Flair": "miscellaneous"
         },
         {
          "Count": 2,
          "Flair": "headcanon"
         },
         {
          "Count": 2,
          "Flair": "video"
         },
         {
          "Count": 2,
          "Flair": "fanfiction"
         },
         {
          "Count": 2,
          "Flair": "article"
         },
         {
          "Count": 2,
          "Flair": "video idea"
         },
         {
          "Count": 2,
          "Flair": "art"
         },
         {
          "Count": 2,
          "Flair": "bug"
         },
         {
          "Count": 2,
          "Flair": "guide"
         }
        ]
       },
       "hconcat": [
        {
         "data": {
          "name": "data-75a2b4159e87f0596e8c46ce503a0b68"
         },
         "encoding": {
          "color": {
           "value": "#1f77b4"
          },
          "tooltip": [
           {
            "field": "Count",
            "type": "quantitative"
           }
          ],
          "x": {
           "axis": {
            "tickCount": 11
           },
           "field": "Count",
           "type": "quantitative"
          },
          "y": {
           "field": "Tag",
           "sort": "-x",
           "title": null,
           "type": "nominal"
          }
         },
         "height": 333.33,
         "mark": {
          "type": "bar"
         },
         "title": "Tags",
         "width": 500
        },
        {
         "data": {
          "name": "data-a67bd82e95f6058a71a3d3d1626de41f"
         },
         "encoding": {
          "color": {
           "value": "#1f77b4"
          },
          "tooltip": [
           {
            "field": "Count",
            "type": "quantitative"
           }
          ],
          "x": {
           "axis": {
            "tickCount": 6
           },
           "field": "Count",
           "type": "quantitative"
          },
          "y": {
           "field": "Flair",
           "sort": "-x",
           "title": null,
           "type": "nominal"
          }
         },
         "height": 333.33,
         "mark": {
          "type": "bar"
         },
         "title": "Flairs",
         "width": 500
        }
       ],
       "spacing": 120
      },
      "text/plain": [
       "<VegaLite 5 object>\n",
       "\n",
       "If you see this message, it means the renderer has not been properly enabled\n",
       "for the frontend that you are using. For more information, see\n",
       "https://altair-viz.github.io/user_guide/display_frontends.html#troubleshooting\n"
      ]
     },
     "execution_count": 2,
     "metadata": {},
     "output_type": "execute_result"
    }
   ],
   "source": [
    "subreddits_df = pd.read_csv(\"data/final_data/subscribed_subreddits.csv\")\n",
    "\n",
    "# Count the number of each tag from the tags column of the subreddits_df\n",
    "tag_count_dict = subreddits_df[\"Tags\"].map(lambda x: x.split(\", \")).explode().value_counts().to_dict()\n",
    "tag_count_df = pd.DataFrame({\"Tag\": list(tag_count_dict.keys()), \"Count\": list(tag_count_dict.values())})\n",
    "tag_count_df[\"Tag\"] = tag_count_df[\"Tag\"].astype(dtype=\"category\")\n",
    "# Count the number of each flair from the flairs column of the subreddits_df\n",
    "flair_count_dict = subreddits_df[\"Flairs\"].map(lambda x: x.split(\", \") if type(x) == str else None).explode().value_counts().to_dict()\n",
    "flair_count_df = pd.DataFrame({\"Flair\": list(flair_count_dict.keys()), \"Count\": list(flair_count_dict.values())})\n",
    "flair_count_df[\"Flair\"] = flair_count_df[\"Flair\"].astype(dtype=\"category\")\n",
    "\n",
    "\n",
    "# Create the chart for tags\n",
    "tags_chart = alt.Chart(tag_count_df).mark_bar().encode(\n",
    "    alt.X(\"Count:Q\", axis=alt.Axis(tickCount=tag_count_df[\"Count\"].max() // 2)),\n",
    "    alt.Y(\"Tag:N\", sort=\"-x\", title=None),\n",
    "    color=alt.value(\"#1f77b4\"),\n",
    "    tooltip=[\"Count:Q\"],  # Show the count when hovering over the bar\n",
    ").properties(\n",
    "    # Set the size of the chart\n",
    "    width=500,\n",
    "    height=333.33,\n",
    "    title = \"Tags\"\n",
    ")\n",
    "# Chart for all the flairs\n",
    "flairs_chart_full = alt.Chart(flair_count_df).mark_bar().encode(\n",
    "    alt.X(\"Flair:N\", sort=\"-y\"),\n",
    "    alt.Y(\"Count:Q\"),\n",
    "    color=alt.value(\"#1f77b4\"),\n",
    "    tooltip=[\"Count:Q\"],  # Show the count when hovering over the bar\n",
    ").configure(\n",
    "    padding={\"left\": 15, \"right\": 15, \"top\": 15, \"bottom\": 15},\n",
    "    title={\"fontSize\": 18},\n",
    ").configure_view(\n",
    "    stroke=None,\n",
    ").configure_axisX(\n",
    "    labelFontSize=13,\n",
    "    grid=False,  # Remove the grid\n",
    "    domainWidth=2,  # Set the width of the axis line\n",
    "    domainColor=\"#000\"  # Set the color of the axis line\n",
    ").configure_axisY(\n",
    "    labelFontSize=14,\n",
    "    titleFontSize=18,\n",
    "    domain=False,  # Remove the axis line\n",
    ")\n",
    "flair_count_df = flair_count_df[flair_count_df[\"Count\"] > 1]  # Drop flairs with less than 2 counts since it means they are unique for subreddit\n",
    "# Create the chart for flairs\n",
    "flairs_chart = alt.Chart(flair_count_df).mark_bar().encode(\n",
    "    alt.X(\"Count:Q\", axis=alt.Axis(tickCount=flair_count_df[\"Count\"].max() // 2)),\n",
    "    alt.Y(\"Flair:N\", sort=\"-x\", title=None),\n",
    "    color=alt.value(\"#1f77b4\"),\n",
    "    tooltip=[\"Count:Q\"],  # Show the count when hovering over the bar\n",
    ").properties(\n",
    "    # Set the size of the chart\n",
    "    width=500,\n",
    "    height=333.33,\n",
    "    title = \"Flairs\"\n",
    ")\n",
    "\n",
    "# Combine the charts\n",
    "chart = alt.hconcat(tags_chart, flairs_chart, spacing=120)\n",
    "chart = chart.configure(\n",
    "    padding={\"left\": 15, \"right\": 15, \"top\": 15, \"bottom\": 15},\n",
    "    title={\"fontSize\": 18},\n",
    ").configure_view(\n",
    "    stroke=None,\n",
    ").configure_axisX(\n",
    "    labelFontSize=13,\n",
    "    grid=False,  # Remove the grid\n",
    "    domainWidth=2,  # Set the width of the axis line\n",
    "    domainColor=\"#000\"  # Set the color of the axis line\n",
    ").configure_axisY(\n",
    "    labelFontSize=14,\n",
    "    titleFontSize=18,\n",
    "    domain=False,  # Remove the axis line\n",
    ")\n",
    "\n",
    "chart"
   ]
  },
  {
   "cell_type": "code",
   "execution_count": 3,
   "id": "63f7bbd9",
   "metadata": {},
   "outputs": [],
   "source": [
    "# Save the charts\n",
    "\n",
    "tags_chart = tags_chart.configure(\n",
    "    padding={\"left\": 15, \"right\": 15, \"top\": 15, \"bottom\": 15},\n",
    "    title={\"fontSize\": 18},\n",
    ").configure_view(\n",
    "    stroke=None,\n",
    ").configure_axisX(\n",
    "    labelFontSize=13,\n",
    "    grid=False,  # Remove the grid\n",
    "    domainWidth=2,  # Set the width of the axis line\n",
    "    domainColor=\"#000\"  # Set the color of the axis line\n",
    ").configure_axisY(\n",
    "    labelFontSize=14,\n",
    "    titleFontSize=18,\n",
    "    domain=False,  # Remove the axis line\n",
    ")\n",
    "flairs_chart = flairs_chart.configure(\n",
    "    padding={\"left\": 15, \"right\": 15, \"top\": 15, \"bottom\": 15},\n",
    "    title={\"fontSize\": 18},\n",
    ").configure_view(\n",
    "    stroke=None,\n",
    ").configure_axisX(\n",
    "    labelFontSize=13,\n",
    "    grid=False,  # Remove the grid\n",
    "    domainWidth=2,  # Set the width of the axis line\n",
    "    domainColor=\"#000\"  # Set the color of the axis line\n",
    ").configure_axisY(\n",
    "    labelFontSize=14,\n",
    "    titleFontSize=18,\n",
    "    domain=False,  # Remove the axis line\n",
    ")\n",
    "tags_chart.save(\"figures/tags_and_flairs/altair_tags.html\")\n",
    "tags_chart.save(\"figures/img/tags_and_flairs/altair_tags.png\")\n",
    "flairs_chart.save(\"figures/tags_and_flairs/altair_flairs.html\")\n",
    "flairs_chart.save(\"figures/img/tags_and_flairs/altair_flairs.png\")\n",
    "flairs_chart_full.save(\"figures/tags_and_flairs/altair_flairs_full.html\")\n",
    "flairs_chart_full.save(\"figures/img/tags_and_flairs/altair_flairs_full.png\")\n",
    "# chart.save(\"figures/tags_and_flairs/altair_tags_flairs.html\")\n",
    "# chart.save(\"figures/tags_and_flairs/altair_tags_flairs.png\")"
   ]
  },
  {
   "cell_type": "markdown",
   "id": "29b4ca40",
   "metadata": {},
   "source": [
    "## Logins\n",
    "I will count the logins in 30 minute intervals and visualize in bar chart to see at what times I am active.  \n",
    "\n",
    "For the code I round (floor) the minutes to 30 minute intervals and count the logins. But for the _histograms_ to function properly I need a data including all the intervals even if there are no logins in that interval. Therefore, I will create a new dataframe with all the intervals, combine with my data, count the logins and offset everything by 1 to get the correct counts."
   ]
  },
  {
   "cell_type": "markdown",
   "id": "5d4102d0",
   "metadata": {},
   "source": [
    "### Logins in Total\n",
    "This chart shows all the logins in total."
   ]
  },
  {
   "cell_type": "code",
   "execution_count": 4,
   "id": "231628da",
   "metadata": {},
   "outputs": [
    {
     "data": {
      "application/vnd.vegalite.v5+json": {
       "$schema": "https://vega.github.io/schema/vega-lite/v5.16.3.json",
       "config": {
        "axisX": {
         "domainColor": "#000",
         "domainWidth": 2,
         "grid": false,
         "labelFontSize": 13
        },
        "axisY": {
         "domain": false,
         "labelFontSize": 14,
         "titleFontSize": 18
        },
        "padding": {
         "bottom": 15,
         "left": 15,
         "right": 15,
         "top": 15
        },
        "title": {
         "fontSize": 18
        },
        "view": {
         "continuousHeight": 300,
         "continuousWidth": 300,
         "stroke": null
        }
       },
       "data": {
        "name": "data-ba3a47e0b683c2e5574d94c2398f618b"
       },
       "datasets": {
        "data-ba3a47e0b683c2e5574d94c2398f618b": [
         {
          "Date": "2023-10-01T08:14:12",
          "DayName": "Sunday",
          "TimeInMinutes": 494
         },
         {
          "Date": "2023-10-01T10:17:16",
          "DayName": "Sunday",
          "TimeInMinutes": 617
         },
         {
          "Date": "2023-10-01T11:21:22",
          "DayName": "Sunday",
          "TimeInMinutes": 681
         },
         {
          "Date": "2023-10-01T15:10:02",
          "DayName": "Sunday",
          "TimeInMinutes": 910
         },
         {
          "Date": "2023-10-01T20:25:31",
          "DayName": "Sunday",
          "TimeInMinutes": 1225
         },
         {
          "Date": "2023-10-01T21:29:08",
          "DayName": "Sunday",
          "TimeInMinutes": 1289
         },
         {
          "Date": "2023-10-02T08:23:14",
          "DayName": "Monday",
          "TimeInMinutes": 503
         },
         {
          "Date": "2023-10-02T10:04:27",
          "DayName": "Monday",
          "TimeInMinutes": 604
         },
         {
          "Date": "2023-10-02T11:11:19",
          "DayName": "Monday",
          "TimeInMinutes": 671
         },
         {
          "Date": "2023-10-02T12:20:35",
          "DayName": "Monday",
          "TimeInMinutes": 740
         },
         {
          "Date": "2023-10-02T13:27:57",
          "DayName": "Monday",
          "TimeInMinutes": 807
         },
         {
          "Date": "2023-10-02T15:43:30",
          "DayName": "Monday",
          "TimeInMinutes": 943
         },
         {
          "Date": "2023-10-03T10:02:16",
          "DayName": "Tuesday",
          "TimeInMinutes": 602
         },
         {
          "Date": "2023-10-03T11:15:17",
          "DayName": "Tuesday",
          "TimeInMinutes": 675
         },
         {
          "Date": "2023-10-03T14:25:50",
          "DayName": "Tuesday",
          "TimeInMinutes": 865
         },
         {
          "Date": "2023-10-03T14:28:49",
          "DayName": "Tuesday",
          "TimeInMinutes": 868
         },
         {
          "Date": "2023-10-03T21:55:40",
          "DayName": "Tuesday",
          "TimeInMinutes": 1315
         },
         {
          "Date": "2023-10-03T22:56:28",
          "DayName": "Tuesday",
          "TimeInMinutes": 1376
         },
         {
          "Date": "2023-10-04T00:09:39",
          "DayName": "Wednesday",
          "TimeInMinutes": 9
         },
         {
          "Date": "2023-10-04T09:52:02",
          "DayName": "Wednesday",
          "TimeInMinutes": 592
         },
         {
          "Date": "2023-10-04T12:29:48",
          "DayName": "Wednesday",
          "TimeInMinutes": 749
         },
         {
          "Date": "2023-10-04T22:18:50",
          "DayName": "Wednesday",
          "TimeInMinutes": 1338
         },
         {
          "Date": "2023-10-05T11:34:56",
          "DayName": "Thursday",
          "TimeInMinutes": 694
         },
         {
          "Date": "2023-10-05T19:32:48",
          "DayName": "Thursday",
          "TimeInMinutes": 1172
         },
         {
          "Date": "2023-10-06T15:19:55",
          "DayName": "Friday",
          "TimeInMinutes": 919
         },
         {
          "Date": "2023-10-06T16:40:52",
          "DayName": "Friday",
          "TimeInMinutes": 1000
         },
         {
          "Date": "2023-10-06T18:16:58",
          "DayName": "Friday",
          "TimeInMinutes": 1096
         },
         {
          "Date": "2023-10-07T11:04:02",
          "DayName": "Saturday",
          "TimeInMinutes": 664
         },
         {
          "Date": "2023-10-07T12:05:24",
          "DayName": "Saturday",
          "TimeInMinutes": 725
         },
         {
          "Date": "2023-10-07T15:06:59",
          "DayName": "Saturday",
          "TimeInMinutes": 906
         },
         {
          "Date": "2023-10-07T22:10:12",
          "DayName": "Saturday",
          "TimeInMinutes": 1330
         },
         {
          "Date": "2023-10-07T23:22:00",
          "DayName": "Saturday",
          "TimeInMinutes": 1402
         },
         {
          "Date": "2023-10-08T04:44:08",
          "DayName": "Sunday",
          "TimeInMinutes": 284
         },
         {
          "Date": "2023-10-08T06:32:48",
          "DayName": "Sunday",
          "TimeInMinutes": 392
         },
         {
          "Date": "2023-10-08T07:37:26",
          "DayName": "Sunday",
          "TimeInMinutes": 457
         },
         {
          "Date": "2023-10-08T08:43:34",
          "DayName": "Sunday",
          "TimeInMinutes": 523
         },
         {
          "Date": "2023-10-08T10:01:00",
          "DayName": "Sunday",
          "TimeInMinutes": 601
         },
         {
          "Date": "2023-10-08T14:12:35",
          "DayName": "Sunday",
          "TimeInMinutes": 852
         },
         {
          "Date": "2023-10-08T14:31:15",
          "DayName": "Sunday",
          "TimeInMinutes": 871
         },
         {
          "Date": "2023-10-08T17:30:29",
          "DayName": "Sunday",
          "TimeInMinutes": 1050
         },
         {
          "Date": "2023-10-08T17:44:46",
          "DayName": "Sunday",
          "TimeInMinutes": 1064
         },
         {
          "Date": "2023-10-08T19:01:56",
          "DayName": "Sunday",
          "TimeInMinutes": 1141
         },
         {
          "Date": "2023-10-08T20:20:05",
          "DayName": "Sunday",
          "TimeInMinutes": 1220
         },
         {
          "Date": "2023-10-08T21:24:51",
          "DayName": "Sunday",
          "TimeInMinutes": 1284
         },
         {
          "Date": "2023-10-08T23:26:44",
          "DayName": "Sunday",
          "TimeInMinutes": 1406
         },
         {
          "Date": "2023-10-09T00:38:04",
          "DayName": "Monday",
          "TimeInMinutes": 38
         },
         {
          "Date": "2023-10-09T04:55:29",
          "DayName": "Monday",
          "TimeInMinutes": 295
         },
         {
          "Date": "2023-10-09T08:21:18",
          "DayName": "Monday",
          "TimeInMinutes": 501
         },
         {
          "Date": "2023-10-09T12:07:34",
          "DayName": "Monday",
          "TimeInMinutes": 727
         },
         {
          "Date": "2023-10-09T13:29:59",
          "DayName": "Monday",
          "TimeInMinutes": 809
         },
         {
          "Date": "2023-10-09T14:33:49",
          "DayName": "Monday",
          "TimeInMinutes": 873
         },
         {
          "Date": "2023-10-09T15:53:13",
          "DayName": "Monday",
          "TimeInMinutes": 953
         },
         {
          "Date": "2023-10-09T17:31:26",
          "DayName": "Monday",
          "TimeInMinutes": 1051
         },
         {
          "Date": "2023-10-10T09:22:45",
          "DayName": "Tuesday",
          "TimeInMinutes": 562
         },
         {
          "Date": "2023-10-10T10:37:46",
          "DayName": "Tuesday",
          "TimeInMinutes": 637
         },
         {
          "Date": "2023-10-10T10:37:48",
          "DayName": "Tuesday",
          "TimeInMinutes": 637
         },
         {
          "Date": "2023-10-10T11:37:50",
          "DayName": "Tuesday",
          "TimeInMinutes": 697
         },
         {
          "Date": "2023-10-10T12:43:20",
          "DayName": "Tuesday",
          "TimeInMinutes": 763
         },
         {
          "Date": "2023-10-10T14:41:42",
          "DayName": "Tuesday",
          "TimeInMinutes": 881
         },
         {
          "Date": "2023-10-10T15:41:51",
          "DayName": "Tuesday",
          "TimeInMinutes": 941
         },
         {
          "Date": "2023-10-10T18:29:38",
          "DayName": "Tuesday",
          "TimeInMinutes": 1109
         },
         {
          "Date": "2023-10-11T08:51:50",
          "DayName": "Wednesday",
          "TimeInMinutes": 531
         },
         {
          "Date": "2023-10-11T10:34:48",
          "DayName": "Wednesday",
          "TimeInMinutes": 634
         },
         {
          "Date": "2023-10-11T12:39:01",
          "DayName": "Wednesday",
          "TimeInMinutes": 759
         },
         {
          "Date": "2023-10-11T14:04:37",
          "DayName": "Wednesday",
          "TimeInMinutes": 844
         },
         {
          "Date": "2023-10-11T14:38:00",
          "DayName": "Wednesday",
          "TimeInMinutes": 878
         },
         {
          "Date": "2023-10-11T15:35:33",
          "DayName": "Wednesday",
          "TimeInMinutes": 935
         },
         {
          "Date": "2023-10-11T20:19:26",
          "DayName": "Wednesday",
          "TimeInMinutes": 1219
         },
         {
          "Date": "2023-10-12T08:17:12",
          "DayName": "Thursday",
          "TimeInMinutes": 497
         },
         {
          "Date": "2023-10-12T17:28:34",
          "DayName": "Thursday",
          "TimeInMinutes": 1048
         },
         {
          "Date": "2023-10-13T09:02:45",
          "DayName": "Friday",
          "TimeInMinutes": 542
         },
         {
          "Date": "2023-10-13T14:34:08",
          "DayName": "Friday",
          "TimeInMinutes": 874
         },
         {
          "Date": "2023-10-13T15:36:36",
          "DayName": "Friday",
          "TimeInMinutes": 936
         },
         {
          "Date": "2023-10-13T20:16:00",
          "DayName": "Friday",
          "TimeInMinutes": 1216
         },
         {
          "Date": "2023-10-14T00:01:26",
          "DayName": "Saturday",
          "TimeInMinutes": 1
         },
         {
          "Date": "2023-10-14T13:29:04",
          "DayName": "Saturday",
          "TimeInMinutes": 809
         },
         {
          "Date": "2023-10-14T14:30:13",
          "DayName": "Saturday",
          "TimeInMinutes": 870
         },
         {
          "Date": "2023-10-14T19:54:31",
          "DayName": "Saturday",
          "TimeInMinutes": 1194
         },
         {
          "Date": "2023-10-15T14:33:48",
          "DayName": "Sunday",
          "TimeInMinutes": 873
         },
         {
          "Date": "2023-10-15T15:49:25",
          "DayName": "Sunday",
          "TimeInMinutes": 949
         },
         {
          "Date": "2023-10-15T17:34:37",
          "DayName": "Sunday",
          "TimeInMinutes": 1054
         },
         {
          "Date": "2023-10-15T18:35:11",
          "DayName": "Sunday",
          "TimeInMinutes": 1115
         },
         {
          "Date": "2023-10-16T15:19:38",
          "DayName": "Monday",
          "TimeInMinutes": 919
         },
         {
          "Date": "2023-10-16T16:44:18",
          "DayName": "Monday",
          "TimeInMinutes": 1004
         },
         {
          "Date": "2023-10-17T03:50:24",
          "DayName": "Tuesday",
          "TimeInMinutes": 230
         },
         {
          "Date": "2023-10-17T14:28:45",
          "DayName": "Tuesday",
          "TimeInMinutes": 868
         },
         {
          "Date": "2023-10-17T15:31:01",
          "DayName": "Tuesday",
          "TimeInMinutes": 931
         },
         {
          "Date": "2023-10-17T17:00:25",
          "DayName": "Tuesday",
          "TimeInMinutes": 1020
         },
         {
          "Date": "2023-10-17T18:48:59",
          "DayName": "Tuesday",
          "TimeInMinutes": 1128
         },
         {
          "Date": "2023-10-17T19:22:07",
          "DayName": "Tuesday",
          "TimeInMinutes": 1162
         },
         {
          "Date": "2023-10-18T09:18:29",
          "DayName": "Wednesday",
          "TimeInMinutes": 558
         },
         {
          "Date": "2023-10-18T10:26:03",
          "DayName": "Wednesday",
          "TimeInMinutes": 626
         },
         {
          "Date": "2023-10-18T11:34:54",
          "DayName": "Wednesday",
          "TimeInMinutes": 694
         },
         {
          "Date": "2023-10-18T14:55:17",
          "DayName": "Wednesday",
          "TimeInMinutes": 895
         },
         {
          "Date": "2023-10-18T15:27:56",
          "DayName": "Wednesday",
          "TimeInMinutes": 927
         },
         {
          "Date": "2023-10-18T16:07:32",
          "DayName": "Wednesday",
          "TimeInMinutes": 967
         },
         {
          "Date": "2023-10-18T17:44:18",
          "DayName": "Wednesday",
          "TimeInMinutes": 1064
         },
         {
          "Date": "2023-10-18T20:31:52",
          "DayName": "Wednesday",
          "TimeInMinutes": 1231
         },
         {
          "Date": "2023-10-19T11:47:50",
          "DayName": "Thursday",
          "TimeInMinutes": 707
         },
         {
          "Date": "2023-10-19T13:39:02",
          "DayName": "Thursday",
          "TimeInMinutes": 819
         },
         {
          "Date": "2023-10-19T17:42:18",
          "DayName": "Thursday",
          "TimeInMinutes": 1062
         },
         {
          "Date": "2023-10-19T21:31:38",
          "DayName": "Thursday",
          "TimeInMinutes": 1291
         },
         {
          "Date": "2023-10-20T08:38:34",
          "DayName": "Friday",
          "TimeInMinutes": 518
         },
         {
          "Date": "2023-10-20T13:24:59",
          "DayName": "Friday",
          "TimeInMinutes": 804
         },
         {
          "Date": "2023-10-20T14:48:59",
          "DayName": "Friday",
          "TimeInMinutes": 888
         },
         {
          "Date": "2023-10-20T21:40:46",
          "DayName": "Friday",
          "TimeInMinutes": 1300
         },
         {
          "Date": "2023-10-20T22:06:31",
          "DayName": "Friday",
          "TimeInMinutes": 1326
         },
         {
          "Date": "2023-10-21T10:42:00",
          "DayName": "Saturday",
          "TimeInMinutes": 642
         },
         {
          "Date": "2023-10-21T16:54:09",
          "DayName": "Saturday",
          "TimeInMinutes": 1014
         },
         {
          "Date": "2023-10-21T19:59:05",
          "DayName": "Saturday",
          "TimeInMinutes": 1199
         },
         {
          "Date": "2023-10-21T20:53:26",
          "DayName": "Saturday",
          "TimeInMinutes": 1253
         },
         {
          "Date": "2023-10-22T13:06:52",
          "DayName": "Sunday",
          "TimeInMinutes": 786
         },
         {
          "Date": "2023-10-22T14:07:11",
          "DayName": "Sunday",
          "TimeInMinutes": 847
         },
         {
          "Date": "2023-10-22T15:14:17",
          "DayName": "Sunday",
          "TimeInMinutes": 914
         },
         {
          "Date": "2023-10-22T16:36:49",
          "DayName": "Sunday",
          "TimeInMinutes": 996
         },
         {
          "Date": "2023-10-22T18:16:46",
          "DayName": "Sunday",
          "TimeInMinutes": 1096
         },
         {
          "Date": "2023-10-22T22:11:55",
          "DayName": "Sunday",
          "TimeInMinutes": 1331
         },
         {
          "Date": "2023-10-23T13:36:39",
          "DayName": "Monday",
          "TimeInMinutes": 816
         },
         {
          "Date": "2023-10-23T14:28:20",
          "DayName": "Monday",
          "TimeInMinutes": 868
         },
         {
          "Date": "2023-10-23T14:34:09",
          "DayName": "Monday",
          "TimeInMinutes": 874
         },
         {
          "Date": "2023-10-23T15:22:19",
          "DayName": "Monday",
          "TimeInMinutes": 922
         },
         {
          "Date": "2023-10-23T16:52:28",
          "DayName": "Monday",
          "TimeInMinutes": 1012
         },
         {
          "Date": "2023-10-23T18:26:37",
          "DayName": "Monday",
          "TimeInMinutes": 1106
         },
         {
          "Date": "2023-10-24T11:37:32",
          "DayName": "Tuesday",
          "TimeInMinutes": 697
         },
         {
          "Date": "2023-10-24T15:59:16",
          "DayName": "Tuesday",
          "TimeInMinutes": 959
         },
         {
          "Date": "2023-10-25T08:16:18",
          "DayName": "Wednesday",
          "TimeInMinutes": 496
         },
         {
          "Date": "2023-10-25T14:36:42",
          "DayName": "Wednesday",
          "TimeInMinutes": 876
         },
         {
          "Date": "2023-10-25T15:40:43",
          "DayName": "Wednesday",
          "TimeInMinutes": 940
         },
         {
          "Date": "2023-10-25T15:41:16",
          "DayName": "Wednesday",
          "TimeInMinutes": 941
         },
         {
          "Date": "2023-10-25T23:03:37",
          "DayName": "Wednesday",
          "TimeInMinutes": 1383
         },
         {
          "Date": "2023-10-26T00:23:41",
          "DayName": "Thursday",
          "TimeInMinutes": 23
         },
         {
          "Date": "2023-10-26T10:23:16",
          "DayName": "Thursday",
          "TimeInMinutes": 623
         },
         {
          "Date": "2023-10-26T22:22:19",
          "DayName": "Thursday",
          "TimeInMinutes": 1342
         },
         {
          "Date": "2023-10-27T08:31:26",
          "DayName": "Friday",
          "TimeInMinutes": 511
         },
         {
          "Date": "2023-10-27T11:58:44",
          "DayName": "Friday",
          "TimeInMinutes": 718
         },
         {
          "Date": "2023-10-27T13:02:14",
          "DayName": "Friday",
          "TimeInMinutes": 782
         },
         {
          "Date": "2023-10-27T16:34:58",
          "DayName": "Friday",
          "TimeInMinutes": 994
         },
         {
          "Date": "2023-10-27T18:19:02",
          "DayName": "Friday",
          "TimeInMinutes": 1099
         },
         {
          "Date": "2023-10-27T19:40:25",
          "DayName": "Friday",
          "TimeInMinutes": 1180
         },
         {
          "Date": "2023-10-27T20:58:48",
          "DayName": "Friday",
          "TimeInMinutes": 1258
         },
         {
          "Date": "2023-10-27T22:35:45",
          "DayName": "Friday",
          "TimeInMinutes": 1355
         },
         {
          "Date": "2023-10-27T23:54:27",
          "DayName": "Friday",
          "TimeInMinutes": 1434
         },
         {
          "Date": "2023-10-28T00:55:12",
          "DayName": "Saturday",
          "TimeInMinutes": 55
         },
         {
          "Date": "2023-10-28T02:03:03",
          "DayName": "Saturday",
          "TimeInMinutes": 123
         },
         {
          "Date": "2023-10-28T04:42:37",
          "DayName": "Saturday",
          "TimeInMinutes": 282
         },
         {
          "Date": "2023-10-28T08:08:36",
          "DayName": "Saturday",
          "TimeInMinutes": 488
         },
         {
          "Date": "2023-10-28T09:08:39",
          "DayName": "Saturday",
          "TimeInMinutes": 548
         },
         {
          "Date": "2023-10-28T10:25:48",
          "DayName": "Saturday",
          "TimeInMinutes": 625
         },
         {
          "Date": "2023-10-28T12:46:08",
          "DayName": "Saturday",
          "TimeInMinutes": 766
         },
         {
          "Date": "2023-10-28T15:16:27",
          "DayName": "Saturday",
          "TimeInMinutes": 916
         },
         {
          "Date": "2023-10-28T16:30:41",
          "DayName": "Saturday",
          "TimeInMinutes": 990
         },
         {
          "Date": "2023-10-28T17:32:58",
          "DayName": "Saturday",
          "TimeInMinutes": 1052
         },
         {
          "Date": "2023-10-28T18:46:30",
          "DayName": "Saturday",
          "TimeInMinutes": 1126
         },
         {
          "Date": "2023-10-28T19:33:23",
          "DayName": "Saturday",
          "TimeInMinutes": 1173
         },
         {
          "Date": "2023-10-28T21:12:08",
          "DayName": "Saturday",
          "TimeInMinutes": 1272
         },
         {
          "Date": "2023-10-28T21:32:19",
          "DayName": "Saturday",
          "TimeInMinutes": 1292
         },
         {
          "Date": "2023-10-28T22:45:06",
          "DayName": "Saturday",
          "TimeInMinutes": 1365
         },
         {
          "Date": "2023-10-28T23:50:11",
          "DayName": "Saturday",
          "TimeInMinutes": 1430
         },
         {
          "Date": "2023-10-29T00:23:05",
          "DayName": "Sunday",
          "TimeInMinutes": 23
         },
         {
          "Date": "2023-10-29T07:08:39",
          "DayName": "Sunday",
          "TimeInMinutes": 428
         },
         {
          "Date": "2023-10-29T08:48:41",
          "DayName": "Sunday",
          "TimeInMinutes": 528
         },
         {
          "Date": "2023-10-29T10:54:04",
          "DayName": "Sunday",
          "TimeInMinutes": 654
         },
         {
          "Date": "2023-10-29T13:38:39",
          "DayName": "Sunday",
          "TimeInMinutes": 818
         },
         {
          "Date": "2023-10-29T15:18:54",
          "DayName": "Sunday",
          "TimeInMinutes": 918
         },
         {
          "Date": "2023-10-29T16:44:43",
          "DayName": "Sunday",
          "TimeInMinutes": 1004
         },
         {
          "Date": "2023-10-29T17:47:45",
          "DayName": "Sunday",
          "TimeInMinutes": 1067
         },
         {
          "Date": "2023-10-29T18:58:42",
          "DayName": "Sunday",
          "TimeInMinutes": 1138
         },
         {
          "Date": "2023-10-29T19:44:06",
          "DayName": "Sunday",
          "TimeInMinutes": 1184
         },
         {
          "Date": "2023-10-29T20:47:25",
          "DayName": "Sunday",
          "TimeInMinutes": 1247
         },
         {
          "Date": "2023-10-29T21:07:45",
          "DayName": "Sunday",
          "TimeInMinutes": 1267
         },
         {
          "Date": "2023-10-29T22:04:44",
          "DayName": "Sunday",
          "TimeInMinutes": 1324
         },
         {
          "Date": "2023-10-30T02:44:38",
          "DayName": "Monday",
          "TimeInMinutes": 164
         },
         {
          "Date": "2023-10-30T08:20:06",
          "DayName": "Monday",
          "TimeInMinutes": 500
         },
         {
          "Date": "2023-10-30T14:12:51",
          "DayName": "Monday",
          "TimeInMinutes": 852
         },
         {
          "Date": "2023-10-30T16:45:28",
          "DayName": "Monday",
          "TimeInMinutes": 1005
         },
         {
          "Date": "2023-10-30T18:32:39",
          "DayName": "Monday",
          "TimeInMinutes": 1112
         },
         {
          "Date": "2023-10-31T04:39:29",
          "DayName": "Tuesday",
          "TimeInMinutes": 279
         },
         {
          "Date": "2023-10-31T08:05:45",
          "DayName": "Tuesday",
          "TimeInMinutes": 485
         },
         {
          "Date": "2023-10-31T10:39:39",
          "DayName": "Tuesday",
          "TimeInMinutes": 639
         },
         {
          "Date": "2023-10-31T15:37:25",
          "DayName": "Tuesday",
          "TimeInMinutes": 937
         },
         {
          "Date": "2023-10-31T16:33:43",
          "DayName": "Tuesday",
          "TimeInMinutes": 993
         },
         {
          "Date": "2023-11-01T11:47:21",
          "DayName": "Wednesday",
          "TimeInMinutes": 707
         },
         {
          "Date": "2023-11-01T12:22:57",
          "DayName": "Wednesday",
          "TimeInMinutes": 742
         },
         {
          "Date": "2023-11-01T12:28:03",
          "DayName": "Wednesday",
          "TimeInMinutes": 748
         },
         {
          "Date": "2023-11-01T13:58:49",
          "DayName": "Wednesday",
          "TimeInMinutes": 838
         },
         {
          "Date": "2023-11-01T14:01:55",
          "DayName": "Wednesday",
          "TimeInMinutes": 841
         },
         {
          "Date": "2023-11-01T20:15:41",
          "DayName": "Wednesday",
          "TimeInMinutes": 1215
         },
         {
          "Date": "2023-11-02T11:15:20",
          "DayName": "Thursday",
          "TimeInMinutes": 675
         },
         {
          "Date": "2023-11-02T17:19:12",
          "DayName": "Thursday",
          "TimeInMinutes": 1039
         },
         {
          "Date": "2023-11-02T17:35:46",
          "DayName": "Thursday",
          "TimeInMinutes": 1055
         },
         {
          "Date": "2023-11-02T18:34:50",
          "DayName": "Thursday",
          "TimeInMinutes": 1114
         },
         {
          "Date": "2023-11-02T21:26:26",
          "DayName": "Thursday",
          "TimeInMinutes": 1286
         },
         {
          "Date": "2023-11-02T22:56:30",
          "DayName": "Thursday",
          "TimeInMinutes": 1376
         },
         {
          "Date": "2023-11-02T23:55:15",
          "DayName": "Thursday",
          "TimeInMinutes": 1435
         },
         {
          "Date": "2023-11-03T13:40:38",
          "DayName": "Friday",
          "TimeInMinutes": 820
         },
         {
          "Date": "2023-11-03T15:03:21",
          "DayName": "Friday",
          "TimeInMinutes": 903
         },
         {
          "Date": "2023-11-03T16:26:27",
          "DayName": "Friday",
          "TimeInMinutes": 986
         },
         {
          "Date": "2023-11-03T19:08:31",
          "DayName": "Friday",
          "TimeInMinutes": 1148
         },
         {
          "Date": "2023-11-03T23:32:55",
          "DayName": "Friday",
          "TimeInMinutes": 1412
         },
         {
          "Date": "2023-11-04T08:48:37",
          "DayName": "Saturday",
          "TimeInMinutes": 528
         },
         {
          "Date": "2023-11-04T11:21:04",
          "DayName": "Saturday",
          "TimeInMinutes": 681
         },
         {
          "Date": "2023-11-04T11:33:41",
          "DayName": "Saturday",
          "TimeInMinutes": 693
         },
         {
          "Date": "2023-11-04T13:31:21",
          "DayName": "Saturday",
          "TimeInMinutes": 811
         },
         {
          "Date": "2023-11-04T20:23:51",
          "DayName": "Saturday",
          "TimeInMinutes": 1223
         },
         {
          "Date": "2023-11-05T20:22:44",
          "DayName": "Sunday",
          "TimeInMinutes": 1222
         },
         {
          "Date": "2023-11-06T08:34:52",
          "DayName": "Monday",
          "TimeInMinutes": 514
         },
         {
          "Date": "2023-11-06T11:39:29",
          "DayName": "Monday",
          "TimeInMinutes": 699
         },
         {
          "Date": "2023-11-06T11:42:26",
          "DayName": "Monday",
          "TimeInMinutes": 702
         },
         {
          "Date": "2023-11-06T16:31:05",
          "DayName": "Monday",
          "TimeInMinutes": 991
         },
         {
          "Date": "2023-11-06T16:31:06",
          "DayName": "Monday",
          "TimeInMinutes": 991
         },
         {
          "Date": "2023-11-07T08:26:23",
          "DayName": "Tuesday",
          "TimeInMinutes": 506
         },
         {
          "Date": "2023-11-07T10:36:50",
          "DayName": "Tuesday",
          "TimeInMinutes": 636
         },
         {
          "Date": "2023-11-07T11:40:29",
          "DayName": "Tuesday",
          "TimeInMinutes": 700
         },
         {
          "Date": "2023-11-07T16:55:57",
          "DayName": "Tuesday",
          "TimeInMinutes": 1015
         },
         {
          "Date": "2023-11-07T18:42:42",
          "DayName": "Tuesday",
          "TimeInMinutes": 1122
         },
         {
          "Date": "2023-11-07T23:03:26",
          "DayName": "Tuesday",
          "TimeInMinutes": 1383
         },
         {
          "Date": "2023-11-08T12:34:38",
          "DayName": "Wednesday",
          "TimeInMinutes": 754
         },
         {
          "Date": "2023-11-08T18:19:49",
          "DayName": "Wednesday",
          "TimeInMinutes": 1099
         },
         {
          "Date": "2023-11-08T19:33:54",
          "DayName": "Wednesday",
          "TimeInMinutes": 1173
         },
         {
          "Date": "2023-11-08T21:25:16",
          "DayName": "Wednesday",
          "TimeInMinutes": 1285
         },
         {
          "Date": "2023-11-09T09:54:58",
          "DayName": "Thursday",
          "TimeInMinutes": 594
         },
         {
          "Date": "2023-11-09T20:10:54",
          "DayName": "Thursday",
          "TimeInMinutes": 1210
         },
         {
          "Date": "2023-11-09T20:19:36",
          "DayName": "Thursday",
          "TimeInMinutes": 1219
         },
         {
          "Date": "2023-11-10T11:21:33",
          "DayName": "Friday",
          "TimeInMinutes": 681
         },
         {
          "Date": "2023-11-10T11:21:34",
          "DayName": "Friday",
          "TimeInMinutes": 681
         },
         {
          "Date": "2023-11-10T13:25:10",
          "DayName": "Friday",
          "TimeInMinutes": 805
         },
         {
          "Date": "2023-11-10T15:05:31",
          "DayName": "Friday",
          "TimeInMinutes": 905
         },
         {
          "Date": "2023-11-10T15:32:19",
          "DayName": "Friday",
          "TimeInMinutes": 932
         },
         {
          "Date": "2023-11-10T16:38:56",
          "DayName": "Friday",
          "TimeInMinutes": 998
         },
         {
          "Date": "2023-11-10T18:58:59",
          "DayName": "Friday",
          "TimeInMinutes": 1138
         },
         {
          "Date": "2023-11-10T20:30:26",
          "DayName": "Friday",
          "TimeInMinutes": 1230
         },
         {
          "Date": "2023-11-11T07:59:57",
          "DayName": "Saturday",
          "TimeInMinutes": 479
         },
         {
          "Date": "2023-11-11T10:53:14",
          "DayName": "Saturday",
          "TimeInMinutes": 653
         },
         {
          "Date": "2023-11-11T13:10:11",
          "DayName": "Saturday",
          "TimeInMinutes": 790
         },
         {
          "Date": "2023-11-11T14:08:16",
          "DayName": "Saturday",
          "TimeInMinutes": 848
         },
         {
          "Date": "2023-11-11T15:12:38",
          "DayName": "Saturday",
          "TimeInMinutes": 912
         },
         {
          "Date": "2023-11-11T15:13:51",
          "DayName": "Saturday",
          "TimeInMinutes": 913
         },
         {
          "Date": "2023-11-11T16:36:58",
          "DayName": "Saturday",
          "TimeInMinutes": 996
         },
         {
          "Date": "2023-11-11T16:45:33",
          "DayName": "Saturday",
          "TimeInMinutes": 1005
         },
         {
          "Date": "2023-11-11T17:37:44",
          "DayName": "Saturday",
          "TimeInMinutes": 1057
         },
         {
          "Date": "2023-11-11T20:44:40",
          "DayName": "Saturday",
          "TimeInMinutes": 1244
         },
         {
          "Date": "2023-11-11T22:13:02",
          "DayName": "Saturday",
          "TimeInMinutes": 1333
         },
         {
          "Date": "2023-11-12T11:21:49",
          "DayName": "Sunday",
          "TimeInMinutes": 681
         },
         {
          "Date": "2023-11-12T14:23:39",
          "DayName": "Sunday",
          "TimeInMinutes": 863
         },
         {
          "Date": "2023-11-12T15:43:41",
          "DayName": "Sunday",
          "TimeInMinutes": 943
         },
         {
          "Date": "2023-11-12T23:43:22",
          "DayName": "Sunday",
          "TimeInMinutes": 1423
         },
         {
          "Date": "2023-11-13T00:18:20",
          "DayName": "Monday",
          "TimeInMinutes": 18
         },
         {
          "Date": "2023-11-13T18:52:49",
          "DayName": "Monday",
          "TimeInMinutes": 1132
         },
         {
          "Date": "2023-11-13T19:16:39",
          "DayName": "Monday",
          "TimeInMinutes": 1156
         },
         {
          "Date": "2023-11-14T11:31:32",
          "DayName": "Tuesday",
          "TimeInMinutes": 691
         },
         {
          "Date": "2023-11-14T12:40:46",
          "DayName": "Tuesday",
          "TimeInMinutes": 760
         },
         {
          "Date": "2023-11-14T14:34:55",
          "DayName": "Tuesday",
          "TimeInMinutes": 874
         },
         {
          "Date": "2023-11-14T15:43:24",
          "DayName": "Tuesday",
          "TimeInMinutes": 943
         },
         {
          "Date": "2023-11-14T16:26:26",
          "DayName": "Tuesday",
          "TimeInMinutes": 986
         },
         {
          "Date": "2023-11-14T17:42:02",
          "DayName": "Tuesday",
          "TimeInMinutes": 1062
         },
         {
          "Date": "2023-11-14T18:43:27",
          "DayName": "Tuesday",
          "TimeInMinutes": 1123
         },
         {
          "Date": "2023-11-14T19:27:40",
          "DayName": "Tuesday",
          "TimeInMinutes": 1167
         },
         {
          "Date": "2023-11-14T21:10:36",
          "DayName": "Tuesday",
          "TimeInMinutes": 1270
         },
         {
          "Date": "2023-11-14T21:56:07",
          "DayName": "Tuesday",
          "TimeInMinutes": 1316
         },
         {
          "Date": "2023-11-14T22:43:53",
          "DayName": "Tuesday",
          "TimeInMinutes": 1363
         },
         {
          "Date": "2023-11-14T22:59:09",
          "DayName": "Tuesday",
          "TimeInMinutes": 1379
         },
         {
          "Date": "2023-11-15T10:06:57",
          "DayName": "Wednesday",
          "TimeInMinutes": 606
         },
         {
          "Date": "2023-11-15T13:22:33",
          "DayName": "Wednesday",
          "TimeInMinutes": 802
         },
         {
          "Date": "2023-11-15T16:05:02",
          "DayName": "Wednesday",
          "TimeInMinutes": 965
         },
         {
          "Date": "2023-11-15T18:44:28",
          "DayName": "Wednesday",
          "TimeInMinutes": 1124
         },
         {
          "Date": "2023-11-15T19:26:48",
          "DayName": "Wednesday",
          "TimeInMinutes": 1166
         },
         {
          "Date": "2023-11-15T21:07:08",
          "DayName": "Wednesday",
          "TimeInMinutes": 1267
         },
         {
          "Date": "2023-11-15T21:44:10",
          "DayName": "Wednesday",
          "TimeInMinutes": 1304
         },
         {
          "Date": "2023-11-15T21:52:58",
          "DayName": "Wednesday",
          "TimeInMinutes": 1312
         },
         {
          "Date": "2023-11-16T11:35:01",
          "DayName": "Thursday",
          "TimeInMinutes": 695
         },
         {
          "Date": "2023-11-17T11:44:21",
          "DayName": "Friday",
          "TimeInMinutes": 704
         },
         {
          "Date": "2023-11-17T12:27:14",
          "DayName": "Friday",
          "TimeInMinutes": 747
         },
         {
          "Date": "2023-11-17T13:36:33",
          "DayName": "Friday",
          "TimeInMinutes": 816
         },
         {
          "Date": "2023-11-17T14:44:26",
          "DayName": "Friday",
          "TimeInMinutes": 884
         },
         {
          "Date": "2023-11-18T11:52:46",
          "DayName": "Saturday",
          "TimeInMinutes": 712
         },
         {
          "Date": "2023-11-18T17:47:01",
          "DayName": "Saturday",
          "TimeInMinutes": 1067
         },
         {
          "Date": "2023-11-18T19:19:41",
          "DayName": "Saturday",
          "TimeInMinutes": 1159
         },
         {
          "Date": "2023-11-18T19:51:06",
          "DayName": "Saturday",
          "TimeInMinutes": 1191
         },
         {
          "Date": "2023-11-18T21:12:40",
          "DayName": "Saturday",
          "TimeInMinutes": 1272
         },
         {
          "Date": "2023-11-19T09:33:25",
          "DayName": "Sunday",
          "TimeInMinutes": 573
         },
         {
          "Date": "2023-11-19T17:05:45",
          "DayName": "Sunday",
          "TimeInMinutes": 1025
         },
         {
          "Date": "2023-11-19T20:15:00",
          "DayName": "Sunday",
          "TimeInMinutes": 1215
         },
         {
          "Date": "2023-11-20T09:55:52",
          "DayName": "Monday",
          "TimeInMinutes": 595
         },
         {
          "Date": "2023-11-20T10:19:39",
          "DayName": "Monday",
          "TimeInMinutes": 619
         },
         {
          "Date": "2023-11-20T11:15:21",
          "DayName": "Monday",
          "TimeInMinutes": 675
         },
         {
          "Date": "2023-11-20T12:19:24",
          "DayName": "Monday",
          "TimeInMinutes": 739
         },
         {
          "Date": "2023-11-20T12:50:02",
          "DayName": "Monday",
          "TimeInMinutes": 770
         },
         {
          "Date": "2023-11-20T14:06:39",
          "DayName": "Monday",
          "TimeInMinutes": 846
         },
         {
          "Date": "2023-11-20T15:30:09",
          "DayName": "Monday",
          "TimeInMinutes": 930
         },
         {
          "Date": "2023-11-20T17:04:47",
          "DayName": "Monday",
          "TimeInMinutes": 1024
         },
         {
          "Date": "2023-11-20T18:15:04",
          "DayName": "Monday",
          "TimeInMinutes": 1095
         },
         {
          "Date": "2023-11-20T19:29:55",
          "DayName": "Monday",
          "TimeInMinutes": 1169
         },
         {
          "Date": "2023-11-20T20:22:57",
          "DayName": "Monday",
          "TimeInMinutes": 1222
         },
         {
          "Date": "2023-11-20T22:06:33",
          "DayName": "Monday",
          "TimeInMinutes": 1326
         },
         {
          "Date": "2023-11-21T00:02:41",
          "DayName": "Tuesday",
          "TimeInMinutes": 2
         },
         {
          "Date": "2023-11-21T10:01:47",
          "DayName": "Tuesday",
          "TimeInMinutes": 601
         },
         {
          "Date": "2023-11-21T14:18:24",
          "DayName": "Tuesday",
          "TimeInMinutes": 858
         },
         {
          "Date": "2023-11-21T16:06:16",
          "DayName": "Tuesday",
          "TimeInMinutes": 966
         },
         {
          "Date": "2023-11-21T16:33:38",
          "DayName": "Tuesday",
          "TimeInMinutes": 993
         },
         {
          "Date": "2023-11-21T17:57:44",
          "DayName": "Tuesday",
          "TimeInMinutes": 1077
         },
         {
          "Date": "2023-11-22T00:06:56",
          "DayName": "Wednesday",
          "TimeInMinutes": 6
         },
         {
          "Date": "2023-11-22T09:06:19",
          "DayName": "Wednesday",
          "TimeInMinutes": 546
         },
         {
          "Date": "2023-11-22T13:54:30",
          "DayName": "Wednesday",
          "TimeInMinutes": 834
         },
         {
          "Date": "2023-11-22T17:09:36",
          "DayName": "Wednesday",
          "TimeInMinutes": 1029
         },
         {
          "Date": "2023-11-22T19:06:30",
          "DayName": "Wednesday",
          "TimeInMinutes": 1146
         },
         {
          "Date": "2023-11-23T10:37:15",
          "DayName": "Thursday",
          "TimeInMinutes": 637
         },
         {
          "Date": "2023-11-23T11:40:12",
          "DayName": "Thursday",
          "TimeInMinutes": 700
         },
         {
          "Date": "2023-11-23T12:54:17",
          "DayName": "Thursday",
          "TimeInMinutes": 774
         },
         {
          "Date": "2023-11-24T11:32:58",
          "DayName": "Friday",
          "TimeInMinutes": 692
         },
         {
          "Date": "2023-11-24T11:33:02",
          "DayName": "Friday",
          "TimeInMinutes": 693
         },
         {
          "Date": "2023-11-24T11:45:22",
          "DayName": "Friday",
          "TimeInMinutes": 705
         },
         {
          "Date": "2023-11-24T12:34:19",
          "DayName": "Friday",
          "TimeInMinutes": 754
         },
         {
          "Date": "2023-11-24T13:35:54",
          "DayName": "Friday",
          "TimeInMinutes": 815
         },
         {
          "Date": "2023-11-24T18:49:23",
          "DayName": "Friday",
          "TimeInMinutes": 1129
         },
         {
          "Date": "2023-11-24T18:58:44",
          "DayName": "Friday",
          "TimeInMinutes": 1138
         },
         {
          "Date": "2023-11-25T00:03:16",
          "DayName": "Saturday",
          "TimeInMinutes": 3
         },
         {
          "Date": "2023-11-25T01:22:01",
          "DayName": "Saturday",
          "TimeInMinutes": 82
         },
         {
          "Date": "2023-11-25T10:43:32",
          "DayName": "Saturday",
          "TimeInMinutes": 643
         },
         {
          "Date": "2023-11-25T13:48:14",
          "DayName": "Saturday",
          "TimeInMinutes": 828
         },
         {
          "Date": "2023-11-25T14:15:32",
          "DayName": "Saturday",
          "TimeInMinutes": 855
         },
         {
          "Date": "2023-11-25T15:16:06",
          "DayName": "Saturday",
          "TimeInMinutes": 916
         },
         {
          "Date": "2023-11-25T16:57:57",
          "DayName": "Saturday",
          "TimeInMinutes": 1017
         },
         {
          "Date": "2023-11-26T10:30:21",
          "DayName": "Sunday",
          "TimeInMinutes": 630
         },
         {
          "Date": "2023-11-26T20:25:54",
          "DayName": "Sunday",
          "TimeInMinutes": 1225
         },
         {
          "Date": "2023-11-27T15:18:23",
          "DayName": "Monday",
          "TimeInMinutes": 918
         },
         {
          "Date": "2023-11-27T16:30:41",
          "DayName": "Monday",
          "TimeInMinutes": 990
         },
         {
          "Date": "2023-11-28T10:37:27",
          "DayName": "Tuesday",
          "TimeInMinutes": 637
         },
         {
          "Date": "2023-11-28T11:37:51",
          "DayName": "Tuesday",
          "TimeInMinutes": 697
         },
         {
          "Date": "2023-11-29T12:32:48",
          "DayName": "Wednesday",
          "TimeInMinutes": 752
         },
         {
          "Date": "2023-11-29T14:33:46",
          "DayName": "Wednesday",
          "TimeInMinutes": 873
         },
         {
          "Date": "2023-11-29T16:10:09",
          "DayName": "Wednesday",
          "TimeInMinutes": 970
         },
         {
          "Date": "2023-11-29T16:35:29",
          "DayName": "Wednesday",
          "TimeInMinutes": 995
         },
         {
          "Date": "2023-11-29T20:42:38",
          "DayName": "Wednesday",
          "TimeInMinutes": 1242
         },
         {
          "Date": "2023-11-30T00:47:01",
          "DayName": "Thursday",
          "TimeInMinutes": 47
         },
         {
          "Date": "2023-11-30T09:24:23",
          "DayName": "Thursday",
          "TimeInMinutes": 564
         },
         {
          "Date": "2023-11-30T09:29:35",
          "DayName": "Thursday",
          "TimeInMinutes": 569
         },
         {
          "Date": "2023-11-30T11:41:28",
          "DayName": "Thursday",
          "TimeInMinutes": 701
         },
         {
          "Date": "2023-11-30T14:19:17",
          "DayName": "Thursday",
          "TimeInMinutes": 859
         },
         {
          "Date": "2023-12-01T10:50:50",
          "DayName": "Friday",
          "TimeInMinutes": 650
         },
         {
          "Date": "2023-12-01T14:31:58",
          "DayName": "Friday",
          "TimeInMinutes": 871
         },
         {
          "Date": "2023-12-01T14:32:41",
          "DayName": "Friday",
          "TimeInMinutes": 872
         },
         {
          "Date": "2023-12-01T15:37:59",
          "DayName": "Friday",
          "TimeInMinutes": 937
         },
         {
          "Date": "2023-12-01T16:39:08",
          "DayName": "Friday",
          "TimeInMinutes": 999
         },
         {
          "Date": "2023-12-01T17:02:26",
          "DayName": "Friday",
          "TimeInMinutes": 1022
         },
         {
          "Date": "2023-12-01T23:34:22",
          "DayName": "Friday",
          "TimeInMinutes": 1414
         },
         {
          "Date": "2023-12-03T13:03:06",
          "DayName": "Sunday",
          "TimeInMinutes": 783
         },
         {
          "Date": "2023-12-03T19:54:31",
          "DayName": "Sunday",
          "TimeInMinutes": 1194
         },
         {
          "Date": "2023-12-03T21:09:59",
          "DayName": "Sunday",
          "TimeInMinutes": 1269
         },
         {
          "Date": "2023-12-04T13:38:44",
          "DayName": "Monday",
          "TimeInMinutes": 818
         },
         {
          "Date": "2023-12-04T16:37:05",
          "DayName": "Monday",
          "TimeInMinutes": 997
         },
         {
          "Date": "2023-12-04T17:38:37",
          "DayName": "Monday",
          "TimeInMinutes": 1058
         },
         {
          "Date": "2023-12-05T11:32:51",
          "DayName": "Tuesday",
          "TimeInMinutes": 692
         },
         {
          "Date": "2023-12-05T14:34:18",
          "DayName": "Tuesday",
          "TimeInMinutes": 874
         },
         {
          "Date": "2023-12-05T17:10:46",
          "DayName": "Tuesday",
          "TimeInMinutes": 1030
         },
         {
          "Date": "2023-12-05T22:00:10",
          "DayName": "Tuesday",
          "TimeInMinutes": 1320
         },
         {
          "Date": "2023-12-06T12:30:21",
          "DayName": "Wednesday",
          "TimeInMinutes": 750
         },
         {
          "Date": "2023-12-06T12:31:30",
          "DayName": "Wednesday",
          "TimeInMinutes": 751
         },
         {
          "Date": "2023-12-06T17:17:01",
          "DayName": "Wednesday",
          "TimeInMinutes": 1037
         },
         {
          "Date": "2023-12-06T22:05:02",
          "DayName": "Wednesday",
          "TimeInMinutes": 1325
         },
         {
          "Date": "2023-12-06T22:10:14",
          "DayName": "Wednesday",
          "TimeInMinutes": 1330
         },
         {
          "Date": "2023-12-07T02:01:15",
          "DayName": "Thursday",
          "TimeInMinutes": 121
         },
         {
          "Date": "2023-12-07T08:47:18",
          "DayName": "Thursday",
          "TimeInMinutes": 527
         },
         {
          "Date": "2023-12-07T10:39:48",
          "DayName": "Thursday",
          "TimeInMinutes": 639
         },
         {
          "Date": "2023-12-07T11:46:36",
          "DayName": "Thursday",
          "TimeInMinutes": 706
         },
         {
          "Date": "2023-12-07T12:54:45",
          "DayName": "Thursday",
          "TimeInMinutes": 774
         },
         {
          "Date": "2023-12-08T10:33:19",
          "DayName": "Friday",
          "TimeInMinutes": 633
         },
         {
          "Date": "2023-12-08T10:44:10",
          "DayName": "Friday",
          "TimeInMinutes": 644
         },
         {
          "Date": "2023-12-08T12:36:43",
          "DayName": "Friday",
          "TimeInMinutes": 756
         },
         {
          "Date": "2023-12-08T13:48:34",
          "DayName": "Friday",
          "TimeInMinutes": 828
         },
         {
          "Date": "2023-12-08T15:03:57",
          "DayName": "Friday",
          "TimeInMinutes": 903
         },
         {
          "Date": "2023-12-08T15:24:43",
          "DayName": "Friday",
          "TimeInMinutes": 924
         },
         {
          "Date": "2023-12-08T18:39:13",
          "DayName": "Friday",
          "TimeInMinutes": 1119
         },
         {
          "Date": "2023-12-08T20:41:03",
          "DayName": "Friday",
          "TimeInMinutes": 1241
         },
         {
          "Date": "2023-12-09T10:19:07",
          "DayName": "Saturday",
          "TimeInMinutes": 619
         },
         {
          "Date": "2023-12-09T17:48:08",
          "DayName": "Saturday",
          "TimeInMinutes": 1068
         },
         {
          "Date": "2023-12-09T21:04:03",
          "DayName": "Saturday",
          "TimeInMinutes": 1264
         },
         {
          "Date": "2023-12-10T10:01:08",
          "DayName": "Sunday",
          "TimeInMinutes": 601
         },
         {
          "Date": "2023-12-10T20:45:05",
          "DayName": "Sunday",
          "TimeInMinutes": 1245
         },
         {
          "Date": "2023-12-10T22:35:46",
          "DayName": "Sunday",
          "TimeInMinutes": 1355
         },
         {
          "Date": "2023-12-11T13:31:59",
          "DayName": "Monday",
          "TimeInMinutes": 811
         },
         {
          "Date": "2023-12-11T16:34:36",
          "DayName": "Monday",
          "TimeInMinutes": 994
         },
         {
          "Date": "2023-12-11T17:34:36",
          "DayName": "Monday",
          "TimeInMinutes": 1054
         },
         {
          "Date": "2023-12-12T10:32:34",
          "DayName": "Tuesday",
          "TimeInMinutes": 632
         },
         {
          "Date": "2023-12-12T11:39:30",
          "DayName": "Tuesday",
          "TimeInMinutes": 699
         },
         {
          "Date": "2023-12-12T14:41:31",
          "DayName": "Tuesday",
          "TimeInMinutes": 881
         },
         {
          "Date": "2023-12-12T16:32:00",
          "DayName": "Tuesday",
          "TimeInMinutes": 992
         },
         {
          "Date": "2023-12-12T16:36:02",
          "DayName": "Tuesday",
          "TimeInMinutes": 996
         },
         {
          "Date": "2023-12-12T16:36:53",
          "DayName": "Tuesday",
          "TimeInMinutes": 996
         },
         {
          "Date": "2023-12-13T12:31:24",
          "DayName": "Wednesday",
          "TimeInMinutes": 751
         },
         {
          "Date": "2023-12-14T10:38:05",
          "DayName": "Thursday",
          "TimeInMinutes": 638
         },
         {
          "Date": "2023-12-14T10:38:14",
          "DayName": "Thursday",
          "TimeInMinutes": 638
         },
         {
          "Date": "2023-12-14T10:43:59",
          "DayName": "Thursday",
          "TimeInMinutes": 643
         },
         {
          "Date": "2023-12-14T12:28:04",
          "DayName": "Thursday",
          "TimeInMinutes": 748
         },
         {
          "Date": "2023-12-14T13:55:40",
          "DayName": "Thursday",
          "TimeInMinutes": 835
         },
         {
          "Date": "2023-12-14T18:25:05",
          "DayName": "Thursday",
          "TimeInMinutes": 1105
         },
         {
          "Date": "2023-12-15T09:28:53",
          "DayName": "Friday",
          "TimeInMinutes": 568
         },
         {
          "Date": "2023-12-15T12:00:43",
          "DayName": "Friday",
          "TimeInMinutes": 720
         },
         {
          "Date": "2023-12-15T13:23:58",
          "DayName": "Friday",
          "TimeInMinutes": 803
         },
         {
          "Date": "2023-12-15T15:20:35",
          "DayName": "Friday",
          "TimeInMinutes": 920
         },
         {
          "Date": "2023-12-15T15:30:10",
          "DayName": "Friday",
          "TimeInMinutes": 930
         },
         {
          "Date": "2023-12-15T16:30:27",
          "DayName": "Friday",
          "TimeInMinutes": 990
         },
         {
          "Date": "2023-12-16T00:00:34",
          "DayName": "Saturday",
          "TimeInMinutes": 0
         }
        ]
       },
       "encoding": {
        "tooltip": [
         {
          "aggregate": "count",
          "type": "quantitative"
         }
        ],
        "x": {
         "axis": {
          "labelAngle": -90,
          "labelExpr": "utcFormat(utcParse(datum.value >= 60 ? floor(datum.value / 60) + ':' + datum.value % 60 : '0:' + datum.value, '%H:%M'), '%H:%M')",
          "tickCount": 48
         },
         "bin": {
          "step": 30
         },
         "field": "TimeInMinutes",
         "title": "Time",
         "type": "quantitative"
        },
        "y": {
         "aggregate": "count",
         "type": "quantitative"
        }
       },
       "height": 400,
       "mark": {
        "type": "bar"
       },
       "title": "Total Logins by Time",
       "width": 1200
      },
      "text/plain": [
       "<VegaLite 5 object>\n",
       "\n",
       "If you see this message, it means the renderer has not been properly enabled\n",
       "for the frontend that you are using. For more information, see\n",
       "https://altair-viz.github.io/user_guide/display_frontends.html#troubleshooting\n"
      ]
     },
     "execution_count": 4,
     "metadata": {},
     "output_type": "execute_result"
    }
   ],
   "source": [
    "login_datetime_df = pd.read_csv(\"data/final_data/ip_logs.csv\")\n",
    "login_datetime_df[\"Date\"] = login_datetime_df[\"Date\"].astype(\"datetime64[ns]\")\n",
    "\n",
    "login_datetime_df[\"TimeInMinutes\"] = login_datetime_df[\"Date\"].map(dt_to_min)\n",
    "\n",
    "chart_login_total = alt.Chart(login_datetime_df).mark_bar().encode(\n",
    "    x=alt.X(\"TimeInMinutes:Q\", title=\"Time\", bin=alt.Bin(step=30), axis=alt.Axis(tickCount=48, labelAngle=-90, labelExpr=\"utcFormat(utcParse(datum.value >= 60 ? floor(datum.value / 60) + ':' + datum.value % 60 : '0:' + datum.value, '%H:%M'), '%H:%M')\")), \n",
    "    y=alt.Y(\"count()\"),\n",
    "    tooltip=[\"count()\"],  # Show the count when hovering over the bar\n",
    ").properties(\n",
    "    width=1200,\n",
    "    height=400,\n",
    "    title=\"Total Logins by Time\",\n",
    ")\n",
    "\n",
    "chart_login_total = chart_login_total.configure(\n",
    "    padding={\"left\": 15, \"right\": 15, \"top\": 15, \"bottom\": 15},\n",
    "    title={\"fontSize\": 18},\n",
    ").configure_view(\n",
    "    stroke=None,\n",
    ").configure_axisX(\n",
    "    labelFontSize=13,\n",
    "    grid=False,  # Remove the grid\n",
    "    domainWidth=2,  # Set the width of the axis line\n",
    "    domainColor=\"#000\"  # Set the color of the axis line\n",
    ").configure_axisY(\n",
    "    labelFontSize=14,\n",
    "    titleFontSize=18,\n",
    "    domain=False,  # Remove the axis line\n",
    ")\n",
    "\n",
    "# Save the chart\n",
    "chart_login_total.save(\"figures/login_times/altair_login_total.html\")\n",
    "chart_login_total.save(\"figures/img/login_times/altair_login_total.png\")\n",
    "\n",
    "chart_login_total"
   ]
  },
  {
   "cell_type": "markdown",
   "id": "8d052b30",
   "metadata": {},
   "source": [
    "### Logins by Weekdays\n",
    "\n",
    "Instead of looking my login times in total, I will look at them in daily basis. I will count the logins in 30 minute intervals and visualize in bar chart to see at what times I am active."
   ]
  },
  {
   "cell_type": "code",
   "execution_count": 5,
   "id": "cfcb51d9",
   "metadata": {},
   "outputs": [
    {
     "data": {
      "application/vnd.vegalite.v5+json": {
       "$schema": "https://vega.github.io/schema/vega-lite/v5.16.3.json",
       "config": {
        "axisX": {
         "domainColor": "#000",
         "domainWidth": 2,
         "grid": false,
         "labelFontSize": 13
        },
        "axisY": {
         "domain": false,
         "labelFontSize": 14,
         "titleFontSize": 18
        },
        "padding": {
         "bottom": 15,
         "left": 15,
         "right": 15,
         "top": 15
        },
        "title": {
         "fontSize": 18
        },
        "view": {
         "continuousHeight": 300,
         "continuousWidth": 300,
         "stroke": null
        }
       },
       "datasets": {
        "data-00361613f7ee746a02039d8efd6aa4c7": [
         {
          "Time": 875,
          "code": "ENS 208",
          "endTime": "15:30",
          "name": "Introduction to Industrial Engineering",
          "startTime": "13:40"
         },
         {
          "Time": 1055,
          "code": "CS 204",
          "endTime": "18:30",
          "name": "Advanced Programming",
          "startTime": "16:40"
         }
        ],
        "data-0d5388a9e41508a6ecc26874b97b8d6d": [
         {
          "Time": 695,
          "code": "ECON 202",
          "endTime": "12:30",
          "name": "Macroeconomics",
          "startTime": "10:40"
         },
         {
          "Time": 905,
          "code": "MATH 204",
          "endTime": "15:30",
          "name": "Discrete Mathematics",
          "startTime": "14:40"
         },
         {
          "Time": 1055,
          "code": "CS 210R",
          "endTime": "18:30",
          "name": "Introduction to Data Science - Recitation",
          "startTime": "16:40"
         }
        ],
        "data-0f4b6b568a48ff19fce4c54988384776": [
         {
          "Time": 695,
          "code": "MATH 204",
          "endTime": "12:30",
          "name": "Discrete Mathematics",
          "startTime": "10:40"
         },
         {
          "Time": 785,
          "code": "ECON 202",
          "endTime": "13:30",
          "name": "Macroeconomics",
          "startTime": "12:40"
         }
        ],
        "data-1453bf1e54ab737f342655065096405e": [
         {
          "Date": "2023-10-04T00:09:39",
          "DayName": "Wednesday",
          "Time": 9,
          "TimeInMinutes": 9
         },
         {
          "Date": "2023-10-04T09:52:02",
          "DayName": "Wednesday",
          "Time": 592,
          "TimeInMinutes": 592
         },
         {
          "Date": "2023-10-04T12:29:48",
          "DayName": "Wednesday",
          "Time": 749,
          "TimeInMinutes": 749
         },
         {
          "Date": "2023-10-04T22:18:50",
          "DayName": "Wednesday",
          "Time": 1338,
          "TimeInMinutes": 1338
         },
         {
          "Date": "2023-10-11T08:51:50",
          "DayName": "Wednesday",
          "Time": 531,
          "TimeInMinutes": 531
         },
         {
          "Date": "2023-10-11T10:34:48",
          "DayName": "Wednesday",
          "Time": 634,
          "TimeInMinutes": 634
         },
         {
          "Date": "2023-10-11T12:39:01",
          "DayName": "Wednesday",
          "Time": 759,
          "TimeInMinutes": 759
         },
         {
          "Date": "2023-10-11T14:04:37",
          "DayName": "Wednesday",
          "Time": 844,
          "TimeInMinutes": 844
         },
         {
          "Date": "2023-10-11T14:38:00",
          "DayName": "Wednesday",
          "Time": 878,
          "TimeInMinutes": 878
         },
         {
          "Date": "2023-10-11T15:35:33",
          "DayName": "Wednesday",
          "Time": 935,
          "TimeInMinutes": 935
         },
         {
          "Date": "2023-10-11T20:19:26",
          "DayName": "Wednesday",
          "Time": 1219,
          "TimeInMinutes": 1219
         },
         {
          "Date": "2023-10-18T09:18:29",
          "DayName": "Wednesday",
          "Time": 558,
          "TimeInMinutes": 558
         },
         {
          "Date": "2023-10-18T10:26:03",
          "DayName": "Wednesday",
          "Time": 626,
          "TimeInMinutes": 626
         },
         {
          "Date": "2023-10-18T11:34:54",
          "DayName": "Wednesday",
          "Time": 694,
          "TimeInMinutes": 694
         },
         {
          "Date": "2023-10-18T14:55:17",
          "DayName": "Wednesday",
          "Time": 895,
          "TimeInMinutes": 895
         },
         {
          "Date": "2023-10-18T15:27:56",
          "DayName": "Wednesday",
          "Time": 927,
          "TimeInMinutes": 927
         },
         {
          "Date": "2023-10-18T16:07:32",
          "DayName": "Wednesday",
          "Time": 967,
          "TimeInMinutes": 967
         },
         {
          "Date": "2023-10-18T17:44:18",
          "DayName": "Wednesday",
          "Time": 1064,
          "TimeInMinutes": 1064
         },
         {
          "Date": "2023-10-18T20:31:52",
          "DayName": "Wednesday",
          "Time": 1231,
          "TimeInMinutes": 1231
         },
         {
          "Date": "2023-10-25T08:16:18",
          "DayName": "Wednesday",
          "Time": 496,
          "TimeInMinutes": 496
         },
         {
          "Date": "2023-10-25T14:36:42",
          "DayName": "Wednesday",
          "Time": 876,
          "TimeInMinutes": 876
         },
         {
          "Date": "2023-10-25T15:40:43",
          "DayName": "Wednesday",
          "Time": 940,
          "TimeInMinutes": 940
         },
         {
          "Date": "2023-10-25T15:41:16",
          "DayName": "Wednesday",
          "Time": 941,
          "TimeInMinutes": 941
         },
         {
          "Date": "2023-10-25T23:03:37",
          "DayName": "Wednesday",
          "Time": 1383,
          "TimeInMinutes": 1383
         },
         {
          "Date": "2023-11-01T11:47:21",
          "DayName": "Wednesday",
          "Time": 707,
          "TimeInMinutes": 707
         },
         {
          "Date": "2023-11-01T12:22:57",
          "DayName": "Wednesday",
          "Time": 742,
          "TimeInMinutes": 742
         },
         {
          "Date": "2023-11-01T12:28:03",
          "DayName": "Wednesday",
          "Time": 748,
          "TimeInMinutes": 748
         },
         {
          "Date": "2023-11-01T13:58:49",
          "DayName": "Wednesday",
          "Time": 838,
          "TimeInMinutes": 838
         },
         {
          "Date": "2023-11-01T14:01:55",
          "DayName": "Wednesday",
          "Time": 841,
          "TimeInMinutes": 841
         },
         {
          "Date": "2023-11-01T20:15:41",
          "DayName": "Wednesday",
          "Time": 1215,
          "TimeInMinutes": 1215
         },
         {
          "Date": "2023-11-08T12:34:38",
          "DayName": "Wednesday",
          "Time": 754,
          "TimeInMinutes": 754
         },
         {
          "Date": "2023-11-08T18:19:49",
          "DayName": "Wednesday",
          "Time": 1099,
          "TimeInMinutes": 1099
         },
         {
          "Date": "2023-11-08T19:33:54",
          "DayName": "Wednesday",
          "Time": 1173,
          "TimeInMinutes": 1173
         },
         {
          "Date": "2023-11-08T21:25:16",
          "DayName": "Wednesday",
          "Time": 1285,
          "TimeInMinutes": 1285
         },
         {
          "Date": "2023-11-15T10:06:57",
          "DayName": "Wednesday",
          "Time": 606,
          "TimeInMinutes": 606
         },
         {
          "Date": "2023-11-15T13:22:33",
          "DayName": "Wednesday",
          "Time": 802,
          "TimeInMinutes": 802
         },
         {
          "Date": "2023-11-15T16:05:02",
          "DayName": "Wednesday",
          "Time": 965,
          "TimeInMinutes": 965
         },
         {
          "Date": "2023-11-15T18:44:28",
          "DayName": "Wednesday",
          "Time": 1124,
          "TimeInMinutes": 1124
         },
         {
          "Date": "2023-11-15T19:26:48",
          "DayName": "Wednesday",
          "Time": 1166,
          "TimeInMinutes": 1166
         },
         {
          "Date": "2023-11-15T21:07:08",
          "DayName": "Wednesday",
          "Time": 1267,
          "TimeInMinutes": 1267
         },
         {
          "Date": "2023-11-15T21:44:10",
          "DayName": "Wednesday",
          "Time": 1304,
          "TimeInMinutes": 1304
         },
         {
          "Date": "2023-11-15T21:52:58",
          "DayName": "Wednesday",
          "Time": 1312,
          "TimeInMinutes": 1312
         },
         {
          "Date": "2023-11-22T00:06:56",
          "DayName": "Wednesday",
          "Time": 6,
          "TimeInMinutes": 6
         },
         {
          "Date": "2023-11-22T09:06:19",
          "DayName": "Wednesday",
          "Time": 546,
          "TimeInMinutes": 546
         },
         {
          "Date": "2023-11-22T13:54:30",
          "DayName": "Wednesday",
          "Time": 834,
          "TimeInMinutes": 834
         },
         {
          "Date": "2023-11-22T17:09:36",
          "DayName": "Wednesday",
          "Time": 1029,
          "TimeInMinutes": 1029
         },
         {
          "Date": "2023-11-22T19:06:30",
          "DayName": "Wednesday",
          "Time": 1146,
          "TimeInMinutes": 1146
         },
         {
          "Date": "2023-11-29T12:32:48",
          "DayName": "Wednesday",
          "Time": 752,
          "TimeInMinutes": 752
         },
         {
          "Date": "2023-11-29T14:33:46",
          "DayName": "Wednesday",
          "Time": 873,
          "TimeInMinutes": 873
         },
         {
          "Date": "2023-11-29T16:10:09",
          "DayName": "Wednesday",
          "Time": 970,
          "TimeInMinutes": 970
         },
         {
          "Date": "2023-11-29T16:35:29",
          "DayName": "Wednesday",
          "Time": 995,
          "TimeInMinutes": 995
         },
         {
          "Date": "2023-11-29T20:42:38",
          "DayName": "Wednesday",
          "Time": 1242,
          "TimeInMinutes": 1242
         },
         {
          "Date": "2023-12-06T12:30:21",
          "DayName": "Wednesday",
          "Time": 750,
          "TimeInMinutes": 750
         },
         {
          "Date": "2023-12-06T12:31:30",
          "DayName": "Wednesday",
          "Time": 751,
          "TimeInMinutes": 751
         },
         {
          "Date": "2023-12-06T17:17:01",
          "DayName": "Wednesday",
          "Time": 1037,
          "TimeInMinutes": 1037
         },
         {
          "Date": "2023-12-06T22:05:02",
          "DayName": "Wednesday",
          "Time": 1325,
          "TimeInMinutes": 1325
         },
         {
          "Date": "2023-12-06T22:10:14",
          "DayName": "Wednesday",
          "Time": 1330,
          "TimeInMinutes": 1330
         },
         {
          "Date": "2023-12-13T12:31:24",
          "DayName": "Wednesday",
          "Time": 751,
          "TimeInMinutes": 751
         }
        ],
        "data-1f46937b5106501505b41aeaacd51d53": [
         {
          "Date": "2023-10-01T08:14:12",
          "DayName": "Sunday",
          "Time": 494,
          "TimeInMinutes": 494
         },
         {
          "Date": "2023-10-01T10:17:16",
          "DayName": "Sunday",
          "Time": 617,
          "TimeInMinutes": 617
         },
         {
          "Date": "2023-10-01T11:21:22",
          "DayName": "Sunday",
          "Time": 681,
          "TimeInMinutes": 681
         },
         {
          "Date": "2023-10-01T15:10:02",
          "DayName": "Sunday",
          "Time": 910,
          "TimeInMinutes": 910
         },
         {
          "Date": "2023-10-01T20:25:31",
          "DayName": "Sunday",
          "Time": 1225,
          "TimeInMinutes": 1225
         },
         {
          "Date": "2023-10-01T21:29:08",
          "DayName": "Sunday",
          "Time": 1289,
          "TimeInMinutes": 1289
         },
         {
          "Date": "2023-10-08T04:44:08",
          "DayName": "Sunday",
          "Time": 284,
          "TimeInMinutes": 284
         },
         {
          "Date": "2023-10-08T06:32:48",
          "DayName": "Sunday",
          "Time": 392,
          "TimeInMinutes": 392
         },
         {
          "Date": "2023-10-08T07:37:26",
          "DayName": "Sunday",
          "Time": 457,
          "TimeInMinutes": 457
         },
         {
          "Date": "2023-10-08T08:43:34",
          "DayName": "Sunday",
          "Time": 523,
          "TimeInMinutes": 523
         },
         {
          "Date": "2023-10-08T10:01:00",
          "DayName": "Sunday",
          "Time": 601,
          "TimeInMinutes": 601
         },
         {
          "Date": "2023-10-08T14:12:35",
          "DayName": "Sunday",
          "Time": 852,
          "TimeInMinutes": 852
         },
         {
          "Date": "2023-10-08T14:31:15",
          "DayName": "Sunday",
          "Time": 871,
          "TimeInMinutes": 871
         },
         {
          "Date": "2023-10-08T17:30:29",
          "DayName": "Sunday",
          "Time": 1050,
          "TimeInMinutes": 1050
         },
         {
          "Date": "2023-10-08T17:44:46",
          "DayName": "Sunday",
          "Time": 1064,
          "TimeInMinutes": 1064
         },
         {
          "Date": "2023-10-08T19:01:56",
          "DayName": "Sunday",
          "Time": 1141,
          "TimeInMinutes": 1141
         },
         {
          "Date": "2023-10-08T20:20:05",
          "DayName": "Sunday",
          "Time": 1220,
          "TimeInMinutes": 1220
         },
         {
          "Date": "2023-10-08T21:24:51",
          "DayName": "Sunday",
          "Time": 1284,
          "TimeInMinutes": 1284
         },
         {
          "Date": "2023-10-08T23:26:44",
          "DayName": "Sunday",
          "Time": 1406,
          "TimeInMinutes": 1406
         },
         {
          "Date": "2023-10-15T14:33:48",
          "DayName": "Sunday",
          "Time": 873,
          "TimeInMinutes": 873
         },
         {
          "Date": "2023-10-15T15:49:25",
          "DayName": "Sunday",
          "Time": 949,
          "TimeInMinutes": 949
         },
         {
          "Date": "2023-10-15T17:34:37",
          "DayName": "Sunday",
          "Time": 1054,
          "TimeInMinutes": 1054
         },
         {
          "Date": "2023-10-15T18:35:11",
          "DayName": "Sunday",
          "Time": 1115,
          "TimeInMinutes": 1115
         },
         {
          "Date": "2023-10-22T13:06:52",
          "DayName": "Sunday",
          "Time": 786,
          "TimeInMinutes": 786
         },
         {
          "Date": "2023-10-22T14:07:11",
          "DayName": "Sunday",
          "Time": 847,
          "TimeInMinutes": 847
         },
         {
          "Date": "2023-10-22T15:14:17",
          "DayName": "Sunday",
          "Time": 914,
          "TimeInMinutes": 914
         },
         {
          "Date": "2023-10-22T16:36:49",
          "DayName": "Sunday",
          "Time": 996,
          "TimeInMinutes": 996
         },
         {
          "Date": "2023-10-22T18:16:46",
          "DayName": "Sunday",
          "Time": 1096,
          "TimeInMinutes": 1096
         },
         {
          "Date": "2023-10-22T22:11:55",
          "DayName": "Sunday",
          "Time": 1331,
          "TimeInMinutes": 1331
         },
         {
          "Date": "2023-10-29T00:23:05",
          "DayName": "Sunday",
          "Time": 23,
          "TimeInMinutes": 23
         },
         {
          "Date": "2023-10-29T07:08:39",
          "DayName": "Sunday",
          "Time": 428,
          "TimeInMinutes": 428
         },
         {
          "Date": "2023-10-29T08:48:41",
          "DayName": "Sunday",
          "Time": 528,
          "TimeInMinutes": 528
         },
         {
          "Date": "2023-10-29T10:54:04",
          "DayName": "Sunday",
          "Time": 654,
          "TimeInMinutes": 654
         },
         {
          "Date": "2023-10-29T13:38:39",
          "DayName": "Sunday",
          "Time": 818,
          "TimeInMinutes": 818
         },
         {
          "Date": "2023-10-29T15:18:54",
          "DayName": "Sunday",
          "Time": 918,
          "TimeInMinutes": 918
         },
         {
          "Date": "2023-10-29T16:44:43",
          "DayName": "Sunday",
          "Time": 1004,
          "TimeInMinutes": 1004
         },
         {
          "Date": "2023-10-29T17:47:45",
          "DayName": "Sunday",
          "Time": 1067,
          "TimeInMinutes": 1067
         },
         {
          "Date": "2023-10-29T18:58:42",
          "DayName": "Sunday",
          "Time": 1138,
          "TimeInMinutes": 1138
         },
         {
          "Date": "2023-10-29T19:44:06",
          "DayName": "Sunday",
          "Time": 1184,
          "TimeInMinutes": 1184
         },
         {
          "Date": "2023-10-29T20:47:25",
          "DayName": "Sunday",
          "Time": 1247,
          "TimeInMinutes": 1247
         },
         {
          "Date": "2023-10-29T21:07:45",
          "DayName": "Sunday",
          "Time": 1267,
          "TimeInMinutes": 1267
         },
         {
          "Date": "2023-10-29T22:04:44",
          "DayName": "Sunday",
          "Time": 1324,
          "TimeInMinutes": 1324
         },
         {
          "Date": "2023-11-05T20:22:44",
          "DayName": "Sunday",
          "Time": 1222,
          "TimeInMinutes": 1222
         },
         {
          "Date": "2023-11-12T11:21:49",
          "DayName": "Sunday",
          "Time": 681,
          "TimeInMinutes": 681
         },
         {
          "Date": "2023-11-12T14:23:39",
          "DayName": "Sunday",
          "Time": 863,
          "TimeInMinutes": 863
         },
         {
          "Date": "2023-11-12T15:43:41",
          "DayName": "Sunday",
          "Time": 943,
          "TimeInMinutes": 943
         },
         {
          "Date": "2023-11-12T23:43:22",
          "DayName": "Sunday",
          "Time": 1423,
          "TimeInMinutes": 1423
         },
         {
          "Date": "2023-11-19T09:33:25",
          "DayName": "Sunday",
          "Time": 573,
          "TimeInMinutes": 573
         },
         {
          "Date": "2023-11-19T17:05:45",
          "DayName": "Sunday",
          "Time": 1025,
          "TimeInMinutes": 1025
         },
         {
          "Date": "2023-11-19T20:15:00",
          "DayName": "Sunday",
          "Time": 1215,
          "TimeInMinutes": 1215
         },
         {
          "Date": "2023-11-26T10:30:21",
          "DayName": "Sunday",
          "Time": 630,
          "TimeInMinutes": 630
         },
         {
          "Date": "2023-11-26T20:25:54",
          "DayName": "Sunday",
          "Time": 1225,
          "TimeInMinutes": 1225
         },
         {
          "Date": "2023-12-03T13:03:06",
          "DayName": "Sunday",
          "Time": 783,
          "TimeInMinutes": 783
         },
         {
          "Date": "2023-12-03T19:54:31",
          "DayName": "Sunday",
          "Time": 1194,
          "TimeInMinutes": 1194
         },
         {
          "Date": "2023-12-03T21:09:59",
          "DayName": "Sunday",
          "Time": 1269,
          "TimeInMinutes": 1269
         },
         {
          "Date": "2023-12-10T10:01:08",
          "DayName": "Sunday",
          "Time": 601,
          "TimeInMinutes": 601
         },
         {
          "Date": "2023-12-10T20:45:05",
          "DayName": "Sunday",
          "Time": 1245,
          "TimeInMinutes": 1245
         },
         {
          "Date": "2023-12-10T22:35:46",
          "DayName": "Sunday",
          "Time": 1355,
          "TimeInMinutes": 1355
         }
        ],
        "data-32c287de6566b0f3022bb40033c6afe8": [
         {
          "Date": "2023-10-03T10:02:16",
          "DayName": "Tuesday",
          "Time": 602,
          "TimeInMinutes": 602
         },
         {
          "Date": "2023-10-03T11:15:17",
          "DayName": "Tuesday",
          "Time": 675,
          "TimeInMinutes": 675
         },
         {
          "Date": "2023-10-03T14:25:50",
          "DayName": "Tuesday",
          "Time": 865,
          "TimeInMinutes": 865
         },
         {
          "Date": "2023-10-03T14:28:49",
          "DayName": "Tuesday",
          "Time": 868,
          "TimeInMinutes": 868
         },
         {
          "Date": "2023-10-03T21:55:40",
          "DayName": "Tuesday",
          "Time": 1315,
          "TimeInMinutes": 1315
         },
         {
          "Date": "2023-10-03T22:56:28",
          "DayName": "Tuesday",
          "Time": 1376,
          "TimeInMinutes": 1376
         },
         {
          "Date": "2023-10-10T09:22:45",
          "DayName": "Tuesday",
          "Time": 562,
          "TimeInMinutes": 562
         },
         {
          "Date": "2023-10-10T10:37:46",
          "DayName": "Tuesday",
          "Time": 637,
          "TimeInMinutes": 637
         },
         {
          "Date": "2023-10-10T10:37:48",
          "DayName": "Tuesday",
          "Time": 637,
          "TimeInMinutes": 637
         },
         {
          "Date": "2023-10-10T11:37:50",
          "DayName": "Tuesday",
          "Time": 697,
          "TimeInMinutes": 697
         },
         {
          "Date": "2023-10-10T12:43:20",
          "DayName": "Tuesday",
          "Time": 763,
          "TimeInMinutes": 763
         },
         {
          "Date": "2023-10-10T14:41:42",
          "DayName": "Tuesday",
          "Time": 881,
          "TimeInMinutes": 881
         },
         {
          "Date": "2023-10-10T15:41:51",
          "DayName": "Tuesday",
          "Time": 941,
          "TimeInMinutes": 941
         },
         {
          "Date": "2023-10-10T18:29:38",
          "DayName": "Tuesday",
          "Time": 1109,
          "TimeInMinutes": 1109
         },
         {
          "Date": "2023-10-17T03:50:24",
          "DayName": "Tuesday",
          "Time": 230,
          "TimeInMinutes": 230
         },
         {
          "Date": "2023-10-17T14:28:45",
          "DayName": "Tuesday",
          "Time": 868,
          "TimeInMinutes": 868
         },
         {
          "Date": "2023-10-17T15:31:01",
          "DayName": "Tuesday",
          "Time": 931,
          "TimeInMinutes": 931
         },
         {
          "Date": "2023-10-17T17:00:25",
          "DayName": "Tuesday",
          "Time": 1020,
          "TimeInMinutes": 1020
         },
         {
          "Date": "2023-10-17T18:48:59",
          "DayName": "Tuesday",
          "Time": 1128,
          "TimeInMinutes": 1128
         },
         {
          "Date": "2023-10-17T19:22:07",
          "DayName": "Tuesday",
          "Time": 1162,
          "TimeInMinutes": 1162
         },
         {
          "Date": "2023-10-24T11:37:32",
          "DayName": "Tuesday",
          "Time": 697,
          "TimeInMinutes": 697
         },
         {
          "Date": "2023-10-24T15:59:16",
          "DayName": "Tuesday",
          "Time": 959,
          "TimeInMinutes": 959
         },
         {
          "Date": "2023-10-31T04:39:29",
          "DayName": "Tuesday",
          "Time": 279,
          "TimeInMinutes": 279
         },
         {
          "Date": "2023-10-31T08:05:45",
          "DayName": "Tuesday",
          "Time": 485,
          "TimeInMinutes": 485
         },
         {
          "Date": "2023-10-31T10:39:39",
          "DayName": "Tuesday",
          "Time": 639,
          "TimeInMinutes": 639
         },
         {
          "Date": "2023-10-31T15:37:25",
          "DayName": "Tuesday",
          "Time": 937,
          "TimeInMinutes": 937
         },
         {
          "Date": "2023-10-31T16:33:43",
          "DayName": "Tuesday",
          "Time": 993,
          "TimeInMinutes": 993
         },
         {
          "Date": "2023-11-07T08:26:23",
          "DayName": "Tuesday",
          "Time": 506,
          "TimeInMinutes": 506
         },
         {
          "Date": "2023-11-07T10:36:50",
          "DayName": "Tuesday",
          "Time": 636,
          "TimeInMinutes": 636
         },
         {
          "Date": "2023-11-07T11:40:29",
          "DayName": "Tuesday",
          "Time": 700,
          "TimeInMinutes": 700
         },
         {
          "Date": "2023-11-07T16:55:57",
          "DayName": "Tuesday",
          "Time": 1015,
          "TimeInMinutes": 1015
         },
         {
          "Date": "2023-11-07T18:42:42",
          "DayName": "Tuesday",
          "Time": 1122,
          "TimeInMinutes": 1122
         },
         {
          "Date": "2023-11-07T23:03:26",
          "DayName": "Tuesday",
          "Time": 1383,
          "TimeInMinutes": 1383
         },
         {
          "Date": "2023-11-14T11:31:32",
          "DayName": "Tuesday",
          "Time": 691,
          "TimeInMinutes": 691
         },
         {
          "Date": "2023-11-14T12:40:46",
          "DayName": "Tuesday",
          "Time": 760,
          "TimeInMinutes": 760
         },
         {
          "Date": "2023-11-14T14:34:55",
          "DayName": "Tuesday",
          "Time": 874,
          "TimeInMinutes": 874
         },
         {
          "Date": "2023-11-14T15:43:24",
          "DayName": "Tuesday",
          "Time": 943,
          "TimeInMinutes": 943
         },
         {
          "Date": "2023-11-14T16:26:26",
          "DayName": "Tuesday",
          "Time": 986,
          "TimeInMinutes": 986
         },
         {
          "Date": "2023-11-14T17:42:02",
          "DayName": "Tuesday",
          "Time": 1062,
          "TimeInMinutes": 1062
         },
         {
          "Date": "2023-11-14T18:43:27",
          "DayName": "Tuesday",
          "Time": 1123,
          "TimeInMinutes": 1123
         },
         {
          "Date": "2023-11-14T19:27:40",
          "DayName": "Tuesday",
          "Time": 1167,
          "TimeInMinutes": 1167
         },
         {
          "Date": "2023-11-14T21:10:36",
          "DayName": "Tuesday",
          "Time": 1270,
          "TimeInMinutes": 1270
         },
         {
          "Date": "2023-11-14T21:56:07",
          "DayName": "Tuesday",
          "Time": 1316,
          "TimeInMinutes": 1316
         },
         {
          "Date": "2023-11-14T22:43:53",
          "DayName": "Tuesday",
          "Time": 1363,
          "TimeInMinutes": 1363
         },
         {
          "Date": "2023-11-14T22:59:09",
          "DayName": "Tuesday",
          "Time": 1379,
          "TimeInMinutes": 1379
         },
         {
          "Date": "2023-11-21T00:02:41",
          "DayName": "Tuesday",
          "Time": 2,
          "TimeInMinutes": 2
         },
         {
          "Date": "2023-11-21T10:01:47",
          "DayName": "Tuesday",
          "Time": 601,
          "TimeInMinutes": 601
         },
         {
          "Date": "2023-11-21T14:18:24",
          "DayName": "Tuesday",
          "Time": 858,
          "TimeInMinutes": 858
         },
         {
          "Date": "2023-11-21T16:06:16",
          "DayName": "Tuesday",
          "Time": 966,
          "TimeInMinutes": 966
         },
         {
          "Date": "2023-11-21T16:33:38",
          "DayName": "Tuesday",
          "Time": 993,
          "TimeInMinutes": 993
         },
         {
          "Date": "2023-11-21T17:57:44",
          "DayName": "Tuesday",
          "Time": 1077,
          "TimeInMinutes": 1077
         },
         {
          "Date": "2023-11-28T10:37:27",
          "DayName": "Tuesday",
          "Time": 637,
          "TimeInMinutes": 637
         },
         {
          "Date": "2023-11-28T11:37:51",
          "DayName": "Tuesday",
          "Time": 697,
          "TimeInMinutes": 697
         },
         {
          "Date": "2023-12-05T11:32:51",
          "DayName": "Tuesday",
          "Time": 692,
          "TimeInMinutes": 692
         },
         {
          "Date": "2023-12-05T14:34:18",
          "DayName": "Tuesday",
          "Time": 874,
          "TimeInMinutes": 874
         },
         {
          "Date": "2023-12-05T17:10:46",
          "DayName": "Tuesday",
          "Time": 1030,
          "TimeInMinutes": 1030
         },
         {
          "Date": "2023-12-05T22:00:10",
          "DayName": "Tuesday",
          "Time": 1320,
          "TimeInMinutes": 1320
         },
         {
          "Date": "2023-12-12T10:32:34",
          "DayName": "Tuesday",
          "Time": 632,
          "TimeInMinutes": 632
         },
         {
          "Date": "2023-12-12T11:39:30",
          "DayName": "Tuesday",
          "Time": 699,
          "TimeInMinutes": 699
         },
         {
          "Date": "2023-12-12T14:41:31",
          "DayName": "Tuesday",
          "Time": 881,
          "TimeInMinutes": 881
         },
         {
          "Date": "2023-12-12T16:32:00",
          "DayName": "Tuesday",
          "Time": 992,
          "TimeInMinutes": 992
         },
         {
          "Date": "2023-12-12T16:36:02",
          "DayName": "Tuesday",
          "Time": 996,
          "TimeInMinutes": 996
         },
         {
          "Date": "2023-12-12T16:36:53",
          "DayName": "Tuesday",
          "Time": 996,
          "TimeInMinutes": 996
         }
        ],
        "data-58b76775f32688e61a0cbcf44bb0cb73": [
         {
          "Date": "2023-10-02T08:23:14",
          "DayName": "Monday",
          "Time": 503,
          "TimeInMinutes": 503
         },
         {
          "Date": "2023-10-02T10:04:27",
          "DayName": "Monday",
          "Time": 604,
          "TimeInMinutes": 604
         },
         {
          "Date": "2023-10-02T11:11:19",
          "DayName": "Monday",
          "Time": 671,
          "TimeInMinutes": 671
         },
         {
          "Date": "2023-10-02T12:20:35",
          "DayName": "Monday",
          "Time": 740,
          "TimeInMinutes": 740
         },
         {
          "Date": "2023-10-02T13:27:57",
          "DayName": "Monday",
          "Time": 807,
          "TimeInMinutes": 807
         },
         {
          "Date": "2023-10-02T15:43:30",
          "DayName": "Monday",
          "Time": 943,
          "TimeInMinutes": 943
         },
         {
          "Date": "2023-10-09T00:38:04",
          "DayName": "Monday",
          "Time": 38,
          "TimeInMinutes": 38
         },
         {
          "Date": "2023-10-09T04:55:29",
          "DayName": "Monday",
          "Time": 295,
          "TimeInMinutes": 295
         },
         {
          "Date": "2023-10-09T08:21:18",
          "DayName": "Monday",
          "Time": 501,
          "TimeInMinutes": 501
         },
         {
          "Date": "2023-10-09T12:07:34",
          "DayName": "Monday",
          "Time": 727,
          "TimeInMinutes": 727
         },
         {
          "Date": "2023-10-09T13:29:59",
          "DayName": "Monday",
          "Time": 809,
          "TimeInMinutes": 809
         },
         {
          "Date": "2023-10-09T14:33:49",
          "DayName": "Monday",
          "Time": 873,
          "TimeInMinutes": 873
         },
         {
          "Date": "2023-10-09T15:53:13",
          "DayName": "Monday",
          "Time": 953,
          "TimeInMinutes": 953
         },
         {
          "Date": "2023-10-09T17:31:26",
          "DayName": "Monday",
          "Time": 1051,
          "TimeInMinutes": 1051
         },
         {
          "Date": "2023-10-16T15:19:38",
          "DayName": "Monday",
          "Time": 919,
          "TimeInMinutes": 919
         },
         {
          "Date": "2023-10-16T16:44:18",
          "DayName": "Monday",
          "Time": 1004,
          "TimeInMinutes": 1004
         },
         {
          "Date": "2023-10-23T13:36:39",
          "DayName": "Monday",
          "Time": 816,
          "TimeInMinutes": 816
         },
         {
          "Date": "2023-10-23T14:28:20",
          "DayName": "Monday",
          "Time": 868,
          "TimeInMinutes": 868
         },
         {
          "Date": "2023-10-23T14:34:09",
          "DayName": "Monday",
          "Time": 874,
          "TimeInMinutes": 874
         },
         {
          "Date": "2023-10-23T15:22:19",
          "DayName": "Monday",
          "Time": 922,
          "TimeInMinutes": 922
         },
         {
          "Date": "2023-10-23T16:52:28",
          "DayName": "Monday",
          "Time": 1012,
          "TimeInMinutes": 1012
         },
         {
          "Date": "2023-10-23T18:26:37",
          "DayName": "Monday",
          "Time": 1106,
          "TimeInMinutes": 1106
         },
         {
          "Date": "2023-10-30T02:44:38",
          "DayName": "Monday",
          "Time": 164,
          "TimeInMinutes": 164
         },
         {
          "Date": "2023-10-30T08:20:06",
          "DayName": "Monday",
          "Time": 500,
          "TimeInMinutes": 500
         },
         {
          "Date": "2023-10-30T14:12:51",
          "DayName": "Monday",
          "Time": 852,
          "TimeInMinutes": 852
         },
         {
          "Date": "2023-10-30T16:45:28",
          "DayName": "Monday",
          "Time": 1005,
          "TimeInMinutes": 1005
         },
         {
          "Date": "2023-10-30T18:32:39",
          "DayName": "Monday",
          "Time": 1112,
          "TimeInMinutes": 1112
         },
         {
          "Date": "2023-11-06T08:34:52",
          "DayName": "Monday",
          "Time": 514,
          "TimeInMinutes": 514
         },
         {
          "Date": "2023-11-06T11:39:29",
          "DayName": "Monday",
          "Time": 699,
          "TimeInMinutes": 699
         },
         {
          "Date": "2023-11-06T11:42:26",
          "DayName": "Monday",
          "Time": 702,
          "TimeInMinutes": 702
         },
         {
          "Date": "2023-11-06T16:31:05",
          "DayName": "Monday",
          "Time": 991,
          "TimeInMinutes": 991
         },
         {
          "Date": "2023-11-06T16:31:06",
          "DayName": "Monday",
          "Time": 991,
          "TimeInMinutes": 991
         },
         {
          "Date": "2023-11-13T00:18:20",
          "DayName": "Monday",
          "Time": 18,
          "TimeInMinutes": 18
         },
         {
          "Date": "2023-11-13T18:52:49",
          "DayName": "Monday",
          "Time": 1132,
          "TimeInMinutes": 1132
         },
         {
          "Date": "2023-11-13T19:16:39",
          "DayName": "Monday",
          "Time": 1156,
          "TimeInMinutes": 1156
         },
         {
          "Date": "2023-11-20T09:55:52",
          "DayName": "Monday",
          "Time": 595,
          "TimeInMinutes": 595
         },
         {
          "Date": "2023-11-20T10:19:39",
          "DayName": "Monday",
          "Time": 619,
          "TimeInMinutes": 619
         },
         {
          "Date": "2023-11-20T11:15:21",
          "DayName": "Monday",
          "Time": 675,
          "TimeInMinutes": 675
         },
         {
          "Date": "2023-11-20T12:19:24",
          "DayName": "Monday",
          "Time": 739,
          "TimeInMinutes": 739
         },
         {
          "Date": "2023-11-20T12:50:02",
          "DayName": "Monday",
          "Time": 770,
          "TimeInMinutes": 770
         },
         {
          "Date": "2023-11-20T14:06:39",
          "DayName": "Monday",
          "Time": 846,
          "TimeInMinutes": 846
         },
         {
          "Date": "2023-11-20T15:30:09",
          "DayName": "Monday",
          "Time": 930,
          "TimeInMinutes": 930
         },
         {
          "Date": "2023-11-20T17:04:47",
          "DayName": "Monday",
          "Time": 1024,
          "TimeInMinutes": 1024
         },
         {
          "Date": "2023-11-20T18:15:04",
          "DayName": "Monday",
          "Time": 1095,
          "TimeInMinutes": 1095
         },
         {
          "Date": "2023-11-20T19:29:55",
          "DayName": "Monday",
          "Time": 1169,
          "TimeInMinutes": 1169
         },
         {
          "Date": "2023-11-20T20:22:57",
          "DayName": "Monday",
          "Time": 1222,
          "TimeInMinutes": 1222
         },
         {
          "Date": "2023-11-20T22:06:33",
          "DayName": "Monday",
          "Time": 1326,
          "TimeInMinutes": 1326
         },
         {
          "Date": "2023-11-27T15:18:23",
          "DayName": "Monday",
          "Time": 918,
          "TimeInMinutes": 918
         },
         {
          "Date": "2023-11-27T16:30:41",
          "DayName": "Monday",
          "Time": 990,
          "TimeInMinutes": 990
         },
         {
          "Date": "2023-12-04T13:38:44",
          "DayName": "Monday",
          "Time": 818,
          "TimeInMinutes": 818
         },
         {
          "Date": "2023-12-04T16:37:05",
          "DayName": "Monday",
          "Time": 997,
          "TimeInMinutes": 997
         },
         {
          "Date": "2023-12-04T17:38:37",
          "DayName": "Monday",
          "Time": 1058,
          "TimeInMinutes": 1058
         },
         {
          "Date": "2023-12-11T13:31:59",
          "DayName": "Monday",
          "Time": 811,
          "TimeInMinutes": 811
         },
         {
          "Date": "2023-12-11T16:34:36",
          "DayName": "Monday",
          "Time": 994,
          "TimeInMinutes": 994
         },
         {
          "Date": "2023-12-11T17:34:36",
          "DayName": "Monday",
          "Time": 1054,
          "TimeInMinutes": 1054
         }
        ],
        "data-69ccde9af79105017121eea843230831": [
         {
          "Date": "2023-10-07T11:04:02",
          "DayName": "Saturday",
          "Time": 664,
          "TimeInMinutes": 664
         },
         {
          "Date": "2023-10-07T12:05:24",
          "DayName": "Saturday",
          "Time": 725,
          "TimeInMinutes": 725
         },
         {
          "Date": "2023-10-07T15:06:59",
          "DayName": "Saturday",
          "Time": 906,
          "TimeInMinutes": 906
         },
         {
          "Date": "2023-10-07T22:10:12",
          "DayName": "Saturday",
          "Time": 1330,
          "TimeInMinutes": 1330
         },
         {
          "Date": "2023-10-07T23:22:00",
          "DayName": "Saturday",
          "Time": 1402,
          "TimeInMinutes": 1402
         },
         {
          "Date": "2023-10-14T00:01:26",
          "DayName": "Saturday",
          "Time": 1,
          "TimeInMinutes": 1
         },
         {
          "Date": "2023-10-14T13:29:04",
          "DayName": "Saturday",
          "Time": 809,
          "TimeInMinutes": 809
         },
         {
          "Date": "2023-10-14T14:30:13",
          "DayName": "Saturday",
          "Time": 870,
          "TimeInMinutes": 870
         },
         {
          "Date": "2023-10-14T19:54:31",
          "DayName": "Saturday",
          "Time": 1194,
          "TimeInMinutes": 1194
         },
         {
          "Date": "2023-10-21T10:42:00",
          "DayName": "Saturday",
          "Time": 642,
          "TimeInMinutes": 642
         },
         {
          "Date": "2023-10-21T16:54:09",
          "DayName": "Saturday",
          "Time": 1014,
          "TimeInMinutes": 1014
         },
         {
          "Date": "2023-10-21T19:59:05",
          "DayName": "Saturday",
          "Time": 1199,
          "TimeInMinutes": 1199
         },
         {
          "Date": "2023-10-21T20:53:26",
          "DayName": "Saturday",
          "Time": 1253,
          "TimeInMinutes": 1253
         },
         {
          "Date": "2023-10-28T00:55:12",
          "DayName": "Saturday",
          "Time": 55,
          "TimeInMinutes": 55
         },
         {
          "Date": "2023-10-28T02:03:03",
          "DayName": "Saturday",
          "Time": 123,
          "TimeInMinutes": 123
         },
         {
          "Date": "2023-10-28T04:42:37",
          "DayName": "Saturday",
          "Time": 282,
          "TimeInMinutes": 282
         },
         {
          "Date": "2023-10-28T08:08:36",
          "DayName": "Saturday",
          "Time": 488,
          "TimeInMinutes": 488
         },
         {
          "Date": "2023-10-28T09:08:39",
          "DayName": "Saturday",
          "Time": 548,
          "TimeInMinutes": 548
         },
         {
          "Date": "2023-10-28T10:25:48",
          "DayName": "Saturday",
          "Time": 625,
          "TimeInMinutes": 625
         },
         {
          "Date": "2023-10-28T12:46:08",
          "DayName": "Saturday",
          "Time": 766,
          "TimeInMinutes": 766
         },
         {
          "Date": "2023-10-28T15:16:27",
          "DayName": "Saturday",
          "Time": 916,
          "TimeInMinutes": 916
         },
         {
          "Date": "2023-10-28T16:30:41",
          "DayName": "Saturday",
          "Time": 990,
          "TimeInMinutes": 990
         },
         {
          "Date": "2023-10-28T17:32:58",
          "DayName": "Saturday",
          "Time": 1052,
          "TimeInMinutes": 1052
         },
         {
          "Date": "2023-10-28T18:46:30",
          "DayName": "Saturday",
          "Time": 1126,
          "TimeInMinutes": 1126
         },
         {
          "Date": "2023-10-28T19:33:23",
          "DayName": "Saturday",
          "Time": 1173,
          "TimeInMinutes": 1173
         },
         {
          "Date": "2023-10-28T21:12:08",
          "DayName": "Saturday",
          "Time": 1272,
          "TimeInMinutes": 1272
         },
         {
          "Date": "2023-10-28T21:32:19",
          "DayName": "Saturday",
          "Time": 1292,
          "TimeInMinutes": 1292
         },
         {
          "Date": "2023-10-28T22:45:06",
          "DayName": "Saturday",
          "Time": 1365,
          "TimeInMinutes": 1365
         },
         {
          "Date": "2023-10-28T23:50:11",
          "DayName": "Saturday",
          "Time": 1430,
          "TimeInMinutes": 1430
         },
         {
          "Date": "2023-11-04T08:48:37",
          "DayName": "Saturday",
          "Time": 528,
          "TimeInMinutes": 528
         },
         {
          "Date": "2023-11-04T11:21:04",
          "DayName": "Saturday",
          "Time": 681,
          "TimeInMinutes": 681
         },
         {
          "Date": "2023-11-04T11:33:41",
          "DayName": "Saturday",
          "Time": 693,
          "TimeInMinutes": 693
         },
         {
          "Date": "2023-11-04T13:31:21",
          "DayName": "Saturday",
          "Time": 811,
          "TimeInMinutes": 811
         },
         {
          "Date": "2023-11-04T20:23:51",
          "DayName": "Saturday",
          "Time": 1223,
          "TimeInMinutes": 1223
         },
         {
          "Date": "2023-11-11T07:59:57",
          "DayName": "Saturday",
          "Time": 479,
          "TimeInMinutes": 479
         },
         {
          "Date": "2023-11-11T10:53:14",
          "DayName": "Saturday",
          "Time": 653,
          "TimeInMinutes": 653
         },
         {
          "Date": "2023-11-11T13:10:11",
          "DayName": "Saturday",
          "Time": 790,
          "TimeInMinutes": 790
         },
         {
          "Date": "2023-11-11T14:08:16",
          "DayName": "Saturday",
          "Time": 848,
          "TimeInMinutes": 848
         },
         {
          "Date": "2023-11-11T15:12:38",
          "DayName": "Saturday",
          "Time": 912,
          "TimeInMinutes": 912
         },
         {
          "Date": "2023-11-11T15:13:51",
          "DayName": "Saturday",
          "Time": 913,
          "TimeInMinutes": 913
         },
         {
          "Date": "2023-11-11T16:36:58",
          "DayName": "Saturday",
          "Time": 996,
          "TimeInMinutes": 996
         },
         {
          "Date": "2023-11-11T16:45:33",
          "DayName": "Saturday",
          "Time": 1005,
          "TimeInMinutes": 1005
         },
         {
          "Date": "2023-11-11T17:37:44",
          "DayName": "Saturday",
          "Time": 1057,
          "TimeInMinutes": 1057
         },
         {
          "Date": "2023-11-11T20:44:40",
          "DayName": "Saturday",
          "Time": 1244,
          "TimeInMinutes": 1244
         },
         {
          "Date": "2023-11-11T22:13:02",
          "DayName": "Saturday",
          "Time": 1333,
          "TimeInMinutes": 1333
         },
         {
          "Date": "2023-11-18T11:52:46",
          "DayName": "Saturday",
          "Time": 712,
          "TimeInMinutes": 712
         },
         {
          "Date": "2023-11-18T17:47:01",
          "DayName": "Saturday",
          "Time": 1067,
          "TimeInMinutes": 1067
         },
         {
          "Date": "2023-11-18T19:19:41",
          "DayName": "Saturday",
          "Time": 1159,
          "TimeInMinutes": 1159
         },
         {
          "Date": "2023-11-18T19:51:06",
          "DayName": "Saturday",
          "Time": 1191,
          "TimeInMinutes": 1191
         },
         {
          "Date": "2023-11-18T21:12:40",
          "DayName": "Saturday",
          "Time": 1272,
          "TimeInMinutes": 1272
         },
         {
          "Date": "2023-11-25T00:03:16",
          "DayName": "Saturday",
          "Time": 3,
          "TimeInMinutes": 3
         },
         {
          "Date": "2023-11-25T01:22:01",
          "DayName": "Saturday",
          "Time": 82,
          "TimeInMinutes": 82
         },
         {
          "Date": "2023-11-25T10:43:32",
          "DayName": "Saturday",
          "Time": 643,
          "TimeInMinutes": 643
         },
         {
          "Date": "2023-11-25T13:48:14",
          "DayName": "Saturday",
          "Time": 828,
          "TimeInMinutes": 828
         },
         {
          "Date": "2023-11-25T14:15:32",
          "DayName": "Saturday",
          "Time": 855,
          "TimeInMinutes": 855
         },
         {
          "Date": "2023-11-25T15:16:06",
          "DayName": "Saturday",
          "Time": 916,
          "TimeInMinutes": 916
         },
         {
          "Date": "2023-11-25T16:57:57",
          "DayName": "Saturday",
          "Time": 1017,
          "TimeInMinutes": 1017
         },
         {
          "Date": "2023-12-09T10:19:07",
          "DayName": "Saturday",
          "Time": 619,
          "TimeInMinutes": 619
         },
         {
          "Date": "2023-12-09T17:48:08",
          "DayName": "Saturday",
          "Time": 1068,
          "TimeInMinutes": 1068
         },
         {
          "Date": "2023-12-09T21:04:03",
          "DayName": "Saturday",
          "Time": 1264,
          "TimeInMinutes": 1264
         },
         {
          "Date": "2023-12-16T00:00:34",
          "DayName": "Saturday",
          "Time": 0,
          "TimeInMinutes": 0
         }
        ],
        "data-9a4b204e8aed4f5cdf6dd341f1a86c8e": [
         {
          "Time": 695,
          "code": "CS 204L",
          "endTime": "12:30",
          "name": "Advanced Programming Lab",
          "startTime": "10:40"
         },
         {
          "Time": 815,
          "code": "CS 210",
          "endTime": "14:30",
          "name": "Introduction to Data Science",
          "startTime": "12:40"
         },
         {
          "Time": 905,
          "code": "ECON 202R",
          "endTime": "15:30",
          "name": "Macroeconomics - Recitation",
          "startTime": "14:40"
         },
         {
          "Time": 965,
          "code": "MATH 204R",
          "endTime": "16:30",
          "name": "Discrete Mathematics - Recitation",
          "startTime": "15:40"
         },
         {
          "Time": 1025,
          "code": "ENS 208R",
          "endTime": "17:30",
          "name": "Introduction to Industrial Engineering - Recitation",
          "startTime": "16:40"
         }
        ],
        "data-ae55a584cbde687427e0a607a90dbe3c": [
         {
          "Time": 785,
          "code": "CS 204",
          "endTime": "13:30",
          "name": "Advanced Programming",
          "startTime": "12:40"
         },
         {
          "Time": 905,
          "code": "ENS 208",
          "endTime": "15:30",
          "name": "Introduction to Industrial Engineering",
          "startTime": "14:40"
         },
         {
          "Time": 1025,
          "code": "CS 210",
          "endTime": "17:30",
          "name": "Introduction to Data Science",
          "startTime": "16:40"
         }
        ],
        "data-d5098a9ab1714dc9261f664ac5a1a7ae": [
         {
          "Date": "2023-10-05T11:34:56",
          "DayName": "Thursday",
          "Time": 694,
          "TimeInMinutes": 694
         },
         {
          "Date": "2023-10-05T19:32:48",
          "DayName": "Thursday",
          "Time": 1172,
          "TimeInMinutes": 1172
         },
         {
          "Date": "2023-10-12T08:17:12",
          "DayName": "Thursday",
          "Time": 497,
          "TimeInMinutes": 497
         },
         {
          "Date": "2023-10-12T17:28:34",
          "DayName": "Thursday",
          "Time": 1048,
          "TimeInMinutes": 1048
         },
         {
          "Date": "2023-10-19T11:47:50",
          "DayName": "Thursday",
          "Time": 707,
          "TimeInMinutes": 707
         },
         {
          "Date": "2023-10-19T13:39:02",
          "DayName": "Thursday",
          "Time": 819,
          "TimeInMinutes": 819
         },
         {
          "Date": "2023-10-19T17:42:18",
          "DayName": "Thursday",
          "Time": 1062,
          "TimeInMinutes": 1062
         },
         {
          "Date": "2023-10-19T21:31:38",
          "DayName": "Thursday",
          "Time": 1291,
          "TimeInMinutes": 1291
         },
         {
          "Date": "2023-10-26T00:23:41",
          "DayName": "Thursday",
          "Time": 23,
          "TimeInMinutes": 23
         },
         {
          "Date": "2023-10-26T10:23:16",
          "DayName": "Thursday",
          "Time": 623,
          "TimeInMinutes": 623
         },
         {
          "Date": "2023-10-26T22:22:19",
          "DayName": "Thursday",
          "Time": 1342,
          "TimeInMinutes": 1342
         },
         {
          "Date": "2023-11-02T11:15:20",
          "DayName": "Thursday",
          "Time": 675,
          "TimeInMinutes": 675
         },
         {
          "Date": "2023-11-02T17:19:12",
          "DayName": "Thursday",
          "Time": 1039,
          "TimeInMinutes": 1039
         },
         {
          "Date": "2023-11-02T17:35:46",
          "DayName": "Thursday",
          "Time": 1055,
          "TimeInMinutes": 1055
         },
         {
          "Date": "2023-11-02T18:34:50",
          "DayName": "Thursday",
          "Time": 1114,
          "TimeInMinutes": 1114
         },
         {
          "Date": "2023-11-02T21:26:26",
          "DayName": "Thursday",
          "Time": 1286,
          "TimeInMinutes": 1286
         },
         {
          "Date": "2023-11-02T22:56:30",
          "DayName": "Thursday",
          "Time": 1376,
          "TimeInMinutes": 1376
         },
         {
          "Date": "2023-11-02T23:55:15",
          "DayName": "Thursday",
          "Time": 1435,
          "TimeInMinutes": 1435
         },
         {
          "Date": "2023-11-09T09:54:58",
          "DayName": "Thursday",
          "Time": 594,
          "TimeInMinutes": 594
         },
         {
          "Date": "2023-11-09T20:10:54",
          "DayName": "Thursday",
          "Time": 1210,
          "TimeInMinutes": 1210
         },
         {
          "Date": "2023-11-09T20:19:36",
          "DayName": "Thursday",
          "Time": 1219,
          "TimeInMinutes": 1219
         },
         {
          "Date": "2023-11-16T11:35:01",
          "DayName": "Thursday",
          "Time": 695,
          "TimeInMinutes": 695
         },
         {
          "Date": "2023-11-23T10:37:15",
          "DayName": "Thursday",
          "Time": 637,
          "TimeInMinutes": 637
         },
         {
          "Date": "2023-11-23T11:40:12",
          "DayName": "Thursday",
          "Time": 700,
          "TimeInMinutes": 700
         },
         {
          "Date": "2023-11-23T12:54:17",
          "DayName": "Thursday",
          "Time": 774,
          "TimeInMinutes": 774
         },
         {
          "Date": "2023-11-30T00:47:01",
          "DayName": "Thursday",
          "Time": 47,
          "TimeInMinutes": 47
         },
         {
          "Date": "2023-11-30T09:24:23",
          "DayName": "Thursday",
          "Time": 564,
          "TimeInMinutes": 564
         },
         {
          "Date": "2023-11-30T09:29:35",
          "DayName": "Thursday",
          "Time": 569,
          "TimeInMinutes": 569
         },
         {
          "Date": "2023-11-30T11:41:28",
          "DayName": "Thursday",
          "Time": 701,
          "TimeInMinutes": 701
         },
         {
          "Date": "2023-11-30T14:19:17",
          "DayName": "Thursday",
          "Time": 859,
          "TimeInMinutes": 859
         },
         {
          "Date": "2023-12-07T02:01:15",
          "DayName": "Thursday",
          "Time": 121,
          "TimeInMinutes": 121
         },
         {
          "Date": "2023-12-07T08:47:18",
          "DayName": "Thursday",
          "Time": 527,
          "TimeInMinutes": 527
         },
         {
          "Date": "2023-12-07T10:39:48",
          "DayName": "Thursday",
          "Time": 639,
          "TimeInMinutes": 639
         },
         {
          "Date": "2023-12-07T11:46:36",
          "DayName": "Thursday",
          "Time": 706,
          "TimeInMinutes": 706
         },
         {
          "Date": "2023-12-07T12:54:45",
          "DayName": "Thursday",
          "Time": 774,
          "TimeInMinutes": 774
         },
         {
          "Date": "2023-12-14T10:38:05",
          "DayName": "Thursday",
          "Time": 638,
          "TimeInMinutes": 638
         },
         {
          "Date": "2023-12-14T10:38:14",
          "DayName": "Thursday",
          "Time": 638,
          "TimeInMinutes": 638
         },
         {
          "Date": "2023-12-14T10:43:59",
          "DayName": "Thursday",
          "Time": 643,
          "TimeInMinutes": 643
         },
         {
          "Date": "2023-12-14T12:28:04",
          "DayName": "Thursday",
          "Time": 748,
          "TimeInMinutes": 748
         },
         {
          "Date": "2023-12-14T13:55:40",
          "DayName": "Thursday",
          "Time": 835,
          "TimeInMinutes": 835
         },
         {
          "Date": "2023-12-14T18:25:05",
          "DayName": "Thursday",
          "Time": 1105,
          "TimeInMinutes": 1105
         }
        ],
        "data-f955d324f12670292e9e65c01d873e7c": [
         {
          "Date": "2023-10-06T15:19:55",
          "DayName": "Friday",
          "Time": 919,
          "TimeInMinutes": 919
         },
         {
          "Date": "2023-10-06T16:40:52",
          "DayName": "Friday",
          "Time": 1000,
          "TimeInMinutes": 1000
         },
         {
          "Date": "2023-10-06T18:16:58",
          "DayName": "Friday",
          "Time": 1096,
          "TimeInMinutes": 1096
         },
         {
          "Date": "2023-10-13T09:02:45",
          "DayName": "Friday",
          "Time": 542,
          "TimeInMinutes": 542
         },
         {
          "Date": "2023-10-13T14:34:08",
          "DayName": "Friday",
          "Time": 874,
          "TimeInMinutes": 874
         },
         {
          "Date": "2023-10-13T15:36:36",
          "DayName": "Friday",
          "Time": 936,
          "TimeInMinutes": 936
         },
         {
          "Date": "2023-10-13T20:16:00",
          "DayName": "Friday",
          "Time": 1216,
          "TimeInMinutes": 1216
         },
         {
          "Date": "2023-10-20T08:38:34",
          "DayName": "Friday",
          "Time": 518,
          "TimeInMinutes": 518
         },
         {
          "Date": "2023-10-20T13:24:59",
          "DayName": "Friday",
          "Time": 804,
          "TimeInMinutes": 804
         },
         {
          "Date": "2023-10-20T14:48:59",
          "DayName": "Friday",
          "Time": 888,
          "TimeInMinutes": 888
         },
         {
          "Date": "2023-10-20T21:40:46",
          "DayName": "Friday",
          "Time": 1300,
          "TimeInMinutes": 1300
         },
         {
          "Date": "2023-10-20T22:06:31",
          "DayName": "Friday",
          "Time": 1326,
          "TimeInMinutes": 1326
         },
         {
          "Date": "2023-10-27T08:31:26",
          "DayName": "Friday",
          "Time": 511,
          "TimeInMinutes": 511
         },
         {
          "Date": "2023-10-27T11:58:44",
          "DayName": "Friday",
          "Time": 718,
          "TimeInMinutes": 718
         },
         {
          "Date": "2023-10-27T13:02:14",
          "DayName": "Friday",
          "Time": 782,
          "TimeInMinutes": 782
         },
         {
          "Date": "2023-10-27T16:34:58",
          "DayName": "Friday",
          "Time": 994,
          "TimeInMinutes": 994
         },
         {
          "Date": "2023-10-27T18:19:02",
          "DayName": "Friday",
          "Time": 1099,
          "TimeInMinutes": 1099
         },
         {
          "Date": "2023-10-27T19:40:25",
          "DayName": "Friday",
          "Time": 1180,
          "TimeInMinutes": 1180
         },
         {
          "Date": "2023-10-27T20:58:48",
          "DayName": "Friday",
          "Time": 1258,
          "TimeInMinutes": 1258
         },
         {
          "Date": "2023-10-27T22:35:45",
          "DayName": "Friday",
          "Time": 1355,
          "TimeInMinutes": 1355
         },
         {
          "Date": "2023-10-27T23:54:27",
          "DayName": "Friday",
          "Time": 1434,
          "TimeInMinutes": 1434
         },
         {
          "Date": "2023-11-03T13:40:38",
          "DayName": "Friday",
          "Time": 820,
          "TimeInMinutes": 820
         },
         {
          "Date": "2023-11-03T15:03:21",
          "DayName": "Friday",
          "Time": 903,
          "TimeInMinutes": 903
         },
         {
          "Date": "2023-11-03T16:26:27",
          "DayName": "Friday",
          "Time": 986,
          "TimeInMinutes": 986
         },
         {
          "Date": "2023-11-03T19:08:31",
          "DayName": "Friday",
          "Time": 1148,
          "TimeInMinutes": 1148
         },
         {
          "Date": "2023-11-03T23:32:55",
          "DayName": "Friday",
          "Time": 1412,
          "TimeInMinutes": 1412
         },
         {
          "Date": "2023-11-10T11:21:33",
          "DayName": "Friday",
          "Time": 681,
          "TimeInMinutes": 681
         },
         {
          "Date": "2023-11-10T11:21:34",
          "DayName": "Friday",
          "Time": 681,
          "TimeInMinutes": 681
         },
         {
          "Date": "2023-11-10T13:25:10",
          "DayName": "Friday",
          "Time": 805,
          "TimeInMinutes": 805
         },
         {
          "Date": "2023-11-10T15:05:31",
          "DayName": "Friday",
          "Time": 905,
          "TimeInMinutes": 905
         },
         {
          "Date": "2023-11-10T15:32:19",
          "DayName": "Friday",
          "Time": 932,
          "TimeInMinutes": 932
         },
         {
          "Date": "2023-11-10T16:38:56",
          "DayName": "Friday",
          "Time": 998,
          "TimeInMinutes": 998
         },
         {
          "Date": "2023-11-10T18:58:59",
          "DayName": "Friday",
          "Time": 1138,
          "TimeInMinutes": 1138
         },
         {
          "Date": "2023-11-10T20:30:26",
          "DayName": "Friday",
          "Time": 1230,
          "TimeInMinutes": 1230
         },
         {
          "Date": "2023-11-17T11:44:21",
          "DayName": "Friday",
          "Time": 704,
          "TimeInMinutes": 704
         },
         {
          "Date": "2023-11-17T12:27:14",
          "DayName": "Friday",
          "Time": 747,
          "TimeInMinutes": 747
         },
         {
          "Date": "2023-11-17T13:36:33",
          "DayName": "Friday",
          "Time": 816,
          "TimeInMinutes": 816
         },
         {
          "Date": "2023-11-17T14:44:26",
          "DayName": "Friday",
          "Time": 884,
          "TimeInMinutes": 884
         },
         {
          "Date": "2023-11-24T11:32:58",
          "DayName": "Friday",
          "Time": 692,
          "TimeInMinutes": 692
         },
         {
          "Date": "2023-11-24T11:33:02",
          "DayName": "Friday",
          "Time": 693,
          "TimeInMinutes": 693
         },
         {
          "Date": "2023-11-24T11:45:22",
          "DayName": "Friday",
          "Time": 705,
          "TimeInMinutes": 705
         },
         {
          "Date": "2023-11-24T12:34:19",
          "DayName": "Friday",
          "Time": 754,
          "TimeInMinutes": 754
         },
         {
          "Date": "2023-11-24T13:35:54",
          "DayName": "Friday",
          "Time": 815,
          "TimeInMinutes": 815
         },
         {
          "Date": "2023-11-24T18:49:23",
          "DayName": "Friday",
          "Time": 1129,
          "TimeInMinutes": 1129
         },
         {
          "Date": "2023-11-24T18:58:44",
          "DayName": "Friday",
          "Time": 1138,
          "TimeInMinutes": 1138
         },
         {
          "Date": "2023-12-01T10:50:50",
          "DayName": "Friday",
          "Time": 650,
          "TimeInMinutes": 650
         },
         {
          "Date": "2023-12-01T14:31:58",
          "DayName": "Friday",
          "Time": 871,
          "TimeInMinutes": 871
         },
         {
          "Date": "2023-12-01T14:32:41",
          "DayName": "Friday",
          "Time": 872,
          "TimeInMinutes": 872
         },
         {
          "Date": "2023-12-01T15:37:59",
          "DayName": "Friday",
          "Time": 937,
          "TimeInMinutes": 937
         },
         {
          "Date": "2023-12-01T16:39:08",
          "DayName": "Friday",
          "Time": 999,
          "TimeInMinutes": 999
         },
         {
          "Date": "2023-12-01T17:02:26",
          "DayName": "Friday",
          "Time": 1022,
          "TimeInMinutes": 1022
         },
         {
          "Date": "2023-12-01T23:34:22",
          "DayName": "Friday",
          "Time": 1414,
          "TimeInMinutes": 1414
         },
         {
          "Date": "2023-12-08T10:33:19",
          "DayName": "Friday",
          "Time": 633,
          "TimeInMinutes": 633
         },
         {
          "Date": "2023-12-08T10:44:10",
          "DayName": "Friday",
          "Time": 644,
          "TimeInMinutes": 644
         },
         {
          "Date": "2023-12-08T12:36:43",
          "DayName": "Friday",
          "Time": 756,
          "TimeInMinutes": 756
         },
         {
          "Date": "2023-12-08T13:48:34",
          "DayName": "Friday",
          "Time": 828,
          "TimeInMinutes": 828
         },
         {
          "Date": "2023-12-08T15:03:57",
          "DayName": "Friday",
          "Time": 903,
          "TimeInMinutes": 903
         },
         {
          "Date": "2023-12-08T15:24:43",
          "DayName": "Friday",
          "Time": 924,
          "TimeInMinutes": 924
         },
         {
          "Date": "2023-12-08T18:39:13",
          "DayName": "Friday",
          "Time": 1119,
          "TimeInMinutes": 1119
         },
         {
          "Date": "2023-12-08T20:41:03",
          "DayName": "Friday",
          "Time": 1241,
          "TimeInMinutes": 1241
         },
         {
          "Date": "2023-12-15T09:28:53",
          "DayName": "Friday",
          "Time": 568,
          "TimeInMinutes": 568
         },
         {
          "Date": "2023-12-15T12:00:43",
          "DayName": "Friday",
          "Time": 720,
          "TimeInMinutes": 720
         },
         {
          "Date": "2023-12-15T13:23:58",
          "DayName": "Friday",
          "Time": 803,
          "TimeInMinutes": 803
         },
         {
          "Date": "2023-12-15T15:20:35",
          "DayName": "Friday",
          "Time": 920,
          "TimeInMinutes": 920
         },
         {
          "Date": "2023-12-15T15:30:10",
          "DayName": "Friday",
          "Time": 930,
          "TimeInMinutes": 930
         },
         {
          "Date": "2023-12-15T16:30:27",
          "DayName": "Friday",
          "Time": 990,
          "TimeInMinutes": 990
         }
        ]
       },
       "params": [
        {
         "bind": {
          "input": "checkbox",
          "name": "Show class hours"
         },
         "name": "show"
        }
       ],
       "spacing": 10,
       "vconcat": [
        {
         "height": 400,
         "layer": [
          {
           "data": {
            "name": "data-58b76775f32688e61a0cbcf44bb0cb73"
           },
           "encoding": {
            "tooltip": [
             {
              "aggregate": "count",
              "type": "quantitative"
             }
            ],
            "x": {
             "axis": {
              "labelAngle": -90,
              "labelExpr": "utcFormat(utcParse(datum.value >= 60 ? floor(datum.value / 60) + ':' + datum.value % 60 : '0:' + datum.value, '%H:%M'), '%H:%M')",
              "tickCount": 48
             },
             "bin": {
              "extent": [
               0,
               1439
              ],
              "step": 30
             },
             "field": "Time",
             "type": "quantitative"
            },
            "y": {
             "aggregate": "count",
             "title": "Number of Logins",
             "type": "quantitative"
            }
           },
           "mark": {
            "type": "bar"
           },
           "title": "Monday"
          },
          {
           "data": {
            "name": "data-00361613f7ee746a02039d8efd6aa4c7"
           },
           "encoding": {
            "tooltip": [
             {
              "field": "name",
              "type": "nominal"
             },
             {
              "field": "startTime",
              "type": "nominal"
             },
             {
              "field": "endTime",
              "type": "nominal"
             },
             {
              "field": "code",
              "type": "nominal"
             }
            ],
            "x": {
             "field": "Time",
             "scale": {
              "domain": [
               0,
               1440
              ]
             },
             "title": "Time",
             "type": "quantitative"
            }
           },
           "mark": {
            "color": "red",
            "size": 3,
            "type": "rule"
           },
           "transform": [
            {
             "filter": {
              "param": "show"
             }
            }
           ]
          }
         ],
         "width": 1200
        },
        {
         "height": 400,
         "layer": [
          {
           "data": {
            "name": "data-32c287de6566b0f3022bb40033c6afe8"
           },
           "encoding": {
            "tooltip": [
             {
              "aggregate": "count",
              "type": "quantitative"
             }
            ],
            "x": {
             "axis": {
              "labelAngle": -90,
              "labelExpr": "utcFormat(utcParse(datum.value >= 60 ? floor(datum.value / 60) + ':' + datum.value % 60 : '0:' + datum.value, '%H:%M'), '%H:%M')",
              "tickCount": 48
             },
             "bin": {
              "extent": [
               0,
               1439
              ],
              "step": 30
             },
             "field": "Time",
             "type": "quantitative"
            },
            "y": {
             "aggregate": "count",
             "title": "Number of Logins",
             "type": "quantitative"
            }
           },
           "mark": {
            "type": "bar"
           },
           "title": "Tuesday"
          },
          {
           "data": {
            "name": "data-0d5388a9e41508a6ecc26874b97b8d6d"
           },
           "encoding": {
            "tooltip": [
             {
              "field": "name",
              "type": "nominal"
             },
             {
              "field": "startTime",
              "type": "nominal"
             },
             {
              "field": "endTime",
              "type": "nominal"
             },
             {
              "field": "code",
              "type": "nominal"
             }
            ],
            "x": {
             "field": "Time",
             "scale": {
              "domain": [
               0,
               1440
              ]
             },
             "title": "Time",
             "type": "quantitative"
            }
           },
           "mark": {
            "color": "red",
            "size": 3,
            "type": "rule"
           },
           "transform": [
            {
             "filter": {
              "param": "show"
             }
            }
           ]
          }
         ],
         "width": 1200
        },
        {
         "height": 400,
         "layer": [
          {
           "data": {
            "name": "data-1453bf1e54ab737f342655065096405e"
           },
           "encoding": {
            "tooltip": [
             {
              "aggregate": "count",
              "type": "quantitative"
             }
            ],
            "x": {
             "axis": {
              "labelAngle": -90,
              "labelExpr": "utcFormat(utcParse(datum.value >= 60 ? floor(datum.value / 60) + ':' + datum.value % 60 : '0:' + datum.value, '%H:%M'), '%H:%M')",
              "tickCount": 48
             },
             "bin": {
              "extent": [
               0,
               1439
              ],
              "step": 30
             },
             "field": "Time",
             "type": "quantitative"
            },
            "y": {
             "aggregate": "count",
             "title": "Number of Logins",
             "type": "quantitative"
            }
           },
           "mark": {
            "type": "bar"
           },
           "title": "Wednesday"
          },
          {
           "data": {
            "name": "data-ae55a584cbde687427e0a607a90dbe3c"
           },
           "encoding": {
            "tooltip": [
             {
              "field": "name",
              "type": "nominal"
             },
             {
              "field": "startTime",
              "type": "nominal"
             },
             {
              "field": "endTime",
              "type": "nominal"
             },
             {
              "field": "code",
              "type": "nominal"
             }
            ],
            "x": {
             "field": "Time",
             "scale": {
              "domain": [
               0,
               1440
              ]
             },
             "title": "Time",
             "type": "quantitative"
            }
           },
           "mark": {
            "color": "red",
            "size": 3,
            "type": "rule"
           },
           "transform": [
            {
             "filter": {
              "param": "show"
             }
            }
           ]
          }
         ],
         "width": 1200
        },
        {
         "height": 400,
         "layer": [
          {
           "data": {
            "name": "data-d5098a9ab1714dc9261f664ac5a1a7ae"
           },
           "encoding": {
            "tooltip": [
             {
              "aggregate": "count",
              "type": "quantitative"
             }
            ],
            "x": {
             "axis": {
              "labelAngle": -90,
              "labelExpr": "utcFormat(utcParse(datum.value >= 60 ? floor(datum.value / 60) + ':' + datum.value % 60 : '0:' + datum.value, '%H:%M'), '%H:%M')",
              "tickCount": 48
             },
             "bin": {
              "extent": [
               0,
               1439
              ],
              "step": 30
             },
             "field": "Time",
             "type": "quantitative"
            },
            "y": {
             "aggregate": "count",
             "title": "Number of Logins",
             "type": "quantitative"
            }
           },
           "mark": {
            "type": "bar"
           },
           "title": "Thursday"
          },
          {
           "data": {
            "name": "data-0f4b6b568a48ff19fce4c54988384776"
           },
           "encoding": {
            "tooltip": [
             {
              "field": "name",
              "type": "nominal"
             },
             {
              "field": "startTime",
              "type": "nominal"
             },
             {
              "field": "endTime",
              "type": "nominal"
             },
             {
              "field": "code",
              "type": "nominal"
             }
            ],
            "x": {
             "field": "Time",
             "scale": {
              "domain": [
               0,
               1440
              ]
             },
             "title": "Time",
             "type": "quantitative"
            }
           },
           "mark": {
            "color": "red",
            "size": 3,
            "type": "rule"
           },
           "transform": [
            {
             "filter": {
              "param": "show"
             }
            }
           ]
          }
         ],
         "width": 1200
        },
        {
         "height": 400,
         "layer": [
          {
           "data": {
            "name": "data-f955d324f12670292e9e65c01d873e7c"
           },
           "encoding": {
            "tooltip": [
             {
              "aggregate": "count",
              "type": "quantitative"
             }
            ],
            "x": {
             "axis": {
              "labelAngle": -90,
              "labelExpr": "utcFormat(utcParse(datum.value >= 60 ? floor(datum.value / 60) + ':' + datum.value % 60 : '0:' + datum.value, '%H:%M'), '%H:%M')",
              "tickCount": 48
             },
             "bin": {
              "extent": [
               0,
               1439
              ],
              "step": 30
             },
             "field": "Time",
             "type": "quantitative"
            },
            "y": {
             "aggregate": "count",
             "title": "Number of Logins",
             "type": "quantitative"
            }
           },
           "mark": {
            "type": "bar"
           },
           "title": "Friday"
          },
          {
           "data": {
            "name": "data-9a4b204e8aed4f5cdf6dd341f1a86c8e"
           },
           "encoding": {
            "tooltip": [
             {
              "field": "name",
              "type": "nominal"
             },
             {
              "field": "startTime",
              "type": "nominal"
             },
             {
              "field": "endTime",
              "type": "nominal"
             },
             {
              "field": "code",
              "type": "nominal"
             }
            ],
            "x": {
             "field": "Time",
             "scale": {
              "domain": [
               0,
               1440
              ]
             },
             "title": "Time",
             "type": "quantitative"
            }
           },
           "mark": {
            "color": "red",
            "size": 3,
            "type": "rule"
           },
           "transform": [
            {
             "filter": {
              "param": "show"
             }
            }
           ]
          }
         ],
         "width": 1200
        },
        {
         "data": {
          "name": "data-69ccde9af79105017121eea843230831"
         },
         "encoding": {
          "tooltip": [
           {
            "aggregate": "count",
            "type": "quantitative"
           }
          ],
          "x": {
           "axis": {
            "labelAngle": -90,
            "labelExpr": "utcFormat(utcParse(datum.value >= 60 ? floor(datum.value / 60) + ':' + datum.value % 60 : '0:' + datum.value, '%H:%M'), '%H:%M')",
            "tickCount": 48
           },
           "bin": {
            "extent": [
             0,
             1439
            ],
            "step": 30
           },
           "field": "Time",
           "type": "quantitative"
          },
          "y": {
           "aggregate": "count",
           "title": "Number of Logins",
           "type": "quantitative"
          }
         },
         "height": 400,
         "mark": {
          "type": "bar"
         },
         "title": "Saturday",
         "width": 1200
        },
        {
         "data": {
          "name": "data-1f46937b5106501505b41aeaacd51d53"
         },
         "encoding": {
          "tooltip": [
           {
            "aggregate": "count",
            "type": "quantitative"
           }
          ],
          "x": {
           "axis": {
            "labelAngle": -90,
            "labelExpr": "utcFormat(utcParse(datum.value >= 60 ? floor(datum.value / 60) + ':' + datum.value % 60 : '0:' + datum.value, '%H:%M'), '%H:%M')",
            "tickCount": 48
           },
           "bin": {
            "extent": [
             0,
             1439
            ],
            "step": 30
           },
           "field": "Time",
           "type": "quantitative"
          },
          "y": {
           "aggregate": "count",
           "title": "Number of Logins",
           "type": "quantitative"
          }
         },
         "height": 400,
         "mark": {
          "type": "bar"
         },
         "title": "Sunday",
         "width": 1200
        }
       ]
      },
      "text/plain": [
       "<VegaLite 5 object>\n",
       "\n",
       "If you see this message, it means the renderer has not been properly enabled\n",
       "for the frontend that you are using. For more information, see\n",
       "https://altair-viz.github.io/user_guide/display_frontends.html#troubleshooting\n"
      ]
     },
     "execution_count": 5,
     "metadata": {},
     "output_type": "execute_result"
    }
   ],
   "source": [
    "# Read my weekly schedule from json file\n",
    "import json\n",
    "with open(\"./data/final_data/schedule.json\", \"r\") as f:\n",
    "    weekly_schedule = json.load(f)\n",
    "\n",
    "# Group by day\n",
    "login_datetime_grouped = login_datetime_df.groupby(\"DayName\")\n",
    "\n",
    "# Create the charts for each day\n",
    "charts_login_daily = {}\n",
    "for name, group in login_datetime_grouped:\n",
    "    group[\"Time\"] = group[\"Date\"].map(dt_to_min)\n",
    "\n",
    "    # Create the chart\n",
    "    chart = alt.Chart(group).mark_bar().encode(\n",
    "        x=alt.X(\"Time:Q\", bin=alt.Bin(step=30, extent=[0, 24*60-1]), axis=alt.Axis(tickCount=48, labelAngle=-90, labelExpr=\"utcFormat(utcParse(datum.value >= 60 ? floor(datum.value / 60) + ':' + datum.value % 60 : '0:' + datum.value, '%H:%M'), '%H:%M')\")),\n",
    "        y=alt.Y(\"count()\", title=\"Number of Logins\"),\n",
    "        tooltip=[\"count()\"],  # Show the count when hovering over the bar\n",
    "    ).properties(\n",
    "        title=name,\n",
    "        width=1200,\n",
    "        height=400,\n",
    "    )\n",
    "\n",
    "    try:\n",
    "        # Create the ruler for weekly schedule\n",
    "        d = pd.DataFrame(columns=[\"name\", \"startTime\", \"endTime\", \"Time\", \"code\"])\n",
    "        for cl in weekly_schedule[name][\"classes\"]:\n",
    "            start_time = dt_to_min(cl[\"startTime\"])\n",
    "            end_time = dt_to_min(cl[\"endTime\"])\n",
    "            t = (start_time + end_time) / 2\n",
    "            d.loc[len(d)] = cl | {\"Time\": t}\n",
    "\n",
    "        checkbox = alt.binding_checkbox(name=\"Show class hours\")\n",
    "        checkbox_selection = alt.param(bind=checkbox, name=\"show\")\n",
    "        rule = alt.Chart(d).mark_rule(color=\"red\", size=3).encode(\n",
    "            x=alt.X(\"Time\", title=\"Time\").scale(domain=[0, 24*60]),  # Scale the domain to 0-23:59\n",
    "            tooltip=[\"name:N\", \"startTime:N\", \"endTime:N\", \"code:N\"],\n",
    "        ).add_params(\n",
    "            checkbox_selection\n",
    "        ).transform_filter(\n",
    "            checkbox_selection\n",
    "        )\n",
    "        # Combine the chart and the rule\n",
    "        chart = chart + rule\n",
    "    except KeyError:\n",
    "        pass  # No classes on weekends\n",
    "\n",
    "    charts_login_daily[name] = chart\n",
    "\n",
    "# Sort the charts by day in week order\n",
    "charts_list = [charts_login_daily[\"Monday\"], charts_login_daily[\"Tuesday\"], charts_login_daily[\"Wednesday\"], charts_login_daily[\"Thursday\"], charts_login_daily[\"Friday\"], charts_login_daily[\"Saturday\"], charts_login_daily[\"Sunday\"]]\n",
    "# Combine the charts\n",
    "chart_login_daily = alt.vconcat(*charts_list, spacing=10)\n",
    "\n",
    "chart_login_daily = chart_login_daily.configure(\n",
    "    padding={\"left\": 15, \"right\": 15, \"top\": 15, \"bottom\": 15},\n",
    "    title={\"fontSize\": 18},\n",
    ").configure_view(\n",
    "    stroke=None,\n",
    ").configure_axisX(\n",
    "    labelFontSize=13,\n",
    "    grid=False,  # Remove the grid\n",
    "    domainWidth=2,  # Set the width of the axis line\n",
    "    domainColor=\"#000\"  # Set the color of the axis line\n",
    ").configure_axisY(\n",
    "    labelFontSize=14,\n",
    "    titleFontSize=18,\n",
    "    domain=False,  # Remove the axis line\n",
    ")\n",
    "\n",
    "chart_login_daily"
   ]
  },
  {
   "cell_type": "code",
   "execution_count": 6,
   "id": "3a5f99d4",
   "metadata": {},
   "outputs": [],
   "source": [
    "# Save the charts\n",
    "for name, ch in charts_login_daily.items():\n",
    "    ch = ch.configure(\n",
    "        padding={\"left\": 15, \"right\": 15, \"top\": 15, \"bottom\": 15},\n",
    "        title={\"fontSize\": 18},\n",
    "    ).configure_view(\n",
    "        stroke=None,\n",
    "    ).configure_axisX(\n",
    "        labelFontSize=13,\n",
    "        grid=False,  # Remove the grid\n",
    "        domainWidth=2,  # Set the width of the axis line\n",
    "        domainColor=\"#000\"  # Set the color of the axis line\n",
    "    ).configure_axisY(\n",
    "        labelFontSize=14,\n",
    "        titleFontSize=18,\n",
    "        domain=False,  # Remove the axis line\n",
    "    )\n",
    "    ch.save(f\"figures/login_times/altair_{name}.html\")\n",
    "    ch.save(f\"figures/img/login_times/altair_{name}.png\")\n",
    "chart_login_daily.save(\"figures/login_times/altair_login_times.html\")\n",
    "chart_login_daily.save(\"figures/img/login_times/altair_login_times.png\")"
   ]
  },
  {
   "cell_type": "markdown",
   "id": "3aae737f",
   "metadata": {},
   "source": [
    "## Voted Posts and Comments"
   ]
  },
  {
   "cell_type": "code",
   "execution_count": 7,
   "id": "0b8eff36",
   "metadata": {},
   "outputs": [],
   "source": [
    "post_votes_df = pd.read_csv(\"data/final_data/post_votes.csv\").rename(columns={\"Scores\": \"Score\"})\n",
    "comment_votes_df = pd.read_csv(\"data/final_data/comment_votes.csv\")"
   ]
  },
  {
   "cell_type": "markdown",
   "id": "9f6ab232",
   "metadata": {},
   "source": [
    "### Subs\n",
    "\n",
    "Count the number of posts and comments that I have voted in each subreddit and visualize them in a bar chart"
   ]
  },
  {
   "cell_type": "code",
   "execution_count": 8,
   "id": "c88bc6f3",
   "metadata": {},
   "outputs": [
    {
     "data": {
      "application/vnd.vegalite.v5+json": {
       "$schema": "https://vega.github.io/schema/vega-lite/v5.16.3.json",
       "config": {
        "axisX": {
         "domainColor": "#000",
         "domainWidth": 2,
         "grid": false,
         "labelFontSize": 11,
         "titleFontSize": 18
        },
        "axisY": {
         "domain": false,
         "grid": false,
         "labelFontSize": 14,
         "titleFontSize": 18
        },
        "padding": {
         "bottom": 15,
         "left": 15,
         "right": 15,
         "top": 15
        },
        "title": {
         "fontSize": 18
        },
        "view": {
         "continuousHeight": 300,
         "continuousWidth": 300,
         "stroke": null
        }
       },
       "data": {
        "name": "data-cb4ee8e1f0276fa5de7ddbfc2455206d"
       },
       "datasets": {
        "data-cb4ee8e1f0276fa5de7ddbfc2455206d": [
         {
          "Count": 1,
          "IsSubscribed": false,
          "SubredditName": "AbsoluteUnits"
         },
         {
          "Count": 1,
          "IsSubscribed": true,
          "SubredditName": "AskScienceFiction"
         },
         {
          "Count": 19,
          "IsSubscribed": false,
          "SubredditName": "BaldursGate3"
         },
         {
          "Count": 7,
          "IsSubscribed": true,
          "SubredditName": "CodeBullet"
         },
         {
          "Count": 2,
          "IsSubscribed": false,
          "SubredditName": "DMAcademy"
         },
         {
          "Count": 1,
          "IsSubscribed": false,
          "SubredditName": "DeepSpaceNine"
         },
         {
          "Count": 3,
          "IsSubscribed": true,
          "SubredditName": "Deepspaceninememes"
         },
         {
          "Count": 13,
          "IsSubscribed": true,
          "SubredditName": "ElectroBOOM"
         },
         {
          "Count": 2,
          "IsSubscribed": true,
          "SubredditName": "ExposurePorn"
         },
         {
          "Count": 8,
          "IsSubscribed": false,
          "SubredditName": "GenP"
         },
         {
          "Count": 43,
          "IsSubscribed": true,
          "SubredditName": "GreekMythology"
         },
         {
          "Count": 4,
          "IsSubscribed": true,
          "SubredditName": "MontyPythonMemes"
         },
         {
          "Count": 3,
          "IsSubscribed": true,
          "SubredditName": "MovieQuotes"
         },
         {
          "Count": 6,
          "IsSubscribed": false,
          "SubredditName": "NintendoDSi"
         },
         {
          "Count": 2,
          "IsSubscribed": true,
          "SubredditName": "Percabeth"
         },
         {
          "Count": 27,
          "IsSubscribed": true,
          "SubredditName": "PercyJacksonMemes"
         },
         {
          "Count": 1,
          "IsSubscribed": false,
          "SubredditName": "PercyJacksonTV"
         },
         {
          "Count": 166,
          "IsSubscribed": true,
          "SubredditName": "ProgrammerHumor"
         },
         {
          "Count": 7,
          "IsSubscribed": true,
          "SubredditName": "Python"
         },
         {
          "Count": 39,
          "IsSubscribed": true,
          "SubredditName": "SatisfactoryGame"
         },
         {
          "Count": 1,
          "IsSubscribed": true,
          "SubredditName": "ScarySigns"
         },
         {
          "Count": 4,
          "IsSubscribed": true,
          "SubredditName": "SenNeDiyon"
         },
         {
          "Count": 1,
          "IsSubscribed": false,
          "SubredditName": "SkyFactory"
         },
         {
          "Count": 1,
          "IsSubscribed": false,
          "SubredditName": "Teleshits"
         },
         {
          "Count": 176,
          "IsSubscribed": true,
          "SubredditName": "TheLastAirbender"
         },
         {
          "Count": 2,
          "IsSubscribed": true,
          "SubredditName": "TheLibrarians"
         },
         {
          "Count": 1,
          "IsSubscribed": true,
          "SubredditName": "TheNewestOlympian"
         },
         {
          "Count": 1,
          "IsSubscribed": true,
          "SubredditName": "Ubuntu"
         },
         {
          "Count": 4,
          "IsSubscribed": true,
          "SubredditName": "UnexpectedSeinfeld"
         },
         {
          "Count": 3,
          "IsSubscribed": false,
          "SubredditName": "Yugioh101"
         },
         {
          "Count": 1,
          "IsSubscribed": false,
          "SubredditName": "algorithms"
         },
         {
          "Count": 3,
          "IsSubscribed": true,
          "SubredditName": "boardgames"
         },
         {
          "Count": 3,
          "IsSubscribed": false,
          "SubredditName": "bootstrap"
         },
         {
          "Count": 167,
          "IsSubscribed": true,
          "SubredditName": "camphalfblood"
         },
         {
          "Count": 15,
          "IsSubscribed": true,
          "SubredditName": "consolerepair"
         },
         {
          "Count": 4,
          "IsSubscribed": true,
          "SubredditName": "django"
         },
         {
          "Count": 6,
          "IsSubscribed": true,
          "SubredditName": "djangolearning"
         },
         {
          "Count": 197,
          "IsSubscribed": false,
          "SubredditName": "dndmemes"
         },
         {
          "Count": 3,
          "IsSubscribed": false,
          "SubredditName": "doctorwho"
         },
         {
          "Count": 1,
          "IsSubscribed": false,
          "SubredditName": "doctorwhoclientmod"
         },
         {
          "Count": 8,
          "IsSubscribed": false,
          "SubredditName": "flashcarts"
         },
         {
          "Count": 1,
          "IsSubscribed": false,
          "SubredditName": "funnysigns"
         },
         {
          "Count": 62,
          "IsSubscribed": true,
          "SubredditName": "gaming"
         },
         {
          "Count": 2,
          "IsSubscribed": true,
          "SubredditName": "geek"
         },
         {
          "Count": 1,
          "IsSubscribed": false,
          "SubredditName": "interestingasfuck"
         },
         {
          "Count": 8,
          "IsSubscribed": true,
          "SubredditName": "learnprogramming"
         },
         {
          "Count": 3,
          "IsSubscribed": false,
          "SubredditName": "learnpython"
         },
         {
          "Count": 1,
          "IsSubscribed": false,
          "SubredditName": "legendofkorra"
         },
         {
          "Count": 1,
          "IsSubscribed": false,
          "SubredditName": "lotrmemes"
         },
         {
          "Count": 84,
          "IsSubscribed": true,
          "SubredditName": "mathmemes"
         },
         {
          "Count": 1,
          "IsSubscribed": false,
          "SubredditName": "me_irl"
         },
         {
          "Count": 1,
          "IsSubscribed": false,
          "SubredditName": "meirl"
         },
         {
          "Count": 42,
          "IsSubscribed": true,
          "SubredditName": "montypython"
         },
         {
          "Count": 1,
          "IsSubscribed": true,
          "SubredditName": "movies"
         },
         {
          "Count": 1,
          "IsSubscribed": false,
          "SubredditName": "pcbuilding"
         },
         {
          "Count": 1,
          "IsSubscribed": false,
          "SubredditName": "programmingmemes"
         },
         {
          "Count": 23,
          "IsSubscribed": true,
          "SubredditName": "risa"
         },
         {
          "Count": 5,
          "IsSubscribed": true,
          "SubredditName": "satisfactory"
         },
         {
          "Count": 1,
          "IsSubscribed": false,
          "SubredditName": "sciencememes"
         },
         {
          "Count": 128,
          "IsSubscribed": true,
          "SubredditName": "seinfeld"
         },
         {
          "Count": 1,
          "IsSubscribed": false,
          "SubredditName": "star_trek_dank_memes"
         },
         {
          "Count": 60,
          "IsSubscribed": true,
          "SubredditName": "startrek"
         },
         {
          "Count": 194,
          "IsSubscribed": true,
          "SubredditName": "startrekmemes"
         },
         {
          "Count": 1,
          "IsSubscribed": false,
          "SubredditName": "swaggybark"
         },
         {
          "Count": 2,
          "IsSubscribed": false,
          "SubredditName": "talentShow"
         },
         {
          "Count": 2,
          "IsSubscribed": false,
          "SubredditName": "tumblr"
         },
         {
          "Count": 18,
          "IsSubscribed": true,
          "SubredditName": "unexpectedMontyPython"
         },
         {
          "Count": 1,
          "IsSubscribed": true,
          "SubredditName": "unexpectedpython"
         },
         {
          "Count": 489,
          "IsSubscribed": true,
          "SubredditName": "veYakinEvren"
         },
         {
          "Count": 5,
          "IsSubscribed": false,
          "SubredditName": "webdev"
         },
         {
          "Count": 20,
          "IsSubscribed": true,
          "SubredditName": "yugioh"
         }
        ]
       },
       "encoding": {
        "color": {
         "field": "IsSubscribed",
         "legend": {
          "labelFontSize": 12,
          "offset": 0,
          "orient": "top-right",
          "title": "Is Subscribed",
          "titleFontSize": 14
         },
         "scale": {
          "domain": [
           true,
           false
          ],
          "range": [
           "#1f77b4",
           "#ff7f0e"
          ]
         },
         "type": "nominal"
        },
        "tooltip": [
         {
          "field": "Count",
          "type": "quantitative"
         },
         {
          "field": "SubredditName",
          "type": "nominal"
         }
        ],
        "x": {
         "axis": {
          "labelAngle": -45
         },
         "field": "SubredditName",
         "sort": "-y",
         "title": "Subreddit",
         "type": "nominal"
        },
        "y": {
         "field": "Count",
         "type": "quantitative"
        }
       },
       "height": 400,
       "mark": {
        "type": "bar"
       },
       "params": [
        {
         "bind": {
          "input": "range",
          "max": 489,
          "min": 1,
          "name": "Minimum Count",
          "step": 1
         },
         "name": "minCount",
         "select": {
          "fields": [
           "minCount"
          ],
          "type": "point"
         },
         "value": [
          {
           "minCount": 5
          }
         ]
        },
        {
         "bind": {
          "input": "range",
          "max": 489,
          "min": 1,
          "name": "Max Count",
          "step": 1
         },
         "name": "maxCount",
         "select": {
          "fields": [
           "maxCount"
          ],
          "type": "point"
         },
         "value": [
          {
           "maxCount": 489
          }
         ]
        }
       ],
       "transform": [
        {
         "filter": "((datum.Count >= minCount.minCount) && (datum.Count <= maxCount.maxCount))"
        }
       ],
       "width": 1200
      },
      "text/plain": [
       "<VegaLite 5 object>\n",
       "\n",
       "If you see this message, it means the renderer has not been properly enabled\n",
       "for the frontend that you are using. For more information, see\n",
       "https://altair-viz.github.io/user_guide/display_frontends.html#troubleshooting\n"
      ]
     },
     "execution_count": 8,
     "metadata": {},
     "output_type": "execute_result"
    }
   ],
   "source": [
    "# Count the appearances of each subreddit (filter out the users)\n",
    "subreddit_count_df_p = post_votes_df.copy()[~post_votes_df[\"SubredditName\"].str.contains(\"u_\")].drop(columns=[\"MyVote\", \"Score\"])\n",
    "subreddit_count_df_p = subreddit_count_df_p.replace(False, None)\n",
    "subreddit_count_df_c = comment_votes_df.copy()[~comment_votes_df[\"SubredditName\"].str.contains(\"u_\")].drop(columns=[\"MyVote\", \"Score\"])\n",
    "subreddit_count_df_c = subreddit_count_df_c.replace(False, None)\n",
    "# Concat\n",
    "subreddit_count_df = pd.concat([subreddit_count_df_p, subreddit_count_df_c]).reset_index(drop=True)\n",
    "subreddit_count_df[\"Count\"] = 1\n",
    "subreddit_count_df = subreddit_count_df.groupby(\"SubredditName\").count().reset_index()\n",
    "subreddit_count_df[\"IsSubscribed\"] = subreddit_count_df[\"IsSubscribed\"].map(lambda x: True if x > 0 else False)\n",
    "subreddit_count_df[\"SubredditName\"] = subreddit_count_df[\"SubredditName\"].astype(dtype=\"category\")\n",
    "\n",
    "\n",
    "# Add a slider to it to filter the minimum count\n",
    "slider1 = alt.binding_range(min=1, max=subreddit_count_df[\"Count\"].max(), step=1, name=\"Minimum Count\")\n",
    "slider2 = alt.binding_range(min=1, max=subreddit_count_df[\"Count\"].max(), step=1, name=\"Max Count\")\n",
    "selector1 = alt.selection_point(fields=[\"minCount\"], bind=slider1, name=\"minCount\", value=[{\"minCount\": 5}])\n",
    "selector2 = alt.selection_point(fields=[\"maxCount\"], bind=slider2, name=\"maxCount\", value=[{\"maxCount\": subreddit_count_df[\"Count\"].max()}])\n",
    "# Create the chart\n",
    "chart = alt.Chart(subreddit_count_df).mark_bar().encode(\n",
    "    alt.X(\"SubredditName:N\", sort=\"-y\", title=\"Subreddit\", axis=alt.Axis(labelAngle=-45)),\n",
    "    alt.Y(\"Count:Q\"),\n",
    "    tooltip=[\"Count:Q\", \"SubredditName:N\"],  # Show the count when hovering over the bar\n",
    "    color = alt.Color(\n",
    "        \"IsSubscribed:N\", \n",
    "        scale=alt.Scale(domain=[True, False], range=[\"#1f77b4\", \"#ff7f0e\"]),\n",
    "        legend=alt.Legend(title=\"Is Subscribed\", labelFontSize=12, titleFontSize=14, offset=0, orient=\"top-right\"),\n",
    "        ),\n",
    ").properties(\n",
    "    width=1200,\n",
    "    height=400,\n",
    ").add_params(\n",
    "    selector1,\n",
    "    selector2,\n",
    ").transform_filter(\n",
    "    (alt.datum.Count >= selector1.minCount) & (alt.datum.Count <= selector2.maxCount)\n",
    ")\n",
    "\n",
    "chart = chart.configure(\n",
    "    padding={\"left\": 15, \"right\": 15, \"top\": 15, \"bottom\": 15},\n",
    "    title={\"fontSize\": 18},\n",
    ").configure_view(\n",
    "    stroke=None,\n",
    ").configure_axisX(\n",
    "    labelFontSize=11,\n",
    "    titleFontSize=18,\n",
    "    grid=False,  # Remove the grid\n",
    "    domainWidth=2,  # Set the width of the axis line\n",
    "    domainColor=\"#000\"  # Set the color of the axis line\n",
    ").configure_axisY(\n",
    "    labelFontSize=14,\n",
    "    titleFontSize=18,\n",
    "    grid=False,  # Remove the grid\n",
    "    domain=False,  # Remove the axis line\n",
    ")\n",
    "\n",
    "chart.save(\"figures/voted/altair_subreddit_counts.html\")\n",
    "chart.save(\"figures/img/voted/altair_subreddit_counts.png\")\n",
    "chart\n"
   ]
  },
  {
   "cell_type": "markdown",
   "id": "d2e6c7a6",
   "metadata": {},
   "source": [
    "### Tags\n",
    "\n",
    "Do the same for each tag."
   ]
  },
  {
   "cell_type": "code",
   "execution_count": 9,
   "id": "221b0d00",
   "metadata": {},
   "outputs": [
    {
     "data": {
      "application/vnd.vegalite.v5+json": {
       "$schema": "https://vega.github.io/schema/vega-lite/v5.16.3.json",
       "config": {
        "axisX": {
         "domainColor": "#000",
         "domainWidth": 2,
         "grid": false,
         "labelFontSize": 13
        },
        "axisY": {
         "domain": false,
         "grid": false,
         "labelFontSize": 14,
         "titleFontSize": 18
        },
        "padding": {
         "bottom": 15,
         "left": 15,
         "right": 15,
         "top": 15
        },
        "title": {
         "fontSize": 18
        },
        "view": {
         "continuousHeight": 300,
         "continuousWidth": 300,
         "stroke": null
        }
       },
       "data": {
        "name": "data-c60fceffa849b9ad70a0df8876d1b602"
       },
       "datasets": {
        "data-c60fceffa849b9ad70a0df8876d1b602": [
         {
          "Count": 1204,
          "Tag": "meme"
         },
         {
          "Count": 853,
          "Tag": "fandom"
         },
         {
          "Count": 659,
          "Tag": "movie/show"
         },
         {
          "Count": 595,
          "Tag": "game"
         },
         {
          "Count": 575,
          "Tag": "information/question"
         },
         {
          "Count": 237,
          "Tag": "discussion"
         },
         {
          "Count": 199,
          "Tag": "programming"
         },
         {
          "Count": 100,
          "Tag": "hobby"
         }
        ]
       },
       "encoding": {
        "color": {
         "value": "#1f77b4"
        },
        "tooltip": [
         {
          "field": "Count",
          "type": "quantitative"
         }
        ],
        "x": {
         "field": "Count",
         "type": "quantitative"
        },
        "y": {
         "field": "Tag",
         "sort": "-x",
         "title": null,
         "type": "nominal"
        }
       },
       "height": 333.33,
       "mark": {
        "type": "bar"
       },
       "title": "The Number of My Votes for Each Tag",
       "width": 500
      },
      "text/plain": [
       "<VegaLite 5 object>\n",
       "\n",
       "If you see this message, it means the renderer has not been properly enabled\n",
       "for the frontend that you are using. For more information, see\n",
       "https://altair-viz.github.io/user_guide/display_frontends.html#troubleshooting\n"
      ]
     },
     "execution_count": 9,
     "metadata": {},
     "output_type": "execute_result"
    }
   ],
   "source": [
    "tags_df = pd.concat([post_votes_df[['SubredditName']], comment_votes_df[['SubredditName']]]).reset_index(drop=True)\n",
    "tags_df[\"Tags\"] = tags_df[\"SubredditName\"].map(lambda x: subreddits_df[subreddits_df[\"subreddit\"] == x][\"Tags\"].reset_index(drop=True)[0] if x in subreddits_df[\"subreddit\"].values else None)\n",
    "tags_df = tags_df.dropna().reset_index(drop=True).drop(columns=[\"SubredditName\"])\n",
    "tag_count_dict = tags_df[\"Tags\"].map(lambda x: x.split(\", \")).explode().value_counts().to_dict()\n",
    "tag_count_df = pd.DataFrame({\"Tag\": list(tag_count_dict.keys()), \"Count\": list(tag_count_dict.values())})\n",
    "tag_count_df[\"Tag\"] = tag_count_df[\"Tag\"].astype(dtype=\"category\")\n",
    "\n",
    "\n",
    "tags_chart = alt.Chart(tag_count_df).mark_bar().encode(\n",
    "    alt.X(\"Count:Q\"),\n",
    "    alt.Y(\"Tag:N\", sort=\"-x\", title=None),\n",
    "    color=alt.value(\"#1f77b4\"),\n",
    "    tooltip=[\"Count:Q\"],  # Show the count when hovering over the bar\n",
    ").properties(\n",
    "    # Set the size of the chart\n",
    "    width=500,\n",
    "    height=333.33,\n",
    "    title = \"The Number of My Votes for Each Tag\"\n",
    ").configure(\n",
    "    padding={\"left\": 15, \"right\": 15, \"top\": 15, \"bottom\": 15},\n",
    "    title={\"fontSize\": 18},\n",
    ").configure_view(\n",
    "    stroke=None,\n",
    ").configure_axisX(\n",
    "    labelFontSize=13,\n",
    "    grid=False,  # Remove the grid\n",
    "    domainWidth=2,  # Set the width of the axis line\n",
    "    domainColor=\"#000\"  # Set the color of the axis line\n",
    ").configure_axisY(\n",
    "    labelFontSize=14,\n",
    "    titleFontSize=18,\n",
    "    grid=False,  # Remove the grid\n",
    "    domain=False,  # Remove the axis line\n",
    ")\n",
    "\n",
    "tags_chart.save(\"figures/voted/altair_tag_counts.html\")\n",
    "tags_chart.save(\"figures/img/voted/altair_tag_counts.png\")\n",
    "tags_chart"
   ]
  },
  {
   "cell_type": "markdown",
   "id": "a4d2710b",
   "metadata": {},
   "source": [
    "### Number of Upvotes and Downvotes and If I am Subscribed\n",
    "\n",
    "Count the number of total upvotes/downvotes and the number of posts and comments that I have voted in each subreddit that I am subscribed/not subscribed and visualize them in a bar chart."
   ]
  },
  {
   "cell_type": "code",
   "execution_count": 10,
   "id": "d1f76601",
   "metadata": {},
   "outputs": [
    {
     "data": {
      "application/vnd.vegalite.v5+json": {
       "$schema": "https://vega.github.io/schema/vega-lite/v5.16.3.json",
       "config": {
        "axisX": {
         "domainColor": "#000",
         "domainWidth": 2,
         "grid": false,
         "labelFontSize": 14,
         "titleFontSize": 14
        },
        "axisY": {
         "domain": false,
         "grid": false,
         "labelFontSize": 14,
         "titleFontSize": 14
        },
        "padding": {
         "bottom": 15,
         "left": 15,
         "right": 15,
         "top": 15
        },
        "title": {
         "fontSize": 18
        },
        "view": {
         "continuousHeight": 300,
         "continuousWidth": 300,
         "stroke": null
        }
       },
       "data": {
        "name": "data-468653d7fd71eba4af43a772035f20f3"
       },
       "datasets": {
        "data-468653d7fd71eba4af43a772035f20f3": [
         {
          "IsSubscribed": true,
          "MyVote": 1,
          "Score": null,
          "SubredditName": "unexpectedMontyPython"
         },
         {
          "IsSubscribed": true,
          "MyVote": 1,
          "Score": 195,
          "SubredditName": "ProgrammerHumor"
         },
         {
          "IsSubscribed": true,
          "MyVote": 1,
          "Score": 11075,
          "SubredditName": "TheLastAirbender"
         },
         {
          "IsSubscribed": true,
          "MyVote": 1,
          "Score": 145,
          "SubredditName": "risa"
         },
         {
          "IsSubscribed": true,
          "MyVote": 1,
          "Score": null,
          "SubredditName": "unexpectedMontyPython"
         },
         {
          "IsSubscribed": true,
          "MyVote": 1,
          "Score": 23310,
          "SubredditName": "TheLastAirbender"
         },
         {
          "IsSubscribed": true,
          "MyVote": 1,
          "Score": 1456,
          "SubredditName": "ProgrammerHumor"
         },
         {
          "IsSubscribed": false,
          "MyVote": 1,
          "Score": 63,
          "SubredditName": "Teleshits"
         },
         {
          "IsSubscribed": true,
          "MyVote": 1,
          "Score": 8,
          "SubredditName": "SatisfactoryGame"
         },
         {
          "IsSubscribed": true,
          "MyVote": 1,
          "Score": 24,
          "SubredditName": "seinfeld"
         },
         {
          "IsSubscribed": true,
          "MyVote": 1,
          "Score": 99,
          "SubredditName": "startrekmemes"
         },
         {
          "IsSubscribed": true,
          "MyVote": 1,
          "Score": 1447,
          "SubredditName": "startrekmemes"
         },
         {
          "IsSubscribed": true,
          "MyVote": 1,
          "Score": 584,
          "SubredditName": "startrekmemes"
         },
         {
          "IsSubscribed": true,
          "MyVote": -1,
          "Score": 0,
          "SubredditName": "ProgrammerHumor"
         },
         {
          "IsSubscribed": true,
          "MyVote": 1,
          "Score": 17,
          "SubredditName": "startrekmemes"
         },
         {
          "IsSubscribed": true,
          "MyVote": 1,
          "Score": 1101,
          "SubredditName": "startrekmemes"
         },
         {
          "IsSubscribed": true,
          "MyVote": 1,
          "Score": 36,
          "SubredditName": "seinfeld"
         },
         {
          "IsSubscribed": true,
          "MyVote": 1,
          "Score": 221,
          "SubredditName": "seinfeld"
         },
         {
          "IsSubscribed": true,
          "MyVote": 1,
          "Score": 25224,
          "SubredditName": "gaming"
         },
         {
          "IsSubscribed": true,
          "MyVote": 1,
          "Score": 3,
          "SubredditName": "seinfeld"
         },
         {
          "IsSubscribed": true,
          "MyVote": 1,
          "Score": null,
          "SubredditName": "unexpectedMontyPython"
         },
         {
          "IsSubscribed": true,
          "MyVote": 1,
          "Score": 42,
          "SubredditName": "gaming"
         },
         {
          "IsSubscribed": true,
          "MyVote": 1,
          "Score": null,
          "SubredditName": "unexpectedMontyPython"
         },
         {
          "IsSubscribed": true,
          "MyVote": 1,
          "Score": 600,
          "SubredditName": "GreekMythology"
         },
         {
          "IsSubscribed": true,
          "MyVote": 1,
          "Score": 352,
          "SubredditName": "TheLastAirbender"
         },
         {
          "IsSubscribed": true,
          "MyVote": 1,
          "Score": 28,
          "SubredditName": "startrekmemes"
         },
         {
          "IsSubscribed": true,
          "MyVote": 1,
          "Score": 7,
          "SubredditName": "risa"
         },
         {
          "IsSubscribed": true,
          "MyVote": 1,
          "Score": 4,
          "SubredditName": "TheLastAirbender"
         },
         {
          "IsSubscribed": true,
          "MyVote": 1,
          "Score": 263,
          "SubredditName": "veYakinEvren"
         },
         {
          "IsSubscribed": true,
          "MyVote": -1,
          "Score": 2,
          "SubredditName": "camphalfblood"
         },
         {
          "IsSubscribed": true,
          "MyVote": 1,
          "Score": 239,
          "SubredditName": "startrekmemes"
         },
         {
          "IsSubscribed": true,
          "MyVote": 1,
          "Score": 121,
          "SubredditName": "seinfeld"
         },
         {
          "IsSubscribed": true,
          "MyVote": 1,
          "Score": 146,
          "SubredditName": "ProgrammerHumor"
         },
         {
          "IsSubscribed": true,
          "MyVote": 1,
          "Score": 221,
          "SubredditName": "SatisfactoryGame"
         },
         {
          "IsSubscribed": true,
          "MyVote": 1,
          "Score": 90,
          "SubredditName": "startrekmemes"
         },
         {
          "IsSubscribed": true,
          "MyVote": 1,
          "Score": 345,
          "SubredditName": "MontyPythonMemes"
         },
         {
          "IsSubscribed": true,
          "MyVote": 1,
          "Score": 449,
          "SubredditName": "mathmemes"
         },
         {
          "IsSubscribed": true,
          "MyVote": 1,
          "Score": null,
          "SubredditName": "unexpectedMontyPython"
         },
         {
          "IsSubscribed": true,
          "MyVote": 1,
          "Score": 269,
          "SubredditName": "gaming"
         },
         {
          "IsSubscribed": true,
          "MyVote": 1,
          "Score": 599,
          "SubredditName": "seinfeld"
         },
         {
          "IsSubscribed": true,
          "MyVote": 1,
          "Score": 18073,
          "SubredditName": "TheLastAirbender"
         },
         {
          "IsSubscribed": true,
          "MyVote": 1,
          "Score": 107,
          "SubredditName": "startrekmemes"
         },
         {
          "IsSubscribed": true,
          "MyVote": 1,
          "Score": 22,
          "SubredditName": "TheLastAirbender"
         },
         {
          "IsSubscribed": true,
          "MyVote": 1,
          "Score": 1037,
          "SubredditName": "startrekmemes"
         },
         {
          "IsSubscribed": true,
          "MyVote": 1,
          "Score": 1253,
          "SubredditName": "startrekmemes"
         },
         {
          "IsSubscribed": true,
          "MyVote": 1,
          "Score": null,
          "SubredditName": "unexpectedMontyPython"
         },
         {
          "IsSubscribed": true,
          "MyVote": 1,
          "Score": 63,
          "SubredditName": "seinfeld"
         },
         {
          "IsSubscribed": true,
          "MyVote": 1,
          "Score": 68630,
          "SubredditName": "ProgrammerHumor"
         },
         {
          "IsSubscribed": true,
          "MyVote": 1,
          "Score": 51,
          "SubredditName": "seinfeld"
         },
         {
          "IsSubscribed": true,
          "MyVote": 1,
          "Score": 33,
          "SubredditName": "TheLastAirbender"
         },
         {
          "IsSubscribed": true,
          "MyVote": 1,
          "Score": 23,
          "SubredditName": "yugioh"
         },
         {
          "IsSubscribed": true,
          "MyVote": 1,
          "Score": 7,
          "SubredditName": "startrekmemes"
         },
         {
          "IsSubscribed": true,
          "MyVote": 1,
          "Score": 30,
          "SubredditName": "SatisfactoryGame"
         },
         {
          "IsSubscribed": true,
          "MyVote": 1,
          "Score": 225,
          "SubredditName": "gaming"
         },
         {
          "IsSubscribed": true,
          "MyVote": 1,
          "Score": 28,
          "SubredditName": "startrekmemes"
         },
         {
          "IsSubscribed": true,
          "MyVote": 1,
          "Score": 438,
          "SubredditName": "camphalfblood"
         },
         {
          "IsSubscribed": true,
          "MyVote": 1,
          "Score": 70,
          "SubredditName": "ProgrammerHumor"
         },
         {
          "IsSubscribed": true,
          "MyVote": 1,
          "Score": 367,
          "SubredditName": "ElectroBOOM"
         },
         {
          "IsSubscribed": true,
          "MyVote": 1,
          "Score": 15,
          "SubredditName": "montypython"
         },
         {
          "IsSubscribed": true,
          "MyVote": -1,
          "Score": 649,
          "SubredditName": "gaming"
         },
         {
          "IsSubscribed": true,
          "MyVote": 1,
          "Score": 559,
          "SubredditName": "ProgrammerHumor"
         },
         {
          "IsSubscribed": true,
          "MyVote": 1,
          "Score": 349,
          "SubredditName": "ProgrammerHumor"
         },
         {
          "IsSubscribed": true,
          "MyVote": 1,
          "Score": 90,
          "SubredditName": "ProgrammerHumor"
         },
         {
          "IsSubscribed": true,
          "MyVote": 1,
          "Score": null,
          "SubredditName": "unexpectedMontyPython"
         },
         {
          "IsSubscribed": true,
          "MyVote": 1,
          "Score": 627,
          "SubredditName": "risa"
         },
         {
          "IsSubscribed": true,
          "MyVote": 1,
          "Score": 43,
          "SubredditName": "TheLastAirbender"
         },
         {
          "IsSubscribed": true,
          "MyVote": 1,
          "Score": 3,
          "SubredditName": "startrek"
         },
         {
          "IsSubscribed": true,
          "MyVote": 1,
          "Score": 267,
          "SubredditName": "startrekmemes"
         },
         {
          "IsSubscribed": true,
          "MyVote": 1,
          "Score": 420,
          "SubredditName": "seinfeld"
         },
         {
          "IsSubscribed": true,
          "MyVote": 1,
          "Score": 2856,
          "SubredditName": "mathmemes"
         },
         {
          "IsSubscribed": true,
          "MyVote": 1,
          "Score": 153,
          "SubredditName": "startrekmemes"
         },
         {
          "IsSubscribed": true,
          "MyVote": 1,
          "Score": 610,
          "SubredditName": "yugioh"
         },
         {
          "IsSubscribed": true,
          "MyVote": 1,
          "Score": 377,
          "SubredditName": "ScarySigns"
         },
         {
          "IsSubscribed": true,
          "MyVote": 1,
          "Score": 316,
          "SubredditName": "SatisfactoryGame"
         },
         {
          "IsSubscribed": true,
          "MyVote": 1,
          "Score": 11,
          "SubredditName": "seinfeld"
         },
         {
          "IsSubscribed": true,
          "MyVote": 1,
          "Score": 0,
          "SubredditName": "TheLastAirbender"
         },
         {
          "IsSubscribed": true,
          "MyVote": 1,
          "Score": 279,
          "SubredditName": "TheLastAirbender"
         },
         {
          "IsSubscribed": true,
          "MyVote": 1,
          "Score": 13002,
          "SubredditName": "TheLastAirbender"
         },
         {
          "IsSubscribed": true,
          "MyVote": 1,
          "Score": 30,
          "SubredditName": "seinfeld"
         },
         {
          "IsSubscribed": true,
          "MyVote": 1,
          "Score": 214,
          "SubredditName": "SatisfactoryGame"
         },
         {
          "IsSubscribed": true,
          "MyVote": 1,
          "Score": 276,
          "SubredditName": "ProgrammerHumor"
         },
         {
          "IsSubscribed": true,
          "MyVote": 1,
          "Score": null,
          "SubredditName": "unexpectedMontyPython"
         },
         {
          "IsSubscribed": true,
          "MyVote": 1,
          "Score": 29,
          "SubredditName": "gaming"
         },
         {
          "IsSubscribed": true,
          "MyVote": 1,
          "Score": 8,
          "SubredditName": "startrek"
         },
         {
          "IsSubscribed": true,
          "MyVote": 1,
          "Score": 112,
          "SubredditName": "startrekmemes"
         },
         {
          "IsSubscribed": true,
          "MyVote": 1,
          "Score": 81,
          "SubredditName": "seinfeld"
         },
         {
          "IsSubscribed": true,
          "MyVote": 1,
          "Score": 34,
          "SubredditName": "gaming"
         },
         {
          "IsSubscribed": true,
          "MyVote": 1,
          "Score": 4119,
          "SubredditName": "gaming"
         },
         {
          "IsSubscribed": true,
          "MyVote": 1,
          "Score": 895,
          "SubredditName": "startrekmemes"
         },
         {
          "IsSubscribed": true,
          "MyVote": 1,
          "Score": 79,
          "SubredditName": "startrekmemes"
         },
         {
          "IsSubscribed": true,
          "MyVote": 1,
          "Score": 68,
          "SubredditName": "MovieQuotes"
         },
         {
          "IsSubscribed": true,
          "MyVote": 1,
          "Score": 32970,
          "SubredditName": "ProgrammerHumor"
         },
         {
          "IsSubscribed": true,
          "MyVote": 1,
          "Score": 717,
          "SubredditName": "gaming"
         },
         {
          "IsSubscribed": true,
          "MyVote": 1,
          "Score": 131,
          "SubredditName": "CodeBullet"
         },
         {
          "IsSubscribed": true,
          "MyVote": 1,
          "Score": 209,
          "SubredditName": "startrekmemes"
         },
         {
          "IsSubscribed": true,
          "MyVote": 1,
          "Score": 45,
          "SubredditName": "yugioh"
         },
         {
          "IsSubscribed": true,
          "MyVote": 1,
          "Score": 1006,
          "SubredditName": "mathmemes"
         },
         {
          "IsSubscribed": true,
          "MyVote": 1,
          "Score": 804,
          "SubredditName": "gaming"
         },
         {
          "IsSubscribed": true,
          "MyVote": 1,
          "Score": 67,
          "SubredditName": "seinfeld"
         },
         {
          "IsSubscribed": true,
          "MyVote": -1,
          "Score": 702,
          "SubredditName": "startrekmemes"
         },
         {
          "IsSubscribed": true,
          "MyVote": 1,
          "Score": 5004,
          "SubredditName": "ProgrammerHumor"
         },
         {
          "IsSubscribed": true,
          "MyVote": 1,
          "Score": 51,
          "SubredditName": "mathmemes"
         },
         {
          "IsSubscribed": true,
          "MyVote": 1,
          "Score": 418,
          "SubredditName": "risa"
         },
         {
          "IsSubscribed": true,
          "MyVote": 1,
          "Score": 274,
          "SubredditName": "MontyPythonMemes"
         },
         {
          "IsSubscribed": true,
          "MyVote": 1,
          "Score": 138,
          "SubredditName": "risa"
         },
         {
          "IsSubscribed": true,
          "MyVote": -1,
          "Score": 193,
          "SubredditName": "GreekMythology"
         },
         {
          "IsSubscribed": true,
          "MyVote": 1,
          "Score": 240,
          "SubredditName": "startrekmemes"
         },
         {
          "IsSubscribed": true,
          "MyVote": 1,
          "Score": 4165,
          "SubredditName": "ProgrammerHumor"
         },
         {
          "IsSubscribed": true,
          "MyVote": 1,
          "Score": 41,
          "SubredditName": "veYakinEvren"
         },
         {
          "IsSubscribed": true,
          "MyVote": 1,
          "Score": 117,
          "SubredditName": "yugioh"
         },
         {
          "IsSubscribed": false,
          "MyVote": 1,
          "Score": 197,
          "SubredditName": "dndmemes"
         },
         {
          "IsSubscribed": true,
          "MyVote": 1,
          "Score": 168,
          "SubredditName": "seinfeld"
         },
         {
          "IsSubscribed": true,
          "MyVote": 1,
          "Score": 359,
          "SubredditName": "veYakinEvren"
         },
         {
          "IsSubscribed": true,
          "MyVote": 1,
          "Score": 2936,
          "SubredditName": "mathmemes"
         },
         {
          "IsSubscribed": true,
          "MyVote": 1,
          "Score": 354,
          "SubredditName": "startrekmemes"
         },
         {
          "IsSubscribed": true,
          "MyVote": 1,
          "Score": 530,
          "SubredditName": "ProgrammerHumor"
         },
         {
          "IsSubscribed": true,
          "MyVote": 1,
          "Score": 196,
          "SubredditName": "ProgrammerHumor"
         },
         {
          "IsSubscribed": true,
          "MyVote": 1,
          "Score": 25025,
          "SubredditName": "ProgrammerHumor"
         },
         {
          "IsSubscribed": true,
          "MyVote": 1,
          "Score": 576,
          "SubredditName": "ProgrammerHumor"
         },
         {
          "IsSubscribed": true,
          "MyVote": 1,
          "Score": 19150,
          "SubredditName": "TheLastAirbender"
         },
         {
          "IsSubscribed": true,
          "MyVote": 1,
          "Score": 605,
          "SubredditName": "startrekmemes"
         },
         {
          "IsSubscribed": true,
          "MyVote": 1,
          "Score": 1400,
          "SubredditName": "startrekmemes"
         },
         {
          "IsSubscribed": true,
          "MyVote": 1,
          "Score": 848,
          "SubredditName": "startrekmemes"
         },
         {
          "IsSubscribed": true,
          "MyVote": 1,
          "Score": 57,
          "SubredditName": "seinfeld"
         },
         {
          "IsSubscribed": true,
          "MyVote": 1,
          "Score": 531,
          "SubredditName": "satisfactory"
         },
         {
          "IsSubscribed": false,
          "MyVote": 1,
          "Score": 3127,
          "SubredditName": "dndmemes"
         },
         {
          "IsSubscribed": false,
          "MyVote": 1,
          "Score": 1,
          "SubredditName": "webdev"
         },
         {
          "IsSubscribed": true,
          "MyVote": 1,
          "Score": 367,
          "SubredditName": "mathmemes"
         },
         {
          "IsSubscribed": true,
          "MyVote": 1,
          "Score": 1027,
          "SubredditName": "startrekmemes"
         },
         {
          "IsSubscribed": true,
          "MyVote": 1,
          "Score": 86,
          "SubredditName": "UnexpectedSeinfeld"
         },
         {
          "IsSubscribed": true,
          "MyVote": 1,
          "Score": 312,
          "SubredditName": "startrekmemes"
         },
         {
          "IsSubscribed": true,
          "MyVote": 1,
          "Score": 2068,
          "SubredditName": "startrekmemes"
         },
         {
          "IsSubscribed": true,
          "MyVote": 1,
          "Score": 1292,
          "SubredditName": "ProgrammerHumor"
         },
         {
          "IsSubscribed": true,
          "MyVote": 1,
          "Score": 53,
          "SubredditName": "veYakinEvren"
         },
         {
          "IsSubscribed": true,
          "MyVote": 1,
          "Score": null,
          "SubredditName": "unexpectedMontyPython"
         },
         {
          "IsSubscribed": true,
          "MyVote": 1,
          "Score": 4595,
          "SubredditName": "ProgrammerHumor"
         },
         {
          "IsSubscribed": true,
          "MyVote": 1,
          "Score": 163,
          "SubredditName": "startrekmemes"
         },
         {
          "IsSubscribed": true,
          "MyVote": 1,
          "Score": 285,
          "SubredditName": "CodeBullet"
         },
         {
          "IsSubscribed": true,
          "MyVote": 1,
          "Score": 1307,
          "SubredditName": "startrekmemes"
         },
         {
          "IsSubscribed": true,
          "MyVote": 1,
          "Score": 1613,
          "SubredditName": "startrekmemes"
         },
         {
          "IsSubscribed": true,
          "MyVote": 1,
          "Score": 2667,
          "SubredditName": "startrekmemes"
         },
         {
          "IsSubscribed": true,
          "MyVote": 1,
          "Score": 202,
          "SubredditName": "montypython"
         },
         {
          "IsSubscribed": false,
          "MyVote": 1,
          "Score": 1,
          "SubredditName": "webdev"
         },
         {
          "IsSubscribed": true,
          "MyVote": 1,
          "Score": null,
          "SubredditName": "unexpectedMontyPython"
         },
         {
          "IsSubscribed": true,
          "MyVote": 1,
          "Score": 133,
          "SubredditName": "startrekmemes"
         },
         {
          "IsSubscribed": true,
          "MyVote": 1,
          "Score": 7,
          "SubredditName": "startrekmemes"
         },
         {
          "IsSubscribed": true,
          "MyVote": 1,
          "Score": 154,
          "SubredditName": "risa"
         },
         {
          "IsSubscribed": true,
          "MyVote": 1,
          "Score": 3981,
          "SubredditName": "seinfeld"
         },
         {
          "IsSubscribed": true,
          "MyVote": 1,
          "Score": 1948,
          "SubredditName": "ProgrammerHumor"
         },
         {
          "IsSubscribed": true,
          "MyVote": 1,
          "Score": 209,
          "SubredditName": "MontyPythonMemes"
         },
         {
          "IsSubscribed": false,
          "MyVote": 1,
          "Score": 4,
          "SubredditName": "programmingmemes"
         },
         {
          "IsSubscribed": true,
          "MyVote": 1,
          "Score": 27627,
          "SubredditName": "ProgrammerHumor"
         },
         {
          "IsSubscribed": true,
          "MyVote": 1,
          "Score": 421,
          "SubredditName": "camphalfblood"
         },
         {
          "IsSubscribed": true,
          "MyVote": 1,
          "Score": 1521,
          "SubredditName": "startrekmemes"
         },
         {
          "IsSubscribed": true,
          "MyVote": 1,
          "Score": 1188,
          "SubredditName": "startrekmemes"
         },
         {
          "IsSubscribed": true,
          "MyVote": 1,
          "Score": 529,
          "SubredditName": "startrekmemes"
         },
         {
          "IsSubscribed": true,
          "MyVote": 1,
          "Score": 35,
          "SubredditName": "startrekmemes"
         },
         {
          "IsSubscribed": true,
          "MyVote": 1,
          "Score": 1194,
          "SubredditName": "startrekmemes"
         },
         {
          "IsSubscribed": true,
          "MyVote": 1,
          "Score": 86,
          "SubredditName": "veYakinEvren"
         },
         {
          "IsSubscribed": true,
          "MyVote": 1,
          "Score": 492,
          "SubredditName": "PercyJacksonMemes"
         },
         {
          "IsSubscribed": true,
          "MyVote": 1,
          "Score": 12675,
          "SubredditName": "TheLastAirbender"
         },
         {
          "IsSubscribed": true,
          "MyVote": 1,
          "Score": 61,
          "SubredditName": "ProgrammerHumor"
         },
         {
          "IsSubscribed": true,
          "MyVote": 1,
          "Score": 47,
          "SubredditName": "Deepspaceninememes"
         },
         {
          "IsSubscribed": true,
          "MyVote": 1,
          "Score": null,
          "SubredditName": "unexpectedMontyPython"
         },
         {
          "IsSubscribed": true,
          "MyVote": 1,
          "Score": 502,
          "SubredditName": "risa"
         },
         {
          "IsSubscribed": true,
          "MyVote": 1,
          "Score": 5836,
          "SubredditName": "mathmemes"
         },
         {
          "IsSubscribed": true,
          "MyVote": 1,
          "Score": 1109,
          "SubredditName": "ProgrammerHumor"
         },
         {
          "IsSubscribed": true,
          "MyVote": 1,
          "Score": 4990,
          "SubredditName": "gaming"
         },
         {
          "IsSubscribed": true,
          "MyVote": -1,
          "Score": 236,
          "SubredditName": "TheLastAirbender"
         },
         {
          "IsSubscribed": true,
          "MyVote": 1,
          "Score": 449,
          "SubredditName": "camphalfblood"
         },
         {
          "IsSubscribed": true,
          "MyVote": 1,
          "Score": 324,
          "SubredditName": "PercyJacksonMemes"
         },
         {
          "IsSubscribed": true,
          "MyVote": 1,
          "Score": 241,
          "SubredditName": "risa"
         },
         {
          "IsSubscribed": true,
          "MyVote": 1,
          "Score": 77,
          "SubredditName": "startrekmemes"
         },
         {
          "IsSubscribed": true,
          "MyVote": 1,
          "Score": 50,
          "SubredditName": "seinfeld"
         },
         {
          "IsSubscribed": true,
          "MyVote": 1,
          "Score": 455,
          "SubredditName": "risa"
         },
         {
          "IsSubscribed": true,
          "MyVote": 1,
          "Score": 72,
          "SubredditName": "camphalfblood"
         },
         {
          "IsSubscribed": true,
          "MyVote": 1,
          "Score": 295,
          "SubredditName": "ProgrammerHumor"
         },
         {
          "IsSubscribed": false,
          "MyVote": 1,
          "Score": 7118,
          "SubredditName": "lotrmemes"
         },
         {
          "IsSubscribed": true,
          "MyVote": 1,
          "Score": null,
          "SubredditName": "unexpectedMontyPython"
         },
         {
          "IsSubscribed": true,
          "MyVote": 1,
          "Score": null,
          "SubredditName": "unexpectedMontyPython"
         },
         {
          "IsSubscribed": true,
          "MyVote": 1,
          "Score": 520,
          "SubredditName": "risa"
         },
         {
          "IsSubscribed": true,
          "MyVote": 1,
          "Score": 601,
          "SubredditName": "camphalfblood"
         },
         {
          "IsSubscribed": true,
          "MyVote": 1,
          "Score": 795,
          "SubredditName": "startrekmemes"
         },
         {
          "IsSubscribed": true,
          "MyVote": 1,
          "Score": 136,
          "SubredditName": "GreekMythology"
         },
         {
          "IsSubscribed": true,
          "MyVote": 1,
          "Score": 3808,
          "SubredditName": "mathmemes"
         },
         {
          "IsSubscribed": false,
          "MyVote": 1,
          "Score": 50,
          "SubredditName": "dndmemes"
         },
         {
          "IsSubscribed": true,
          "MyVote": 1,
          "Score": 10254,
          "SubredditName": "ProgrammerHumor"
         },
         {
          "IsSubscribed": true,
          "MyVote": 1,
          "Score": 299,
          "SubredditName": "yugioh"
         },
         {
          "IsSubscribed": true,
          "MyVote": 1,
          "Score": 1866,
          "SubredditName": "mathmemes"
         },
         {
          "IsSubscribed": true,
          "MyVote": 1,
          "Score": 223,
          "SubredditName": "veYakinEvren"
         },
         {
          "IsSubscribed": true,
          "MyVote": 1,
          "Score": 0,
          "SubredditName": "ProgrammerHumor"
         },
         {
          "IsSubscribed": true,
          "MyVote": 1,
          "Score": 39,
          "SubredditName": "startrekmemes"
         },
         {
          "IsSubscribed": true,
          "MyVote": 1,
          "Score": 2490,
          "SubredditName": "mathmemes"
         },
         {
          "IsSubscribed": true,
          "MyVote": 1,
          "Score": 423,
          "SubredditName": "risa"
         },
         {
          "IsSubscribed": true,
          "MyVote": 1,
          "Score": 172,
          "SubredditName": "MontyPythonMemes"
         },
         {
          "IsSubscribed": true,
          "MyVote": 1,
          "Score": 91,
          "SubredditName": "ProgrammerHumor"
         },
         {
          "IsSubscribed": true,
          "MyVote": 1,
          "Score": 2366,
          "SubredditName": "ProgrammerHumor"
         },
         {
          "IsSubscribed": true,
          "MyVote": 1,
          "Score": 229,
          "SubredditName": "seinfeld"
         },
         {
          "IsSubscribed": true,
          "MyVote": 1,
          "Score": 279,
          "SubredditName": "seinfeld"
         },
         {
          "IsSubscribed": true,
          "MyVote": 1,
          "Score": 62,
          "SubredditName": "GreekMythology"
         },
         {
          "IsSubscribed": false,
          "MyVote": 1,
          "Score": 1183,
          "SubredditName": "dndmemes"
         },
         {
          "IsSubscribed": false,
          "MyVote": 1,
          "Score": 89,
          "SubredditName": "AbsoluteUnits"
         },
         {
          "IsSubscribed": true,
          "MyVote": 1,
          "Score": 139,
          "SubredditName": "seinfeld"
         },
         {
          "IsSubscribed": true,
          "MyVote": 1,
          "Score": 5247,
          "SubredditName": "ProgrammerHumor"
         },
         {
          "IsSubscribed": true,
          "MyVote": 1,
          "Score": 1137,
          "SubredditName": "startrekmemes"
         },
         {
          "IsSubscribed": true,
          "MyVote": 1,
          "Score": 325,
          "SubredditName": "mathmemes"
         },
         {
          "IsSubscribed": true,
          "MyVote": 1,
          "Score": 1570,
          "SubredditName": "camphalfblood"
         },
         {
          "IsSubscribed": true,
          "MyVote": 1,
          "Score": 539,
          "SubredditName": "veYakinEvren"
         },
         {
          "IsSubscribed": true,
          "MyVote": 1,
          "Score": 25,
          "SubredditName": "veYakinEvren"
         },
         {
          "IsSubscribed": false,
          "MyVote": 1,
          "Score": 3111,
          "SubredditName": "legendofkorra"
         },
         {
          "IsSubscribed": true,
          "MyVote": 1,
          "Score": 478,
          "SubredditName": "yugioh"
         },
         {
          "IsSubscribed": true,
          "MyVote": 1,
          "Score": 0,
          "SubredditName": "GreekMythology"
         },
         {
          "IsSubscribed": true,
          "MyVote": 1,
          "Score": 942,
          "SubredditName": "PercyJacksonMemes"
         },
         {
          "IsSubscribed": true,
          "MyVote": 1,
          "Score": 33,
          "SubredditName": "gaming"
         },
         {
          "IsSubscribed": true,
          "MyVote": 1,
          "Score": 210,
          "SubredditName": "seinfeld"
         },
         {
          "IsSubscribed": true,
          "MyVote": 1,
          "Score": 120,
          "SubredditName": "veYakinEvren"
         },
         {
          "IsSubscribed": true,
          "MyVote": 1,
          "Score": 529,
          "SubredditName": "mathmemes"
         },
         {
          "IsSubscribed": false,
          "MyVote": 1,
          "Score": 1261,
          "SubredditName": "dndmemes"
         },
         {
          "IsSubscribed": true,
          "MyVote": 1,
          "Score": 165,
          "SubredditName": "montypython"
         },
         {
          "IsSubscribed": true,
          "MyVote": 1,
          "Score": 220,
          "SubredditName": "montypython"
         },
         {
          "IsSubscribed": true,
          "MyVote": 1,
          "Score": 265,
          "SubredditName": "ElectroBOOM"
         },
         {
          "IsSubscribed": true,
          "MyVote": 1,
          "Score": null,
          "SubredditName": "unexpectedMontyPython"
         },
         {
          "IsSubscribed": true,
          "MyVote": 1,
          "Score": 628,
          "SubredditName": "startrekmemes"
         },
         {
          "IsSubscribed": true,
          "MyVote": 1,
          "Score": 45,
          "SubredditName": "veYakinEvren"
         },
         {
          "IsSubscribed": true,
          "MyVote": 1,
          "Score": 112,
          "SubredditName": "veYakinEvren"
         },
         {
          "IsSubscribed": true,
          "MyVote": 1,
          "Score": 1308,
          "SubredditName": "mathmemes"
         },
         {
          "IsSubscribed": true,
          "MyVote": 1,
          "Score": 1550,
          "SubredditName": "ProgrammerHumor"
         },
         {
          "IsSubscribed": true,
          "MyVote": 1,
          "Score": 201,
          "SubredditName": "risa"
         },
         {
          "IsSubscribed": true,
          "MyVote": 1,
          "Score": 311,
          "SubredditName": "startrekmemes"
         },
         {
          "IsSubscribed": true,
          "MyVote": 1,
          "Score": 2839,
          "SubredditName": "TheLastAirbender"
         },
         {
          "IsSubscribed": true,
          "MyVote": 1,
          "Score": 3029,
          "SubredditName": "ProgrammerHumor"
         },
         {
          "IsSubscribed": true,
          "MyVote": 1,
          "Score": 809,
          "SubredditName": "ProgrammerHumor"
         },
         {
          "IsSubscribed": true,
          "MyVote": 1,
          "Score": 7,
          "SubredditName": "veYakinEvren"
         },
         {
          "IsSubscribed": true,
          "MyVote": 1,
          "Score": 142,
          "SubredditName": "risa"
         },
         {
          "IsSubscribed": true,
          "MyVote": 1,
          "Score": 6967,
          "SubredditName": "TheLastAirbender"
         },
         {
          "IsSubscribed": true,
          "MyVote": 1,
          "Score": 446,
          "SubredditName": "startrekmemes"
         },
         {
          "IsSubscribed": true,
          "MyVote": 1,
          "Score": 4,
          "SubredditName": "SenNeDiyon"
         },
         {
          "IsSubscribed": true,
          "MyVote": 1,
          "Score": 215,
          "SubredditName": "startrekmemes"
         },
         {
          "IsSubscribed": true,
          "MyVote": 1,
          "Score": 81,
          "SubredditName": "seinfeld"
         },
         {
          "IsSubscribed": true,
          "MyVote": 1,
          "Score": 75,
          "SubredditName": "CodeBullet"
         },
         {
          "IsSubscribed": true,
          "MyVote": 1,
          "Score": 3458,
          "SubredditName": "ProgrammerHumor"
         },
         {
          "IsSubscribed": true,
          "MyVote": 1,
          "Score": 3083,
          "SubredditName": "seinfeld"
         },
         {
          "IsSubscribed": true,
          "MyVote": 1,
          "Score": 14092,
          "SubredditName": "gaming"
         },
         {
          "IsSubscribed": true,
          "MyVote": 1,
          "Score": 345,
          "SubredditName": "PercyJacksonMemes"
         },
         {
          "IsSubscribed": true,
          "MyVote": 1,
          "Score": 49,
          "SubredditName": "veYakinEvren"
         },
         {
          "IsSubscribed": true,
          "MyVote": 1,
          "Score": 169,
          "SubredditName": "veYakinEvren"
         },
         {
          "IsSubscribed": true,
          "MyVote": 1,
          "Score": 423,
          "SubredditName": "PercyJacksonMemes"
         },
         {
          "IsSubscribed": true,
          "MyVote": 1,
          "Score": 92,
          "SubredditName": "camphalfblood"
         },
         {
          "IsSubscribed": true,
          "MyVote": 1,
          "Score": 629,
          "SubredditName": "mathmemes"
         },
         {
          "IsSubscribed": true,
          "MyVote": 1,
          "Score": 262,
          "SubredditName": "mathmemes"
         },
         {
          "IsSubscribed": true,
          "MyVote": 1,
          "Score": 17,
          "SubredditName": "startrekmemes"
         },
         {
          "IsSubscribed": true,
          "MyVote": 1,
          "Score": 704,
          "SubredditName": "startrekmemes"
         },
         {
          "IsSubscribed": true,
          "MyVote": 1,
          "Score": 465,
          "SubredditName": "startrekmemes"
         },
         {
          "IsSubscribed": true,
          "MyVote": -1,
          "Score": 495,
          "SubredditName": "startrekmemes"
         },
         {
          "IsSubscribed": true,
          "MyVote": 1,
          "Score": 306,
          "SubredditName": "ProgrammerHumor"
         },
         {
          "IsSubscribed": true,
          "MyVote": 1,
          "Score": 8512,
          "SubredditName": "TheLastAirbender"
         },
         {
          "IsSubscribed": false,
          "MyVote": -1,
          "Score": 0,
          "SubredditName": "u_AgeSA_HE"
         },
         {
          "IsSubscribed": true,
          "MyVote": 1,
          "Score": 671,
          "SubredditName": "mathmemes"
         },
         {
          "IsSubscribed": true,
          "MyVote": 1,
          "Score": 147,
          "SubredditName": "veYakinEvren"
         },
         {
          "IsSubscribed": true,
          "MyVote": 1,
          "Score": 2,
          "SubredditName": "veYakinEvren"
         },
         {
          "IsSubscribed": true,
          "MyVote": 1,
          "Score": 220,
          "SubredditName": "ProgrammerHumor"
         },
         {
          "IsSubscribed": false,
          "MyVote": -1,
          "Score": 0,
          "SubredditName": "u_tipsicco"
         },
         {
          "IsSubscribed": true,
          "MyVote": 1,
          "Score": 2583,
          "SubredditName": "startrekmemes"
         },
         {
          "IsSubscribed": true,
          "MyVote": 1,
          "Score": 24,
          "SubredditName": "seinfeld"
         },
         {
          "IsSubscribed": true,
          "MyVote": 1,
          "Score": 175,
          "SubredditName": "GreekMythology"
         },
         {
          "IsSubscribed": false,
          "MyVote": 1,
          "Score": 20263,
          "SubredditName": "dndmemes"
         },
         {
          "IsSubscribed": true,
          "MyVote": 1,
          "Score": 4698,
          "SubredditName": "TheLastAirbender"
         },
         {
          "IsSubscribed": true,
          "MyVote": 1,
          "Score": 286,
          "SubredditName": "ElectroBOOM"
         },
         {
          "IsSubscribed": true,
          "MyVote": 1,
          "Score": null,
          "SubredditName": "unexpectedMontyPython"
         },
         {
          "IsSubscribed": true,
          "MyVote": 1,
          "Score": 515,
          "SubredditName": "montypython"
         },
         {
          "IsSubscribed": true,
          "MyVote": 1,
          "Score": 195,
          "SubredditName": "mathmemes"
         },
         {
          "IsSubscribed": true,
          "MyVote": 1,
          "Score": 50,
          "SubredditName": "mathmemes"
         },
         {
          "IsSubscribed": true,
          "MyVote": 1,
          "Score": 116,
          "SubredditName": "veYakinEvren"
         },
         {
          "IsSubscribed": true,
          "MyVote": 1,
          "Score": 2170,
          "SubredditName": "startrekmemes"
         },
         {
          "IsSubscribed": true,
          "MyVote": 1,
          "Score": 3607,
          "SubredditName": "mathmemes"
         },
         {
          "IsSubscribed": true,
          "MyVote": 1,
          "Score": 21,
          "SubredditName": "seinfeld"
         },
         {
          "IsSubscribed": true,
          "MyVote": 1,
          "Score": null,
          "SubredditName": "unexpectedMontyPython"
         },
         {
          "IsSubscribed": true,
          "MyVote": 1,
          "Score": 293,
          "SubredditName": "GreekMythology"
         },
         {
          "IsSubscribed": true,
          "MyVote": 1,
          "Score": 0,
          "SubredditName": "seinfeld"
         },
         {
          "IsSubscribed": true,
          "MyVote": 1,
          "Score": 1179,
          "SubredditName": "startrekmemes"
         },
         {
          "IsSubscribed": false,
          "MyVote": -1,
          "Score": 0,
          "SubredditName": "u_qualcomm"
         },
         {
          "IsSubscribed": true,
          "MyVote": 1,
          "Score": 611,
          "SubredditName": "mathmemes"
         },
         {
          "IsSubscribed": false,
          "MyVote": -1,
          "Score": 0,
          "SubredditName": "u_AMDOfficial"
         },
         {
          "IsSubscribed": true,
          "MyVote": 1,
          "Score": 6727,
          "SubredditName": "TheLastAirbender"
         },
         {
          "IsSubscribed": true,
          "MyVote": 1,
          "Score": 2,
          "SubredditName": "learnprogramming"
         },
         {
          "IsSubscribed": true,
          "MyVote": 1,
          "Score": 4,
          "SubredditName": "veYakinEvren"
         },
         {
          "IsSubscribed": true,
          "MyVote": 1,
          "Score": 173,
          "SubredditName": "yugioh"
         },
         {
          "IsSubscribed": true,
          "MyVote": 1,
          "Score": 83,
          "SubredditName": "mathmemes"
         },
         {
          "IsSubscribed": true,
          "MyVote": 1,
          "Score": 1344,
          "SubredditName": "startrekmemes"
         },
         {
          "IsSubscribed": true,
          "MyVote": 1,
          "Score": 9010,
          "SubredditName": "ProgrammerHumor"
         },
         {
          "IsSubscribed": true,
          "MyVote": 1,
          "Score": 235,
          "SubredditName": "ProgrammerHumor"
         },
         {
          "IsSubscribed": true,
          "MyVote": 1,
          "Score": 1109,
          "SubredditName": "startrekmemes"
         },
         {
          "IsSubscribed": true,
          "MyVote": 1,
          "Score": 23,
          "SubredditName": "mathmemes"
         },
         {
          "IsSubscribed": true,
          "MyVote": 1,
          "Score": 3077,
          "SubredditName": "TheLastAirbender"
         },
         {
          "IsSubscribed": true,
          "MyVote": 1,
          "Score": 3254,
          "SubredditName": "gaming"
         },
         {
          "IsSubscribed": true,
          "MyVote": 1,
          "Score": 1533,
          "SubredditName": "startrekmemes"
         },
         {
          "IsSubscribed": true,
          "MyVote": 1,
          "Score": 846,
          "SubredditName": "startrekmemes"
         },
         {
          "IsSubscribed": true,
          "MyVote": 1,
          "Score": 27,
          "SubredditName": "yugioh"
         },
         {
          "IsSubscribed": true,
          "MyVote": 1,
          "Score": 290,
          "SubredditName": "startrekmemes"
         },
         {
          "IsSubscribed": true,
          "MyVote": 1,
          "Score": 65,
          "SubredditName": "PercyJacksonMemes"
         },
         {
          "IsSubscribed": true,
          "MyVote": 1,
          "Score": 586,
          "SubredditName": "seinfeld"
         },
         {
          "IsSubscribed": true,
          "MyVote": 1,
          "Score": 612,
          "SubredditName": "risa"
         },
         {
          "IsSubscribed": false,
          "MyVote": 1,
          "Score": 432,
          "SubredditName": "BaldursGate3"
         },
         {
          "IsSubscribed": true,
          "MyVote": 1,
          "Score": 37,
          "SubredditName": "gaming"
         },
         {
          "IsSubscribed": true,
          "MyVote": 1,
          "Score": 305,
          "SubredditName": "startrekmemes"
         },
         {
          "IsSubscribed": true,
          "MyVote": 1,
          "Score": 804,
          "SubredditName": "startrekmemes"
         },
         {
          "IsSubscribed": true,
          "MyVote": 1,
          "Score": 4,
          "SubredditName": "veYakinEvren"
         },
         {
          "IsSubscribed": true,
          "MyVote": 1,
          "Score": 1,
          "SubredditName": "startrekmemes"
         },
         {
          "IsSubscribed": true,
          "MyVote": 1,
          "Score": 262,
          "SubredditName": "veYakinEvren"
         },
         {
          "IsSubscribed": true,
          "MyVote": -1,
          "Score": 1812,
          "SubredditName": "ProgrammerHumor"
         },
         {
          "IsSubscribed": true,
          "MyVote": 1,
          "Score": 3169,
          "SubredditName": "SatisfactoryGame"
         },
         {
          "IsSubscribed": true,
          "MyVote": 1,
          "Score": 465,
          "SubredditName": "PercyJacksonMemes"
         },
         {
          "IsSubscribed": true,
          "MyVote": 1,
          "Score": 58,
          "SubredditName": "montypython"
         },
         {
          "IsSubscribed": true,
          "MyVote": 1,
          "Score": 141,
          "SubredditName": "veYakinEvren"
         },
         {
          "IsSubscribed": true,
          "MyVote": 1,
          "Score": 303,
          "SubredditName": "seinfeld"
         },
         {
          "IsSubscribed": true,
          "MyVote": 1,
          "Score": 4030,
          "SubredditName": "ProgrammerHumor"
         },
         {
          "IsSubscribed": true,
          "MyVote": 1,
          "Score": 3590,
          "SubredditName": "TheLastAirbender"
         },
         {
          "IsSubscribed": true,
          "MyVote": 1,
          "Score": 12,
          "SubredditName": "TheLastAirbender"
         },
         {
          "IsSubscribed": true,
          "MyVote": 1,
          "Score": 1320,
          "SubredditName": "startrekmemes"
         },
         {
          "IsSubscribed": true,
          "MyVote": 1,
          "Score": 54,
          "SubredditName": "veYakinEvren"
         },
         {
          "IsSubscribed": true,
          "MyVote": 1,
          "Score": 28,
          "SubredditName": "camphalfblood"
         },
         {
          "IsSubscribed": true,
          "MyVote": 1,
          "Score": 80,
          "SubredditName": "veYakinEvren"
         },
         {
          "IsSubscribed": true,
          "MyVote": 1,
          "Score": 183,
          "SubredditName": "startrekmemes"
         },
         {
          "IsSubscribed": true,
          "MyVote": 1,
          "Score": 72,
          "SubredditName": "veYakinEvren"
         },
         {
          "IsSubscribed": true,
          "MyVote": 1,
          "Score": 463,
          "SubredditName": "PercyJacksonMemes"
         },
         {
          "IsSubscribed": true,
          "MyVote": 1,
          "Score": 126,
          "SubredditName": "UnexpectedSeinfeld"
         },
         {
          "IsSubscribed": true,
          "MyVote": 1,
          "Score": 901,
          "SubredditName": "camphalfblood"
         },
         {
          "IsSubscribed": true,
          "MyVote": 1,
          "Score": 2172,
          "SubredditName": "TheLastAirbender"
         },
         {
          "IsSubscribed": false,
          "MyVote": -1,
          "Score": 1863,
          "SubredditName": "sciencememes"
         },
         {
          "IsSubscribed": true,
          "MyVote": 1,
          "Score": 369,
          "SubredditName": "startrekmemes"
         },
         {
          "IsSubscribed": true,
          "MyVote": -1,
          "Score": 0,
          "SubredditName": "startrekmemes"
         },
         {
          "IsSubscribed": true,
          "MyVote": 1,
          "Score": 2422,
          "SubredditName": "startrekmemes"
         },
         {
          "IsSubscribed": true,
          "MyVote": 1,
          "Score": 32,
          "SubredditName": "mathmemes"
         },
         {
          "IsSubscribed": true,
          "MyVote": 1,
          "Score": 915,
          "SubredditName": "startrekmemes"
         },
         {
          "IsSubscribed": true,
          "MyVote": 1,
          "Score": 3,
          "SubredditName": "veYakinEvren"
         },
         {
          "IsSubscribed": true,
          "MyVote": 1,
          "Score": 44,
          "SubredditName": "veYakinEvren"
         },
         {
          "IsSubscribed": true,
          "MyVote": 1,
          "Score": 27,
          "SubredditName": "TheLibrarians"
         },
         {
          "IsSubscribed": false,
          "MyVote": 1,
          "Score": 1990,
          "SubredditName": "funnysigns"
         },
         {
          "IsSubscribed": true,
          "MyVote": 1,
          "Score": 1168,
          "SubredditName": "mathmemes"
         },
         {
          "IsSubscribed": true,
          "MyVote": 1,
          "Score": 6352,
          "SubredditName": "ProgrammerHumor"
         },
         {
          "IsSubscribed": true,
          "MyVote": 1,
          "Score": 705,
          "SubredditName": "SatisfactoryGame"
         },
         {
          "IsSubscribed": true,
          "MyVote": 1,
          "Score": 10,
          "SubredditName": "veYakinEvren"
         },
         {
          "IsSubscribed": true,
          "MyVote": 1,
          "Score": 753,
          "SubredditName": "startrekmemes"
         },
         {
          "IsSubscribed": true,
          "MyVote": 1,
          "Score": 50,
          "SubredditName": "montypython"
         },
         {
          "IsSubscribed": true,
          "MyVote": 1,
          "Score": 538,
          "SubredditName": "mathmemes"
         },
         {
          "IsSubscribed": true,
          "MyVote": 1,
          "Score": 214,
          "SubredditName": "seinfeld"
         },
         {
          "IsSubscribed": true,
          "MyVote": 1,
          "Score": 2357,
          "SubredditName": "seinfeld"
         },
         {
          "IsSubscribed": true,
          "MyVote": 1,
          "Score": 19,
          "SubredditName": "veYakinEvren"
         },
         {
          "IsSubscribed": true,
          "MyVote": 1,
          "Score": 1400,
          "SubredditName": "camphalfblood"
         },
         {
          "IsSubscribed": true,
          "MyVote": 1,
          "Score": 103,
          "SubredditName": "camphalfblood"
         },
         {
          "IsSubscribed": true,
          "MyVote": 1,
          "Score": 823,
          "SubredditName": "TheLastAirbender"
         },
         {
          "IsSubscribed": true,
          "MyVote": 1,
          "Score": 343,
          "SubredditName": "seinfeld"
         },
         {
          "IsSubscribed": true,
          "MyVote": 1,
          "Score": 472,
          "SubredditName": "camphalfblood"
         },
         {
          "IsSubscribed": true,
          "MyVote": 1,
          "Score": 2201,
          "SubredditName": "startrekmemes"
         },
         {
          "IsSubscribed": true,
          "MyVote": -1,
          "Score": 107,
          "SubredditName": "risa"
         },
         {
          "IsSubscribed": true,
          "MyVote": 1,
          "Score": 14260,
          "SubredditName": "TheLastAirbender"
         },
         {
          "IsSubscribed": true,
          "MyVote": 1,
          "Score": 3078,
          "SubredditName": "TheLastAirbender"
         },
         {
          "IsSubscribed": true,
          "MyVote": 1,
          "Score": 4800,
          "SubredditName": "TheLastAirbender"
         },
         {
          "IsSubscribed": true,
          "MyVote": 1,
          "Score": 9,
          "SubredditName": "veYakinEvren"
         },
         {
          "IsSubscribed": true,
          "MyVote": 1,
          "Score": 190,
          "SubredditName": "startrekmemes"
         },
         {
          "IsSubscribed": true,
          "MyVote": 1,
          "Score": 349,
          "SubredditName": "satisfactory"
         },
         {
          "IsSubscribed": true,
          "MyVote": 1,
          "Score": 241,
          "SubredditName": "PercyJacksonMemes"
         },
         {
          "IsSubscribed": true,
          "MyVote": 1,
          "Score": 1725,
          "SubredditName": "startrekmemes"
         },
         {
          "IsSubscribed": true,
          "MyVote": 1,
          "Score": 124,
          "SubredditName": "CodeBullet"
         },
         {
          "IsSubscribed": false,
          "MyVote": -1,
          "Score": 22,
          "SubredditName": "swaggybark"
         },
         {
          "IsSubscribed": true,
          "MyVote": 1,
          "Score": 329,
          "SubredditName": "camphalfblood"
         },
         {
          "IsSubscribed": true,
          "MyVote": 1,
          "Score": 51,
          "SubredditName": "UnexpectedSeinfeld"
         },
         {
          "IsSubscribed": true,
          "MyVote": 1,
          "Score": 2251,
          "SubredditName": "startrekmemes"
         },
         {
          "IsSubscribed": true,
          "MyVote": 1,
          "Score": 584,
          "SubredditName": "camphalfblood"
         },
         {
          "IsSubscribed": true,
          "MyVote": 1,
          "Score": 36,
          "SubredditName": "MovieQuotes"
         },
         {
          "IsSubscribed": true,
          "MyVote": 1,
          "Score": 2691,
          "SubredditName": "ProgrammerHumor"
         },
         {
          "IsSubscribed": true,
          "MyVote": 1,
          "Score": 1386,
          "SubredditName": "TheLastAirbender"
         },
         {
          "IsSubscribed": true,
          "MyVote": 1,
          "Score": 52,
          "SubredditName": "veYakinEvren"
         },
         {
          "IsSubscribed": true,
          "MyVote": 1,
          "Score": 253,
          "SubredditName": "mathmemes"
         },
         {
          "IsSubscribed": true,
          "MyVote": 1,
          "Score": 2,
          "SubredditName": "veYakinEvren"
         },
         {
          "IsSubscribed": true,
          "MyVote": 1,
          "Score": 409,
          "SubredditName": "PercyJacksonMemes"
         },
         {
          "IsSubscribed": true,
          "MyVote": 1,
          "Score": 2466,
          "SubredditName": "startrekmemes"
         },
         {
          "IsSubscribed": true,
          "MyVote": 1,
          "Score": 499,
          "SubredditName": "geek"
         },
         {
          "IsSubscribed": true,
          "MyVote": 1,
          "Score": 5149,
          "SubredditName": "TheLastAirbender"
         },
         {
          "IsSubscribed": true,
          "MyVote": 1,
          "Score": 1243,
          "SubredditName": "ProgrammerHumor"
         },
         {
          "IsSubscribed": true,
          "MyVote": 1,
          "Score": 11438,
          "SubredditName": "ProgrammerHumor"
         },
         {
          "IsSubscribed": true,
          "MyVote": 1,
          "Score": 18,
          "SubredditName": "unexpectedpython"
         },
         {
          "IsSubscribed": true,
          "MyVote": 1,
          "Score": 37,
          "SubredditName": "montypython"
         },
         {
          "IsSubscribed": true,
          "MyVote": 1,
          "Score": 101650,
          "SubredditName": "gaming"
         },
         {
          "IsSubscribed": true,
          "MyVote": 1,
          "Score": 417,
          "SubredditName": "camphalfblood"
         },
         {
          "IsSubscribed": true,
          "MyVote": 1,
          "Score": 460,
          "SubredditName": "TheLastAirbender"
         },
         {
          "IsSubscribed": true,
          "MyVote": 1,
          "Score": 30355,
          "SubredditName": "gaming"
         },
         {
          "IsSubscribed": true,
          "MyVote": 1,
          "Score": 9,
          "SubredditName": "veYakinEvren"
         },
         {
          "IsSubscribed": true,
          "MyVote": 1,
          "Score": 17,
          "SubredditName": "veYakinEvren"
         },
         {
          "IsSubscribed": true,
          "MyVote": 1,
          "Score": 1357,
          "SubredditName": "startrekmemes"
         },
         {
          "IsSubscribed": true,
          "MyVote": 1,
          "Score": 66,
          "SubredditName": "veYakinEvren"
         },
         {
          "IsSubscribed": true,
          "MyVote": 1,
          "Score": 1029,
          "SubredditName": "camphalfblood"
         },
         {
          "IsSubscribed": true,
          "MyVote": 1,
          "Score": 336,
          "SubredditName": "camphalfblood"
         },
         {
          "IsSubscribed": true,
          "MyVote": 1,
          "Score": 1128,
          "SubredditName": "startrekmemes"
         },
         {
          "IsSubscribed": true,
          "MyVote": 1,
          "Score": 28,
          "SubredditName": "montypython"
         },
         {
          "IsSubscribed": true,
          "MyVote": 1,
          "Score": 907,
          "SubredditName": "ProgrammerHumor"
         },
         {
          "IsSubscribed": true,
          "MyVote": 1,
          "Score": 51,
          "SubredditName": "camphalfblood"
         },
         {
          "IsSubscribed": true,
          "MyVote": 1,
          "Score": 12,
          "SubredditName": "TheLastAirbender"
         },
         {
          "IsSubscribed": true,
          "MyVote": 1,
          "Score": 76,
          "SubredditName": "GreekMythology"
         },
         {
          "IsSubscribed": true,
          "MyVote": 1,
          "Score": 0,
          "SubredditName": "veYakinEvren"
         },
         {
          "IsSubscribed": true,
          "MyVote": 1,
          "Score": 158,
          "SubredditName": "Percabeth"
         },
         {
          "IsSubscribed": true,
          "MyVote": 1,
          "Score": 349,
          "SubredditName": "yugioh"
         },
         {
          "IsSubscribed": true,
          "MyVote": 1,
          "Score": 169,
          "SubredditName": "risa"
         },
         {
          "IsSubscribed": true,
          "MyVote": -1,
          "Score": 18,
          "SubredditName": "veYakinEvren"
         },
         {
          "IsSubscribed": true,
          "MyVote": 1,
          "Score": 6024,
          "SubredditName": "ProgrammerHumor"
         },
         {
          "IsSubscribed": true,
          "MyVote": 1,
          "Score": 30,
          "SubredditName": "veYakinEvren"
         },
         {
          "IsSubscribed": true,
          "MyVote": 1,
          "Score": 2537,
          "SubredditName": "TheLastAirbender"
         },
         {
          "IsSubscribed": true,
          "MyVote": 1,
          "Score": 0,
          "SubredditName": "boardgames"
         },
         {
          "IsSubscribed": true,
          "MyVote": 1,
          "Score": 158,
          "SubredditName": "startrekmemes"
         },
         {
          "IsSubscribed": true,
          "MyVote": 1,
          "Score": 298,
          "SubredditName": "ElectroBOOM"
         },
         {
          "IsSubscribed": true,
          "MyVote": 1,
          "Score": 528,
          "SubredditName": "GreekMythology"
         },
         {
          "IsSubscribed": true,
          "MyVote": 1,
          "Score": 10342,
          "SubredditName": "ProgrammerHumor"
         },
         {
          "IsSubscribed": true,
          "MyVote": 1,
          "Score": 64,
          "SubredditName": "TheLastAirbender"
         },
         {
          "IsSubscribed": true,
          "MyVote": 1,
          "Score": 186,
          "SubredditName": "camphalfblood"
         },
         {
          "IsSubscribed": true,
          "MyVote": 1,
          "Score": 851,
          "SubredditName": "startrekmemes"
         },
         {
          "IsSubscribed": true,
          "MyVote": 1,
          "Score": 85,
          "SubredditName": "GreekMythology"
         },
         {
          "IsSubscribed": true,
          "MyVote": 1,
          "Score": 1158,
          "SubredditName": "startrekmemes"
         },
         {
          "IsSubscribed": true,
          "MyVote": 1,
          "Score": 434,
          "SubredditName": "startrekmemes"
         },
         {
          "IsSubscribed": true,
          "MyVote": 1,
          "Score": 8,
          "SubredditName": "camphalfblood"
         },
         {
          "IsSubscribed": true,
          "MyVote": 1,
          "Score": 68,
          "SubredditName": "CodeBullet"
         },
         {
          "IsSubscribed": true,
          "MyVote": 1,
          "Score": 510,
          "SubredditName": "startrekmemes"
         },
         {
          "IsSubscribed": true,
          "MyVote": 1,
          "Score": 174,
          "SubredditName": "risa"
         },
         {
          "IsSubscribed": true,
          "MyVote": 1,
          "Score": 560,
          "SubredditName": "TheLastAirbender"
         },
         {
          "IsSubscribed": true,
          "MyVote": 1,
          "Score": 1806,
          "SubredditName": "ProgrammerHumor"
         },
         {
          "IsSubscribed": true,
          "MyVote": 1,
          "Score": 673,
          "SubredditName": "PercyJacksonMemes"
         },
         {
          "IsSubscribed": true,
          "MyVote": 1,
          "Score": 220,
          "SubredditName": "SatisfactoryGame"
         },
         {
          "IsSubscribed": true,
          "MyVote": 1,
          "Score": 402,
          "SubredditName": "montypython"
         },
         {
          "IsSubscribed": true,
          "MyVote": 1,
          "Score": 6680,
          "SubredditName": "ProgrammerHumor"
         },
         {
          "IsSubscribed": true,
          "MyVote": 1,
          "Score": 223,
          "SubredditName": "risa"
         },
         {
          "IsSubscribed": true,
          "MyVote": 1,
          "Score": 56,
          "SubredditName": "camphalfblood"
         },
         {
          "IsSubscribed": true,
          "MyVote": 1,
          "Score": 58,
          "SubredditName": "GreekMythology"
         },
         {
          "IsSubscribed": true,
          "MyVote": 1,
          "Score": 27,
          "SubredditName": "TheLastAirbender"
         },
         {
          "IsSubscribed": true,
          "MyVote": 1,
          "Score": 790,
          "SubredditName": "startrekmemes"
         },
         {
          "IsSubscribed": true,
          "MyVote": 1,
          "Score": 98,
          "SubredditName": "risa"
         },
         {
          "IsSubscribed": true,
          "MyVote": 1,
          "Score": 1078,
          "SubredditName": "mathmemes"
         },
         {
          "IsSubscribed": true,
          "MyVote": 1,
          "Score": 150,
          "SubredditName": "TheLastAirbender"
         },
         {
          "IsSubscribed": true,
          "MyVote": 1,
          "Score": 63,
          "SubredditName": "montypython"
         },
         {
          "IsSubscribed": true,
          "MyVote": 1,
          "Score": 238,
          "SubredditName": "camphalfblood"
         },
         {
          "IsSubscribed": true,
          "MyVote": 1,
          "Score": 35,
          "SubredditName": "camphalfblood"
         },
         {
          "IsSubscribed": true,
          "MyVote": 1,
          "Score": 3185,
          "SubredditName": "TheLastAirbender"
         },
         {
          "IsSubscribed": true,
          "MyVote": 1,
          "Score": 428,
          "SubredditName": "veYakinEvren"
         },
         {
          "IsSubscribed": true,
          "MyVote": 1,
          "Score": 3295,
          "SubredditName": "mathmemes"
         },
         {
          "IsSubscribed": true,
          "MyVote": 1,
          "Score": 186,
          "SubredditName": "GreekMythology"
         },
         {
          "IsSubscribed": true,
          "MyVote": 1,
          "Score": 1117,
          "SubredditName": "SatisfactoryGame"
         },
         {
          "IsSubscribed": true,
          "MyVote": 1,
          "Score": 394,
          "SubredditName": "consolerepair"
         },
         {
          "IsSubscribed": true,
          "MyVote": 1,
          "Score": 10566,
          "SubredditName": "TheLastAirbender"
         },
         {
          "IsSubscribed": true,
          "MyVote": 1,
          "Score": 57,
          "SubredditName": "GreekMythology"
         },
         {
          "IsSubscribed": true,
          "MyVote": 1,
          "Score": 3211,
          "SubredditName": "TheLastAirbender"
         },
         {
          "IsSubscribed": true,
          "MyVote": 1,
          "Score": 201,
          "SubredditName": "GreekMythology"
         },
         {
          "IsSubscribed": true,
          "MyVote": 1,
          "Score": 922,
          "SubredditName": "startrekmemes"
         },
         {
          "IsSubscribed": true,
          "MyVote": 1,
          "Score": 1423,
          "SubredditName": "PercyJacksonMemes"
         },
         {
          "IsSubscribed": true,
          "MyVote": 1,
          "Score": 49,
          "SubredditName": "ExposurePorn"
         },
         {
          "IsSubscribed": true,
          "MyVote": 1,
          "Score": 934,
          "SubredditName": "camphalfblood"
         },
         {
          "IsSubscribed": true,
          "MyVote": -1,
          "Score": 101,
          "SubredditName": "camphalfblood"
         },
         {
          "IsSubscribed": true,
          "MyVote": 1,
          "Score": 399,
          "SubredditName": "startrekmemes"
         },
         {
          "IsSubscribed": true,
          "MyVote": 1,
          "Score": 175,
          "SubredditName": "camphalfblood"
         },
         {
          "IsSubscribed": true,
          "MyVote": 1,
          "Score": 172,
          "SubredditName": "camphalfblood"
         },
         {
          "IsSubscribed": true,
          "MyVote": 1,
          "Score": 511,
          "SubredditName": "startrekmemes"
         },
         {
          "IsSubscribed": true,
          "MyVote": 1,
          "Score": 5774,
          "SubredditName": "mathmemes"
         },
         {
          "IsSubscribed": true,
          "MyVote": 1,
          "Score": 2230,
          "SubredditName": "startrekmemes"
         },
         {
          "IsSubscribed": true,
          "MyVote": 1,
          "Score": 58,
          "SubredditName": "satisfactory"
         },
         {
          "IsSubscribed": true,
          "MyVote": 1,
          "Score": 87,
          "SubredditName": "camphalfblood"
         },
         {
          "IsSubscribed": true,
          "MyVote": -1,
          "Score": 220,
          "SubredditName": "startrek"
         },
         {
          "IsSubscribed": true,
          "MyVote": 1,
          "Score": 69,
          "SubredditName": "CodeBullet"
         },
         {
          "IsSubscribed": true,
          "MyVote": 1,
          "Score": 35,
          "SubredditName": "camphalfblood"
         },
         {
          "IsSubscribed": true,
          "MyVote": 1,
          "Score": 180,
          "SubredditName": "boardgames"
         },
         {
          "IsSubscribed": true,
          "MyVote": 1,
          "Score": 664,
          "SubredditName": "seinfeld"
         },
         {
          "IsSubscribed": true,
          "MyVote": 1,
          "Score": 3905,
          "SubredditName": "ProgrammerHumor"
         },
         {
          "IsSubscribed": true,
          "MyVote": 1,
          "Score": 1673,
          "SubredditName": "TheLastAirbender"
         },
         {
          "IsSubscribed": true,
          "MyVote": -1,
          "Score": 64,
          "SubredditName": "camphalfblood"
         },
         {
          "IsSubscribed": true,
          "MyVote": 1,
          "Score": 281,
          "SubredditName": "camphalfblood"
         },
         {
          "IsSubscribed": true,
          "MyVote": 1,
          "Score": 345,
          "SubredditName": "GreekMythology"
         },
         {
          "IsSubscribed": true,
          "MyVote": 1,
          "Score": 1345,
          "SubredditName": "startrekmemes"
         },
         {
          "IsSubscribed": true,
          "MyVote": 1,
          "Score": 3651,
          "SubredditName": "TheLastAirbender"
         },
         {
          "IsSubscribed": true,
          "MyVote": 1,
          "Score": 9813,
          "SubredditName": "ProgrammerHumor"
         },
         {
          "IsSubscribed": true,
          "MyVote": 1,
          "Score": 6589,
          "SubredditName": "TheLastAirbender"
         },
         {
          "IsSubscribed": true,
          "MyVote": 1,
          "Score": 974,
          "SubredditName": "seinfeld"
         },
         {
          "IsSubscribed": true,
          "MyVote": 1,
          "Score": 120,
          "SubredditName": "seinfeld"
         },
         {
          "IsSubscribed": true,
          "MyVote": 1,
          "Score": 18,
          "SubredditName": "camphalfblood"
         },
         {
          "IsSubscribed": true,
          "MyVote": 1,
          "Score": 1048,
          "SubredditName": "seinfeld"
         },
         {
          "IsSubscribed": true,
          "MyVote": 1,
          "Score": 641,
          "SubredditName": "startrekmemes"
         },
         {
          "IsSubscribed": true,
          "MyVote": 1,
          "Score": 3235,
          "SubredditName": "ProgrammerHumor"
         },
         {
          "IsSubscribed": true,
          "MyVote": 1,
          "Score": 3310,
          "SubredditName": "ProgrammerHumor"
         },
         {
          "IsSubscribed": true,
          "MyVote": 1,
          "Score": 182,
          "SubredditName": "camphalfblood"
         },
         {
          "IsSubscribed": true,
          "MyVote": 1,
          "Score": 419,
          "SubredditName": "SatisfactoryGame"
         },
         {
          "IsSubscribed": true,
          "MyVote": 1,
          "Score": 3327,
          "SubredditName": "TheLastAirbender"
         },
         {
          "IsSubscribed": true,
          "MyVote": 1,
          "Score": 29,
          "SubredditName": "veYakinEvren"
         },
         {
          "IsSubscribed": true,
          "MyVote": 1,
          "Score": 63,
          "SubredditName": "camphalfblood"
         },
         {
          "IsSubscribed": true,
          "MyVote": 1,
          "Score": 472,
          "SubredditName": "camphalfblood"
         },
         {
          "IsSubscribed": true,
          "MyVote": 1,
          "Score": 347,
          "SubredditName": "startrekmemes"
         },
         {
          "IsSubscribed": true,
          "MyVote": 1,
          "Score": 807,
          "SubredditName": "PercyJacksonMemes"
         },
         {
          "IsSubscribed": true,
          "MyVote": 1,
          "Score": 483,
          "SubredditName": "SatisfactoryGame"
         },
         {
          "IsSubscribed": true,
          "MyVote": 1,
          "Score": 61,
          "SubredditName": "veYakinEvren"
         },
         {
          "IsSubscribed": true,
          "MyVote": 1,
          "Score": 94,
          "SubredditName": "camphalfblood"
         },
         {
          "IsSubscribed": true,
          "MyVote": 1,
          "Score": 319,
          "SubredditName": "camphalfblood"
         },
         {
          "IsSubscribed": true,
          "MyVote": 1,
          "Score": 1231,
          "SubredditName": "camphalfblood"
         },
         {
          "IsSubscribed": true,
          "MyVote": 1,
          "Score": 2605,
          "SubredditName": "camphalfblood"
         },
         {
          "IsSubscribed": true,
          "MyVote": 1,
          "Score": 305,
          "SubredditName": "camphalfblood"
         },
         {
          "IsSubscribed": true,
          "MyVote": 1,
          "Score": 777,
          "SubredditName": "startrekmemes"
         },
         {
          "IsSubscribed": true,
          "MyVote": 1,
          "Score": 26455,
          "SubredditName": "TheLastAirbender"
         },
         {
          "IsSubscribed": true,
          "MyVote": 1,
          "Score": 505,
          "SubredditName": "camphalfblood"
         },
         {
          "IsSubscribed": true,
          "MyVote": 1,
          "Score": 4121,
          "SubredditName": "TheLastAirbender"
         },
         {
          "IsSubscribed": true,
          "MyVote": 1,
          "Score": 16057,
          "SubredditName": "ProgrammerHumor"
         },
         {
          "IsSubscribed": true,
          "MyVote": 1,
          "Score": 180,
          "SubredditName": "camphalfblood"
         },
         {
          "IsSubscribed": true,
          "MyVote": 1,
          "Score": 236,
          "SubredditName": "camphalfblood"
         },
         {
          "IsSubscribed": true,
          "MyVote": 1,
          "Score": 1232,
          "SubredditName": "ProgrammerHumor"
         },
         {
          "IsSubscribed": true,
          "MyVote": 1,
          "Score": 170,
          "SubredditName": "startrekmemes"
         },
         {
          "IsSubscribed": true,
          "MyVote": 1,
          "Score": 176,
          "SubredditName": "camphalfblood"
         },
         {
          "IsSubscribed": true,
          "MyVote": 1,
          "Score": 726,
          "SubredditName": "GreekMythology"
         },
         {
          "IsSubscribed": true,
          "MyVote": 1,
          "Score": 199,
          "SubredditName": "seinfeld"
         },
         {
          "IsSubscribed": false,
          "MyVote": 1,
          "Score": 2451,
          "SubredditName": "BaldursGate3"
         },
         {
          "IsSubscribed": true,
          "MyVote": 1,
          "Score": 197,
          "SubredditName": "seinfeld"
         },
         {
          "IsSubscribed": true,
          "MyVote": 1,
          "Score": 3077,
          "SubredditName": "TheLastAirbender"
         },
         {
          "IsSubscribed": true,
          "MyVote": -1,
          "Score": 465,
          "SubredditName": "TheLastAirbender"
         },
         {
          "IsSubscribed": true,
          "MyVote": 1,
          "Score": 282,
          "SubredditName": "camphalfblood"
         },
         {
          "IsSubscribed": true,
          "MyVote": 1,
          "Score": 297,
          "SubredditName": "MovieQuotes"
         },
         {
          "IsSubscribed": true,
          "MyVote": 1,
          "Score": 503,
          "SubredditName": "seinfeld"
         },
         {
          "IsSubscribed": true,
          "MyVote": 1,
          "Score": 4022,
          "SubredditName": "TheLastAirbender"
         },
         {
          "IsSubscribed": true,
          "MyVote": 1,
          "Score": 13,
          "SubredditName": "GreekMythology"
         },
         {
          "IsSubscribed": true,
          "MyVote": 1,
          "Score": 10,
          "SubredditName": "camphalfblood"
         },
         {
          "IsSubscribed": true,
          "MyVote": 1,
          "Score": 3462,
          "SubredditName": "mathmemes"
         },
         {
          "IsSubscribed": true,
          "MyVote": 1,
          "Score": 438,
          "SubredditName": "startrekmemes"
         },
         {
          "IsSubscribed": true,
          "MyVote": 1,
          "Score": 3,
          "SubredditName": "djangolearning"
         },
         {
          "IsSubscribed": true,
          "MyVote": 1,
          "Score": 357,
          "SubredditName": "seinfeld"
         },
         {
          "IsSubscribed": true,
          "MyVote": 1,
          "Score": 588,
          "SubredditName": "camphalfblood"
         },
         {
          "IsSubscribed": true,
          "MyVote": 1,
          "Score": 27,
          "SubredditName": "TheLastAirbender"
         },
         {
          "IsSubscribed": true,
          "MyVote": 1,
          "Score": 54,
          "SubredditName": "camphalfblood"
         },
         {
          "IsSubscribed": true,
          "MyVote": 1,
          "Score": 224,
          "SubredditName": "veYakinEvren"
         },
         {
          "IsSubscribed": true,
          "MyVote": 1,
          "Score": 751,
          "SubredditName": "camphalfblood"
         },
         {
          "IsSubscribed": false,
          "MyVote": 1,
          "Score": 3112,
          "SubredditName": "BaldursGate3"
         },
         {
          "IsSubscribed": true,
          "MyVote": 1,
          "Score": 5409,
          "SubredditName": "TheLastAirbender"
         },
         {
          "IsSubscribed": true,
          "MyVote": 1,
          "Score": 660,
          "SubredditName": "startrekmemes"
         },
         {
          "IsSubscribed": true,
          "MyVote": -1,
          "Score": 424,
          "SubredditName": "seinfeld"
         },
         {
          "IsSubscribed": true,
          "MyVote": 1,
          "Score": 173,
          "SubredditName": "camphalfblood"
         },
         {
          "IsSubscribed": true,
          "MyVote": 1,
          "Score": 440,
          "SubredditName": "camphalfblood"
         },
         {
          "IsSubscribed": true,
          "MyVote": 1,
          "Score": 86,
          "SubredditName": "GreekMythology"
         },
         {
          "IsSubscribed": true,
          "MyVote": 1,
          "Score": 40,
          "SubredditName": "django"
         },
         {
          "IsSubscribed": true,
          "MyVote": 1,
          "Score": 523,
          "SubredditName": "camphalfblood"
         },
         {
          "IsSubscribed": true,
          "MyVote": 1,
          "Score": 169,
          "SubredditName": "satisfactory"
         },
         {
          "IsSubscribed": true,
          "MyVote": 1,
          "Score": 3900,
          "SubredditName": "TheLastAirbender"
         },
         {
          "IsSubscribed": true,
          "MyVote": 1,
          "Score": 1242,
          "SubredditName": "seinfeld"
         },
         {
          "IsSubscribed": true,
          "MyVote": 1,
          "Score": 11,
          "SubredditName": "GreekMythology"
         },
         {
          "IsSubscribed": true,
          "MyVote": -1,
          "Score": 165,
          "SubredditName": "TheLastAirbender"
         },
         {
          "IsSubscribed": true,
          "MyVote": 1,
          "Score": 0,
          "SubredditName": "TheLastAirbender"
         },
         {
          "IsSubscribed": true,
          "MyVote": 1,
          "Score": 6913,
          "SubredditName": "TheLastAirbender"
         },
         {
          "IsSubscribed": true,
          "MyVote": 1,
          "Score": 17,
          "SubredditName": "camphalfblood"
         },
         {
          "IsSubscribed": true,
          "MyVote": 1,
          "Score": 283,
          "SubredditName": "Python"
         },
         {
          "IsSubscribed": true,
          "MyVote": 1,
          "Score": 255,
          "SubredditName": "mathmemes"
         },
         {
          "IsSubscribed": true,
          "MyVote": 1,
          "Score": 58,
          "SubredditName": "seinfeld"
         },
         {
          "IsSubscribed": true,
          "MyVote": 1,
          "Score": 714,
          "SubredditName": "camphalfblood"
         },
         {
          "IsSubscribed": true,
          "MyVote": 1,
          "Score": 441,
          "SubredditName": "SatisfactoryGame"
         },
         {
          "IsSubscribed": true,
          "MyVote": 1,
          "Score": 234,
          "SubredditName": "veYakinEvren"
         },
         {
          "IsSubscribed": true,
          "MyVote": 1,
          "Score": 29576,
          "SubredditName": "ProgrammerHumor"
         },
         {
          "IsSubscribed": true,
          "MyVote": -1,
          "Score": 26,
          "SubredditName": "camphalfblood"
         },
         {
          "IsSubscribed": true,
          "MyVote": 1,
          "Score": 331,
          "SubredditName": "TheLastAirbender"
         },
         {
          "IsSubscribed": true,
          "MyVote": 1,
          "Score": 157,
          "SubredditName": "boardgames"
         },
         {
          "IsSubscribed": true,
          "MyVote": 1,
          "Score": 3315,
          "SubredditName": "mathmemes"
         },
         {
          "IsSubscribed": true,
          "MyVote": 1,
          "Score": 243,
          "SubredditName": "GreekMythology"
         },
         {
          "IsSubscribed": true,
          "MyVote": 1,
          "Score": 3404,
          "SubredditName": "ProgrammerHumor"
         },
         {
          "IsSubscribed": true,
          "MyVote": 1,
          "Score": 2583,
          "SubredditName": "ProgrammerHumor"
         },
         {
          "IsSubscribed": true,
          "MyVote": 1,
          "Score": 133,
          "SubredditName": "camphalfblood"
         },
         {
          "IsSubscribed": true,
          "MyVote": 1,
          "Score": 2357,
          "SubredditName": "seinfeld"
         },
         {
          "IsSubscribed": true,
          "MyVote": 1,
          "Score": 5415,
          "SubredditName": "ProgrammerHumor"
         },
         {
          "IsSubscribed": true,
          "MyVote": 1,
          "Score": 45,
          "SubredditName": "camphalfblood"
         },
         {
          "IsSubscribed": true,
          "MyVote": 1,
          "Score": 715,
          "SubredditName": "camphalfblood"
         },
         {
          "IsSubscribed": true,
          "MyVote": 1,
          "Score": 47,
          "SubredditName": "GreekMythology"
         },
         {
          "IsSubscribed": true,
          "MyVote": 1,
          "Score": 14540,
          "SubredditName": "ProgrammerHumor"
         },
         {
          "IsSubscribed": true,
          "MyVote": 1,
          "Score": 1320,
          "SubredditName": "mathmemes"
         },
         {
          "IsSubscribed": true,
          "MyVote": 1,
          "Score": 454,
          "SubredditName": "camphalfblood"
         },
         {
          "IsSubscribed": true,
          "MyVote": 1,
          "Score": 1345,
          "SubredditName": "camphalfblood"
         },
         {
          "IsSubscribed": false,
          "MyVote": 1,
          "Score": 11104,
          "SubredditName": "BaldursGate3"
         },
         {
          "IsSubscribed": true,
          "MyVote": 1,
          "Score": 63,
          "SubredditName": "GreekMythology"
         },
         {
          "IsSubscribed": true,
          "MyVote": 1,
          "Score": 53,
          "SubredditName": "camphalfblood"
         },
         {
          "IsSubscribed": true,
          "MyVote": 1,
          "Score": 2113,
          "SubredditName": "mathmemes"
         },
         {
          "IsSubscribed": true,
          "MyVote": 1,
          "Score": 64,
          "SubredditName": "camphalfblood"
         },
         {
          "IsSubscribed": true,
          "MyVote": 1,
          "Score": 1981,
          "SubredditName": "TheLastAirbender"
         },
         {
          "IsSubscribed": false,
          "MyVote": 1,
          "Score": 9048,
          "SubredditName": "BaldursGate3"
         },
         {
          "IsSubscribed": true,
          "MyVote": 1,
          "Score": 1,
          "SubredditName": "TheLastAirbender"
         },
         {
          "IsSubscribed": true,
          "MyVote": -1,
          "Score": 1382,
          "SubredditName": "startrekmemes"
         },
         {
          "IsSubscribed": true,
          "MyVote": -1,
          "Score": 228,
          "SubredditName": "mathmemes"
         },
         {
          "IsSubscribed": true,
          "MyVote": 1,
          "Score": 114,
          "SubredditName": "seinfeld"
         },
         {
          "IsSubscribed": true,
          "MyVote": 1,
          "Score": 1269,
          "SubredditName": "TheLastAirbender"
         },
         {
          "IsSubscribed": true,
          "MyVote": 1,
          "Score": 6744,
          "SubredditName": "TheLastAirbender"
         },
         {
          "IsSubscribed": false,
          "MyVote": 1,
          "Score": 396,
          "SubredditName": "doctorwho"
         },
         {
          "IsSubscribed": true,
          "MyVote": 1,
          "Score": 349,
          "SubredditName": "seinfeld"
         },
         {
          "IsSubscribed": true,
          "MyVote": 1,
          "Score": 37,
          "SubredditName": "camphalfblood"
         },
         {
          "IsSubscribed": true,
          "MyVote": 1,
          "Score": 327,
          "SubredditName": "veYakinEvren"
         },
         {
          "IsSubscribed": true,
          "MyVote": 1,
          "Score": 1772,
          "SubredditName": "startrekmemes"
         },
         {
          "IsSubscribed": true,
          "MyVote": 1,
          "Score": 124,
          "SubredditName": "camphalfblood"
         },
         {
          "IsSubscribed": true,
          "MyVote": -1,
          "Score": 405,
          "SubredditName": "yugioh"
         },
         {
          "IsSubscribed": true,
          "MyVote": 1,
          "Score": 1123,
          "SubredditName": "PercyJacksonMemes"
         },
         {
          "IsSubscribed": true,
          "MyVote": 1,
          "Score": 1126,
          "SubredditName": "ProgrammerHumor"
         },
         {
          "IsSubscribed": true,
          "MyVote": 1,
          "Score": 16826,
          "SubredditName": "TheLastAirbender"
         },
         {
          "IsSubscribed": true,
          "MyVote": 1,
          "Score": 0,
          "SubredditName": "camphalfblood"
         },
         {
          "IsSubscribed": true,
          "MyVote": 1,
          "Score": 369,
          "SubredditName": "camphalfblood"
         },
         {
          "IsSubscribed": true,
          "MyVote": 1,
          "Score": 708,
          "SubredditName": "camphalfblood"
         },
         {
          "IsSubscribed": true,
          "MyVote": 1,
          "Score": 26,
          "SubredditName": "startrekmemes"
         },
         {
          "IsSubscribed": true,
          "MyVote": 1,
          "Score": 391,
          "SubredditName": "seinfeld"
         },
         {
          "IsSubscribed": true,
          "MyVote": 1,
          "Score": 431,
          "SubredditName": "GreekMythology"
         },
         {
          "IsSubscribed": true,
          "MyVote": 1,
          "Score": 145,
          "SubredditName": "camphalfblood"
         },
         {
          "IsSubscribed": true,
          "MyVote": 1,
          "Score": 2988,
          "SubredditName": "ProgrammerHumor"
         },
         {
          "IsSubscribed": true,
          "MyVote": 1,
          "Score": 4662,
          "SubredditName": "TheLastAirbender"
         },
         {
          "IsSubscribed": true,
          "MyVote": 1,
          "Score": 507,
          "SubredditName": "mathmemes"
         },
         {
          "IsSubscribed": true,
          "MyVote": 1,
          "Score": 299,
          "SubredditName": "TheLastAirbender"
         },
         {
          "IsSubscribed": false,
          "MyVote": 1,
          "Score": 1514,
          "SubredditName": "doctorwho"
         },
         {
          "IsSubscribed": true,
          "MyVote": 1,
          "Score": 1276,
          "SubredditName": "TheLastAirbender"
         },
         {
          "IsSubscribed": true,
          "MyVote": 1,
          "Score": 3605,
          "SubredditName": "TheLastAirbender"
         },
         {
          "IsSubscribed": true,
          "MyVote": 1,
          "Score": 2409,
          "SubredditName": "ProgrammerHumor"
         },
         {
          "IsSubscribed": true,
          "MyVote": 1,
          "Score": 1371,
          "SubredditName": "TheLastAirbender"
         },
         {
          "IsSubscribed": true,
          "MyVote": 1,
          "Score": 1050,
          "SubredditName": "mathmemes"
         },
         {
          "IsSubscribed": false,
          "MyVote": 1,
          "Score": 3826,
          "SubredditName": "BaldursGate3"
         },
         {
          "IsSubscribed": false,
          "MyVote": 1,
          "Score": 2603,
          "SubredditName": "BaldursGate3"
         },
         {
          "IsSubscribed": true,
          "MyVote": 1,
          "Score": 1143,
          "SubredditName": "camphalfblood"
         },
         {
          "IsSubscribed": false,
          "MyVote": 1,
          "Score": 1815,
          "SubredditName": "BaldursGate3"
         },
         {
          "IsSubscribed": true,
          "MyVote": 1,
          "Score": 152,
          "SubredditName": "SatisfactoryGame"
         },
         {
          "IsSubscribed": true,
          "MyVote": 1,
          "Score": 6219,
          "SubredditName": "ProgrammerHumor"
         },
         {
          "IsSubscribed": true,
          "MyVote": 1,
          "Score": 645,
          "SubredditName": "mathmemes"
         },
         {
          "IsSubscribed": true,
          "MyVote": 1,
          "Score": 415,
          "SubredditName": "PercyJacksonMemes"
         },
         {
          "IsSubscribed": true,
          "MyVote": 1,
          "Score": 8,
          "SubredditName": "GreekMythology"
         },
         {
          "IsSubscribed": true,
          "MyVote": 1,
          "Score": 130,
          "SubredditName": "camphalfblood"
         },
         {
          "IsSubscribed": true,
          "MyVote": 1,
          "Score": 1924,
          "SubredditName": "startrekmemes"
         },
         {
          "IsSubscribed": true,
          "MyVote": 1,
          "Score": 7376,
          "SubredditName": "mathmemes"
         },
         {
          "IsSubscribed": true,
          "MyVote": 1,
          "Score": 9,
          "SubredditName": "montypython"
         },
         {
          "IsSubscribed": true,
          "MyVote": 1,
          "Score": 2210,
          "SubredditName": "TheLastAirbender"
         },
         {
          "IsSubscribed": true,
          "MyVote": 1,
          "Score": 44,
          "SubredditName": "TheLibrarians"
         },
         {
          "IsSubscribed": true,
          "MyVote": 1,
          "Score": 183,
          "SubredditName": "geek"
         },
         {
          "IsSubscribed": true,
          "MyVote": 1,
          "Score": 283,
          "SubredditName": "camphalfblood"
         },
         {
          "IsSubscribed": true,
          "MyVote": 1,
          "Score": 15,
          "SubredditName": "TheLastAirbender"
         },
         {
          "IsSubscribed": true,
          "MyVote": 1,
          "Score": 1734,
          "SubredditName": "seinfeld"
         },
         {
          "IsSubscribed": true,
          "MyVote": 1,
          "Score": 9498,
          "SubredditName": "gaming"
         },
         {
          "IsSubscribed": true,
          "MyVote": 1,
          "Score": 1165,
          "SubredditName": "mathmemes"
         },
         {
          "IsSubscribed": true,
          "MyVote": -1,
          "Score": 564,
          "SubredditName": "ProgrammerHumor"
         },
         {
          "IsSubscribed": true,
          "MyVote": 1,
          "Score": 4911,
          "SubredditName": "TheLastAirbender"
         },
         {
          "IsSubscribed": true,
          "MyVote": 1,
          "Score": 398,
          "SubredditName": "SatisfactoryGame"
         },
         {
          "IsSubscribed": true,
          "MyVote": 1,
          "Score": 4348,
          "SubredditName": "ProgrammerHumor"
         },
         {
          "IsSubscribed": true,
          "MyVote": 1,
          "Score": 171,
          "SubredditName": "camphalfblood"
         },
         {
          "IsSubscribed": true,
          "MyVote": 1,
          "Score": 647,
          "SubredditName": "SatisfactoryGame"
         },
         {
          "IsSubscribed": true,
          "MyVote": 1,
          "Score": 483,
          "SubredditName": "PercyJacksonMemes"
         },
         {
          "IsSubscribed": false,
          "MyVote": 1,
          "Score": 1380,
          "SubredditName": "doctorwho"
         },
         {
          "IsSubscribed": true,
          "MyVote": 1,
          "Score": 0,
          "SubredditName": "seinfeld"
         },
         {
          "IsSubscribed": true,
          "MyVote": 1,
          "Score": 62,
          "SubredditName": "TheNewestOlympian"
         },
         {
          "IsSubscribed": true,
          "MyVote": 1,
          "Score": 1746,
          "SubredditName": "startrekmemes"
         },
         {
          "IsSubscribed": true,
          "MyVote": 1,
          "Score": 456,
          "SubredditName": "PercyJacksonMemes"
         },
         {
          "IsSubscribed": true,
          "MyVote": 1,
          "Score": 967,
          "SubredditName": "mathmemes"
         },
         {
          "IsSubscribed": true,
          "MyVote": 1,
          "Score": 4091,
          "SubredditName": "TheLastAirbender"
         },
         {
          "IsSubscribed": true,
          "MyVote": 1,
          "Score": 11,
          "SubredditName": "TheLastAirbender"
         },
         {
          "IsSubscribed": true,
          "MyVote": 1,
          "Score": 1382,
          "SubredditName": "TheLastAirbender"
         },
         {
          "IsSubscribed": true,
          "MyVote": 1,
          "Score": 137,
          "SubredditName": "camphalfblood"
         },
         {
          "IsSubscribed": false,
          "MyVote": 1,
          "Score": 5270,
          "SubredditName": "BaldursGate3"
         },
         {
          "IsSubscribed": true,
          "MyVote": 1,
          "Score": 1821,
          "SubredditName": "ProgrammerHumor"
         },
         {
          "IsSubscribed": true,
          "MyVote": 1,
          "Score": 185,
          "SubredditName": "montypython"
         },
         {
          "IsSubscribed": true,
          "MyVote": 1,
          "Score": 91,
          "SubredditName": "Percabeth"
         },
         {
          "IsSubscribed": true,
          "MyVote": 1,
          "Score": 706,
          "SubredditName": "startrekmemes"
         },
         {
          "IsSubscribed": false,
          "MyVote": 1,
          "Score": 2873,
          "SubredditName": "BaldursGate3"
         },
         {
          "IsSubscribed": true,
          "MyVote": 1,
          "Score": 7041,
          "SubredditName": "ProgrammerHumor"
         },
         {
          "IsSubscribed": true,
          "MyVote": 1,
          "Score": 667,
          "SubredditName": "startrekmemes"
         },
         {
          "IsSubscribed": true,
          "MyVote": 1,
          "Score": 36,
          "SubredditName": "camphalfblood"
         },
         {
          "IsSubscribed": true,
          "MyVote": 1,
          "Score": 791,
          "SubredditName": "startrekmemes"
         },
         {
          "IsSubscribed": true,
          "MyVote": 1,
          "Score": 3194,
          "SubredditName": "ProgrammerHumor"
         },
         {
          "IsSubscribed": true,
          "MyVote": 1,
          "Score": 16420,
          "SubredditName": "ProgrammerHumor"
         },
         {
          "IsSubscribed": true,
          "MyVote": 1,
          "Score": 3757,
          "SubredditName": "mathmemes"
         },
         {
          "IsSubscribed": true,
          "MyVote": 1,
          "Score": 1527,
          "SubredditName": "ProgrammerHumor"
         },
         {
          "IsSubscribed": true,
          "MyVote": 1,
          "Score": 894,
          "SubredditName": "startrekmemes"
         },
         {
          "IsSubscribed": false,
          "MyVote": 1,
          "Score": 9885,
          "SubredditName": "BaldursGate3"
         },
         {
          "IsSubscribed": true,
          "MyVote": 1,
          "Score": 2885,
          "SubredditName": "yugioh"
         },
         {
          "IsSubscribed": true,
          "MyVote": 1,
          "Score": 2648,
          "SubredditName": "ProgrammerHumor"
         },
         {
          "IsSubscribed": true,
          "MyVote": 1,
          "Score": 5686,
          "SubredditName": "ProgrammerHumor"
         },
         {
          "IsSubscribed": false,
          "MyVote": 1,
          "Score": 1,
          "SubredditName": "bootstrap"
         },
         {
          "IsSubscribed": true,
          "MyVote": 1,
          "Score": 12,
          "SubredditName": "camphalfblood"
         },
         {
          "IsSubscribed": true,
          "MyVote": 1,
          "Score": 59,
          "SubredditName": "TheLastAirbender"
         },
         {
          "IsSubscribed": true,
          "MyVote": 1,
          "Score": 73,
          "SubredditName": "veYakinEvren"
         },
         {
          "IsSubscribed": true,
          "MyVote": 1,
          "Score": 94,
          "SubredditName": "risa"
         },
         {
          "IsSubscribed": true,
          "MyVote": 1,
          "Score": 1429,
          "SubredditName": "TheLastAirbender"
         },
         {
          "IsSubscribed": true,
          "MyVote": 1,
          "Score": 1044,
          "SubredditName": "TheLastAirbender"
         },
         {
          "IsSubscribed": true,
          "MyVote": 1,
          "Score": 343,
          "SubredditName": "startrekmemes"
         },
         {
          "IsSubscribed": true,
          "MyVote": 1,
          "Score": 220,
          "SubredditName": "risa"
         },
         {
          "IsSubscribed": true,
          "MyVote": 1,
          "Score": 2123,
          "SubredditName": "TheLastAirbender"
         },
         {
          "IsSubscribed": true,
          "MyVote": 1,
          "Score": 352,
          "SubredditName": "startrekmemes"
         },
         {
          "IsSubscribed": true,
          "MyVote": 1,
          "Score": 335,
          "SubredditName": "GreekMythology"
         },
         {
          "IsSubscribed": true,
          "MyVote": 1,
          "Score": 121,
          "SubredditName": "camphalfblood"
         },
         {
          "IsSubscribed": true,
          "MyVote": 1,
          "Score": 4405,
          "SubredditName": "ProgrammerHumor"
         },
         {
          "IsSubscribed": true,
          "MyVote": 1,
          "Score": 10623,
          "SubredditName": "ProgrammerHumor"
         },
         {
          "IsSubscribed": true,
          "MyVote": -1,
          "Score": 12,
          "SubredditName": "veYakinEvren"
         },
         {
          "IsSubscribed": true,
          "MyVote": 1,
          "Score": 267,
          "SubredditName": "seinfeld"
         },
         {
          "IsSubscribed": true,
          "MyVote": 1,
          "Score": 180,
          "SubredditName": "startrekmemes"
         },
         {
          "IsSubscribed": true,
          "MyVote": 1,
          "Score": 2480,
          "SubredditName": "TheLastAirbender"
         },
         {
          "IsSubscribed": true,
          "MyVote": -1,
          "Score": 358,
          "SubredditName": "veYakinEvren"
         },
         {
          "IsSubscribed": true,
          "MyVote": 1,
          "Score": 1047,
          "SubredditName": "mathmemes"
         },
         {
          "IsSubscribed": false,
          "MyVote": 1,
          "Score": 19184,
          "SubredditName": "BaldursGate3"
         },
         {
          "IsSubscribed": true,
          "MyVote": 1,
          "Score": 681,
          "SubredditName": "TheLastAirbender"
         },
         {
          "IsSubscribed": true,
          "MyVote": 1,
          "Score": 50,
          "SubredditName": "django"
         },
         {
          "IsSubscribed": true,
          "MyVote": 1,
          "Score": 2962,
          "SubredditName": "mathmemes"
         },
         {
          "IsSubscribed": true,
          "MyVote": 1,
          "Score": 362,
          "SubredditName": "SatisfactoryGame"
         },
         {
          "IsSubscribed": true,
          "MyVote": 1,
          "Score": 8219,
          "SubredditName": "TheLastAirbender"
         },
         {
          "IsSubscribed": true,
          "MyVote": -1,
          "Score": 510,
          "SubredditName": "mathmemes"
         },
         {
          "IsSubscribed": true,
          "MyVote": 1,
          "Score": 904,
          "SubredditName": "startrekmemes"
         },
         {
          "IsSubscribed": true,
          "MyVote": 1,
          "Score": 1504,
          "SubredditName": "ProgrammerHumor"
         },
         {
          "IsSubscribed": true,
          "MyVote": 1,
          "Score": 46,
          "SubredditName": "veYakinEvren"
         },
         {
          "IsSubscribed": true,
          "MyVote": -1,
          "Score": 18,
          "SubredditName": "veYakinEvren"
         },
         {
          "IsSubscribed": true,
          "MyVote": 1,
          "Score": 2285,
          "SubredditName": "TheLastAirbender"
         },
         {
          "IsSubscribed": true,
          "MyVote": -1,
          "Score": 14,
          "SubredditName": "veYakinEvren"
         },
         {
          "IsSubscribed": true,
          "MyVote": -1,
          "Score": 3076,
          "SubredditName": "gaming"
         },
         {
          "IsSubscribed": true,
          "MyVote": 1,
          "Score": 399,
          "SubredditName": "ProgrammerHumor"
         },
         {
          "IsSubscribed": true,
          "MyVote": 1,
          "Score": 484,
          "SubredditName": "PercyJacksonMemes"
         },
         {
          "IsSubscribed": true,
          "MyVote": 1,
          "Score": 769,
          "SubredditName": "mathmemes"
         },
         {
          "IsSubscribed": true,
          "MyVote": 1,
          "Score": 2580,
          "SubredditName": "SatisfactoryGame"
         },
         {
          "IsSubscribed": true,
          "MyVote": 1,
          "Score": 1053,
          "SubredditName": "TheLastAirbender"
         },
         {
          "IsSubscribed": true,
          "MyVote": 1,
          "Score": 1019,
          "SubredditName": "ProgrammerHumor"
         },
         {
          "IsSubscribed": true,
          "MyVote": 1,
          "Score": 3894,
          "SubredditName": "TheLastAirbender"
         },
         {
          "IsSubscribed": true,
          "MyVote": 1,
          "Score": 2950,
          "SubredditName": "TheLastAirbender"
         },
         {
          "IsSubscribed": true,
          "MyVote": 1,
          "Score": 2574,
          "SubredditName": "mathmemes"
         },
         {
          "IsSubscribed": true,
          "MyVote": 1,
          "Score": 4494,
          "SubredditName": "TheLastAirbender"
         },
         {
          "IsSubscribed": true,
          "MyVote": 1,
          "Score": 807,
          "SubredditName": "Python"
         },
         {
          "IsSubscribed": true,
          "MyVote": 1,
          "Score": 708,
          "SubredditName": "startrekmemes"
         },
         {
          "IsSubscribed": true,
          "MyVote": 1,
          "Score": 561,
          "SubredditName": "startrekmemes"
         },
         {
          "IsSubscribed": true,
          "MyVote": 1,
          "Score": 4281,
          "SubredditName": "ProgrammerHumor"
         },
         {
          "IsSubscribed": true,
          "MyVote": 1,
          "Score": 28811,
          "SubredditName": "TheLastAirbender"
         },
         {
          "IsSubscribed": false,
          "MyVote": 1,
          "Score": 2780,
          "SubredditName": "BaldursGate3"
         },
         {
          "IsSubscribed": true,
          "MyVote": 1,
          "Score": 1302,
          "SubredditName": "camphalfblood"
         },
         {
          "IsSubscribed": true,
          "MyVote": 1,
          "Score": 12162,
          "SubredditName": "TheLastAirbender"
         },
         {
          "IsSubscribed": true,
          "MyVote": 1,
          "Score": 5900,
          "SubredditName": "ProgrammerHumor"
         },
         {
          "IsSubscribed": true,
          "MyVote": 1,
          "Score": 5563,
          "SubredditName": "ProgrammerHumor"
         },
         {
          "IsSubscribed": true,
          "MyVote": 1,
          "Score": 10533,
          "SubredditName": "mathmemes"
         },
         {
          "IsSubscribed": true,
          "MyVote": 1,
          "Score": 12,
          "SubredditName": "TheLastAirbender"
         },
         {
          "IsSubscribed": true,
          "MyVote": 1,
          "Score": 15482,
          "SubredditName": "ProgrammerHumor"
         },
         {
          "IsSubscribed": true,
          "MyVote": 1,
          "Score": 1008,
          "SubredditName": "mathmemes"
         },
         {
          "IsSubscribed": true,
          "MyVote": 1,
          "Score": 753,
          "SubredditName": "ProgrammerHumor"
         },
         {
          "IsSubscribed": true,
          "MyVote": 1,
          "Score": 1659,
          "SubredditName": "mathmemes"
         },
         {
          "IsSubscribed": true,
          "MyVote": 1,
          "Score": 2267,
          "SubredditName": "TheLastAirbender"
         },
         {
          "IsSubscribed": true,
          "MyVote": -1,
          "Score": 2,
          "SubredditName": "veYakinEvren"
         },
         {
          "IsSubscribed": true,
          "MyVote": 1,
          "Score": 1133,
          "SubredditName": "seinfeld"
         },
         {
          "IsSubscribed": true,
          "MyVote": -1,
          "Score": 204,
          "SubredditName": "veYakinEvren"
         },
         {
          "IsSubscribed": true,
          "MyVote": 1,
          "Score": 182,
          "SubredditName": "camphalfblood"
         },
         {
          "IsSubscribed": true,
          "MyVote": 1,
          "Score": 9988,
          "SubredditName": "TheLastAirbender"
         },
         {
          "IsSubscribed": true,
          "MyVote": 1,
          "Score": 2,
          "SubredditName": "djangolearning"
         },
         {
          "IsSubscribed": false,
          "MyVote": -1,
          "Score": 1311,
          "SubredditName": "BaldursGate3"
         },
         {
          "IsSubscribed": true,
          "MyVote": 1,
          "Score": 916,
          "SubredditName": "PercyJacksonMemes"
         },
         {
          "IsSubscribed": true,
          "MyVote": 1,
          "Score": 3096,
          "SubredditName": "ProgrammerHumor"
         },
         {
          "IsSubscribed": true,
          "MyVote": 1,
          "Score": 636,
          "SubredditName": "startrekmemes"
         },
         {
          "IsSubscribed": true,
          "MyVote": 1,
          "Score": 40,
          "SubredditName": "GreekMythology"
         },
         {
          "IsSubscribed": true,
          "MyVote": 1,
          "Score": 1094,
          "SubredditName": "PercyJacksonMemes"
         },
         {
          "IsSubscribed": true,
          "MyVote": 1,
          "Score": 1623,
          "SubredditName": "ProgrammerHumor"
         },
         {
          "IsSubscribed": true,
          "MyVote": -1,
          "Score": 14037,
          "SubredditName": "gaming"
         },
         {
          "IsSubscribed": true,
          "MyVote": 1,
          "Score": 4217,
          "SubredditName": "TheLastAirbender"
         },
         {
          "IsSubscribed": true,
          "MyVote": 1,
          "Score": 58,
          "SubredditName": "montypython"
         },
         {
          "IsSubscribed": true,
          "MyVote": -1,
          "Score": 390,
          "SubredditName": "gaming"
         },
         {
          "IsSubscribed": true,
          "MyVote": 1,
          "Score": 9352,
          "SubredditName": "ProgrammerHumor"
         },
         {
          "IsSubscribed": true,
          "MyVote": 1,
          "Score": 2585,
          "SubredditName": "camphalfblood"
         },
         {
          "IsSubscribed": true,
          "MyVote": 1,
          "Score": 1905,
          "SubredditName": "mathmemes"
         },
         {
          "IsSubscribed": true,
          "MyVote": 1,
          "Score": 3673,
          "SubredditName": "TheLastAirbender"
         },
         {
          "IsSubscribed": true,
          "MyVote": 1,
          "Score": 339,
          "SubredditName": "startrekmemes"
         },
         {
          "IsSubscribed": false,
          "MyVote": 1,
          "Score": 2524,
          "SubredditName": "BaldursGate3"
         },
         {
          "IsSubscribed": true,
          "MyVote": 1,
          "Score": 74,
          "SubredditName": "startrekmemes"
         },
         {
          "IsSubscribed": true,
          "MyVote": -1,
          "Score": 364,
          "SubredditName": "gaming"
         },
         {
          "IsSubscribed": true,
          "MyVote": 1,
          "Score": 332,
          "SubredditName": "learnprogramming"
         },
         {
          "IsSubscribed": true,
          "MyVote": 1,
          "Score": 619,
          "SubredditName": "ProgrammerHumor"
         },
         {
          "IsSubscribed": true,
          "MyVote": -1,
          "Score": 0,
          "SubredditName": "camphalfblood"
         },
         {
          "IsSubscribed": true,
          "MyVote": 1,
          "Score": 299,
          "SubredditName": "TheLastAirbender"
         },
         {
          "IsSubscribed": true,
          "MyVote": 1,
          "Score": 6347,
          "SubredditName": "ProgrammerHumor"
         },
         {
          "IsSubscribed": true,
          "MyVote": 1,
          "Score": 680,
          "SubredditName": "GreekMythology"
         },
         {
          "IsSubscribed": true,
          "MyVote": 1,
          "Score": 3227,
          "SubredditName": "camphalfblood"
         },
         {
          "IsSubscribed": true,
          "MyVote": 1,
          "Score": 495,
          "SubredditName": "SatisfactoryGame"
         },
         {
          "IsSubscribed": true,
          "MyVote": 1,
          "Score": 2183,
          "SubredditName": "gaming"
         },
         {
          "IsSubscribed": true,
          "MyVote": 1,
          "Score": 6430,
          "SubredditName": "TheLastAirbender"
         },
         {
          "IsSubscribed": true,
          "MyVote": 1,
          "Score": 51,
          "SubredditName": "veYakinEvren"
         },
         {
          "IsSubscribed": true,
          "MyVote": 1,
          "Score": 1433,
          "SubredditName": "TheLastAirbender"
         },
         {
          "IsSubscribed": true,
          "MyVote": 1,
          "Score": 268,
          "SubredditName": "GreekMythology"
         },
         {
          "IsSubscribed": true,
          "MyVote": 1,
          "Score": 13579,
          "SubredditName": "gaming"
         },
         {
          "IsSubscribed": true,
          "MyVote": 1,
          "Score": 350,
          "SubredditName": "startrekmemes"
         },
         {
          "IsSubscribed": true,
          "MyVote": 1,
          "Score": 1076,
          "SubredditName": "ProgrammerHumor"
         },
         {
          "IsSubscribed": true,
          "MyVote": 1,
          "Score": 862,
          "SubredditName": "startrekmemes"
         },
         {
          "IsSubscribed": true,
          "MyVote": -1,
          "Score": 2258,
          "SubredditName": "gaming"
         },
         {
          "IsSubscribed": true,
          "MyVote": 1,
          "Score": 12632,
          "SubredditName": "TheLastAirbender"
         },
         {
          "IsSubscribed": true,
          "MyVote": 1,
          "Score": 5187,
          "SubredditName": "TheLastAirbender"
         },
         {
          "IsSubscribed": true,
          "MyVote": 1,
          "Score": 1648,
          "SubredditName": "startrekmemes"
         },
         {
          "IsSubscribed": true,
          "MyVote": -1,
          "Score": 3245,
          "SubredditName": "gaming"
         },
         {
          "IsSubscribed": true,
          "MyVote": 1,
          "Score": 50,
          "SubredditName": "montypython"
         },
         {
          "IsSubscribed": true,
          "MyVote": -1,
          "Score": 28,
          "SubredditName": "veYakinEvren"
         },
         {
          "IsSubscribed": true,
          "MyVote": 1,
          "Score": 2351,
          "SubredditName": "mathmemes"
         },
         {
          "IsSubscribed": false,
          "MyVote": 1,
          "Score": 357,
          "SubredditName": "dndmemes"
         },
         {
          "IsSubscribed": false,
          "MyVote": 1,
          "Score": 1350,
          "SubredditName": "dndmemes"
         },
         {
          "IsSubscribed": true,
          "MyVote": 1,
          "Score": 5930,
          "SubredditName": "ProgrammerHumor"
         },
         {
          "IsSubscribed": true,
          "MyVote": 1,
          "Score": 1480,
          "SubredditName": "camphalfblood"
         },
         {
          "IsSubscribed": true,
          "MyVote": 1,
          "Score": 364,
          "SubredditName": "startrekmemes"
         },
         {
          "IsSubscribed": false,
          "MyVote": 1,
          "Score": 521,
          "SubredditName": "dndmemes"
         },
         {
          "IsSubscribed": true,
          "MyVote": 1,
          "Score": 30,
          "SubredditName": "veYakinEvren"
         },
         {
          "IsSubscribed": true,
          "MyVote": 1,
          "Score": 171,
          "SubredditName": "veYakinEvren"
         },
         {
          "IsSubscribed": true,
          "MyVote": 1,
          "Score": 2085,
          "SubredditName": "ProgrammerHumor"
         },
         {
          "IsSubscribed": true,
          "MyVote": 1,
          "Score": 286,
          "SubredditName": "veYakinEvren"
         },
         {
          "IsSubscribed": true,
          "MyVote": 1,
          "Score": 975,
          "SubredditName": "TheLastAirbender"
         },
         {
          "IsSubscribed": false,
          "MyVote": 1,
          "Score": 2646,
          "SubredditName": "dndmemes"
         },
         {
          "IsSubscribed": true,
          "MyVote": -1,
          "Score": 4950,
          "SubredditName": "gaming"
         },
         {
          "IsSubscribed": true,
          "MyVote": 1,
          "Score": 0,
          "SubredditName": "TheLastAirbender"
         },
         {
          "IsSubscribed": false,
          "MyVote": 1,
          "Score": 3087,
          "SubredditName": "dndmemes"
         },
         {
          "IsSubscribed": false,
          "MyVote": 1,
          "Score": 563,
          "SubredditName": "dndmemes"
         },
         {
          "IsSubscribed": false,
          "MyVote": 1,
          "Score": 393,
          "SubredditName": "dndmemes"
         },
         {
          "IsSubscribed": false,
          "MyVote": 1,
          "Score": 1411,
          "SubredditName": "dndmemes"
         },
         {
          "IsSubscribed": false,
          "MyVote": 1,
          "Score": 911,
          "SubredditName": "dndmemes"
         },
         {
          "IsSubscribed": false,
          "MyVote": 1,
          "Score": 663,
          "SubredditName": "dndmemes"
         },
         {
          "IsSubscribed": false,
          "MyVote": 1,
          "Score": 846,
          "SubredditName": "dndmemes"
         },
         {
          "IsSubscribed": true,
          "MyVote": 1,
          "Score": 5331,
          "SubredditName": "ProgrammerHumor"
         },
         {
          "IsSubscribed": false,
          "MyVote": 1,
          "Score": 679,
          "SubredditName": "dndmemes"
         },
         {
          "IsSubscribed": true,
          "MyVote": 1,
          "Score": 172,
          "SubredditName": "seinfeld"
         },
         {
          "IsSubscribed": true,
          "MyVote": -1,
          "Score": 0,
          "SubredditName": "gaming"
         },
         {
          "IsSubscribed": true,
          "MyVote": 1,
          "Score": 0,
          "SubredditName": "TheLastAirbender"
         },
         {
          "IsSubscribed": false,
          "MyVote": 1,
          "Score": 676,
          "SubredditName": "dndmemes"
         },
         {
          "IsSubscribed": true,
          "MyVote": -1,
          "Score": 26,
          "SubredditName": "veYakinEvren"
         },
         {
          "IsSubscribed": false,
          "MyVote": 1,
          "Score": 18277,
          "SubredditName": "dndmemes"
         },
         {
          "IsSubscribed": false,
          "MyVote": 1,
          "Score": 729,
          "SubredditName": "dndmemes"
         },
         {
          "IsSubscribed": true,
          "MyVote": 1,
          "Score": 68,
          "SubredditName": "TheLastAirbender"
         },
         {
          "IsSubscribed": true,
          "MyVote": 1,
          "Score": 24,
          "SubredditName": "veYakinEvren"
         },
         {
          "IsSubscribed": true,
          "MyVote": 1,
          "Score": 3595,
          "SubredditName": "ProgrammerHumor"
         },
         {
          "IsSubscribed": true,
          "MyVote": -1,
          "Score": 73,
          "SubredditName": "gaming"
         },
         {
          "IsSubscribed": false,
          "MyVote": 1,
          "Score": 854,
          "SubredditName": "dndmemes"
         },
         {
          "IsSubscribed": false,
          "MyVote": 1,
          "Score": 2043,
          "SubredditName": "dndmemes"
         },
         {
          "IsSubscribed": false,
          "MyVote": 1,
          "Score": 519,
          "SubredditName": "dndmemes"
         },
         {
          "IsSubscribed": false,
          "MyVote": 1,
          "Score": 891,
          "SubredditName": "dndmemes"
         },
         {
          "IsSubscribed": false,
          "MyVote": 1,
          "Score": 445,
          "SubredditName": "dndmemes"
         },
         {
          "IsSubscribed": true,
          "MyVote": 1,
          "Score": 185,
          "SubredditName": "veYakinEvren"
         },
         {
          "IsSubscribed": true,
          "MyVote": -1,
          "Score": 0,
          "SubredditName": "gaming"
         },
         {
          "IsSubscribed": true,
          "MyVote": -1,
          "Score": 1440,
          "SubredditName": "gaming"
         },
         {
          "IsSubscribed": false,
          "MyVote": 1,
          "Score": 7272,
          "SubredditName": "dndmemes"
         },
         {
          "IsSubscribed": false,
          "MyVote": 1,
          "Score": 2078,
          "SubredditName": "dndmemes"
         },
         {
          "IsSubscribed": false,
          "MyVote": 1,
          "Score": 330,
          "SubredditName": "dndmemes"
         },
         {
          "IsSubscribed": false,
          "MyVote": 1,
          "Score": 356,
          "SubredditName": "dndmemes"
         },
         {
          "IsSubscribed": true,
          "MyVote": -1,
          "Score": 0,
          "SubredditName": "veYakinEvren"
         },
         {
          "IsSubscribed": false,
          "MyVote": 1,
          "Score": 459,
          "SubredditName": "dndmemes"
         },
         {
          "IsSubscribed": false,
          "MyVote": 1,
          "Score": 714,
          "SubredditName": "dndmemes"
         },
         {
          "IsSubscribed": false,
          "MyVote": 1,
          "Score": 1949,
          "SubredditName": "dndmemes"
         },
         {
          "IsSubscribed": false,
          "MyVote": 1,
          "Score": 595,
          "SubredditName": "dndmemes"
         },
         {
          "IsSubscribed": true,
          "MyVote": -1,
          "Score": 2396,
          "SubredditName": "gaming"
         },
         {
          "IsSubscribed": false,
          "MyVote": 1,
          "Score": 578,
          "SubredditName": "dndmemes"
         },
         {
          "IsSubscribed": true,
          "MyVote": 1,
          "Score": 131,
          "SubredditName": "UnexpectedSeinfeld"
         },
         {
          "IsSubscribed": true,
          "MyVote": 1,
          "Score": 262,
          "SubredditName": "veYakinEvren"
         },
         {
          "IsSubscribed": true,
          "MyVote": 1,
          "Score": 3002,
          "SubredditName": "camphalfblood"
         },
         {
          "IsSubscribed": true,
          "MyVote": -1,
          "Score": 129,
          "SubredditName": "veYakinEvren"
         },
         {
          "IsSubscribed": false,
          "MyVote": 1,
          "Score": 1101,
          "SubredditName": "dndmemes"
         },
         {
          "IsSubscribed": true,
          "MyVote": -1,
          "Score": 0,
          "SubredditName": "gaming"
         },
         {
          "IsSubscribed": true,
          "MyVote": 1,
          "Score": 4228,
          "SubredditName": "TheLastAirbender"
         },
         {
          "IsSubscribed": false,
          "MyVote": 1,
          "Score": 680,
          "SubredditName": "dndmemes"
         },
         {
          "IsSubscribed": true,
          "MyVote": -1,
          "Score": 2128,
          "SubredditName": "gaming"
         },
         {
          "IsSubscribed": false,
          "MyVote": 1,
          "Score": 798,
          "SubredditName": "dndmemes"
         },
         {
          "IsSubscribed": false,
          "MyVote": 1,
          "Score": 299,
          "SubredditName": "dndmemes"
         },
         {
          "IsSubscribed": true,
          "MyVote": 1,
          "Score": 3988,
          "SubredditName": "TheLastAirbender"
         },
         {
          "IsSubscribed": false,
          "MyVote": 1,
          "Score": 440,
          "SubredditName": "dndmemes"
         },
         {
          "IsSubscribed": true,
          "MyVote": -1,
          "Score": 0,
          "SubredditName": "gaming"
         },
         {
          "IsSubscribed": true,
          "MyVote": 1,
          "Score": 828,
          "SubredditName": "veYakinEvren"
         },
         {
          "IsSubscribed": true,
          "MyVote": 1,
          "Score": 510,
          "SubredditName": "TheLastAirbender"
         },
         {
          "IsSubscribed": false,
          "MyVote": 1,
          "Score": 319,
          "SubredditName": "dndmemes"
         },
         {
          "IsSubscribed": false,
          "MyVote": 1,
          "Score": 633,
          "SubredditName": "dndmemes"
         },
         {
          "IsSubscribed": true,
          "MyVote": 1,
          "Score": 946,
          "SubredditName": "ProgrammerHumor"
         },
         {
          "IsSubscribed": true,
          "MyVote": 1,
          "Score": 7636,
          "SubredditName": "ProgrammerHumor"
         },
         {
          "IsSubscribed": true,
          "MyVote": -1,
          "Score": 55740,
          "SubredditName": "gaming"
         },
         {
          "IsSubscribed": true,
          "MyVote": -1,
          "Score": 207,
          "SubredditName": "SatisfactoryGame"
         },
         {
          "IsSubscribed": true,
          "MyVote": 1,
          "Score": 1181,
          "SubredditName": "ProgrammerHumor"
         },
         {
          "IsSubscribed": false,
          "MyVote": 1,
          "Score": 2,
          "SubredditName": "SkyFactory"
         },
         {
          "IsSubscribed": false,
          "MyVote": 1,
          "Score": 1008,
          "SubredditName": "dndmemes"
         },
         {
          "IsSubscribed": true,
          "MyVote": 1,
          "Score": 80,
          "SubredditName": "gaming"
         },
         {
          "IsSubscribed": false,
          "MyVote": 1,
          "Score": 2764,
          "SubredditName": "dndmemes"
         },
         {
          "IsSubscribed": true,
          "MyVote": -1,
          "Score": 5921,
          "SubredditName": "gaming"
         },
         {
          "IsSubscribed": false,
          "MyVote": 1,
          "Score": 2912,
          "SubredditName": "dndmemes"
         },
         {
          "IsSubscribed": false,
          "MyVote": 1,
          "Score": 261,
          "SubredditName": "dndmemes"
         },
         {
          "IsSubscribed": true,
          "MyVote": -1,
          "Score": 2,
          "SubredditName": "veYakinEvren"
         },
         {
          "IsSubscribed": false,
          "MyVote": 1,
          "Score": 3980,
          "SubredditName": "dndmemes"
         },
         {
          "IsSubscribed": false,
          "MyVote": 1,
          "Score": 652,
          "SubredditName": "dndmemes"
         },
         {
          "IsSubscribed": false,
          "MyVote": 1,
          "Score": 307,
          "SubredditName": "dndmemes"
         },
         {
          "IsSubscribed": false,
          "MyVote": 1,
          "Score": 2184,
          "SubredditName": "dndmemes"
         },
         {
          "IsSubscribed": false,
          "MyVote": 1,
          "Score": 2817,
          "SubredditName": "dndmemes"
         },
         {
          "IsSubscribed": true,
          "MyVote": -1,
          "Score": 23,
          "SubredditName": "veYakinEvren"
         },
         {
          "IsSubscribed": true,
          "MyVote": 1,
          "Score": 75,
          "SubredditName": "veYakinEvren"
         },
         {
          "IsSubscribed": false,
          "MyVote": 1,
          "Score": 1709,
          "SubredditName": "dndmemes"
         },
         {
          "IsSubscribed": false,
          "MyVote": 1,
          "Score": 875,
          "SubredditName": "dndmemes"
         },
         {
          "IsSubscribed": true,
          "MyVote": -1,
          "Score": 0,
          "SubredditName": "veYakinEvren"
         },
         {
          "IsSubscribed": false,
          "MyVote": 1,
          "Score": 564,
          "SubredditName": "dndmemes"
         },
         {
          "IsSubscribed": false,
          "MyVote": 1,
          "Score": 1464,
          "SubredditName": "dndmemes"
         },
         {
          "IsSubscribed": true,
          "MyVote": 1,
          "Score": 28,
          "SubredditName": "veYakinEvren"
         },
         {
          "IsSubscribed": false,
          "MyVote": 1,
          "Score": 214,
          "SubredditName": "dndmemes"
         },
         {
          "IsSubscribed": false,
          "MyVote": 1,
          "Score": 536,
          "SubredditName": "dndmemes"
         },
         {
          "IsSubscribed": true,
          "MyVote": 1,
          "Score": 39,
          "SubredditName": "veYakinEvren"
         },
         {
          "IsSubscribed": false,
          "MyVote": 1,
          "Score": 176,
          "SubredditName": "dndmemes"
         },
         {
          "IsSubscribed": false,
          "MyVote": 1,
          "Score": 246,
          "SubredditName": "dndmemes"
         },
         {
          "IsSubscribed": false,
          "MyVote": 1,
          "Score": 1543,
          "SubredditName": "dndmemes"
         },
         {
          "IsSubscribed": false,
          "MyVote": 1,
          "Score": 256,
          "SubredditName": "dndmemes"
         },
         {
          "IsSubscribed": true,
          "MyVote": 1,
          "Score": 366,
          "SubredditName": "veYakinEvren"
         },
         {
          "IsSubscribed": false,
          "MyVote": 1,
          "Score": 609,
          "SubredditName": "dndmemes"
         },
         {
          "IsSubscribed": true,
          "MyVote": 1,
          "Score": 47,
          "SubredditName": "veYakinEvren"
         },
         {
          "IsSubscribed": true,
          "MyVote": 1,
          "Score": 55,
          "SubredditName": "veYakinEvren"
         },
         {
          "IsSubscribed": false,
          "MyVote": 1,
          "Score": 21274,
          "SubredditName": "dndmemes"
         },
         {
          "IsSubscribed": false,
          "MyVote": 1,
          "Score": 982,
          "SubredditName": "dndmemes"
         },
         {
          "IsSubscribed": false,
          "MyVote": 1,
          "Score": 249,
          "SubredditName": "dndmemes"
         },
         {
          "IsSubscribed": false,
          "MyVote": 1,
          "Score": 147,
          "SubredditName": "dndmemes"
         },
         {
          "IsSubscribed": false,
          "MyVote": 1,
          "Score": 13188,
          "SubredditName": "dndmemes"
         },
         {
          "IsSubscribed": true,
          "MyVote": 1,
          "Score": 33,
          "SubredditName": "veYakinEvren"
         },
         {
          "IsSubscribed": false,
          "MyVote": 1,
          "Score": 1301,
          "SubredditName": "dndmemes"
         },
         {
          "IsSubscribed": false,
          "MyVote": 1,
          "Score": 236,
          "SubredditName": "dndmemes"
         },
         {
          "IsSubscribed": false,
          "MyVote": 1,
          "Score": 88,
          "SubredditName": "dndmemes"
         },
         {
          "IsSubscribed": false,
          "MyVote": 1,
          "Score": 78,
          "SubredditName": "dndmemes"
         },
         {
          "IsSubscribed": true,
          "MyVote": 1,
          "Score": 59,
          "SubredditName": "veYakinEvren"
         },
         {
          "IsSubscribed": true,
          "MyVote": 1,
          "Score": 16,
          "SubredditName": "veYakinEvren"
         },
         {
          "IsSubscribed": false,
          "MyVote": 1,
          "Score": 1487,
          "SubredditName": "dndmemes"
         },
         {
          "IsSubscribed": true,
          "MyVote": 1,
          "Score": 37,
          "SubredditName": "veYakinEvren"
         },
         {
          "IsSubscribed": false,
          "MyVote": 1,
          "Score": 2345,
          "SubredditName": "dndmemes"
         },
         {
          "IsSubscribed": true,
          "MyVote": 1,
          "Score": 24,
          "SubredditName": "veYakinEvren"
         },
         {
          "IsSubscribed": true,
          "MyVote": 1,
          "Score": 93,
          "SubredditName": "veYakinEvren"
         },
         {
          "IsSubscribed": false,
          "MyVote": 1,
          "Score": 60,
          "SubredditName": "dndmemes"
         },
         {
          "IsSubscribed": false,
          "MyVote": 1,
          "Score": 3337,
          "SubredditName": "dndmemes"
         },
         {
          "IsSubscribed": false,
          "MyVote": 1,
          "Score": 401,
          "SubredditName": "dndmemes"
         },
         {
          "IsSubscribed": true,
          "MyVote": 1,
          "Score": 13,
          "SubredditName": "veYakinEvren"
         },
         {
          "IsSubscribed": true,
          "MyVote": 1,
          "Score": 268,
          "SubredditName": "veYakinEvren"
         },
         {
          "IsSubscribed": false,
          "MyVote": 1,
          "Score": 128,
          "SubredditName": "dndmemes"
         },
         {
          "IsSubscribed": true,
          "MyVote": 1,
          "Score": 40,
          "SubredditName": "veYakinEvren"
         },
         {
          "IsSubscribed": false,
          "MyVote": 1,
          "Score": 71,
          "SubredditName": "dndmemes"
         },
         {
          "IsSubscribed": false,
          "MyVote": 1,
          "Score": 1055,
          "SubredditName": "talentShow"
         },
         {
          "IsSubscribed": false,
          "MyVote": 1,
          "Score": 56,
          "SubredditName": "dndmemes"
         },
         {
          "IsSubscribed": true,
          "MyVote": 1,
          "Score": 19,
          "SubredditName": "veYakinEvren"
         },
         {
          "IsSubscribed": false,
          "MyVote": 1,
          "Score": 186,
          "SubredditName": "dndmemes"
         },
         {
          "IsSubscribed": false,
          "MyVote": 1,
          "Score": 750,
          "SubredditName": "dndmemes"
         },
         {
          "IsSubscribed": true,
          "MyVote": 1,
          "Score": 49,
          "SubredditName": "veYakinEvren"
         },
         {
          "IsSubscribed": true,
          "MyVote": -1,
          "Score": 15,
          "SubredditName": "veYakinEvren"
         },
         {
          "IsSubscribed": false,
          "MyVote": 1,
          "Score": 316,
          "SubredditName": "dndmemes"
         },
         {
          "IsSubscribed": true,
          "MyVote": 1,
          "Score": 22,
          "SubredditName": "veYakinEvren"
         },
         {
          "IsSubscribed": false,
          "MyVote": 1,
          "Score": 627,
          "SubredditName": "dndmemes"
         },
         {
          "IsSubscribed": true,
          "MyVote": 1,
          "Score": 36,
          "SubredditName": "veYakinEvren"
         },
         {
          "IsSubscribed": false,
          "MyVote": 1,
          "Score": 100,
          "SubredditName": "dndmemes"
         },
         {
          "IsSubscribed": true,
          "MyVote": 1,
          "Score": 69,
          "SubredditName": "veYakinEvren"
         },
         {
          "IsSubscribed": false,
          "MyVote": 1,
          "Score": 935,
          "SubredditName": "dndmemes"
         },
         {
          "IsSubscribed": true,
          "MyVote": 1,
          "Score": 41,
          "SubredditName": "veYakinEvren"
         },
         {
          "IsSubscribed": false,
          "MyVote": 1,
          "Score": 103,
          "SubredditName": "dndmemes"
         },
         {
          "IsSubscribed": true,
          "MyVote": 1,
          "Score": 187,
          "SubredditName": "veYakinEvren"
         },
         {
          "IsSubscribed": false,
          "MyVote": 1,
          "Score": 19494,
          "SubredditName": "dndmemes"
         },
         {
          "IsSubscribed": false,
          "MyVote": 1,
          "Score": 3181,
          "SubredditName": "dndmemes"
         },
         {
          "IsSubscribed": false,
          "MyVote": 1,
          "Score": 112,
          "SubredditName": "dndmemes"
         },
         {
          "IsSubscribed": true,
          "MyVote": 1,
          "Score": 267,
          "SubredditName": "veYakinEvren"
         },
         {
          "IsSubscribed": true,
          "MyVote": 1,
          "Score": 375,
          "SubredditName": "veYakinEvren"
         },
         {
          "IsSubscribed": true,
          "MyVote": 1,
          "Score": 135,
          "SubredditName": "veYakinEvren"
         },
         {
          "IsSubscribed": true,
          "MyVote": 1,
          "Score": 51,
          "SubredditName": "veYakinEvren"
         },
         {
          "IsSubscribed": false,
          "MyVote": 1,
          "Score": 526,
          "SubredditName": "dndmemes"
         },
         {
          "IsSubscribed": false,
          "MyVote": 1,
          "Score": 25445,
          "SubredditName": "dndmemes"
         },
         {
          "IsSubscribed": false,
          "MyVote": 1,
          "Score": 2121,
          "SubredditName": "dndmemes"
         },
         {
          "IsSubscribed": false,
          "MyVote": 1,
          "Score": 176,
          "SubredditName": "dndmemes"
         },
         {
          "IsSubscribed": false,
          "MyVote": 1,
          "Score": 6170,
          "SubredditName": "dndmemes"
         },
         {
          "IsSubscribed": false,
          "MyVote": 1,
          "Score": 178,
          "SubredditName": "dndmemes"
         },
         {
          "IsSubscribed": false,
          "MyVote": 1,
          "Score": 217,
          "SubredditName": "dndmemes"
         },
         {
          "IsSubscribed": false,
          "MyVote": 1,
          "Score": 85,
          "SubredditName": "dndmemes"
         },
         {
          "IsSubscribed": false,
          "MyVote": 1,
          "Score": 1356,
          "SubredditName": "dndmemes"
         },
         {
          "IsSubscribed": true,
          "MyVote": 1,
          "Score": 22,
          "SubredditName": "veYakinEvren"
         },
         {
          "IsSubscribed": false,
          "MyVote": 1,
          "Score": 3255,
          "SubredditName": "dndmemes"
         },
         {
          "IsSubscribed": true,
          "MyVote": 1,
          "Score": 380,
          "SubredditName": "veYakinEvren"
         },
         {
          "IsSubscribed": false,
          "MyVote": 1,
          "Score": 719,
          "SubredditName": "dndmemes"
         },
         {
          "IsSubscribed": false,
          "MyVote": 1,
          "Score": 393,
          "SubredditName": "dndmemes"
         },
         {
          "IsSubscribed": true,
          "MyVote": 1,
          "Score": 175,
          "SubredditName": "veYakinEvren"
         },
         {
          "IsSubscribed": false,
          "MyVote": 1,
          "Score": 706,
          "SubredditName": "dndmemes"
         },
         {
          "IsSubscribed": true,
          "MyVote": 1,
          "Score": 131,
          "SubredditName": "veYakinEvren"
         },
         {
          "IsSubscribed": false,
          "MyVote": 1,
          "Score": 946,
          "SubredditName": "dndmemes"
         },
         {
          "IsSubscribed": false,
          "MyVote": 1,
          "Score": 11847,
          "SubredditName": "dndmemes"
         },
         {
          "IsSubscribed": false,
          "MyVote": 1,
          "Score": 2946,
          "SubredditName": "dndmemes"
         },
         {
          "IsSubscribed": false,
          "MyVote": 1,
          "Score": 94,
          "SubredditName": "dndmemes"
         },
         {
          "IsSubscribed": false,
          "MyVote": 1,
          "Score": 665,
          "SubredditName": "dndmemes"
         },
         {
          "IsSubscribed": true,
          "MyVote": 1,
          "Score": 129,
          "SubredditName": "veYakinEvren"
         },
         {
          "IsSubscribed": true,
          "MyVote": 1,
          "Score": 138,
          "SubredditName": "veYakinEvren"
         },
         {
          "IsSubscribed": false,
          "MyVote": 1,
          "Score": 908,
          "SubredditName": "dndmemes"
         },
         {
          "IsSubscribed": false,
          "MyVote": 1,
          "Score": 386,
          "SubredditName": "dndmemes"
         },
         {
          "IsSubscribed": false,
          "MyVote": 1,
          "Score": 481,
          "SubredditName": "dndmemes"
         },
         {
          "IsSubscribed": true,
          "MyVote": 1,
          "Score": 182,
          "SubredditName": "veYakinEvren"
         },
         {
          "IsSubscribed": true,
          "MyVote": 1,
          "Score": 2,
          "SubredditName": "veYakinEvren"
         },
         {
          "IsSubscribed": true,
          "MyVote": 1,
          "Score": 30,
          "SubredditName": "veYakinEvren"
         },
         {
          "IsSubscribed": false,
          "MyVote": 1,
          "Score": 1439,
          "SubredditName": "talentShow"
         },
         {
          "IsSubscribed": false,
          "MyVote": 1,
          "Score": 2178,
          "SubredditName": "dndmemes"
         },
         {
          "IsSubscribed": false,
          "MyVote": 1,
          "Score": 59,
          "SubredditName": "dndmemes"
         },
         {
          "IsSubscribed": true,
          "MyVote": 1,
          "Score": 58,
          "SubredditName": "veYakinEvren"
         },
         {
          "IsSubscribed": true,
          "MyVote": 1,
          "Score": 17,
          "SubredditName": "veYakinEvren"
         },
         {
          "IsSubscribed": true,
          "MyVote": 1,
          "Score": 44,
          "SubredditName": "veYakinEvren"
         },
         {
          "IsSubscribed": true,
          "MyVote": 1,
          "Score": 303,
          "SubredditName": "veYakinEvren"
         },
         {
          "IsSubscribed": false,
          "MyVote": 1,
          "Score": 612,
          "SubredditName": "dndmemes"
         },
         {
          "IsSubscribed": true,
          "MyVote": 1,
          "Score": 37,
          "SubredditName": "veYakinEvren"
         },
         {
          "IsSubscribed": true,
          "MyVote": 1,
          "Score": 64,
          "SubredditName": "veYakinEvren"
         },
         {
          "IsSubscribed": true,
          "MyVote": 1,
          "Score": 54,
          "SubredditName": "veYakinEvren"
         },
         {
          "IsSubscribed": true,
          "MyVote": 1,
          "Score": 138,
          "SubredditName": "veYakinEvren"
         },
         {
          "IsSubscribed": true,
          "MyVote": 1,
          "Score": 151,
          "SubredditName": "veYakinEvren"
         },
         {
          "IsSubscribed": false,
          "MyVote": 1,
          "Score": 126,
          "SubredditName": "dndmemes"
         },
         {
          "IsSubscribed": true,
          "MyVote": 1,
          "Score": 67,
          "SubredditName": "veYakinEvren"
         },
         {
          "IsSubscribed": true,
          "MyVote": 1,
          "Score": 118,
          "SubredditName": "veYakinEvren"
         },
         {
          "IsSubscribed": true,
          "MyVote": 1,
          "Score": 56,
          "SubredditName": "veYakinEvren"
         },
         {
          "IsSubscribed": true,
          "MyVote": 1,
          "Score": 229,
          "SubredditName": "veYakinEvren"
         },
         {
          "IsSubscribed": true,
          "MyVote": 1,
          "Score": 72,
          "SubredditName": "veYakinEvren"
         },
         {
          "IsSubscribed": false,
          "MyVote": 1,
          "Score": 135,
          "SubredditName": "dndmemes"
         },
         {
          "IsSubscribed": true,
          "MyVote": 1,
          "Score": 126,
          "SubredditName": "veYakinEvren"
         },
         {
          "IsSubscribed": true,
          "MyVote": 1,
          "Score": 48,
          "SubredditName": "veYakinEvren"
         },
         {
          "IsSubscribed": false,
          "MyVote": 1,
          "Score": 6572,
          "SubredditName": "dndmemes"
         },
         {
          "IsSubscribed": true,
          "MyVote": 1,
          "Score": 133,
          "SubredditName": "veYakinEvren"
         },
         {
          "IsSubscribed": false,
          "MyVote": 1,
          "Score": 137,
          "SubredditName": "dndmemes"
         },
         {
          "IsSubscribed": true,
          "MyVote": 1,
          "Score": 373,
          "SubredditName": "veYakinEvren"
         },
         {
          "IsSubscribed": false,
          "MyVote": 1,
          "Score": 195,
          "SubredditName": "dndmemes"
         },
         {
          "IsSubscribed": true,
          "MyVote": 1,
          "Score": 43,
          "SubredditName": "veYakinEvren"
         },
         {
          "IsSubscribed": false,
          "MyVote": 1,
          "Score": 256,
          "SubredditName": "dndmemes"
         },
         {
          "IsSubscribed": false,
          "MyVote": 1,
          "Score": 310,
          "SubredditName": "dndmemes"
         },
         {
          "IsSubscribed": false,
          "MyVote": 1,
          "Score": 6418,
          "SubredditName": "dndmemes"
         },
         {
          "IsSubscribed": true,
          "MyVote": 1,
          "Score": 230,
          "SubredditName": "veYakinEvren"
         },
         {
          "IsSubscribed": true,
          "MyVote": 1,
          "Score": 312,
          "SubredditName": "veYakinEvren"
         },
         {
          "IsSubscribed": false,
          "MyVote": 1,
          "Score": 356,
          "SubredditName": "dndmemes"
         },
         {
          "IsSubscribed": true,
          "MyVote": 1,
          "Score": 44,
          "SubredditName": "veYakinEvren"
         },
         {
          "IsSubscribed": false,
          "MyVote": 1,
          "Score": 102,
          "SubredditName": "dndmemes"
         },
         {
          "IsSubscribed": true,
          "MyVote": 1,
          "Score": 279,
          "SubredditName": "veYakinEvren"
         },
         {
          "IsSubscribed": false,
          "MyVote": 1,
          "Score": 633,
          "SubredditName": "dndmemes"
         },
         {
          "IsSubscribed": true,
          "MyVote": 1,
          "Score": 115,
          "SubredditName": "veYakinEvren"
         },
         {
          "IsSubscribed": true,
          "MyVote": 1,
          "Score": 255,
          "SubredditName": "veYakinEvren"
         },
         {
          "IsSubscribed": true,
          "MyVote": 1,
          "Score": 45,
          "SubredditName": "veYakinEvren"
         },
         {
          "IsSubscribed": true,
          "MyVote": 1,
          "Score": 5,
          "SubredditName": "veYakinEvren"
         },
         {
          "IsSubscribed": true,
          "MyVote": 1,
          "Score": 23,
          "SubredditName": "veYakinEvren"
         },
         {
          "IsSubscribed": true,
          "MyVote": 1,
          "Score": 331,
          "SubredditName": "veYakinEvren"
         },
         {
          "IsSubscribed": true,
          "MyVote": 1,
          "Score": 18,
          "SubredditName": "veYakinEvren"
         },
         {
          "IsSubscribed": true,
          "MyVote": 1,
          "Score": 47,
          "SubredditName": "veYakinEvren"
         },
         {
          "IsSubscribed": true,
          "MyVote": 1,
          "Score": 77,
          "SubredditName": "veYakinEvren"
         },
         {
          "IsSubscribed": true,
          "MyVote": 1,
          "Score": 107,
          "SubredditName": "veYakinEvren"
         },
         {
          "IsSubscribed": false,
          "MyVote": 1,
          "Score": 64,
          "SubredditName": "dndmemes"
         },
         {
          "IsSubscribed": false,
          "MyVote": 1,
          "Score": 68,
          "SubredditName": "dndmemes"
         },
         {
          "IsSubscribed": true,
          "MyVote": 1,
          "Score": 245,
          "SubredditName": "veYakinEvren"
         },
         {
          "IsSubscribed": true,
          "MyVote": 1,
          "Score": 184,
          "SubredditName": "veYakinEvren"
         },
         {
          "IsSubscribed": false,
          "MyVote": 1,
          "Score": 358,
          "SubredditName": "dndmemes"
         },
         {
          "IsSubscribed": true,
          "MyVote": 1,
          "Score": 43,
          "SubredditName": "veYakinEvren"
         },
         {
          "IsSubscribed": true,
          "MyVote": 1,
          "Score": 202,
          "SubredditName": "veYakinEvren"
         },
         {
          "IsSubscribed": true,
          "MyVote": 1,
          "Score": 225,
          "SubredditName": "veYakinEvren"
         },
         {
          "IsSubscribed": false,
          "MyVote": 1,
          "Score": 229,
          "SubredditName": "dndmemes"
         },
         {
          "IsSubscribed": true,
          "MyVote": 1,
          "Score": 29,
          "SubredditName": "veYakinEvren"
         },
         {
          "IsSubscribed": false,
          "MyVote": 1,
          "Score": 51,
          "SubredditName": "dndmemes"
         },
         {
          "IsSubscribed": true,
          "MyVote": 1,
          "Score": 65,
          "SubredditName": "veYakinEvren"
         },
         {
          "IsSubscribed": true,
          "MyVote": 1,
          "Score": 35,
          "SubredditName": "veYakinEvren"
         },
         {
          "IsSubscribed": true,
          "MyVote": 1,
          "Score": 243,
          "SubredditName": "veYakinEvren"
         },
         {
          "IsSubscribed": false,
          "MyVote": 1,
          "Score": 1251,
          "SubredditName": "dndmemes"
         },
         {
          "IsSubscribed": true,
          "MyVote": 1,
          "Score": 10,
          "SubredditName": "veYakinEvren"
         },
         {
          "IsSubscribed": true,
          "MyVote": 1,
          "Score": 187,
          "SubredditName": "veYakinEvren"
         },
         {
          "IsSubscribed": true,
          "MyVote": 1,
          "Score": 364,
          "SubredditName": "veYakinEvren"
         },
         {
          "IsSubscribed": true,
          "MyVote": 1,
          "Score": 544,
          "SubredditName": "veYakinEvren"
         },
         {
          "IsSubscribed": true,
          "MyVote": 1,
          "Score": 169,
          "SubredditName": "veYakinEvren"
         },
         {
          "IsSubscribed": true,
          "MyVote": 1,
          "Score": 453,
          "SubredditName": "veYakinEvren"
         },
         {
          "IsSubscribed": true,
          "MyVote": 1,
          "Score": 25,
          "SubredditName": "veYakinEvren"
         },
         {
          "IsSubscribed": true,
          "MyVote": 1,
          "Score": 346,
          "SubredditName": "veYakinEvren"
         },
         {
          "IsSubscribed": true,
          "MyVote": 1,
          "Score": 10,
          "SubredditName": "veYakinEvren"
         },
         {
          "IsSubscribed": false,
          "MyVote": 1,
          "Score": 4488,
          "SubredditName": "dndmemes"
         },
         {
          "IsSubscribed": true,
          "MyVote": 1,
          "Score": 106,
          "SubredditName": "veYakinEvren"
         },
         {
          "IsSubscribed": false,
          "MyVote": 1,
          "Score": 107,
          "SubredditName": "dndmemes"
         },
         {
          "IsSubscribed": true,
          "MyVote": 1,
          "Score": 190,
          "SubredditName": "veYakinEvren"
         },
         {
          "IsSubscribed": true,
          "MyVote": 1,
          "Score": 21,
          "SubredditName": "veYakinEvren"
         },
         {
          "IsSubscribed": false,
          "MyVote": 1,
          "Score": 196,
          "SubredditName": "dndmemes"
         },
         {
          "IsSubscribed": false,
          "MyVote": 1,
          "Score": 122,
          "SubredditName": "dndmemes"
         },
         {
          "IsSubscribed": true,
          "MyVote": 1,
          "Score": 465,
          "SubredditName": "veYakinEvren"
         },
         {
          "IsSubscribed": true,
          "MyVote": 1,
          "Score": 76,
          "SubredditName": "veYakinEvren"
         },
         {
          "IsSubscribed": true,
          "MyVote": 1,
          "Score": 138,
          "SubredditName": "veYakinEvren"
         },
         {
          "IsSubscribed": true,
          "MyVote": 1,
          "Score": 24,
          "SubredditName": "veYakinEvren"
         },
         {
          "IsSubscribed": true,
          "MyVote": 1,
          "Score": 68,
          "SubredditName": "veYakinEvren"
         },
         {
          "IsSubscribed": false,
          "MyVote": 1,
          "Score": 18,
          "SubredditName": "dndmemes"
         },
         {
          "IsSubscribed": true,
          "MyVote": 1,
          "Score": 354,
          "SubredditName": "veYakinEvren"
         },
         {
          "IsSubscribed": false,
          "MyVote": 1,
          "Score": 195,
          "SubredditName": "dndmemes"
         },
         {
          "IsSubscribed": true,
          "MyVote": 1,
          "Score": 56,
          "SubredditName": "veYakinEvren"
         },
         {
          "IsSubscribed": true,
          "MyVote": 1,
          "Score": 87,
          "SubredditName": "veYakinEvren"
         },
         {
          "IsSubscribed": true,
          "MyVote": 1,
          "Score": 57,
          "SubredditName": "veYakinEvren"
         },
         {
          "IsSubscribed": true,
          "MyVote": 1,
          "Score": 23,
          "SubredditName": "veYakinEvren"
         },
         {
          "IsSubscribed": false,
          "MyVote": 1,
          "Score": 6855,
          "SubredditName": "dndmemes"
         },
         {
          "IsSubscribed": false,
          "MyVote": 1,
          "Score": 173,
          "SubredditName": "dndmemes"
         },
         {
          "IsSubscribed": false,
          "MyVote": 1,
          "Score": 276,
          "SubredditName": "dndmemes"
         },
         {
          "IsSubscribed": true,
          "MyVote": 1,
          "Score": 79,
          "SubredditName": "veYakinEvren"
         },
         {
          "IsSubscribed": true,
          "MyVote": 1,
          "Score": 159,
          "SubredditName": "veYakinEvren"
         },
         {
          "IsSubscribed": false,
          "MyVote": 1,
          "Score": 782,
          "SubredditName": "dndmemes"
         },
         {
          "IsSubscribed": false,
          "MyVote": 1,
          "Score": 2226,
          "SubredditName": "dndmemes"
         },
         {
          "IsSubscribed": false,
          "MyVote": 1,
          "Score": 170,
          "SubredditName": "dndmemes"
         },
         {
          "IsSubscribed": false,
          "MyVote": 1,
          "Score": 118,
          "SubredditName": "dndmemes"
         },
         {
          "IsSubscribed": true,
          "MyVote": 1,
          "Score": 689,
          "SubredditName": "veYakinEvren"
         },
         {
          "IsSubscribed": false,
          "MyVote": 1,
          "Score": 5900,
          "SubredditName": "dndmemes"
         },
         {
          "IsSubscribed": true,
          "MyVote": 1,
          "Score": 100,
          "SubredditName": "veYakinEvren"
         },
         {
          "IsSubscribed": true,
          "MyVote": 1,
          "Score": 265,
          "SubredditName": "veYakinEvren"
         },
         {
          "IsSubscribed": false,
          "MyVote": 1,
          "Score": 1901,
          "SubredditName": "dndmemes"
         },
         {
          "IsSubscribed": true,
          "MyVote": 1,
          "Score": 97,
          "SubredditName": "veYakinEvren"
         },
         {
          "IsSubscribed": false,
          "MyVote": 1,
          "Score": 206,
          "SubredditName": "dndmemes"
         },
         {
          "IsSubscribed": true,
          "MyVote": 1,
          "Score": 235,
          "SubredditName": "veYakinEvren"
         },
         {
          "IsSubscribed": true,
          "MyVote": 1,
          "Score": 285,
          "SubredditName": "veYakinEvren"
         },
         {
          "IsSubscribed": true,
          "MyVote": 1,
          "Score": 80,
          "SubredditName": "veYakinEvren"
         },
         {
          "IsSubscribed": true,
          "MyVote": 1,
          "Score": 35,
          "SubredditName": "veYakinEvren"
         },
         {
          "IsSubscribed": true,
          "MyVote": 1,
          "Score": 77,
          "SubredditName": "veYakinEvren"
         },
         {
          "IsSubscribed": false,
          "MyVote": 1,
          "Score": 602,
          "SubredditName": "dndmemes"
         },
         {
          "IsSubscribed": true,
          "MyVote": 1,
          "Score": 425,
          "SubredditName": "veYakinEvren"
         },
         {
          "IsSubscribed": true,
          "MyVote": 1,
          "Score": 30,
          "SubredditName": "veYakinEvren"
         },
         {
          "IsSubscribed": true,
          "MyVote": 1,
          "Score": 46,
          "SubredditName": "veYakinEvren"
         },
         {
          "IsSubscribed": true,
          "MyVote": 1,
          "Score": 41,
          "SubredditName": "veYakinEvren"
         },
         {
          "IsSubscribed": true,
          "MyVote": 1,
          "Score": 27,
          "SubredditName": "veYakinEvren"
         },
         {
          "IsSubscribed": true,
          "MyVote": 1,
          "Score": 105,
          "SubredditName": "veYakinEvren"
         },
         {
          "IsSubscribed": true,
          "MyVote": 1,
          "Score": 226,
          "SubredditName": "veYakinEvren"
         },
         {
          "IsSubscribed": true,
          "MyVote": 1,
          "Score": 285,
          "SubredditName": "veYakinEvren"
         },
         {
          "IsSubscribed": true,
          "MyVote": 1,
          "Score": 149,
          "SubredditName": "veYakinEvren"
         },
         {
          "IsSubscribed": true,
          "MyVote": 1,
          "Score": 32,
          "SubredditName": "veYakinEvren"
         },
         {
          "IsSubscribed": true,
          "MyVote": 1,
          "Score": 27,
          "SubredditName": "veYakinEvren"
         },
         {
          "IsSubscribed": true,
          "MyVote": 1,
          "Score": 234,
          "SubredditName": "veYakinEvren"
         },
         {
          "IsSubscribed": true,
          "MyVote": 1,
          "Score": 365,
          "SubredditName": "veYakinEvren"
         },
         {
          "IsSubscribed": true,
          "MyVote": 1,
          "Score": 230,
          "SubredditName": "veYakinEvren"
         },
         {
          "IsSubscribed": true,
          "MyVote": 1,
          "Score": 253,
          "SubredditName": "veYakinEvren"
         },
         {
          "IsSubscribed": true,
          "MyVote": 1,
          "Score": 450,
          "SubredditName": "veYakinEvren"
         },
         {
          "IsSubscribed": true,
          "MyVote": 1,
          "Score": 196,
          "SubredditName": "veYakinEvren"
         },
         {
          "IsSubscribed": false,
          "MyVote": 1,
          "Score": 174,
          "SubredditName": "dndmemes"
         },
         {
          "IsSubscribed": true,
          "MyVote": 1,
          "Score": 7,
          "SubredditName": "veYakinEvren"
         },
         {
          "IsSubscribed": true,
          "MyVote": 1,
          "Score": 355,
          "SubredditName": "veYakinEvren"
         },
         {
          "IsSubscribed": true,
          "MyVote": 1,
          "Score": 40,
          "SubredditName": "veYakinEvren"
         },
         {
          "IsSubscribed": false,
          "MyVote": 1,
          "Score": 964,
          "SubredditName": "dndmemes"
         },
         {
          "IsSubscribed": true,
          "MyVote": 1,
          "Score": 45,
          "SubredditName": "veYakinEvren"
         },
         {
          "IsSubscribed": true,
          "MyVote": 1,
          "Score": 37,
          "SubredditName": "veYakinEvren"
         },
         {
          "IsSubscribed": true,
          "MyVote": 1,
          "Score": 122,
          "SubredditName": "veYakinEvren"
         },
         {
          "IsSubscribed": true,
          "MyVote": 1,
          "Score": 175,
          "SubredditName": "veYakinEvren"
         },
         {
          "IsSubscribed": true,
          "MyVote": 1,
          "Score": 139,
          "SubredditName": "veYakinEvren"
         },
         {
          "IsSubscribed": false,
          "MyVote": 1,
          "Score": 149,
          "SubredditName": "dndmemes"
         },
         {
          "IsSubscribed": false,
          "MyVote": 1,
          "Score": 346,
          "SubredditName": "dndmemes"
         },
         {
          "IsSubscribed": true,
          "MyVote": 1,
          "Score": 178,
          "SubredditName": "veYakinEvren"
         },
         {
          "IsSubscribed": true,
          "MyVote": 1,
          "Score": 255,
          "SubredditName": "veYakinEvren"
         },
         {
          "IsSubscribed": true,
          "MyVote": 1,
          "Score": 233,
          "SubredditName": "veYakinEvren"
         },
         {
          "IsSubscribed": true,
          "MyVote": 1,
          "Score": 194,
          "SubredditName": "veYakinEvren"
         },
         {
          "IsSubscribed": true,
          "MyVote": 1,
          "Score": 129,
          "SubredditName": "veYakinEvren"
         },
         {
          "IsSubscribed": true,
          "MyVote": 1,
          "Score": 472,
          "SubredditName": "veYakinEvren"
         },
         {
          "IsSubscribed": true,
          "MyVote": 1,
          "Score": 185,
          "SubredditName": "veYakinEvren"
         },
         {
          "IsSubscribed": true,
          "MyVote": 1,
          "Score": 59,
          "SubredditName": "veYakinEvren"
         },
         {
          "IsSubscribed": false,
          "MyVote": 1,
          "Score": 514,
          "SubredditName": "dndmemes"
         },
         {
          "IsSubscribed": false,
          "MyVote": 1,
          "Score": 110,
          "SubredditName": "dndmemes"
         },
         {
          "IsSubscribed": true,
          "MyVote": 1,
          "Score": 398,
          "SubredditName": "veYakinEvren"
         },
         {
          "IsSubscribed": true,
          "MyVote": 1,
          "Score": 32,
          "SubredditName": "veYakinEvren"
         },
         {
          "IsSubscribed": true,
          "MyVote": 1,
          "Score": 82,
          "SubredditName": "veYakinEvren"
         },
         {
          "IsSubscribed": true,
          "MyVote": 1,
          "Score": 82,
          "SubredditName": "veYakinEvren"
         },
         {
          "IsSubscribed": true,
          "MyVote": 1,
          "Score": 102,
          "SubredditName": "veYakinEvren"
         },
         {
          "IsSubscribed": true,
          "MyVote": 1,
          "Score": 20,
          "SubredditName": "veYakinEvren"
         },
         {
          "IsSubscribed": true,
          "MyVote": 1,
          "Score": 240,
          "SubredditName": "veYakinEvren"
         },
         {
          "IsSubscribed": false,
          "MyVote": 1,
          "Score": 621,
          "SubredditName": "dndmemes"
         },
         {
          "IsSubscribed": true,
          "MyVote": 1,
          "Score": 301,
          "SubredditName": "veYakinEvren"
         },
         {
          "IsSubscribed": true,
          "MyVote": 1,
          "Score": 12,
          "SubredditName": "veYakinEvren"
         },
         {
          "IsSubscribed": true,
          "MyVote": 1,
          "Score": 219,
          "SubredditName": "veYakinEvren"
         },
         {
          "IsSubscribed": true,
          "MyVote": 1,
          "Score": 128,
          "SubredditName": "veYakinEvren"
         },
         {
          "IsSubscribed": true,
          "MyVote": 1,
          "Score": 122,
          "SubredditName": "veYakinEvren"
         },
         {
          "IsSubscribed": true,
          "MyVote": 1,
          "Score": 184,
          "SubredditName": "veYakinEvren"
         },
         {
          "IsSubscribed": true,
          "MyVote": 1,
          "Score": 173,
          "SubredditName": "veYakinEvren"
         },
         {
          "IsSubscribed": true,
          "MyVote": 1,
          "Score": 186,
          "SubredditName": "veYakinEvren"
         },
         {
          "IsSubscribed": true,
          "MyVote": 1,
          "Score": 47,
          "SubredditName": "veYakinEvren"
         },
         {
          "IsSubscribed": true,
          "MyVote": 1,
          "Score": 86,
          "SubredditName": "veYakinEvren"
         },
         {
          "IsSubscribed": true,
          "MyVote": 1,
          "Score": 165,
          "SubredditName": "veYakinEvren"
         },
         {
          "IsSubscribed": true,
          "MyVote": -1,
          "Score": 13,
          "SubredditName": "veYakinEvren"
         },
         {
          "IsSubscribed": true,
          "MyVote": 1,
          "Score": 46,
          "SubredditName": "veYakinEvren"
         },
         {
          "IsSubscribed": true,
          "MyVote": 1,
          "Score": 6,
          "SubredditName": "SenNeDiyon"
         },
         {
          "IsSubscribed": false,
          "MyVote": 1,
          "Score": 235,
          "SubredditName": "dndmemes"
         },
         {
          "IsSubscribed": true,
          "MyVote": 1,
          "Score": 234,
          "SubredditName": "veYakinEvren"
         },
         {
          "IsSubscribed": true,
          "MyVote": 1,
          "Score": 118,
          "SubredditName": "veYakinEvren"
         },
         {
          "IsSubscribed": true,
          "MyVote": 1,
          "Score": 62,
          "SubredditName": "veYakinEvren"
         },
         {
          "IsSubscribed": true,
          "MyVote": 1,
          "Score": 191,
          "SubredditName": "veYakinEvren"
         },
         {
          "IsSubscribed": false,
          "MyVote": 1,
          "Score": 331,
          "SubredditName": "dndmemes"
         },
         {
          "IsSubscribed": true,
          "MyVote": 1,
          "Score": 240,
          "SubredditName": "veYakinEvren"
         },
         {
          "IsSubscribed": true,
          "MyVote": 1,
          "Score": 42,
          "SubredditName": "veYakinEvren"
         },
         {
          "IsSubscribed": true,
          "MyVote": 1,
          "Score": 25,
          "SubredditName": "veYakinEvren"
         },
         {
          "IsSubscribed": true,
          "MyVote": 1,
          "Score": 719,
          "SubredditName": "veYakinEvren"
         },
         {
          "IsSubscribed": true,
          "MyVote": 1,
          "Score": 77,
          "SubredditName": "veYakinEvren"
         },
         {
          "IsSubscribed": true,
          "MyVote": 1,
          "Score": 304,
          "SubredditName": "veYakinEvren"
         },
         {
          "IsSubscribed": true,
          "MyVote": 1,
          "Score": 240,
          "SubredditName": "veYakinEvren"
         },
         {
          "IsSubscribed": true,
          "MyVote": 1,
          "Score": 49,
          "SubredditName": "veYakinEvren"
         },
         {
          "IsSubscribed": false,
          "MyVote": 1,
          "Score": 230,
          "SubredditName": "dndmemes"
         },
         {
          "IsSubscribed": true,
          "MyVote": 1,
          "Score": 271,
          "SubredditName": "veYakinEvren"
         },
         {
          "IsSubscribed": true,
          "MyVote": 1,
          "Score": 107,
          "SubredditName": "veYakinEvren"
         },
         {
          "IsSubscribed": true,
          "MyVote": 1,
          "Score": 322,
          "SubredditName": "veYakinEvren"
         },
         {
          "IsSubscribed": true,
          "MyVote": 1,
          "Score": 386,
          "SubredditName": "veYakinEvren"
         },
         {
          "IsSubscribed": true,
          "MyVote": 1,
          "Score": 330,
          "SubredditName": "veYakinEvren"
         },
         {
          "IsSubscribed": true,
          "MyVote": 1,
          "Score": 621,
          "SubredditName": "veYakinEvren"
         },
         {
          "IsSubscribed": true,
          "MyVote": 1,
          "Score": 257,
          "SubredditName": "veYakinEvren"
         },
         {
          "IsSubscribed": true,
          "MyVote": 1,
          "Score": 84,
          "SubredditName": "veYakinEvren"
         },
         {
          "IsSubscribed": true,
          "MyVote": 1,
          "Score": 297,
          "SubredditName": "veYakinEvren"
         },
         {
          "IsSubscribed": true,
          "MyVote": 1,
          "Score": 783,
          "SubredditName": "veYakinEvren"
         },
         {
          "IsSubscribed": true,
          "MyVote": 1,
          "Score": 6,
          "SubredditName": "SenNeDiyon"
         },
         {
          "IsSubscribed": true,
          "MyVote": 1,
          "Score": 243,
          "SubredditName": "veYakinEvren"
         },
         {
          "IsSubscribed": true,
          "MyVote": 1,
          "Score": 595,
          "SubredditName": "veYakinEvren"
         },
         {
          "IsSubscribed": true,
          "MyVote": 1,
          "Score": 27,
          "SubredditName": "veYakinEvren"
         },
         {
          "IsSubscribed": false,
          "MyVote": 1,
          "Score": 672,
          "SubredditName": "dndmemes"
         },
         {
          "IsSubscribed": true,
          "MyVote": 1,
          "Score": 313,
          "SubredditName": "veYakinEvren"
         },
         {
          "IsSubscribed": true,
          "MyVote": 1,
          "Score": 299,
          "SubredditName": "veYakinEvren"
         },
         {
          "IsSubscribed": true,
          "MyVote": 1,
          "Score": 256,
          "SubredditName": "veYakinEvren"
         },
         {
          "IsSubscribed": true,
          "MyVote": 1,
          "Score": 148,
          "SubredditName": "veYakinEvren"
         },
         {
          "IsSubscribed": false,
          "MyVote": 1,
          "Score": 260,
          "SubredditName": "dndmemes"
         },
         {
          "IsSubscribed": true,
          "MyVote": 1,
          "Score": 127,
          "SubredditName": "veYakinEvren"
         },
         {
          "IsSubscribed": true,
          "MyVote": 1,
          "Score": 167,
          "SubredditName": "veYakinEvren"
         },
         {
          "IsSubscribed": false,
          "MyVote": 1,
          "Score": 174,
          "SubredditName": "dndmemes"
         },
         {
          "IsSubscribed": true,
          "MyVote": 1,
          "Score": 142,
          "SubredditName": "veYakinEvren"
         },
         {
          "IsSubscribed": true,
          "MyVote": 1,
          "Score": 286,
          "SubredditName": "veYakinEvren"
         },
         {
          "IsSubscribed": false,
          "MyVote": 1,
          "Score": 182,
          "SubredditName": "dndmemes"
         },
         {
          "IsSubscribed": true,
          "MyVote": 1,
          "Score": 156,
          "SubredditName": "veYakinEvren"
         },
         {
          "IsSubscribed": true,
          "MyVote": 1,
          "Score": 148,
          "SubredditName": "veYakinEvren"
         },
         {
          "IsSubscribed": false,
          "MyVote": 1,
          "Score": 157,
          "SubredditName": "dndmemes"
         },
         {
          "IsSubscribed": true,
          "MyVote": 1,
          "Score": 147,
          "SubredditName": "veYakinEvren"
         },
         {
          "IsSubscribed": true,
          "MyVote": 1,
          "Score": 138,
          "SubredditName": "veYakinEvren"
         },
         {
          "IsSubscribed": true,
          "MyVote": 1,
          "Score": 292,
          "SubredditName": "veYakinEvren"
         },
         {
          "IsSubscribed": true,
          "MyVote": 1,
          "Score": 98,
          "SubredditName": "veYakinEvren"
         },
         {
          "IsSubscribed": true,
          "MyVote": 1,
          "Score": 1,
          "SubredditName": "veYakinEvren"
         },
         {
          "IsSubscribed": true,
          "MyVote": 1,
          "Score": 331,
          "SubredditName": "veYakinEvren"
         },
         {
          "IsSubscribed": false,
          "MyVote": 1,
          "Score": 4733,
          "SubredditName": "dndmemes"
         },
         {
          "IsSubscribed": true,
          "MyVote": 1,
          "Score": 49,
          "SubredditName": "veYakinEvren"
         },
         {
          "IsSubscribed": true,
          "MyVote": 1,
          "Score": 130,
          "SubredditName": "veYakinEvren"
         },
         {
          "IsSubscribed": true,
          "MyVote": 1,
          "Score": 62,
          "SubredditName": "veYakinEvren"
         },
         {
          "IsSubscribed": true,
          "MyVote": 1,
          "Score": 324,
          "SubredditName": "veYakinEvren"
         },
         {
          "IsSubscribed": true,
          "MyVote": 1,
          "Score": 41,
          "SubredditName": "veYakinEvren"
         },
         {
          "IsSubscribed": true,
          "MyVote": 1,
          "Score": 30,
          "SubredditName": "veYakinEvren"
         },
         {
          "IsSubscribed": true,
          "MyVote": 1,
          "Score": 55,
          "SubredditName": "veYakinEvren"
         },
         {
          "IsSubscribed": true,
          "MyVote": 1,
          "Score": 391,
          "SubredditName": "veYakinEvren"
         },
         {
          "IsSubscribed": true,
          "MyVote": 1,
          "Score": 66,
          "SubredditName": "veYakinEvren"
         },
         {
          "IsSubscribed": false,
          "MyVote": 1,
          "Score": 1,
          "SubredditName": "DMAcademy"
         },
         {
          "IsSubscribed": true,
          "MyVote": 1,
          "Score": 345,
          "SubredditName": "veYakinEvren"
         },
         {
          "IsSubscribed": true,
          "MyVote": 1,
          "Score": 357,
          "SubredditName": "veYakinEvren"
         },
         {
          "IsSubscribed": true,
          "MyVote": 1,
          "Score": 192,
          "SubredditName": "veYakinEvren"
         },
         {
          "IsSubscribed": true,
          "MyVote": 1,
          "Score": 109,
          "SubredditName": "veYakinEvren"
         },
         {
          "IsSubscribed": true,
          "MyVote": 1,
          "Score": 356,
          "SubredditName": "veYakinEvren"
         },
         {
          "IsSubscribed": true,
          "MyVote": 1,
          "Score": 84,
          "SubredditName": "veYakinEvren"
         },
         {
          "IsSubscribed": true,
          "MyVote": 1,
          "Score": 11,
          "SubredditName": "veYakinEvren"
         },
         {
          "IsSubscribed": true,
          "MyVote": 1,
          "Score": 443,
          "SubredditName": "veYakinEvren"
         },
         {
          "IsSubscribed": false,
          "MyVote": 1,
          "Score": 223,
          "SubredditName": "dndmemes"
         },
         {
          "IsSubscribed": false,
          "MyVote": 1,
          "Score": 177,
          "SubredditName": "dndmemes"
         },
         {
          "IsSubscribed": false,
          "MyVote": 1,
          "Score": 181,
          "SubredditName": "dndmemes"
         },
         {
          "IsSubscribed": true,
          "MyVote": 1,
          "Score": 133,
          "SubredditName": "veYakinEvren"
         },
         {
          "IsSubscribed": true,
          "MyVote": 1,
          "Score": 1,
          "SubredditName": "consolerepair"
         },
         {
          "IsSubscribed": true,
          "MyVote": 1,
          "Score": 7,
          "SubredditName": "veYakinEvren"
         },
         {
          "IsSubscribed": true,
          "MyVote": 1,
          "Score": 203,
          "SubredditName": "veYakinEvren"
         },
         {
          "IsSubscribed": true,
          "MyVote": 1,
          "Score": 90,
          "SubredditName": "veYakinEvren"
         },
         {
          "IsSubscribed": true,
          "MyVote": 1,
          "Score": 11,
          "SubredditName": "veYakinEvren"
         },
         {
          "IsSubscribed": true,
          "MyVote": 1,
          "Score": 43,
          "SubredditName": "veYakinEvren"
         },
         {
          "IsSubscribed": true,
          "MyVote": 1,
          "Score": 67,
          "SubredditName": "veYakinEvren"
         },
         {
          "IsSubscribed": true,
          "MyVote": 1,
          "Score": 135,
          "SubredditName": "veYakinEvren"
         },
         {
          "IsSubscribed": false,
          "MyVote": 1,
          "Score": 3338,
          "SubredditName": "dndmemes"
         },
         {
          "IsSubscribed": true,
          "MyVote": 1,
          "Score": 109,
          "SubredditName": "veYakinEvren"
         },
         {
          "IsSubscribed": false,
          "MyVote": 1,
          "Score": 16221,
          "SubredditName": "dndmemes"
         },
         {
          "IsSubscribed": true,
          "MyVote": 1,
          "Score": 27,
          "SubredditName": "veYakinEvren"
         },
         {
          "IsSubscribed": false,
          "MyVote": 1,
          "Score": 111,
          "SubredditName": "dndmemes"
         },
         {
          "IsSubscribed": false,
          "MyVote": 1,
          "Score": 49,
          "SubredditName": "dndmemes"
         },
         {
          "IsSubscribed": true,
          "MyVote": 1,
          "Score": 294,
          "SubredditName": "veYakinEvren"
         },
         {
          "IsSubscribed": true,
          "MyVote": 1,
          "Score": 8,
          "SubredditName": "veYakinEvren"
         },
         {
          "IsSubscribed": false,
          "MyVote": 1,
          "Score": 131,
          "SubredditName": "dndmemes"
         },
         {
          "IsSubscribed": true,
          "MyVote": 1,
          "Score": 62,
          "SubredditName": "veYakinEvren"
         },
         {
          "IsSubscribed": false,
          "MyVote": 1,
          "Score": 321,
          "SubredditName": "dndmemes"
         },
         {
          "IsSubscribed": true,
          "MyVote": 1,
          "Score": 24,
          "SubredditName": "veYakinEvren"
         },
         {
          "IsSubscribed": true,
          "MyVote": 1,
          "Score": 81,
          "SubredditName": "veYakinEvren"
         },
         {
          "IsSubscribed": false,
          "MyVote": 1,
          "Score": 305,
          "SubredditName": "dndmemes"
         },
         {
          "IsSubscribed": true,
          "MyVote": 1,
          "Score": 207,
          "SubredditName": "veYakinEvren"
         },
         {
          "IsSubscribed": true,
          "MyVote": 1,
          "Score": 127,
          "SubredditName": "veYakinEvren"
         },
         {
          "IsSubscribed": false,
          "MyVote": 1,
          "Score": 159,
          "SubredditName": "dndmemes"
         },
         {
          "IsSubscribed": true,
          "MyVote": 1,
          "Score": 271,
          "SubredditName": "veYakinEvren"
         },
         {
          "IsSubscribed": true,
          "MyVote": 1,
          "Score": 204,
          "SubredditName": "veYakinEvren"
         },
         {
          "IsSubscribed": true,
          "MyVote": 1,
          "Score": 269,
          "SubredditName": "veYakinEvren"
         },
         {
          "IsSubscribed": true,
          "MyVote": 1,
          "Score": 55,
          "SubredditName": "veYakinEvren"
         },
         {
          "IsSubscribed": true,
          "MyVote": 1,
          "Score": 28,
          "SubredditName": "veYakinEvren"
         },
         {
          "IsSubscribed": true,
          "MyVote": 1,
          "Score": 190,
          "SubredditName": "veYakinEvren"
         },
         {
          "IsSubscribed": true,
          "MyVote": 1,
          "Score": 128,
          "SubredditName": "veYakinEvren"
         },
         {
          "IsSubscribed": true,
          "MyVote": 1,
          "Score": 250,
          "SubredditName": "veYakinEvren"
         },
         {
          "IsSubscribed": false,
          "MyVote": 1,
          "Score": 192,
          "SubredditName": "dndmemes"
         },
         {
          "IsSubscribed": true,
          "MyVote": 1,
          "Score": 309,
          "SubredditName": "veYakinEvren"
         },
         {
          "IsSubscribed": true,
          "MyVote": 1,
          "Score": 65,
          "SubredditName": "veYakinEvren"
         },
         {
          "IsSubscribed": true,
          "MyVote": 1,
          "Score": 191,
          "SubredditName": "veYakinEvren"
         },
         {
          "IsSubscribed": false,
          "MyVote": 1,
          "Score": 2,
          "SubredditName": "NintendoDSi"
         },
         {
          "IsSubscribed": true,
          "MyVote": 1,
          "Score": 260,
          "SubredditName": "veYakinEvren"
         },
         {
          "IsSubscribed": true,
          "MyVote": 1,
          "Score": 258,
          "SubredditName": "veYakinEvren"
         },
         {
          "IsSubscribed": true,
          "MyVote": 1,
          "Score": 164,
          "SubredditName": "veYakinEvren"
         },
         {
          "IsSubscribed": true,
          "MyVote": 1,
          "Score": 52,
          "SubredditName": "veYakinEvren"
         },
         {
          "IsSubscribed": true,
          "MyVote": -1,
          "Score": 16,
          "SubredditName": "veYakinEvren"
         },
         {
          "IsSubscribed": true,
          "MyVote": 1,
          "Score": 295,
          "SubredditName": "veYakinEvren"
         },
         {
          "IsSubscribed": false,
          "MyVote": 1,
          "Score": 258,
          "SubredditName": "dndmemes"
         },
         {
          "IsSubscribed": true,
          "MyVote": 1,
          "Score": 1105,
          "SubredditName": "veYakinEvren"
         },
         {
          "IsSubscribed": true,
          "MyVote": 1,
          "Score": 20,
          "SubredditName": "veYakinEvren"
         },
         {
          "IsSubscribed": true,
          "MyVote": 1,
          "Score": 180,
          "SubredditName": "veYakinEvren"
         },
         {
          "IsSubscribed": false,
          "MyVote": 1,
          "Score": 269,
          "SubredditName": "dndmemes"
         },
         {
          "IsSubscribed": false,
          "MyVote": 1,
          "Score": 185,
          "SubredditName": "dndmemes"
         },
         {
          "IsSubscribed": true,
          "MyVote": 1,
          "Score": 21,
          "SubredditName": "veYakinEvren"
         },
         {
          "IsSubscribed": true,
          "MyVote": 1,
          "Score": 22,
          "SubredditName": "veYakinEvren"
         },
         {
          "IsSubscribed": false,
          "MyVote": 1,
          "Score": 686,
          "SubredditName": "dndmemes"
         },
         {
          "IsSubscribed": false,
          "MyVote": 1,
          "Score": 91,
          "SubredditName": "dndmemes"
         },
         {
          "IsSubscribed": true,
          "MyVote": 1,
          "Score": 67,
          "SubredditName": "veYakinEvren"
         },
         {
          "IsSubscribed": true,
          "MyVote": 1,
          "Score": 32,
          "SubredditName": "veYakinEvren"
         },
         {
          "IsSubscribed": true,
          "MyVote": 1,
          "Score": 233,
          "SubredditName": "veYakinEvren"
         },
         {
          "IsSubscribed": true,
          "MyVote": 1,
          "Score": 200,
          "SubredditName": "veYakinEvren"
         },
         {
          "IsSubscribed": true,
          "MyVote": 1,
          "Score": 91,
          "SubredditName": "veYakinEvren"
         },
         {
          "IsSubscribed": true,
          "MyVote": 1,
          "Score": 21,
          "SubredditName": "veYakinEvren"
         },
         {
          "IsSubscribed": true,
          "MyVote": 1,
          "Score": 138,
          "SubredditName": "veYakinEvren"
         },
         {
          "IsSubscribed": true,
          "MyVote": 1,
          "Score": 299,
          "SubredditName": "veYakinEvren"
         },
         {
          "IsSubscribed": true,
          "MyVote": 1,
          "Score": 262,
          "SubredditName": "veYakinEvren"
         },
         {
          "IsSubscribed": false,
          "MyVote": 1,
          "Score": 3835,
          "SubredditName": "dndmemes"
         },
         {
          "IsSubscribed": true,
          "MyVote": 1,
          "Score": 177,
          "SubredditName": "veYakinEvren"
         },
         {
          "IsSubscribed": true,
          "MyVote": 1,
          "Score": 70,
          "SubredditName": "veYakinEvren"
         },
         {
          "IsSubscribed": true,
          "MyVote": 1,
          "Score": 1194,
          "SubredditName": "startrekmemes"
         },
         {
          "IsSubscribed": true,
          "MyVote": 1,
          "Score": 139,
          "SubredditName": "veYakinEvren"
         },
         {
          "IsSubscribed": true,
          "MyVote": 1,
          "Score": 1169,
          "SubredditName": "startrekmemes"
         },
         {
          "IsSubscribed": true,
          "MyVote": 1,
          "Score": 195,
          "SubredditName": "veYakinEvren"
         },
         {
          "IsSubscribed": true,
          "MyVote": 1,
          "Score": 548,
          "SubredditName": "veYakinEvren"
         },
         {
          "IsSubscribed": true,
          "MyVote": 1,
          "Score": 52,
          "SubredditName": "veYakinEvren"
         },
         {
          "IsSubscribed": true,
          "MyVote": 1,
          "Score": 113,
          "SubredditName": "veYakinEvren"
         },
         {
          "IsSubscribed": true,
          "MyVote": 1,
          "Score": 1136,
          "SubredditName": "startrekmemes"
         },
         {
          "IsSubscribed": true,
          "MyVote": 1,
          "Score": 8,
          "SubredditName": "veYakinEvren"
         },
         {
          "IsSubscribed": true,
          "MyVote": 1,
          "Score": 76,
          "SubredditName": "veYakinEvren"
         },
         {
          "IsSubscribed": true,
          "MyVote": 1,
          "Score": 10,
          "SubredditName": "veYakinEvren"
         },
         {
          "IsSubscribed": true,
          "MyVote": 1,
          "Score": 146,
          "SubredditName": "veYakinEvren"
         },
         {
          "IsSubscribed": true,
          "MyVote": 1,
          "Score": 299,
          "SubredditName": "veYakinEvren"
         },
         {
          "IsSubscribed": true,
          "MyVote": 1,
          "Score": 212,
          "SubredditName": "veYakinEvren"
         },
         {
          "IsSubscribed": true,
          "MyVote": 1,
          "Score": 68,
          "SubredditName": "veYakinEvren"
         },
         {
          "IsSubscribed": true,
          "MyVote": 1,
          "Score": 252,
          "SubredditName": "veYakinEvren"
         },
         {
          "IsSubscribed": true,
          "MyVote": 1,
          "Score": 28,
          "SubredditName": "veYakinEvren"
         },
         {
          "IsSubscribed": true,
          "MyVote": 1,
          "Score": 5250,
          "SubredditName": "startrekmemes"
         },
         {
          "IsSubscribed": true,
          "MyVote": 1,
          "Score": 60,
          "SubredditName": "veYakinEvren"
         },
         {
          "IsSubscribed": true,
          "MyVote": 1,
          "Score": 6197,
          "SubredditName": "startrekmemes"
         },
         {
          "IsSubscribed": true,
          "MyVote": 1,
          "Score": 78,
          "SubredditName": "veYakinEvren"
         },
         {
          "IsSubscribed": true,
          "MyVote": 1,
          "Score": 448,
          "SubredditName": "startrek"
         },
         {
          "IsSubscribed": true,
          "MyVote": 1,
          "Score": 1140,
          "SubredditName": "startrekmemes"
         },
         {
          "IsSubscribed": true,
          "MyVote": 1,
          "Score": 183,
          "SubredditName": "veYakinEvren"
         },
         {
          "IsSubscribed": true,
          "MyVote": 1,
          "Score": 35,
          "SubredditName": "veYakinEvren"
         },
         {
          "IsSubscribed": true,
          "MyVote": 1,
          "Score": 257,
          "SubredditName": "veYakinEvren"
         },
         {
          "IsSubscribed": true,
          "MyVote": 1,
          "Score": 85,
          "SubredditName": "veYakinEvren"
         },
         {
          "IsSubscribed": true,
          "MyVote": 1,
          "Score": 93,
          "SubredditName": "veYakinEvren"
         },
         {
          "IsSubscribed": true,
          "MyVote": 1,
          "Score": 480,
          "SubredditName": "startrekmemes"
         },
         {
          "IsSubscribed": true,
          "MyVote": 1,
          "Score": 31,
          "SubredditName": "veYakinEvren"
         },
         {
          "IsSubscribed": true,
          "MyVote": 1,
          "Score": 336,
          "SubredditName": "ElectroBOOM"
         },
         {
          "IsSubscribed": true,
          "MyVote": 1,
          "Score": 61,
          "SubredditName": "veYakinEvren"
         },
         {
          "IsSubscribed": true,
          "MyVote": 1,
          "Score": 153,
          "SubredditName": "veYakinEvren"
         },
         {
          "IsSubscribed": true,
          "MyVote": 1,
          "Score": 199,
          "SubredditName": "veYakinEvren"
         },
         {
          "IsSubscribed": true,
          "MyVote": 1,
          "Score": 62,
          "SubredditName": "veYakinEvren"
         },
         {
          "IsSubscribed": true,
          "MyVote": 1,
          "Score": 2,
          "SubredditName": "ElectroBOOM"
         },
         {
          "IsSubscribed": true,
          "MyVote": 1,
          "Score": 342,
          "SubredditName": "veYakinEvren"
         },
         {
          "IsSubscribed": true,
          "MyVote": 1,
          "Score": 4980,
          "SubredditName": "startrekmemes"
         },
         {
          "IsSubscribed": true,
          "MyVote": 1,
          "Score": 1367,
          "SubredditName": "SatisfactoryGame"
         },
         {
          "IsSubscribed": true,
          "MyVote": 1,
          "Score": 88,
          "SubredditName": "veYakinEvren"
         },
         {
          "IsSubscribed": true,
          "MyVote": 1,
          "Score": 46,
          "SubredditName": "veYakinEvren"
         },
         {
          "IsSubscribed": true,
          "MyVote": 1,
          "Score": 108,
          "SubredditName": "veYakinEvren"
         },
         {
          "IsSubscribed": true,
          "MyVote": 1,
          "Score": 183,
          "SubredditName": "veYakinEvren"
         },
         {
          "IsSubscribed": true,
          "MyVote": 1,
          "Score": 59,
          "SubredditName": "veYakinEvren"
         },
         {
          "IsSubscribed": true,
          "MyVote": 1,
          "Score": 42,
          "SubredditName": "veYakinEvren"
         },
         {
          "IsSubscribed": true,
          "MyVote": 1,
          "Score": 432,
          "SubredditName": "startrekmemes"
         },
         {
          "IsSubscribed": true,
          "MyVote": 1,
          "Score": 302,
          "SubredditName": "veYakinEvren"
         },
         {
          "IsSubscribed": false,
          "MyVote": 1,
          "Score": 7,
          "SubredditName": "flashcarts"
         },
         {
          "IsSubscribed": true,
          "MyVote": 1,
          "Score": 16,
          "SubredditName": "veYakinEvren"
         },
         {
          "IsSubscribed": false,
          "MyVote": 1,
          "Score": 784,
          "SubredditName": "dndmemes"
         },
         {
          "IsSubscribed": true,
          "MyVote": 1,
          "Score": 58,
          "SubredditName": "veYakinEvren"
         },
         {
          "IsSubscribed": true,
          "MyVote": 1,
          "Score": 1468,
          "SubredditName": "startrekmemes"
         },
         {
          "IsSubscribed": true,
          "MyVote": 1,
          "Score": 510,
          "SubredditName": "startrekmemes"
         },
         {
          "IsSubscribed": true,
          "MyVote": 1,
          "Score": 71,
          "SubredditName": "veYakinEvren"
         },
         {
          "IsSubscribed": true,
          "MyVote": 1,
          "Score": 260,
          "SubredditName": "veYakinEvren"
         },
         {
          "IsSubscribed": true,
          "MyVote": 1,
          "Score": 183,
          "SubredditName": "veYakinEvren"
         },
         {
          "IsSubscribed": true,
          "MyVote": 1,
          "Score": 6209,
          "SubredditName": "startrekmemes"
         },
         {
          "IsSubscribed": true,
          "MyVote": 1,
          "Score": 60,
          "SubredditName": "veYakinEvren"
         },
         {
          "IsSubscribed": true,
          "MyVote": 1,
          "Score": 277,
          "SubredditName": "veYakinEvren"
         },
         {
          "IsSubscribed": true,
          "MyVote": 1,
          "Score": 72,
          "SubredditName": "veYakinEvren"
         },
         {
          "IsSubscribed": true,
          "MyVote": 1,
          "Score": 504,
          "SubredditName": "veYakinEvren"
         },
         {
          "IsSubscribed": true,
          "MyVote": 1,
          "Score": 14,
          "SubredditName": "veYakinEvren"
         },
         {
          "IsSubscribed": true,
          "MyVote": 1,
          "Score": 128,
          "SubredditName": "veYakinEvren"
         },
         {
          "IsSubscribed": false,
          "MyVote": 1,
          "Score": 1182,
          "SubredditName": "dndmemes"
         },
         {
          "IsSubscribed": true,
          "MyVote": 1,
          "Score": 47,
          "SubredditName": "veYakinEvren"
         },
         {
          "IsSubscribed": false,
          "MyVote": 1,
          "Score": 2,
          "SubredditName": "flashcarts"
         },
         {
          "IsSubscribed": true,
          "MyVote": 1,
          "Score": 352,
          "SubredditName": "veYakinEvren"
         },
         {
          "IsSubscribed": true,
          "MyVote": 1,
          "Score": 1700,
          "SubredditName": "startrekmemes"
         },
         {
          "IsSubscribed": true,
          "MyVote": 1,
          "Score": 146,
          "SubredditName": "veYakinEvren"
         },
         {
          "IsSubscribed": true,
          "MyVote": 1,
          "Score": 141,
          "SubredditName": "veYakinEvren"
         },
         {
          "IsSubscribed": true,
          "MyVote": 1,
          "Score": 101,
          "SubredditName": "veYakinEvren"
         },
         {
          "IsSubscribed": true,
          "MyVote": 1,
          "Score": 12,
          "SubredditName": "veYakinEvren"
         },
         {
          "IsSubscribed": true,
          "MyVote": 1,
          "Score": 598,
          "SubredditName": "startrekmemes"
         },
         {
          "IsSubscribed": true,
          "MyVote": 1,
          "Score": 14,
          "SubredditName": "veYakinEvren"
         },
         {
          "IsSubscribed": true,
          "MyVote": 1,
          "Score": 4777,
          "SubredditName": "startrekmemes"
         },
         {
          "IsSubscribed": true,
          "MyVote": 1,
          "Score": 151,
          "SubredditName": "veYakinEvren"
         },
         {
          "IsSubscribed": true,
          "MyVote": 1,
          "Score": 147,
          "SubredditName": "veYakinEvren"
         },
         {
          "IsSubscribed": true,
          "MyVote": 1,
          "Score": 165,
          "SubredditName": "veYakinEvren"
         },
         {
          "IsSubscribed": true,
          "MyVote": 1,
          "Score": 376,
          "SubredditName": "startrekmemes"
         },
         {
          "IsSubscribed": true,
          "MyVote": 1,
          "Score": 971,
          "SubredditName": "startrekmemes"
         },
         {
          "IsSubscribed": true,
          "MyVote": 1,
          "Score": 44,
          "SubredditName": "veYakinEvren"
         },
         {
          "IsSubscribed": true,
          "MyVote": 1,
          "Score": 375,
          "SubredditName": "veYakinEvren"
         },
         {
          "IsSubscribed": true,
          "MyVote": 1,
          "Score": 130,
          "SubredditName": "startrekmemes"
         },
         {
          "IsSubscribed": true,
          "MyVote": 1,
          "Score": 111,
          "SubredditName": "veYakinEvren"
         },
         {
          "IsSubscribed": true,
          "MyVote": 1,
          "Score": 208,
          "SubredditName": "veYakinEvren"
         },
         {
          "IsSubscribed": true,
          "MyVote": 1,
          "Score": 134,
          "SubredditName": "veYakinEvren"
         },
         {
          "IsSubscribed": true,
          "MyVote": 1,
          "Score": 164,
          "SubredditName": "veYakinEvren"
         },
         {
          "IsSubscribed": true,
          "MyVote": 1,
          "Score": 3,
          "SubredditName": "consolerepair"
         },
         {
          "IsSubscribed": true,
          "MyVote": -1,
          "Score": 313,
          "SubredditName": "ProgrammerHumor"
         },
         {
          "IsSubscribed": true,
          "MyVote": 1,
          "Score": 213,
          "SubredditName": "ProgrammerHumor"
         },
         {
          "IsSubscribed": true,
          "MyVote": 1,
          "Score": 3,
          "SubredditName": "ProgrammerHumor"
         },
         {
          "IsSubscribed": true,
          "MyVote": 1,
          "Score": 2105,
          "SubredditName": "learnprogramming"
         },
         {
          "IsSubscribed": true,
          "MyVote": 1,
          "Score": 0,
          "SubredditName": "ProgrammerHumor"
         },
         {
          "IsSubscribed": false,
          "MyVote": -1,
          "Score": 306,
          "SubredditName": "u_Microsoft"
         },
         {
          "IsSubscribed": true,
          "MyVote": 1,
          "Score": 405,
          "SubredditName": "montypython"
         },
         {
          "IsSubscribed": true,
          "MyVote": 1,
          "Score": 2054,
          "SubredditName": "ProgrammerHumor"
         },
         {
          "IsSubscribed": true,
          "MyVote": 1,
          "Score": 441,
          "SubredditName": "startrekmemes"
         },
         {
          "IsSubscribed": true,
          "MyVote": 1,
          "Score": 287,
          "SubredditName": "veYakinEvren"
         },
         {
          "IsSubscribed": true,
          "MyVote": 1,
          "Score": 50901,
          "SubredditName": "ProgrammerHumor"
         },
         {
          "IsSubscribed": true,
          "MyVote": 1,
          "Score": 169,
          "SubredditName": "veYakinEvren"
         },
         {
          "IsSubscribed": true,
          "MyVote": 1,
          "Score": 461,
          "SubredditName": "ProgrammerHumor"
         },
         {
          "IsSubscribed": true,
          "MyVote": 1,
          "Score": 15,
          "SubredditName": "ProgrammerHumor"
         },
         {
          "IsSubscribed": true,
          "MyVote": 1,
          "Score": 3,
          "SubredditName": "learnprogramming"
         },
         {
          "IsSubscribed": true,
          "MyVote": 1,
          "Score": 5128,
          "SubredditName": "ProgrammerHumor"
         },
         {
          "IsSubscribed": true,
          "MyVote": -1,
          "Score": 52,
          "SubredditName": "ProgrammerHumor"
         },
         {
          "IsSubscribed": true,
          "MyVote": 1,
          "Score": 282,
          "SubredditName": "ElectroBOOM"
         },
         {
          "IsSubscribed": true,
          "MyVote": 1,
          "Score": 62,
          "SubredditName": "veYakinEvren"
         },
         {
          "IsSubscribed": true,
          "MyVote": 1,
          "Score": 126,
          "SubredditName": "montypython"
         },
         {
          "IsSubscribed": true,
          "MyVote": 1,
          "Score": 1158,
          "SubredditName": "startrekmemes"
         },
         {
          "IsSubscribed": true,
          "MyVote": 1,
          "Score": 10021,
          "SubredditName": "ProgrammerHumor"
         },
         {
          "IsSubscribed": true,
          "MyVote": 1,
          "Score": 891,
          "SubredditName": "veYakinEvren"
         },
         {
          "IsSubscribed": true,
          "MyVote": 1,
          "Score": 1510,
          "SubredditName": "SatisfactoryGame"
         },
         {
          "IsSubscribed": true,
          "MyVote": 1,
          "Score": 40,
          "SubredditName": "ProgrammerHumor"
         },
         {
          "IsSubscribed": true,
          "MyVote": 1,
          "Score": 849,
          "SubredditName": "startrekmemes"
         },
         {
          "IsSubscribed": true,
          "MyVote": 1,
          "Score": 3855,
          "SubredditName": "startrekmemes"
         },
         {
          "IsSubscribed": true,
          "MyVote": 1,
          "Score": 4,
          "SubredditName": "SenNeDiyon"
         },
         {
          "IsSubscribed": true,
          "MyVote": 1,
          "Score": 891,
          "SubredditName": "ProgrammerHumor"
         },
         {
          "IsSubscribed": true,
          "MyVote": 1,
          "Score": 3949,
          "SubredditName": "mathmemes"
         },
         {
          "IsSubscribed": true,
          "MyVote": 1,
          "Score": 1921,
          "SubredditName": "startrekmemes"
         },
         {
          "IsSubscribed": true,
          "MyVote": 1,
          "Score": 3719,
          "SubredditName": "mathmemes"
         },
         {
          "IsSubscribed": true,
          "MyVote": 1,
          "Score": 154,
          "SubredditName": "ProgrammerHumor"
         },
         {
          "IsSubscribed": false,
          "MyVote": 1,
          "Score": 56681,
          "SubredditName": "interestingasfuck"
         },
         {
          "IsSubscribed": true,
          "MyVote": 1,
          "Score": 21,
          "SubredditName": "ProgrammerHumor"
         },
         {
          "IsSubscribed": false,
          "MyVote": 1,
          "Score": 4,
          "SubredditName": "flashcarts"
         },
         {
          "IsSubscribed": true,
          "MyVote": 1,
          "Score": 13,
          "SubredditName": "startrekmemes"
         },
         {
          "IsSubscribed": true,
          "MyVote": 1,
          "Score": 9280,
          "SubredditName": "ProgrammerHumor"
         },
         {
          "IsSubscribed": true,
          "MyVote": 1,
          "Score": 3245,
          "SubredditName": "ProgrammerHumor"
         },
         {
          "IsSubscribed": false,
          "MyVote": 1,
          "Score": 167,
          "SubredditName": "dndmemes"
         },
         {
          "IsSubscribed": true,
          "MyVote": 1,
          "Score": 174,
          "SubredditName": "montypython"
         },
         {
          "IsSubscribed": true,
          "MyVote": 1,
          "Score": 297,
          "SubredditName": "startrekmemes"
         },
         {
          "IsSubscribed": true,
          "MyVote": 1,
          "Score": 313,
          "SubredditName": "ProgrammerHumor"
         },
         {
          "IsSubscribed": true,
          "MyVote": 1,
          "Score": 245,
          "SubredditName": "startrekmemes"
         },
         {
          "IsSubscribed": true,
          "MyVote": 1,
          "Score": 130,
          "SubredditName": "veYakinEvren"
         },
         {
          "IsSubscribed": false,
          "MyVote": 1,
          "Score": 1,
          "SubredditName": "algorithms"
         },
         {
          "IsSubscribed": true,
          "MyVote": 1,
          "Score": 81,
          "SubredditName": "ExposurePorn"
         },
         {
          "IsSubscribed": true,
          "MyVote": 1,
          "Score": 219,
          "SubredditName": "montypython"
         },
         {
          "IsSubscribed": true,
          "MyVote": 1,
          "Score": 3492,
          "SubredditName": "ProgrammerHumor"
         },
         {
          "IsSubscribed": true,
          "MyVote": 1,
          "Score": 280,
          "SubredditName": "ElectroBOOM"
         },
         {
          "IsSubscribed": true,
          "MyVote": 1,
          "Score": 351,
          "SubredditName": "veYakinEvren"
         },
         {
          "IsSubscribed": false,
          "MyVote": 1,
          "Score": 126,
          "SubredditName": "dndmemes"
         },
         {
          "IsSubscribed": false,
          "MyVote": 1,
          "Score": 93,
          "SubredditName": "dndmemes"
         },
         {
          "IsSubscribed": true,
          "MyVote": 1,
          "Score": 289,
          "SubredditName": "montypython"
         },
         {
          "IsSubscribed": true,
          "MyVote": 1,
          "Score": 203,
          "SubredditName": "ProgrammerHumor"
         },
         {
          "IsSubscribed": true,
          "MyVote": 1,
          "Score": 710,
          "SubredditName": "montypython"
         },
         {
          "IsSubscribed": true,
          "MyVote": 1,
          "Score": 103,
          "SubredditName": "veYakinEvren"
         },
         {
          "IsSubscribed": true,
          "MyVote": 1,
          "Score": 15,
          "SubredditName": "ProgrammerHumor"
         },
         {
          "IsSubscribed": true,
          "MyVote": 1,
          "Score": 7047,
          "SubredditName": "ProgrammerHumor"
         },
         {
          "IsSubscribed": true,
          "MyVote": 1,
          "Score": 524,
          "SubredditName": "startrekmemes"
         },
         {
          "IsSubscribed": true,
          "MyVote": 1,
          "Score": 19,
          "SubredditName": "startrekmemes"
         },
         {
          "IsSubscribed": true,
          "MyVote": 1,
          "Score": 262,
          "SubredditName": "startrekmemes"
         },
         {
          "IsSubscribed": true,
          "MyVote": 1,
          "Score": 2,
          "SubredditName": "learnprogramming"
         },
         {
          "IsSubscribed": true,
          "MyVote": 1,
          "Score": 28,
          "SubredditName": "SatisfactoryGame"
         },
         {
          "IsSubscribed": true,
          "MyVote": 1,
          "Score": 514,
          "SubredditName": "veYakinEvren"
         },
         {
          "IsSubscribed": false,
          "MyVote": 1,
          "Score": 2,
          "SubredditName": "learnpython"
         },
         {
          "IsSubscribed": true,
          "MyVote": 1,
          "Score": 42900,
          "SubredditName": "ProgrammerHumor"
         },
         {
          "IsSubscribed": true,
          "MyVote": 1,
          "Score": 50,
          "SubredditName": "ProgrammerHumor"
         },
         {
          "IsSubscribed": true,
          "MyVote": 1,
          "Score": 136,
          "SubredditName": "ProgrammerHumor"
         },
         {
          "IsSubscribed": true,
          "MyVote": 1,
          "Score": 275,
          "SubredditName": "montypython"
         },
         {
          "IsSubscribed": true,
          "MyVote": 1,
          "Score": 22447,
          "SubredditName": "ProgrammerHumor"
         },
         {
          "IsSubscribed": false,
          "MyVote": 1,
          "Score": 7,
          "SubredditName": "doctorwhoclientmod"
         },
         {
          "IsSubscribed": true,
          "MyVote": 1,
          "Score": 208,
          "SubredditName": "SatisfactoryGame"
         },
         {
          "IsSubscribed": true,
          "MyVote": 1,
          "Score": 395,
          "SubredditName": "ProgrammerHumor"
         },
         {
          "IsSubscribed": false,
          "MyVote": 1,
          "Score": 499,
          "SubredditName": "dndmemes"
         },
         {
          "IsSubscribed": true,
          "MyVote": 1,
          "Score": 1774,
          "SubredditName": "ProgrammerHumor"
         },
         {
          "IsSubscribed": true,
          "MyVote": 1,
          "Score": 689,
          "SubredditName": "ProgrammerHumor"
         },
         {
          "IsSubscribed": true,
          "MyVote": 1,
          "Score": 26,
          "SubredditName": "montypython"
         },
         {
          "IsSubscribed": true,
          "MyVote": -1,
          "Score": 0,
          "SubredditName": "ElectroBOOM"
         },
         {
          "IsSubscribed": false,
          "MyVote": 1,
          "Score": 2076,
          "SubredditName": "dndmemes"
         },
         {
          "IsSubscribed": true,
          "MyVote": 1,
          "Score": 8,
          "SubredditName": "Python"
         },
         {
          "IsSubscribed": true,
          "MyVote": 1,
          "Score": 6632,
          "SubredditName": "ProgrammerHumor"
         },
         {
          "IsSubscribed": true,
          "MyVote": 1,
          "Score": 472,
          "SubredditName": "montypython"
         },
         {
          "IsSubscribed": false,
          "MyVote": -1,
          "Score": 7304,
          "SubredditName": "dndmemes"
         },
         {
          "IsSubscribed": true,
          "MyVote": 1,
          "Score": 55721,
          "SubredditName": "ProgrammerHumor"
         },
         {
          "IsSubscribed": true,
          "MyVote": 1,
          "Score": 4846,
          "SubredditName": "startrekmemes"
         },
         {
          "IsSubscribed": false,
          "MyVote": 1,
          "Score": 462,
          "SubredditName": "dndmemes"
         },
         {
          "IsSubscribed": true,
          "MyVote": 1,
          "Score": 362,
          "SubredditName": "startrekmemes"
         },
         {
          "IsSubscribed": true,
          "MyVote": 1,
          "Score": 450,
          "SubredditName": "montypython"
         },
         {
          "IsSubscribed": true,
          "MyVote": 1,
          "Score": 925,
          "SubredditName": "startrekmemes"
         },
         {
          "IsSubscribed": false,
          "MyVote": 1,
          "Score": 8560,
          "SubredditName": "me_irl"
         },
         {
          "IsSubscribed": true,
          "MyVote": 1,
          "Score": 867,
          "SubredditName": "startrekmemes"
         },
         {
          "IsSubscribed": true,
          "MyVote": 1,
          "Score": 4324,
          "SubredditName": "mathmemes"
         },
         {
          "IsSubscribed": true,
          "MyVote": 1,
          "Score": 7429,
          "SubredditName": "ProgrammerHumor"
         },
         {
          "IsSubscribed": true,
          "MyVote": 1,
          "Score": 0,
          "SubredditName": "ProgrammerHumor"
         },
         {
          "IsSubscribed": true,
          "MyVote": 1,
          "Score": 5251,
          "SubredditName": "SatisfactoryGame"
         },
         {
          "IsSubscribed": true,
          "MyVote": 1,
          "Score": 26,
          "SubredditName": "seinfeld"
         },
         {
          "IsSubscribed": true,
          "MyVote": 1,
          "Score": 313,
          "SubredditName": "montypython"
         },
         {
          "IsSubscribed": true,
          "MyVote": 1,
          "Score": 1363,
          "SubredditName": "mathmemes"
         },
         {
          "IsSubscribed": true,
          "MyVote": 1,
          "Score": 307,
          "SubredditName": "montypython"
         },
         {
          "IsSubscribed": true,
          "MyVote": 1,
          "Score": 3685,
          "SubredditName": "seinfeld"
         },
         {
          "IsSubscribed": true,
          "MyVote": 1,
          "Score": 583,
          "SubredditName": "startrekmemes"
         },
         {
          "IsSubscribed": true,
          "MyVote": 1,
          "Score": 55,
          "SubredditName": "montypython"
         },
         {
          "IsSubscribed": true,
          "MyVote": 1,
          "Score": 366,
          "SubredditName": "startrekmemes"
         },
         {
          "IsSubscribed": false,
          "MyVote": 1,
          "Score": 210,
          "SubredditName": "dndmemes"
         },
         {
          "IsSubscribed": true,
          "MyVote": 1,
          "Score": 1700,
          "SubredditName": "mathmemes"
         },
         {
          "IsSubscribed": true,
          "MyVote": 1,
          "Score": 4005,
          "SubredditName": "mathmemes"
         },
         {
          "IsSubscribed": true,
          "MyVote": 1,
          "Score": 2797,
          "SubredditName": "startrekmemes"
         },
         {
          "IsSubscribed": true,
          "MyVote": 1,
          "Score": 28,
          "SubredditName": "seinfeld"
         },
         {
          "IsSubscribed": true,
          "MyVote": 1,
          "Score": 1897,
          "SubredditName": "mathmemes"
         },
         {
          "IsSubscribed": true,
          "MyVote": 1,
          "Score": 1663,
          "SubredditName": "SatisfactoryGame"
         },
         {
          "IsSubscribed": true,
          "MyVote": 1,
          "Score": 209,
          "SubredditName": "ProgrammerHumor"
         },
         {
          "IsSubscribed": true,
          "MyVote": 1,
          "Score": 250,
          "SubredditName": "ProgrammerHumor"
         },
         {
          "IsSubscribed": true,
          "MyVote": 1,
          "Score": 5436,
          "SubredditName": "ProgrammerHumor"
         },
         {
          "IsSubscribed": true,
          "MyVote": 1,
          "Score": 3102,
          "SubredditName": "mathmemes"
         },
         {
          "IsSubscribed": true,
          "MyVote": 1,
          "Score": 46,
          "SubredditName": "Deepspaceninememes"
         },
         {
          "IsSubscribed": false,
          "MyVote": 1,
          "Score": 0,
          "SubredditName": "dndmemes"
         },
         {
          "IsSubscribed": true,
          "MyVote": 1,
          "Score": 36,
          "SubredditName": "startrekmemes"
         },
         {
          "IsSubscribed": true,
          "MyVote": 1,
          "Score": 57,
          "SubredditName": "seinfeld"
         },
         {
          "IsSubscribed": true,
          "MyVote": 1,
          "Score": 26,
          "SubredditName": "veYakinEvren"
         },
         {
          "IsSubscribed": true,
          "MyVote": 1,
          "Score": 655,
          "SubredditName": "seinfeld"
         },
         {
          "IsSubscribed": true,
          "MyVote": 1,
          "Score": 501,
          "SubredditName": "ProgrammerHumor"
         },
         {
          "IsSubscribed": true,
          "MyVote": 1,
          "Score": 33,
          "SubredditName": "Deepspaceninememes"
         },
         {
          "IsSubscribed": true,
          "MyVote": 1,
          "Score": 437,
          "SubredditName": "mathmemes"
         },
         {
          "IsSubscribed": true,
          "MyVote": -1,
          "Score": 821,
          "SubredditName": "mathmemes"
         },
         {
          "IsSubscribed": true,
          "MyVote": 1,
          "Score": 179,
          "SubredditName": "startrekmemes"
         },
         {
          "IsSubscribed": true,
          "MyVote": 1,
          "Score": 161,
          "SubredditName": "startrekmemes"
         },
         {
          "IsSubscribed": true,
          "MyVote": 1,
          "Score": 7,
          "SubredditName": "learnprogramming"
         },
         {
          "IsSubscribed": false,
          "MyVote": -1,
          "Score": 4069,
          "SubredditName": "meirl"
         },
         {
          "IsSubscribed": true,
          "MyVote": 1,
          "Score": 345,
          "SubredditName": "mathmemes"
         },
         {
          "IsSubscribed": true,
          "MyVote": 1,
          "Score": 22,
          "SubredditName": "seinfeld"
         },
         {
          "IsSubscribed": true,
          "MyVote": 1,
          "Score": 191,
          "SubredditName": "startrekmemes"
         },
         {
          "IsSubscribed": true,
          "MyVote": 1,
          "Score": 717,
          "SubredditName": "ProgrammerHumor"
         },
         {
          "IsSubscribed": true,
          "MyVote": 1,
          "Score": 68,
          "SubredditName": "startrekmemes"
         },
         {
          "IsSubscribed": true,
          "MyVote": 1,
          "Score": 3,
          "SubredditName": "seinfeld"
         },
         {
          "IsSubscribed": true,
          "MyVote": 1,
          "Score": 2397,
          "SubredditName": "SatisfactoryGame"
         },
         {
          "IsSubscribed": true,
          "MyVote": 1,
          "Score": 101,
          "SubredditName": "startrekmemes"
         },
         {
          "IsSubscribed": true,
          "MyVote": -1,
          "Score": 12,
          "SubredditName": "veYakinEvren"
         },
         {
          "IsSubscribed": true,
          "MyVote": 1,
          "Score": 16122,
          "SubredditName": "ProgrammerHumor"
         },
         {
          "IsSubscribed": true,
          "MyVote": 1,
          "Score": 1828,
          "SubredditName": "startrekmemes"
         },
         {
          "IsSubscribed": true,
          "MyVote": 1,
          "Score": 351,
          "SubredditName": "startrekmemes"
         },
         {
          "IsSubscribed": false,
          "MyVote": 1,
          "Score": 6,
          "SubredditName": "Yugioh101"
         },
         {
          "IsSubscribed": true,
          "MyVote": 1,
          "Score": 84,
          "SubredditName": "startrekmemes"
         },
         {
          "IsSubscribed": true,
          "MyVote": 1,
          "Score": 77,
          "SubredditName": "seinfeld"
         },
         {
          "IsSubscribed": true,
          "MyVote": 1,
          "Score": 1143,
          "SubredditName": "seinfeld"
         },
         {
          "IsSubscribed": true,
          "MyVote": 1,
          "Score": 190,
          "SubredditName": "startrekmemes"
         },
         {
          "IsSubscribed": true,
          "MyVote": 1,
          "Score": 541,
          "SubredditName": "ProgrammerHumor"
         },
         {
          "IsSubscribed": true,
          "MyVote": 1,
          "Score": 80634,
          "SubredditName": "ProgrammerHumor"
         },
         {
          "IsSubscribed": true,
          "MyVote": 1,
          "Score": 1211,
          "SubredditName": "seinfeld"
         },
         {
          "IsSubscribed": true,
          "MyVote": 1,
          "Score": 0,
          "SubredditName": "seinfeld"
         },
         {
          "IsSubscribed": false,
          "MyVote": 1,
          "Score": 9,
          "SubredditName": "Yugioh101"
         },
         {
          "IsSubscribed": true,
          "MyVote": 1,
          "Score": 70,
          "SubredditName": "seinfeld"
         },
         {
          "IsSubscribed": false,
          "MyVote": 1,
          "Score": 5,
          "SubredditName": "GenP"
         },
         {
          "IsSubscribed": true,
          "MyVote": 1,
          "Score": 18,
          "SubredditName": "seinfeld"
         },
         {
          "IsSubscribed": true,
          "MyVote": 1,
          "Score": 252,
          "SubredditName": "yugioh"
         },
         {
          "IsSubscribed": true,
          "MyVote": 1,
          "Score": 0,
          "SubredditName": "seinfeld"
         },
         {
          "IsSubscribed": true,
          "MyVote": -1,
          "Score": 92,
          "SubredditName": "veYakinEvren"
         },
         {
          "IsSubscribed": true,
          "MyVote": 1,
          "Score": 1332,
          "SubredditName": "seinfeld"
         },
         {
          "IsSubscribed": true,
          "MyVote": 1,
          "Score": 1730,
          "SubredditName": "startrekmemes"
         },
         {
          "IsSubscribed": true,
          "MyVote": 1,
          "Score": 294,
          "SubredditName": "montypython"
         },
         {
          "IsSubscribed": true,
          "MyVote": 1,
          "Score": 328,
          "SubredditName": "startrekmemes"
         },
         {
          "IsSubscribed": true,
          "MyVote": 1,
          "Score": 218,
          "SubredditName": "veYakinEvren"
         },
         {
          "IsSubscribed": true,
          "MyVote": 1,
          "Score": 1327,
          "SubredditName": "startrekmemes"
         },
         {
          "IsSubscribed": true,
          "MyVote": 1,
          "Score": 673,
          "SubredditName": "startrekmemes"
         },
         {
          "IsSubscribed": true,
          "MyVote": 1,
          "Score": 9,
          "SubredditName": "mathmemes"
         },
         {
          "IsSubscribed": false,
          "MyVote": 1,
          "Score": 8,
          "SubredditName": "GenP"
         },
         {
          "IsSubscribed": true,
          "MyVote": 1,
          "Score": 248,
          "SubredditName": "seinfeld"
         },
         {
          "IsSubscribed": true,
          "MyVote": 1,
          "Score": 155,
          "SubredditName": "seinfeld"
         },
         {
          "IsSubscribed": true,
          "MyVote": 1,
          "Score": 1256,
          "SubredditName": "SatisfactoryGame"
         },
         {
          "IsSubscribed": true,
          "MyVote": 1,
          "Score": 122,
          "SubredditName": "ProgrammerHumor"
         },
         {
          "IsSubscribed": true,
          "MyVote": 1,
          "Score": 956,
          "SubredditName": "ProgrammerHumor"
         },
         {
          "IsSubscribed": true,
          "MyVote": 1,
          "Score": 240,
          "SubredditName": "ProgrammerHumor"
         },
         {
          "IsSubscribed": true,
          "MyVote": 1,
          "Score": 171,
          "SubredditName": "startrekmemes"
         },
         {
          "IsSubscribed": true,
          "MyVote": 1,
          "Score": 344,
          "SubredditName": "montypython"
         },
         {
          "IsSubscribed": true,
          "MyVote": 1,
          "Score": 13,
          "SubredditName": "seinfeld"
         },
         {
          "IsSubscribed": true,
          "MyVote": 1,
          "Score": 4,
          "SubredditName": "seinfeld"
         },
         {
          "IsSubscribed": true,
          "MyVote": 1,
          "Score": 167,
          "SubredditName": "ProgrammerHumor"
         },
         {
          "IsSubscribed": true,
          "MyVote": 1,
          "Score": 45,
          "SubredditName": "seinfeld"
         },
         {
          "IsSubscribed": true,
          "MyVote": 1,
          "Score": 3577,
          "SubredditName": "mathmemes"
         },
         {
          "IsSubscribed": true,
          "MyVote": 1,
          "Score": 5100,
          "SubredditName": "ProgrammerHumor"
         },
         {
          "IsSubscribed": true,
          "MyVote": 1,
          "Score": 129,
          "SubredditName": "startrekmemes"
         },
         {
          "IsSubscribed": true,
          "MyVote": 1,
          "Score": 7,
          "SubredditName": "startrekmemes"
         },
         {
          "IsSubscribed": true,
          "MyVote": 1,
          "Score": 203,
          "SubredditName": "montypython"
         },
         {
          "IsSubscribed": false,
          "MyVote": 1,
          "Score": 87,
          "SubredditName": "dndmemes"
         },
         {
          "IsSubscribed": true,
          "MyVote": 1,
          "Score": 1990,
          "SubredditName": "startrekmemes"
         },
         {
          "IsSubscribed": true,
          "MyVote": 1,
          "Score": 367,
          "SubredditName": "veYakinEvren"
         },
         {
          "IsSubscribed": true,
          "MyVote": 1,
          "Score": 144,
          "SubredditName": "startrekmemes"
         },
         {
          "IsSubscribed": true,
          "MyVote": 1,
          "Score": 2873,
          "SubredditName": "ProgrammerHumor"
         },
         {
          "IsSubscribed": true,
          "MyVote": 1,
          "Score": 124,
          "SubredditName": "seinfeld"
         },
         {
          "IsSubscribed": true,
          "MyVote": 1,
          "Score": 75,
          "SubredditName": "seinfeld"
         },
         {
          "IsSubscribed": true,
          "MyVote": 1,
          "Score": 304,
          "SubredditName": "TheLastAirbender"
         },
         {
          "IsSubscribed": true,
          "MyVote": 1,
          "Score": 825,
          "SubredditName": "seinfeld"
         },
         {
          "IsSubscribed": true,
          "MyVote": 1,
          "Score": 14,
          "SubredditName": "veYakinEvren"
         },
         {
          "IsSubscribed": true,
          "MyVote": 1,
          "Score": 4470,
          "SubredditName": "TheLastAirbender"
         },
         {
          "IsSubscribed": true,
          "MyVote": 1,
          "Score": 23,
          "SubredditName": "seinfeld"
         },
         {
          "IsSubscribed": true,
          "MyVote": 1,
          "Score": 3926,
          "SubredditName": "SatisfactoryGame"
         },
         {
          "IsSubscribed": true,
          "MyVote": 1,
          "Score": 7058,
          "SubredditName": "TheLastAirbender"
         },
         {
          "IsSubscribed": true,
          "MyVote": 1,
          "Score": 107,
          "SubredditName": "satisfactory"
         },
         {
          "IsSubscribed": true,
          "MyVote": 1,
          "Score": 7,
          "SubredditName": "veYakinEvren"
         },
         {
          "IsSubscribed": true,
          "MyVote": 1,
          "Score": 2,
          "SubredditName": "consolerepair"
         },
         {
          "IsSubscribed": false,
          "MyVote": 1,
          "Score": 3,
          "SubredditName": "Yugioh101"
         },
         {
          "IsSubscribed": true,
          "MyVote": 1,
          "Score": 79,
          "SubredditName": "seinfeld"
         },
         {
          "IsSubscribed": true,
          "MyVote": 1,
          "Score": 59,
          "SubredditName": "seinfeld"
         },
         {
          "IsSubscribed": false,
          "MyVote": 1,
          "Score": 0,
          "SubredditName": "GenP"
         },
         {
          "IsSubscribed": false,
          "MyVote": 1,
          "Score": 11,
          "SubredditName": "star_trek_dank_memes"
         },
         {
          "IsSubscribed": true,
          "MyVote": 1,
          "Score": 26,
          "SubredditName": "montypython"
         },
         {
          "IsSubscribed": true,
          "MyVote": 1,
          "Score": 20344,
          "SubredditName": "TheLastAirbender"
         },
         {
          "IsSubscribed": true,
          "MyVote": 1,
          "Score": 8737,
          "SubredditName": "gaming"
         },
         {
          "IsSubscribed": true,
          "MyVote": 1,
          "Score": 6,
          "SubredditName": "seinfeld"
         },
         {
          "IsSubscribed": true,
          "MyVote": 1,
          "Score": 182,
          "SubredditName": "ProgrammerHumor"
         },
         {
          "IsSubscribed": false,
          "MyVote": 1,
          "Score": 2,
          "SubredditName": "GenP"
         },
         {
          "IsSubscribed": false,
          "MyVote": 1,
          "Score": 1,
          "SubredditName": "flashcarts"
         },
         {
          "IsSubscribed": true,
          "MyVote": 1,
          "Score": 1182,
          "SubredditName": "ProgrammerHumor"
         },
         {
          "IsSubscribed": true,
          "MyVote": 1,
          "Score": 197,
          "SubredditName": "startrek"
         },
         {
          "IsSubscribed": true,
          "MyVote": 1,
          "Score": 3,
          "SubredditName": "startrek"
         },
         {
          "IsSubscribed": true,
          "MyVote": 1,
          "Score": 17,
          "SubredditName": "startrek"
         },
         {
          "IsSubscribed": true,
          "MyVote": 1,
          "Score": 327,
          "SubredditName": "ProgrammerHumor"
         },
         {
          "IsSubscribed": true,
          "MyVote": 1,
          "Score": 6,
          "SubredditName": "ElectroBOOM"
         },
         {
          "IsSubscribed": true,
          "MyVote": 1,
          "Score": 1,
          "SubredditName": "consolerepair"
         },
         {
          "IsSubscribed": true,
          "MyVote": 1,
          "Score": 129,
          "SubredditName": "startrek"
         },
         {
          "IsSubscribed": true,
          "MyVote": 1,
          "Score": 1,
          "SubredditName": "startrek"
         },
         {
          "IsSubscribed": true,
          "MyVote": 1,
          "Score": 6,
          "SubredditName": "veYakinEvren"
         },
         {
          "IsSubscribed": false,
          "MyVote": 1,
          "Score": 2,
          "SubredditName": "GenP"
         },
         {
          "IsSubscribed": false,
          "MyVote": 1,
          "Score": 2,
          "SubredditName": "NintendoDSi"
         },
         {
          "IsSubscribed": true,
          "MyVote": 1,
          "Score": 90,
          "SubredditName": "ProgrammerHumor"
         },
         {
          "IsSubscribed": false,
          "MyVote": 1,
          "Score": 1,
          "SubredditName": "flashcarts"
         },
         {
          "IsSubscribed": false,
          "MyVote": 1,
          "Score": 1,
          "SubredditName": "flashcarts"
         },
         {
          "IsSubscribed": true,
          "MyVote": 1,
          "Score": 5,
          "SubredditName": "seinfeld"
         },
         {
          "IsSubscribed": false,
          "MyVote": 1,
          "Score": 12,
          "SubredditName": "DMAcademy"
         },
         {
          "IsSubscribed": true,
          "MyVote": 1,
          "Score": 37,
          "SubredditName": "startrek"
         },
         {
          "IsSubscribed": false,
          "MyVote": 1,
          "Score": 2,
          "SubredditName": "GenP"
         },
         {
          "IsSubscribed": true,
          "MyVote": 1,
          "Score": 26,
          "SubredditName": "veYakinEvren"
         },
         {
          "IsSubscribed": true,
          "MyVote": 1,
          "Score": 1,
          "SubredditName": "ProgrammerHumor"
         },
         {
          "IsSubscribed": true,
          "MyVote": 1,
          "Score": 2,
          "SubredditName": "consolerepair"
         },
         {
          "IsSubscribed": true,
          "MyVote": 1,
          "Score": 14,
          "SubredditName": "seinfeld"
         },
         {
          "IsSubscribed": true,
          "MyVote": 1,
          "Score": 22,
          "SubredditName": "mathmemes"
         },
         {
          "IsSubscribed": true,
          "MyVote": 1,
          "Score": 2,
          "SubredditName": "gaming"
         },
         {
          "IsSubscribed": true,
          "MyVote": 1,
          "Score": 5,
          "SubredditName": "startrek"
         },
         {
          "IsSubscribed": true,
          "MyVote": 1,
          "Score": 2,
          "SubredditName": "veYakinEvren"
         },
         {
          "IsSubscribed": true,
          "MyVote": 1,
          "Score": 1,
          "SubredditName": "seinfeld"
         },
         {
          "IsSubscribed": true,
          "MyVote": 1,
          "Score": 2,
          "SubredditName": "consolerepair"
         },
         {
          "IsSubscribed": true,
          "MyVote": 1,
          "Score": 2,
          "SubredditName": "veYakinEvren"
         },
         {
          "IsSubscribed": true,
          "MyVote": 1,
          "Score": 17,
          "SubredditName": "startrek"
         },
         {
          "IsSubscribed": false,
          "MyVote": 1,
          "Score": 1,
          "SubredditName": "NintendoDSi"
         },
         {
          "IsSubscribed": true,
          "MyVote": 1,
          "Score": 11,
          "SubredditName": "veYakinEvren"
         },
         {
          "IsSubscribed": true,
          "MyVote": 1,
          "Score": 279,
          "SubredditName": "TheLastAirbender"
         },
         {
          "IsSubscribed": true,
          "MyVote": 1,
          "Score": 12,
          "SubredditName": "veYakinEvren"
         },
         {
          "IsSubscribed": true,
          "MyVote": 1,
          "Score": 3,
          "SubredditName": "veYakinEvren"
         },
         {
          "IsSubscribed": false,
          "MyVote": 1,
          "Score": 1,
          "SubredditName": "NintendoDSi"
         },
         {
          "IsSubscribed": true,
          "MyVote": 1,
          "Score": 2,
          "SubredditName": "montypython"
         },
         {
          "IsSubscribed": true,
          "MyVote": 1,
          "Score": 5,
          "SubredditName": "startrek"
         },
         {
          "IsSubscribed": true,
          "MyVote": 1,
          "Score": 383,
          "SubredditName": "startrek"
         },
         {
          "IsSubscribed": true,
          "MyVote": 1,
          "Score": 2,
          "SubredditName": "veYakinEvren"
         },
         {
          "IsSubscribed": true,
          "MyVote": 1,
          "Score": 1,
          "SubredditName": "consolerepair"
         },
         {
          "IsSubscribed": true,
          "MyVote": 1,
          "Score": 5,
          "SubredditName": "veYakinEvren"
         },
         {
          "IsSubscribed": true,
          "MyVote": 1,
          "Score": 30,
          "SubredditName": "veYakinEvren"
         },
         {
          "IsSubscribed": true,
          "MyVote": 1,
          "Score": 13,
          "SubredditName": "seinfeld"
         },
         {
          "IsSubscribed": true,
          "MyVote": 1,
          "Score": 1,
          "SubredditName": "veYakinEvren"
         },
         {
          "IsSubscribed": true,
          "MyVote": 1,
          "Score": 143,
          "SubredditName": "startrek"
         },
         {
          "IsSubscribed": true,
          "MyVote": 1,
          "Score": 2,
          "SubredditName": "consolerepair"
         },
         {
          "IsSubscribed": true,
          "MyVote": 1,
          "Score": 5,
          "SubredditName": "startrek"
         },
         {
          "IsSubscribed": true,
          "MyVote": 1,
          "Score": 8,
          "SubredditName": "startrek"
         },
         {
          "IsSubscribed": true,
          "MyVote": 1,
          "Score": 8,
          "SubredditName": "startrek"
         },
         {
          "IsSubscribed": false,
          "MyVote": 1,
          "Score": 1,
          "SubredditName": "GenP"
         },
         {
          "IsSubscribed": false,
          "MyVote": 1,
          "Score": 1,
          "SubredditName": "NintendoDSi"
         },
         {
          "IsSubscribed": true,
          "MyVote": 1,
          "Score": 2,
          "SubredditName": "veYakinEvren"
         },
         {
          "IsSubscribed": true,
          "MyVote": 1,
          "Score": 1,
          "SubredditName": "ElectroBOOM"
         },
         {
          "IsSubscribed": true,
          "MyVote": 1,
          "Score": 6,
          "SubredditName": "veYakinEvren"
         },
         {
          "IsSubscribed": true,
          "MyVote": 1,
          "Score": 12,
          "SubredditName": "startrek"
         },
         {
          "IsSubscribed": true,
          "MyVote": 1,
          "Score": 11,
          "SubredditName": "startrek"
         },
         {
          "IsSubscribed": true,
          "MyVote": 1,
          "Score": 1,
          "SubredditName": "consolerepair"
         },
         {
          "IsSubscribed": true,
          "MyVote": 1,
          "Score": 2,
          "SubredditName": "veYakinEvren"
         },
         {
          "IsSubscribed": true,
          "MyVote": 1,
          "Score": 8,
          "SubredditName": "startrek"
         },
         {
          "IsSubscribed": false,
          "MyVote": 1,
          "Score": 1,
          "SubredditName": "GenP"
         },
         {
          "IsSubscribed": true,
          "MyVote": 1,
          "Score": 2,
          "SubredditName": "veYakinEvren"
         },
         {
          "IsSubscribed": true,
          "MyVote": 1,
          "Score": 1,
          "SubredditName": "veYakinEvren"
         },
         {
          "IsSubscribed": true,
          "MyVote": 1,
          "Score": 3,
          "SubredditName": "veYakinEvren"
         },
         {
          "IsSubscribed": true,
          "MyVote": 1,
          "Score": 148,
          "SubredditName": "seinfeld"
         },
         {
          "IsSubscribed": false,
          "MyVote": 1,
          "Score": 1,
          "SubredditName": "flashcarts"
         },
         {
          "IsSubscribed": true,
          "MyVote": 1,
          "Score": 3,
          "SubredditName": "ProgrammerHumor"
         },
         {
          "IsSubscribed": true,
          "MyVote": 1,
          "Score": 6,
          "SubredditName": "startrek"
         },
         {
          "IsSubscribed": true,
          "MyVote": 1,
          "Score": 91,
          "SubredditName": "seinfeld"
         },
         {
          "IsSubscribed": true,
          "MyVote": 1,
          "Score": 11,
          "SubredditName": "startrek"
         },
         {
          "IsSubscribed": false,
          "MyVote": 1,
          "Score": 1,
          "SubredditName": "flashcarts"
         },
         {
          "IsSubscribed": true,
          "MyVote": 1,
          "Score": 5,
          "SubredditName": "ProgrammerHumor"
         },
         {
          "IsSubscribed": true,
          "MyVote": 1,
          "Score": 958,
          "SubredditName": "startrek"
         },
         {
          "IsSubscribed": true,
          "MyVote": 1,
          "Score": 2,
          "SubredditName": "veYakinEvren"
         },
         {
          "IsSubscribed": true,
          "MyVote": 1,
          "Score": 3,
          "SubredditName": "consolerepair"
         },
         {
          "IsSubscribed": true,
          "MyVote": 1,
          "Score": 3,
          "SubredditName": "startrek"
         },
         {
          "IsSubscribed": true,
          "MyVote": 1,
          "Score": 29,
          "SubredditName": "veYakinEvren"
         },
         {
          "IsSubscribed": true,
          "MyVote": 1,
          "Score": 208,
          "SubredditName": "seinfeld"
         },
         {
          "IsSubscribed": true,
          "MyVote": 1,
          "Score": 1,
          "SubredditName": "ElectroBOOM"
         },
         {
          "IsSubscribed": true,
          "MyVote": 1,
          "Score": 10,
          "SubredditName": "startrek"
         },
         {
          "IsSubscribed": true,
          "MyVote": 1,
          "Score": 2,
          "SubredditName": "gaming"
         },
         {
          "IsSubscribed": true,
          "MyVote": 1,
          "Score": 150,
          "SubredditName": "ProgrammerHumor"
         },
         {
          "IsSubscribed": true,
          "MyVote": 1,
          "Score": 10,
          "SubredditName": "veYakinEvren"
         },
         {
          "IsSubscribed": true,
          "MyVote": 1,
          "Score": 32,
          "SubredditName": "startrek"
         },
         {
          "IsSubscribed": true,
          "MyVote": 1,
          "Score": 17114,
          "SubredditName": "ProgrammerHumor"
         },
         {
          "IsSubscribed": true,
          "MyVote": 1,
          "Score": 9,
          "SubredditName": "veYakinEvren"
         },
         {
          "IsSubscribed": false,
          "MyVote": 1,
          "Score": 1,
          "SubredditName": "NintendoDSi"
         },
         {
          "IsSubscribed": true,
          "MyVote": 1,
          "Score": 10,
          "SubredditName": "gaming"
         },
         {
          "IsSubscribed": true,
          "MyVote": 1,
          "Score": 37,
          "SubredditName": "startrek"
         },
         {
          "IsSubscribed": true,
          "MyVote": 1,
          "Score": 27,
          "SubredditName": "veYakinEvren"
         },
         {
          "IsSubscribed": true,
          "MyVote": 1,
          "Score": 9,
          "SubredditName": "veYakinEvren"
         },
         {
          "IsSubscribed": true,
          "MyVote": 1,
          "Score": 2,
          "SubredditName": "veYakinEvren"
         },
         {
          "IsSubscribed": true,
          "MyVote": 1,
          "Score": 48,
          "SubredditName": "startrekmemes"
         },
         {
          "IsSubscribed": true,
          "MyVote": 1,
          "Score": 2,
          "SubredditName": "veYakinEvren"
         },
         {
          "IsSubscribed": true,
          "MyVote": 1,
          "Score": 3,
          "SubredditName": "startrek"
         },
         {
          "IsSubscribed": true,
          "MyVote": 1,
          "Score": 16,
          "SubredditName": "veYakinEvren"
         },
         {
          "IsSubscribed": true,
          "MyVote": 1,
          "Score": 14,
          "SubredditName": "startrek"
         },
         {
          "IsSubscribed": true,
          "MyVote": 1,
          "Score": 19,
          "SubredditName": "montypython"
         },
         {
          "IsSubscribed": true,
          "MyVote": 1,
          "Score": 1,
          "SubredditName": "gaming"
         },
         {
          "IsSubscribed": true,
          "MyVote": 1,
          "Score": 36,
          "SubredditName": "yugioh"
         },
         {
          "IsSubscribed": false,
          "MyVote": 1,
          "Score": -1,
          "SubredditName": "PercyJacksonTV"
         },
         {
          "IsSubscribed": false,
          "MyVote": 1,
          "Score": 1,
          "SubredditName": "webdev"
         },
         {
          "IsSubscribed": true,
          "MyVote": 1,
          "Score": 2,
          "SubredditName": "veYakinEvren"
         },
         {
          "IsSubscribed": true,
          "MyVote": 1,
          "Score": 1,
          "SubredditName": "veYakinEvren"
         },
         {
          "IsSubscribed": false,
          "MyVote": 1,
          "Score": 9,
          "SubredditName": "dndmemes"
         },
         {
          "IsSubscribed": true,
          "MyVote": 1,
          "Score": 3521,
          "SubredditName": "mathmemes"
         },
         {
          "IsSubscribed": true,
          "MyVote": 1,
          "Score": 1,
          "SubredditName": "veYakinEvren"
         },
         {
          "IsSubscribed": true,
          "MyVote": 1,
          "Score": 1,
          "SubredditName": "startrekmemes"
         },
         {
          "IsSubscribed": true,
          "MyVote": 1,
          "Score": 2,
          "SubredditName": "startrek"
         },
         {
          "IsSubscribed": true,
          "MyVote": 1,
          "Score": 3,
          "SubredditName": "veYakinEvren"
         },
         {
          "IsSubscribed": true,
          "MyVote": 1,
          "Score": 659,
          "SubredditName": "seinfeld"
         },
         {
          "IsSubscribed": true,
          "MyVote": 1,
          "Score": 13,
          "SubredditName": "GreekMythology"
         },
         {
          "IsSubscribed": true,
          "MyVote": 1,
          "Score": 1,
          "SubredditName": "seinfeld"
         },
         {
          "IsSubscribed": true,
          "MyVote": 1,
          "Score": 171,
          "SubredditName": "seinfeld"
         },
         {
          "IsSubscribed": true,
          "MyVote": 1,
          "Score": 5,
          "SubredditName": "startrek"
         },
         {
          "IsSubscribed": true,
          "MyVote": 1,
          "Score": null,
          "SubredditName": "unexpectedMontyPython"
         },
         {
          "IsSubscribed": true,
          "MyVote": 1,
          "Score": 3,
          "SubredditName": "startrek"
         },
         {
          "IsSubscribed": true,
          "MyVote": 1,
          "Score": 1,
          "SubredditName": "gaming"
         },
         {
          "IsSubscribed": true,
          "MyVote": 1,
          "Score": 16,
          "SubredditName": "TheLastAirbender"
         },
         {
          "IsSubscribed": true,
          "MyVote": 1,
          "Score": 3,
          "SubredditName": "startrek"
         },
         {
          "IsSubscribed": true,
          "MyVote": 1,
          "Score": 434,
          "SubredditName": "SatisfactoryGame"
         },
         {
          "IsSubscribed": true,
          "MyVote": 1,
          "Score": 716,
          "SubredditName": "seinfeld"
         },
         {
          "IsSubscribed": true,
          "MyVote": 1,
          "Score": 1,
          "SubredditName": "seinfeld"
         },
         {
          "IsSubscribed": true,
          "MyVote": 1,
          "Score": 1,
          "SubredditName": "gaming"
         },
         {
          "IsSubscribed": true,
          "MyVote": 1,
          "Score": 2,
          "SubredditName": "seinfeld"
         },
         {
          "IsSubscribed": true,
          "MyVote": 1,
          "Score": 1,
          "SubredditName": "startrek"
         },
         {
          "IsSubscribed": true,
          "MyVote": 1,
          "Score": 5,
          "SubredditName": "SatisfactoryGame"
         },
         {
          "IsSubscribed": true,
          "MyVote": 1,
          "Score": 1,
          "SubredditName": "TheLastAirbender"
         },
         {
          "IsSubscribed": true,
          "MyVote": 1,
          "Score": 3,
          "SubredditName": "startrek"
         },
         {
          "IsSubscribed": true,
          "MyVote": 1,
          "Score": 1,
          "SubredditName": "seinfeld"
         },
         {
          "IsSubscribed": true,
          "MyVote": 1,
          "Score": 1,
          "SubredditName": "veYakinEvren"
         },
         {
          "IsSubscribed": true,
          "MyVote": 1,
          "Score": 6,
          "SubredditName": "startrek"
         },
         {
          "IsSubscribed": true,
          "MyVote": 1,
          "Score": 9,
          "SubredditName": "GreekMythology"
         },
         {
          "IsSubscribed": true,
          "MyVote": 1,
          "Score": 2,
          "SubredditName": "veYakinEvren"
         },
         {
          "IsSubscribed": true,
          "MyVote": 1,
          "Score": 2,
          "SubredditName": "startrek"
         },
         {
          "IsSubscribed": true,
          "MyVote": 1,
          "Score": 4,
          "SubredditName": "AskScienceFiction"
         },
         {
          "IsSubscribed": true,
          "MyVote": 1,
          "Score": 3,
          "SubredditName": "startrek"
         },
         {
          "IsSubscribed": true,
          "MyVote": 1,
          "Score": 1,
          "SubredditName": "startrek"
         },
         {
          "IsSubscribed": true,
          "MyVote": 1,
          "Score": 40,
          "SubredditName": "GreekMythology"
         },
         {
          "IsSubscribed": true,
          "MyVote": 1,
          "Score": 1,
          "SubredditName": "seinfeld"
         },
         {
          "IsSubscribed": true,
          "MyVote": 1,
          "Score": 1,
          "SubredditName": "startrek"
         },
         {
          "IsSubscribed": true,
          "MyVote": 1,
          "Score": 1,
          "SubredditName": "startrek"
         },
         {
          "IsSubscribed": true,
          "MyVote": 1,
          "Score": 1,
          "SubredditName": "startrekmemes"
         },
         {
          "IsSubscribed": false,
          "MyVote": 1,
          "Score": 1,
          "SubredditName": "webdev"
         },
         {
          "IsSubscribed": true,
          "MyVote": -1,
          "Score": 3,
          "SubredditName": "gaming"
         },
         {
          "IsSubscribed": false,
          "MyVote": 1,
          "Score": 152,
          "SubredditName": "DeepSpaceNine"
         },
         {
          "IsSubscribed": true,
          "MyVote": 1,
          "Score": 1,
          "SubredditName": "gaming"
         },
         {
          "IsSubscribed": true,
          "MyVote": 1,
          "Score": 20,
          "SubredditName": "GreekMythology"
         },
         {
          "IsSubscribed": true,
          "MyVote": 1,
          "Score": 4,
          "SubredditName": "GreekMythology"
         },
         {
          "IsSubscribed": true,
          "MyVote": 1,
          "Score": 3,
          "SubredditName": "TheLastAirbender"
         },
         {
          "IsSubscribed": true,
          "MyVote": 1,
          "Score": 3,
          "SubredditName": "startrek"
         },
         {
          "IsSubscribed": true,
          "MyVote": 1,
          "Score": 1,
          "SubredditName": "veYakinEvren"
         },
         {
          "IsSubscribed": true,
          "MyVote": 1,
          "Score": 445,
          "SubredditName": "seinfeld"
         },
         {
          "IsSubscribed": true,
          "MyVote": 1,
          "Score": 2,
          "SubredditName": "veYakinEvren"
         },
         {
          "IsSubscribed": true,
          "MyVote": 1,
          "Score": 3,
          "SubredditName": "startrek"
         },
         {
          "IsSubscribed": true,
          "MyVote": 1,
          "Score": 461,
          "SubredditName": "yugioh"
         },
         {
          "IsSubscribed": true,
          "MyVote": 1,
          "Score": 3,
          "SubredditName": "veYakinEvren"
         },
         {
          "IsSubscribed": true,
          "MyVote": 1,
          "Score": 3,
          "SubredditName": "TheLastAirbender"
         },
         {
          "IsSubscribed": false,
          "MyVote": 1,
          "Score": 1,
          "SubredditName": "webdev"
         },
         {
          "IsSubscribed": true,
          "MyVote": 1,
          "Score": 2,
          "SubredditName": "startrek"
         },
         {
          "IsSubscribed": true,
          "MyVote": 1,
          "Score": 7,
          "SubredditName": "SatisfactoryGame"
         },
         {
          "IsSubscribed": true,
          "MyVote": 1,
          "Score": 204,
          "SubredditName": "SatisfactoryGame"
         },
         {
          "IsSubscribed": true,
          "MyVote": 1,
          "Score": 1,
          "SubredditName": "startrek"
         },
         {
          "IsSubscribed": true,
          "MyVote": 1,
          "Score": 2,
          "SubredditName": "ProgrammerHumor"
         },
         {
          "IsSubscribed": true,
          "MyVote": 1,
          "Score": 2,
          "SubredditName": "startrek"
         },
         {
          "IsSubscribed": true,
          "MyVote": 1,
          "Score": 1,
          "SubredditName": "veYakinEvren"
         },
         {
          "IsSubscribed": true,
          "MyVote": 1,
          "Score": 9,
          "SubredditName": "veYakinEvren"
         },
         {
          "IsSubscribed": true,
          "MyVote": 1,
          "Score": 1,
          "SubredditName": "startrek"
         },
         {
          "IsSubscribed": true,
          "MyVote": 1,
          "Score": 1080,
          "SubredditName": "mathmemes"
         },
         {
          "IsSubscribed": true,
          "MyVote": 1,
          "Score": 16,
          "SubredditName": "GreekMythology"
         },
         {
          "IsSubscribed": true,
          "MyVote": 1,
          "Score": 11,
          "SubredditName": "mathmemes"
         },
         {
          "IsSubscribed": true,
          "MyVote": 1,
          "Score": 169,
          "SubredditName": "SatisfactoryGame"
         },
         {
          "IsSubscribed": true,
          "MyVote": 1,
          "Score": 8,
          "SubredditName": "startrekmemes"
         },
         {
          "IsSubscribed": true,
          "MyVote": 1,
          "Score": 3,
          "SubredditName": "SatisfactoryGame"
         },
         {
          "IsSubscribed": false,
          "MyVote": 1,
          "Score": 13,
          "SubredditName": "dndmemes"
         },
         {
          "IsSubscribed": true,
          "MyVote": 1,
          "Score": 3,
          "SubredditName": "seinfeld"
         },
         {
          "IsSubscribed": true,
          "MyVote": 1,
          "Score": 1,
          "SubredditName": "seinfeld"
         },
         {
          "IsSubscribed": true,
          "MyVote": 1,
          "Score": 5,
          "SubredditName": "startrek"
         },
         {
          "IsSubscribed": true,
          "MyVote": 1,
          "Score": 2,
          "SubredditName": "startrek"
         },
         {
          "IsSubscribed": true,
          "MyVote": 1,
          "Score": 32,
          "SubredditName": "startrekmemes"
         },
         {
          "IsSubscribed": true,
          "MyVote": 1,
          "Score": 10,
          "SubredditName": "TheLastAirbender"
         },
         {
          "IsSubscribed": true,
          "MyVote": 1,
          "Score": 739,
          "SubredditName": "ProgrammerHumor"
         },
         {
          "IsSubscribed": false,
          "MyVote": 1,
          "Score": 324,
          "SubredditName": "dndmemes"
         },
         {
          "IsSubscribed": true,
          "MyVote": 1,
          "Score": 2,
          "SubredditName": "veYakinEvren"
         },
         {
          "IsSubscribed": true,
          "MyVote": 1,
          "Score": 4,
          "SubredditName": "veYakinEvren"
         },
         {
          "IsSubscribed": true,
          "MyVote": 1,
          "Score": 16,
          "SubredditName": "risa"
         },
         {
          "IsSubscribed": true,
          "MyVote": 1,
          "Score": 0,
          "SubredditName": "yugioh"
         },
         {
          "IsSubscribed": true,
          "MyVote": 1,
          "Score": 9,
          "SubredditName": "startrek"
         },
         {
          "IsSubscribed": true,
          "MyVote": 1,
          "Score": 9,
          "SubredditName": "veYakinEvren"
         },
         {
          "IsSubscribed": true,
          "MyVote": 1,
          "Score": 5,
          "SubredditName": "startrek"
         },
         {
          "IsSubscribed": true,
          "MyVote": 1,
          "Score": 7,
          "SubredditName": "seinfeld"
         },
         {
          "IsSubscribed": true,
          "MyVote": 1,
          "Score": 1,
          "SubredditName": "movies"
         },
         {
          "IsSubscribed": true,
          "MyVote": 1,
          "Score": 2,
          "SubredditName": "startrek"
         },
         {
          "IsSubscribed": true,
          "MyVote": 1,
          "Score": 4,
          "SubredditName": "TheLastAirbender"
         },
         {
          "IsSubscribed": true,
          "MyVote": 1,
          "Score": 6,
          "SubredditName": "TheLastAirbender"
         },
         {
          "IsSubscribed": true,
          "MyVote": 1,
          "Score": 2,
          "SubredditName": "startrek"
         },
         {
          "IsSubscribed": true,
          "MyVote": 1,
          "Score": 1,
          "SubredditName": "veYakinEvren"
         },
         {
          "IsSubscribed": true,
          "MyVote": 1,
          "Score": 7,
          "SubredditName": "camphalfblood"
         },
         {
          "IsSubscribed": true,
          "MyVote": 1,
          "Score": 14,
          "SubredditName": "startrekmemes"
         },
         {
          "IsSubscribed": true,
          "MyVote": 1,
          "Score": 3,
          "SubredditName": "veYakinEvren"
         },
         {
          "IsSubscribed": false,
          "MyVote": 1,
          "Score": 417,
          "SubredditName": "tumblr"
         },
         {
          "IsSubscribed": true,
          "MyVote": 1,
          "Score": 2,
          "SubredditName": "veYakinEvren"
         },
         {
          "IsSubscribed": true,
          "MyVote": 1,
          "Score": 81,
          "SubredditName": "seinfeld"
         },
         {
          "IsSubscribed": true,
          "MyVote": 1,
          "Score": 2,
          "SubredditName": "montypython"
         },
         {
          "IsSubscribed": true,
          "MyVote": 1,
          "Score": 30,
          "SubredditName": "camphalfblood"
         },
         {
          "IsSubscribed": true,
          "MyVote": 1,
          "Score": 2,
          "SubredditName": "TheLastAirbender"
         },
         {
          "IsSubscribed": true,
          "MyVote": 1,
          "Score": 57,
          "SubredditName": "camphalfblood"
         },
         {
          "IsSubscribed": true,
          "MyVote": 1,
          "Score": 1,
          "SubredditName": "seinfeld"
         },
         {
          "IsSubscribed": true,
          "MyVote": 1,
          "Score": 7,
          "SubredditName": "camphalfblood"
         },
         {
          "IsSubscribed": true,
          "MyVote": 1,
          "Score": 1,
          "SubredditName": "mathmemes"
         },
         {
          "IsSubscribed": true,
          "MyVote": 1,
          "Score": 2,
          "SubredditName": "TheLastAirbender"
         },
         {
          "IsSubscribed": true,
          "MyVote": 1,
          "Score": -2,
          "SubredditName": "seinfeld"
         },
         {
          "IsSubscribed": true,
          "MyVote": 1,
          "Score": 7,
          "SubredditName": "GreekMythology"
         },
         {
          "IsSubscribed": true,
          "MyVote": 1,
          "Score": 12,
          "SubredditName": "TheLastAirbender"
         },
         {
          "IsSubscribed": false,
          "MyVote": 1,
          "Score": 1,
          "SubredditName": "tumblr"
         },
         {
          "IsSubscribed": true,
          "MyVote": 1,
          "Score": 3,
          "SubredditName": "camphalfblood"
         },
         {
          "IsSubscribed": true,
          "MyVote": 1,
          "Score": 2,
          "SubredditName": "camphalfblood"
         },
         {
          "IsSubscribed": true,
          "MyVote": 1,
          "Score": 30,
          "SubredditName": "camphalfblood"
         },
         {
          "IsSubscribed": true,
          "MyVote": 1,
          "Score": 2,
          "SubredditName": "veYakinEvren"
         },
         {
          "IsSubscribed": true,
          "MyVote": 1,
          "Score": 176,
          "SubredditName": "seinfeld"
         },
         {
          "IsSubscribed": true,
          "MyVote": 1,
          "Score": 13,
          "SubredditName": "veYakinEvren"
         },
         {
          "IsSubscribed": true,
          "MyVote": 1,
          "Score": 111,
          "SubredditName": "PercyJacksonMemes"
         },
         {
          "IsSubscribed": true,
          "MyVote": 1,
          "Score": 1,
          "SubredditName": "veYakinEvren"
         },
         {
          "IsSubscribed": true,
          "MyVote": 1,
          "Score": 662,
          "SubredditName": "TheLastAirbender"
         },
         {
          "IsSubscribed": true,
          "MyVote": 1,
          "Score": 5,
          "SubredditName": "TheLastAirbender"
         },
         {
          "IsSubscribed": true,
          "MyVote": 1,
          "Score": 4,
          "SubredditName": "camphalfblood"
         },
         {
          "IsSubscribed": true,
          "MyVote": 1,
          "Score": 1,
          "SubredditName": "veYakinEvren"
         },
         {
          "IsSubscribed": true,
          "MyVote": 1,
          "Score": 40,
          "SubredditName": "startrekmemes"
         },
         {
          "IsSubscribed": true,
          "MyVote": 1,
          "Score": 52,
          "SubredditName": "seinfeld"
         },
         {
          "IsSubscribed": true,
          "MyVote": 1,
          "Score": 12,
          "SubredditName": "camphalfblood"
         },
         {
          "IsSubscribed": true,
          "MyVote": 1,
          "Score": 100,
          "SubredditName": "startrekmemes"
         },
         {
          "IsSubscribed": true,
          "MyVote": 1,
          "Score": 37,
          "SubredditName": "camphalfblood"
         },
         {
          "IsSubscribed": true,
          "MyVote": 1,
          "Score": 54,
          "SubredditName": "camphalfblood"
         },
         {
          "IsSubscribed": true,
          "MyVote": 1,
          "Score": 6,
          "SubredditName": "camphalfblood"
         },
         {
          "IsSubscribed": true,
          "MyVote": 1,
          "Score": 23,
          "SubredditName": "startrekmemes"
         },
         {
          "IsSubscribed": true,
          "MyVote": 1,
          "Score": 2,
          "SubredditName": "startrekmemes"
         },
         {
          "IsSubscribed": true,
          "MyVote": 1,
          "Score": 37,
          "SubredditName": "camphalfblood"
         },
         {
          "IsSubscribed": true,
          "MyVote": 1,
          "Score": 48,
          "SubredditName": "camphalfblood"
         },
         {
          "IsSubscribed": true,
          "MyVote": 1,
          "Score": 39,
          "SubredditName": "consolerepair"
         },
         {
          "IsSubscribed": true,
          "MyVote": 1,
          "Score": 6,
          "SubredditName": "camphalfblood"
         },
         {
          "IsSubscribed": true,
          "MyVote": 1,
          "Score": 249,
          "SubredditName": "startrekmemes"
         },
         {
          "IsSubscribed": true,
          "MyVote": 1,
          "Score": 113,
          "SubredditName": "seinfeld"
         },
         {
          "IsSubscribed": true,
          "MyVote": 1,
          "Score": 13,
          "SubredditName": "camphalfblood"
         },
         {
          "IsSubscribed": true,
          "MyVote": 1,
          "Score": 1,
          "SubredditName": "TheLastAirbender"
         },
         {
          "IsSubscribed": true,
          "MyVote": 1,
          "Score": 20,
          "SubredditName": "seinfeld"
         },
         {
          "IsSubscribed": true,
          "MyVote": 1,
          "Score": 260,
          "SubredditName": "TheLastAirbender"
         },
         {
          "IsSubscribed": true,
          "MyVote": 1,
          "Score": 1,
          "SubredditName": "yugioh"
         },
         {
          "IsSubscribed": true,
          "MyVote": 1,
          "Score": 12,
          "SubredditName": "camphalfblood"
         },
         {
          "IsSubscribed": true,
          "MyVote": 1,
          "Score": 1,
          "SubredditName": "camphalfblood"
         },
         {
          "IsSubscribed": true,
          "MyVote": 1,
          "Score": 7,
          "SubredditName": "camphalfblood"
         },
         {
          "IsSubscribed": true,
          "MyVote": 1,
          "Score": 1,
          "SubredditName": "consolerepair"
         },
         {
          "IsSubscribed": true,
          "MyVote": 1,
          "Score": 6,
          "SubredditName": "veYakinEvren"
         },
         {
          "IsSubscribed": true,
          "MyVote": 1,
          "Score": 68,
          "SubredditName": "TheLastAirbender"
         },
         {
          "IsSubscribed": true,
          "MyVote": 1,
          "Score": 1,
          "SubredditName": "Ubuntu"
         },
         {
          "IsSubscribed": true,
          "MyVote": 1,
          "Score": 2,
          "SubredditName": "yugioh"
         },
         {
          "IsSubscribed": true,
          "MyVote": 1,
          "Score": 1,
          "SubredditName": "TheLastAirbender"
         },
         {
          "IsSubscribed": true,
          "MyVote": 1,
          "Score": 35,
          "SubredditName": "PercyJacksonMemes"
         },
         {
          "IsSubscribed": true,
          "MyVote": 1,
          "Score": 4,
          "SubredditName": "TheLastAirbender"
         },
         {
          "IsSubscribed": true,
          "MyVote": 1,
          "Score": 4,
          "SubredditName": "TheLastAirbender"
         },
         {
          "IsSubscribed": true,
          "MyVote": 1,
          "Score": 7,
          "SubredditName": "camphalfblood"
         },
         {
          "IsSubscribed": true,
          "MyVote": 1,
          "Score": 6,
          "SubredditName": "TheLastAirbender"
         },
         {
          "IsSubscribed": true,
          "MyVote": 1,
          "Score": 6,
          "SubredditName": "seinfeld"
         },
         {
          "IsSubscribed": true,
          "MyVote": 1,
          "Score": 5,
          "SubredditName": "camphalfblood"
         },
         {
          "IsSubscribed": true,
          "MyVote": 1,
          "Score": 53,
          "SubredditName": "TheLastAirbender"
         },
         {
          "IsSubscribed": true,
          "MyVote": 1,
          "Score": 3,
          "SubredditName": "veYakinEvren"
         },
         {
          "IsSubscribed": true,
          "MyVote": 1,
          "Score": 18,
          "SubredditName": "seinfeld"
         },
         {
          "IsSubscribed": true,
          "MyVote": 1,
          "Score": 1289,
          "SubredditName": "mathmemes"
         },
         {
          "IsSubscribed": true,
          "MyVote": 1,
          "Score": 31,
          "SubredditName": "camphalfblood"
         },
         {
          "IsSubscribed": true,
          "MyVote": 1,
          "Score": 1,
          "SubredditName": "seinfeld"
         },
         {
          "IsSubscribed": true,
          "MyVote": 1,
          "Score": 1,
          "SubredditName": "ElectroBOOM"
         },
         {
          "IsSubscribed": true,
          "MyVote": 1,
          "Score": 238,
          "SubredditName": "yugioh"
         },
         {
          "IsSubscribed": true,
          "MyVote": 1,
          "Score": 506,
          "SubredditName": "camphalfblood"
         },
         {
          "IsSubscribed": true,
          "MyVote": 1,
          "Score": 713,
          "SubredditName": "seinfeld"
         },
         {
          "IsSubscribed": true,
          "MyVote": 1,
          "Score": 7,
          "SubredditName": "startrekmemes"
         },
         {
          "IsSubscribed": true,
          "MyVote": 1,
          "Score": 7,
          "SubredditName": "TheLastAirbender"
         },
         {
          "IsSubscribed": true,
          "MyVote": 1,
          "Score": 47,
          "SubredditName": "GreekMythology"
         },
         {
          "IsSubscribed": true,
          "MyVote": 1,
          "Score": 13,
          "SubredditName": "PercyJacksonMemes"
         },
         {
          "IsSubscribed": true,
          "MyVote": 1,
          "Score": 1,
          "SubredditName": "montypython"
         },
         {
          "IsSubscribed": true,
          "MyVote": 1,
          "Score": 41,
          "SubredditName": "consolerepair"
         },
         {
          "IsSubscribed": true,
          "MyVote": 1,
          "Score": 24,
          "SubredditName": "TheLastAirbender"
         },
         {
          "IsSubscribed": true,
          "MyVote": 1,
          "Score": 29,
          "SubredditName": "startrekmemes"
         },
         {
          "IsSubscribed": true,
          "MyVote": 1,
          "Score": 2,
          "SubredditName": "veYakinEvren"
         },
         {
          "IsSubscribed": true,
          "MyVote": 1,
          "Score": 1,
          "SubredditName": "veYakinEvren"
         },
         {
          "IsSubscribed": true,
          "MyVote": 1,
          "Score": 128,
          "SubredditName": "gaming"
         },
         {
          "IsSubscribed": true,
          "MyVote": 1,
          "Score": 13,
          "SubredditName": "camphalfblood"
         },
         {
          "IsSubscribed": true,
          "MyVote": 1,
          "Score": 1,
          "SubredditName": "SatisfactoryGame"
         },
         {
          "IsSubscribed": true,
          "MyVote": 1,
          "Score": -1,
          "SubredditName": "yugioh"
         },
         {
          "IsSubscribed": true,
          "MyVote": 1,
          "Score": 12,
          "SubredditName": "camphalfblood"
         },
         {
          "IsSubscribed": true,
          "MyVote": 1,
          "Score": 7,
          "SubredditName": "veYakinEvren"
         },
         {
          "IsSubscribed": true,
          "MyVote": 1,
          "Score": 559,
          "SubredditName": "seinfeld"
         },
         {
          "IsSubscribed": true,
          "MyVote": 1,
          "Score": 35,
          "SubredditName": "CodeBullet"
         },
         {
          "IsSubscribed": true,
          "MyVote": 1,
          "Score": 1,
          "SubredditName": "montypython"
         },
         {
          "IsSubscribed": true,
          "MyVote": 1,
          "Score": 12,
          "SubredditName": "camphalfblood"
         },
         {
          "IsSubscribed": true,
          "MyVote": 1,
          "Score": 17,
          "SubredditName": "camphalfblood"
         },
         {
          "IsSubscribed": true,
          "MyVote": 1,
          "Score": 1,
          "SubredditName": "veYakinEvren"
         },
         {
          "IsSubscribed": true,
          "MyVote": 1,
          "Score": 941,
          "SubredditName": "SatisfactoryGame"
         },
         {
          "IsSubscribed": true,
          "MyVote": 1,
          "Score": 28,
          "SubredditName": "seinfeld"
         },
         {
          "IsSubscribed": true,
          "MyVote": 1,
          "Score": 1,
          "SubredditName": "TheLastAirbender"
         },
         {
          "IsSubscribed": true,
          "MyVote": 1,
          "Score": 8,
          "SubredditName": "camphalfblood"
         },
         {
          "IsSubscribed": true,
          "MyVote": 1,
          "Score": 2,
          "SubredditName": "camphalfblood"
         },
         {
          "IsSubscribed": true,
          "MyVote": 1,
          "Score": 1072,
          "SubredditName": "camphalfblood"
         },
         {
          "IsSubscribed": true,
          "MyVote": 1,
          "Score": 4,
          "SubredditName": "camphalfblood"
         },
         {
          "IsSubscribed": true,
          "MyVote": 1,
          "Score": 517,
          "SubredditName": "camphalfblood"
         },
         {
          "IsSubscribed": true,
          "MyVote": 1,
          "Score": 806,
          "SubredditName": "camphalfblood"
         },
         {
          "IsSubscribed": true,
          "MyVote": 1,
          "Score": 5,
          "SubredditName": "camphalfblood"
         },
         {
          "IsSubscribed": true,
          "MyVote": 1,
          "Score": 28,
          "SubredditName": "TheLastAirbender"
         },
         {
          "IsSubscribed": true,
          "MyVote": 1,
          "Score": 936,
          "SubredditName": "TheLastAirbender"
         },
         {
          "IsSubscribed": true,
          "MyVote": 1,
          "Score": 28,
          "SubredditName": "seinfeld"
         },
         {
          "IsSubscribed": true,
          "MyVote": 1,
          "Score": 8,
          "SubredditName": "camphalfblood"
         },
         {
          "IsSubscribed": true,
          "MyVote": 1,
          "Score": 60,
          "SubredditName": "camphalfblood"
         },
         {
          "IsSubscribed": true,
          "MyVote": 1,
          "Score": 21,
          "SubredditName": "Python"
         },
         {
          "IsSubscribed": true,
          "MyVote": 1,
          "Score": 1,
          "SubredditName": "mathmemes"
         },
         {
          "IsSubscribed": true,
          "MyVote": 1,
          "Score": 257,
          "SubredditName": "camphalfblood"
         },
         {
          "IsSubscribed": true,
          "MyVote": 1,
          "Score": 173,
          "SubredditName": "seinfeld"
         },
         {
          "IsSubscribed": true,
          "MyVote": 1,
          "Score": 14,
          "SubredditName": "camphalfblood"
         },
         {
          "IsSubscribed": true,
          "MyVote": 1,
          "Score": 3,
          "SubredditName": "veYakinEvren"
         },
         {
          "IsSubscribed": true,
          "MyVote": 1,
          "Score": 2,
          "SubredditName": "camphalfblood"
         },
         {
          "IsSubscribed": true,
          "MyVote": 1,
          "Score": 87,
          "SubredditName": "TheLastAirbender"
         },
         {
          "IsSubscribed": true,
          "MyVote": 1,
          "Score": 3,
          "SubredditName": "camphalfblood"
         },
         {
          "IsSubscribed": true,
          "MyVote": 1,
          "Score": 7,
          "SubredditName": "camphalfblood"
         },
         {
          "IsSubscribed": true,
          "MyVote": 1,
          "Score": 60,
          "SubredditName": "seinfeld"
         },
         {
          "IsSubscribed": true,
          "MyVote": 1,
          "Score": 236,
          "SubredditName": "Python"
         },
         {
          "IsSubscribed": true,
          "MyVote": 1,
          "Score": 3,
          "SubredditName": "camphalfblood"
         },
         {
          "IsSubscribed": true,
          "MyVote": 1,
          "Score": 166,
          "SubredditName": "camphalfblood"
         },
         {
          "IsSubscribed": true,
          "MyVote": 1,
          "Score": 28,
          "SubredditName": "camphalfblood"
         },
         {
          "IsSubscribed": true,
          "MyVote": 1,
          "Score": 151,
          "SubredditName": "TheLastAirbender"
         },
         {
          "IsSubscribed": true,
          "MyVote": 1,
          "Score": 81,
          "SubredditName": "seinfeld"
         },
         {
          "IsSubscribed": true,
          "MyVote": 1,
          "Score": 4,
          "SubredditName": "camphalfblood"
         },
         {
          "IsSubscribed": true,
          "MyVote": 1,
          "Score": 1,
          "SubredditName": "camphalfblood"
         },
         {
          "IsSubscribed": true,
          "MyVote": 1,
          "Score": 33,
          "SubredditName": "TheLastAirbender"
         },
         {
          "IsSubscribed": true,
          "MyVote": 1,
          "Score": 2,
          "SubredditName": "djangolearning"
         },
         {
          "IsSubscribed": true,
          "MyVote": 1,
          "Score": 20,
          "SubredditName": "camphalfblood"
         },
         {
          "IsSubscribed": true,
          "MyVote": 1,
          "Score": 436,
          "SubredditName": "TheLastAirbender"
         },
         {
          "IsSubscribed": true,
          "MyVote": 1,
          "Score": 1,
          "SubredditName": "djangolearning"
         },
         {
          "IsSubscribed": true,
          "MyVote": 1,
          "Score": 344,
          "SubredditName": "camphalfblood"
         },
         {
          "IsSubscribed": true,
          "MyVote": 1,
          "Score": 77,
          "SubredditName": "PercyJacksonMemes"
         },
         {
          "IsSubscribed": true,
          "MyVote": 1,
          "Score": 208,
          "SubredditName": "seinfeld"
         },
         {
          "IsSubscribed": true,
          "MyVote": 1,
          "Score": 46,
          "SubredditName": "Python"
         },
         {
          "IsSubscribed": true,
          "MyVote": 1,
          "Score": 2751,
          "SubredditName": "ProgrammerHumor"
         },
         {
          "IsSubscribed": true,
          "MyVote": 1,
          "Score": 82,
          "SubredditName": "TheLastAirbender"
         },
         {
          "IsSubscribed": true,
          "MyVote": 1,
          "Score": 68,
          "SubredditName": "seinfeld"
         },
         {
          "IsSubscribed": true,
          "MyVote": 1,
          "Score": 1091,
          "SubredditName": "mathmemes"
         },
         {
          "IsSubscribed": true,
          "MyVote": 1,
          "Score": 7,
          "SubredditName": "camphalfblood"
         },
         {
          "IsSubscribed": true,
          "MyVote": 1,
          "Score": 19,
          "SubredditName": "camphalfblood"
         },
         {
          "IsSubscribed": true,
          "MyVote": 1,
          "Score": 5,
          "SubredditName": "camphalfblood"
         },
         {
          "IsSubscribed": true,
          "MyVote": 1,
          "Score": 2,
          "SubredditName": "camphalfblood"
         },
         {
          "IsSubscribed": true,
          "MyVote": 1,
          "Score": 26,
          "SubredditName": "camphalfblood"
         },
         {
          "IsSubscribed": true,
          "MyVote": 1,
          "Score": 13,
          "SubredditName": "TheLastAirbender"
         },
         {
          "IsSubscribed": true,
          "MyVote": 1,
          "Score": 2,
          "SubredditName": "TheLastAirbender"
         },
         {
          "IsSubscribed": true,
          "MyVote": 1,
          "Score": 274,
          "SubredditName": "seinfeld"
         },
         {
          "IsSubscribed": true,
          "MyVote": 1,
          "Score": 551,
          "SubredditName": "SatisfactoryGame"
         },
         {
          "IsSubscribed": true,
          "MyVote": 1,
          "Score": 1,
          "SubredditName": "camphalfblood"
         },
         {
          "IsSubscribed": true,
          "MyVote": 1,
          "Score": 4,
          "SubredditName": "camphalfblood"
         },
         {
          "IsSubscribed": true,
          "MyVote": 1,
          "Score": 3,
          "SubredditName": "camphalfblood"
         },
         {
          "IsSubscribed": true,
          "MyVote": 1,
          "Score": 3,
          "SubredditName": "veYakinEvren"
         },
         {
          "IsSubscribed": true,
          "MyVote": 1,
          "Score": 290,
          "SubredditName": "camphalfblood"
         },
         {
          "IsSubscribed": true,
          "MyVote": 1,
          "Score": 9,
          "SubredditName": "veYakinEvren"
         },
         {
          "IsSubscribed": true,
          "MyVote": 1,
          "Score": 99,
          "SubredditName": "seinfeld"
         },
         {
          "IsSubscribed": true,
          "MyVote": 1,
          "Score": 1,
          "SubredditName": "TheLastAirbender"
         },
         {
          "IsSubscribed": true,
          "MyVote": 1,
          "Score": 90,
          "SubredditName": "GreekMythology"
         },
         {
          "IsSubscribed": true,
          "MyVote": 1,
          "Score": 271,
          "SubredditName": "seinfeld"
         },
         {
          "IsSubscribed": true,
          "MyVote": 1,
          "Score": 151,
          "SubredditName": "TheLastAirbender"
         },
         {
          "IsSubscribed": true,
          "MyVote": 1,
          "Score": 815,
          "SubredditName": "TheLastAirbender"
         },
         {
          "IsSubscribed": true,
          "MyVote": 1,
          "Score": 10,
          "SubredditName": "TheLastAirbender"
         },
         {
          "IsSubscribed": true,
          "MyVote": 1,
          "Score": 4,
          "SubredditName": "camphalfblood"
         },
         {
          "IsSubscribed": true,
          "MyVote": 1,
          "Score": 21,
          "SubredditName": "camphalfblood"
         },
         {
          "IsSubscribed": true,
          "MyVote": 1,
          "Score": 17,
          "SubredditName": "TheLastAirbender"
         },
         {
          "IsSubscribed": true,
          "MyVote": 1,
          "Score": 2,
          "SubredditName": "camphalfblood"
         },
         {
          "IsSubscribed": true,
          "MyVote": 1,
          "Score": 106,
          "SubredditName": "camphalfblood"
         },
         {
          "IsSubscribed": true,
          "MyVote": 1,
          "Score": -4,
          "SubredditName": "GreekMythology"
         },
         {
          "IsSubscribed": true,
          "MyVote": 1,
          "Score": 4,
          "SubredditName": "camphalfblood"
         },
         {
          "IsSubscribed": true,
          "MyVote": 1,
          "Score": 30,
          "SubredditName": "TheLastAirbender"
         },
         {
          "IsSubscribed": true,
          "MyVote": 1,
          "Score": 3,
          "SubredditName": "camphalfblood"
         },
         {
          "IsSubscribed": true,
          "MyVote": 1,
          "Score": 3,
          "SubredditName": "seinfeld"
         },
         {
          "IsSubscribed": true,
          "MyVote": 1,
          "Score": 107,
          "SubredditName": "seinfeld"
         },
         {
          "IsSubscribed": true,
          "MyVote": 1,
          "Score": 16,
          "SubredditName": "camphalfblood"
         },
         {
          "IsSubscribed": true,
          "MyVote": 1,
          "Score": 3,
          "SubredditName": "camphalfblood"
         },
         {
          "IsSubscribed": true,
          "MyVote": 1,
          "Score": 4,
          "SubredditName": "veYakinEvren"
         },
         {
          "IsSubscribed": true,
          "MyVote": 1,
          "Score": 62,
          "SubredditName": "GreekMythology"
         },
         {
          "IsSubscribed": true,
          "MyVote": 1,
          "Score": 25,
          "SubredditName": "camphalfblood"
         },
         {
          "IsSubscribed": true,
          "MyVote": 1,
          "Score": 44,
          "SubredditName": "camphalfblood"
         },
         {
          "IsSubscribed": true,
          "MyVote": 1,
          "Score": 188,
          "SubredditName": "camphalfblood"
         },
         {
          "IsSubscribed": true,
          "MyVote": 1,
          "Score": 96,
          "SubredditName": "TheLastAirbender"
         },
         {
          "IsSubscribed": true,
          "MyVote": 1,
          "Score": 1,
          "SubredditName": "djangolearning"
         },
         {
          "IsSubscribed": true,
          "MyVote": 1,
          "Score": 321,
          "SubredditName": "camphalfblood"
         },
         {
          "IsSubscribed": true,
          "MyVote": 1,
          "Score": 339,
          "SubredditName": "TheLastAirbender"
         },
         {
          "IsSubscribed": true,
          "MyVote": 1,
          "Score": 3,
          "SubredditName": "camphalfblood"
         },
         {
          "IsSubscribed": true,
          "MyVote": 1,
          "Score": 112,
          "SubredditName": "camphalfblood"
         },
         {
          "IsSubscribed": true,
          "MyVote": 1,
          "Score": 7,
          "SubredditName": "veYakinEvren"
         },
         {
          "IsSubscribed": true,
          "MyVote": 1,
          "Score": 190,
          "SubredditName": "seinfeld"
         },
         {
          "IsSubscribed": true,
          "MyVote": 1,
          "Score": 5,
          "SubredditName": "veYakinEvren"
         },
         {
          "IsSubscribed": true,
          "MyVote": 1,
          "Score": 9,
          "SubredditName": "camphalfblood"
         },
         {
          "IsSubscribed": true,
          "MyVote": 1,
          "Score": 145,
          "SubredditName": "PercyJacksonMemes"
         },
         {
          "IsSubscribed": true,
          "MyVote": 1,
          "Score": 728,
          "SubredditName": "TheLastAirbender"
         },
         {
          "IsSubscribed": true,
          "MyVote": 1,
          "Score": 7477,
          "SubredditName": "gaming"
         },
         {
          "IsSubscribed": true,
          "MyVote": 1,
          "Score": 183,
          "SubredditName": "TheLastAirbender"
         },
         {
          "IsSubscribed": true,
          "MyVote": 1,
          "Score": 2,
          "SubredditName": "TheLastAirbender"
         },
         {
          "IsSubscribed": true,
          "MyVote": 1,
          "Score": 2367,
          "SubredditName": "ProgrammerHumor"
         },
         {
          "IsSubscribed": true,
          "MyVote": 1,
          "Score": 6414,
          "SubredditName": "gaming"
         },
         {
          "IsSubscribed": true,
          "MyVote": 1,
          "Score": 5,
          "SubredditName": "startrekmemes"
         },
         {
          "IsSubscribed": true,
          "MyVote": 1,
          "Score": 280,
          "SubredditName": "TheLastAirbender"
         },
         {
          "IsSubscribed": true,
          "MyVote": 1,
          "Score": 7,
          "SubredditName": "startrekmemes"
         },
         {
          "IsSubscribed": true,
          "MyVote": 1,
          "Score": 12,
          "SubredditName": "seinfeld"
         },
         {
          "IsSubscribed": true,
          "MyVote": 1,
          "Score": 29,
          "SubredditName": "montypython"
         },
         {
          "IsSubscribed": true,
          "MyVote": 1,
          "Score": 2,
          "SubredditName": "TheLastAirbender"
         },
         {
          "IsSubscribed": true,
          "MyVote": 1,
          "Score": 50,
          "SubredditName": "GreekMythology"
         },
         {
          "IsSubscribed": true,
          "MyVote": 1,
          "Score": -1,
          "SubredditName": "gaming"
         },
         {
          "IsSubscribed": true,
          "MyVote": 1,
          "Score": 3,
          "SubredditName": "TheLastAirbender"
         },
         {
          "IsSubscribed": true,
          "MyVote": 1,
          "Score": 214,
          "SubredditName": "learnprogramming"
         },
         {
          "IsSubscribed": true,
          "MyVote": 1,
          "Score": 19,
          "SubredditName": "camphalfblood"
         },
         {
          "IsSubscribed": true,
          "MyVote": 1,
          "Score": 179,
          "SubredditName": "TheLastAirbender"
         },
         {
          "IsSubscribed": true,
          "MyVote": -1,
          "Score": 2,
          "SubredditName": "montypython"
         },
         {
          "IsSubscribed": true,
          "MyVote": 1,
          "Score": 35,
          "SubredditName": "startrek"
         },
         {
          "IsSubscribed": true,
          "MyVote": 1,
          "Score": 1,
          "SubredditName": "TheLastAirbender"
         },
         {
          "IsSubscribed": true,
          "MyVote": 1,
          "Score": 1438,
          "SubredditName": "TheLastAirbender"
         },
         {
          "IsSubscribed": true,
          "MyVote": 1,
          "Score": 2,
          "SubredditName": "TheLastAirbender"
         },
         {
          "IsSubscribed": true,
          "MyVote": 1,
          "Score": 17,
          "SubredditName": "TheLastAirbender"
         },
         {
          "IsSubscribed": true,
          "MyVote": 1,
          "Score": 1691,
          "SubredditName": "ProgrammerHumor"
         },
         {
          "IsSubscribed": true,
          "MyVote": 1,
          "Score": 7,
          "SubredditName": "Python"
         },
         {
          "IsSubscribed": true,
          "MyVote": 1,
          "Score": 5626,
          "SubredditName": "gaming"
         },
         {
          "IsSubscribed": true,
          "MyVote": 1,
          "Score": 23,
          "SubredditName": "startrekmemes"
         },
         {
          "IsSubscribed": true,
          "MyVote": 1,
          "Score": 825,
          "SubredditName": "TheLastAirbender"
         },
         {
          "IsSubscribed": true,
          "MyVote": 1,
          "Score": 241,
          "SubredditName": "TheLastAirbender"
         },
         {
          "IsSubscribed": true,
          "MyVote": 1,
          "Score": 21,
          "SubredditName": "montypython"
         },
         {
          "IsSubscribed": true,
          "MyVote": 1,
          "Score": 8,
          "SubredditName": "startrek"
         },
         {
          "IsSubscribed": true,
          "MyVote": 1,
          "Score": 9858,
          "SubredditName": "gaming"
         },
         {
          "IsSubscribed": true,
          "MyVote": 1,
          "Score": 7,
          "SubredditName": "TheLastAirbender"
         },
         {
          "IsSubscribed": true,
          "MyVote": 1,
          "Score": 3918,
          "SubredditName": "gaming"
         },
         {
          "IsSubscribed": true,
          "MyVote": 1,
          "Score": 41,
          "SubredditName": "TheLastAirbender"
         },
         {
          "IsSubscribed": true,
          "MyVote": 1,
          "Score": 93,
          "SubredditName": "TheLastAirbender"
         },
         {
          "IsSubscribed": true,
          "MyVote": 1,
          "Score": 129,
          "SubredditName": "startrekmemes"
         },
         {
          "IsSubscribed": true,
          "MyVote": 1,
          "Score": 122,
          "SubredditName": "camphalfblood"
         },
         {
          "IsSubscribed": true,
          "MyVote": 1,
          "Score": 1452,
          "SubredditName": "gaming"
         },
         {
          "IsSubscribed": true,
          "MyVote": 1,
          "Score": 703,
          "SubredditName": "learnprogramming"
         },
         {
          "IsSubscribed": true,
          "MyVote": 1,
          "Score": 171,
          "SubredditName": "GreekMythology"
         },
         {
          "IsSubscribed": true,
          "MyVote": 1,
          "Score": 51,
          "SubredditName": "PercyJacksonMemes"
         },
         {
          "IsSubscribed": true,
          "MyVote": 1,
          "Score": 186,
          "SubredditName": "TheLastAirbender"
         },
         {
          "IsSubscribed": true,
          "MyVote": 1,
          "Score": 13,
          "SubredditName": "veYakinEvren"
         },
         {
          "IsSubscribed": true,
          "MyVote": 1,
          "Score": 76,
          "SubredditName": "TheLastAirbender"
         },
         {
          "IsSubscribed": true,
          "MyVote": 1,
          "Score": 1,
          "SubredditName": "mathmemes"
         },
         {
          "IsSubscribed": true,
          "MyVote": 1,
          "Score": 20,
          "SubredditName": "startrekmemes"
         },
         {
          "IsSubscribed": true,
          "MyVote": 1,
          "Score": 95,
          "SubredditName": "camphalfblood"
         },
         {
          "IsSubscribed": true,
          "MyVote": 1,
          "Score": 2,
          "SubredditName": "mathmemes"
         },
         {
          "IsSubscribed": true,
          "MyVote": 1,
          "Score": 58,
          "SubredditName": "ProgrammerHumor"
         },
         {
          "IsSubscribed": true,
          "MyVote": 1,
          "Score": 784,
          "SubredditName": "TheLastAirbender"
         },
         {
          "IsSubscribed": true,
          "MyVote": 1,
          "Score": 114,
          "SubredditName": "TheLastAirbender"
         },
         {
          "IsSubscribed": false,
          "MyVote": 1,
          "Score": 3,
          "SubredditName": "bootstrap"
         },
         {
          "IsSubscribed": true,
          "MyVote": 1,
          "Score": 22,
          "SubredditName": "seinfeld"
         },
         {
          "IsSubscribed": true,
          "MyVote": 1,
          "Score": 7673,
          "SubredditName": "gaming"
         },
         {
          "IsSubscribed": true,
          "MyVote": 1,
          "Score": 7,
          "SubredditName": "TheLastAirbender"
         },
         {
          "IsSubscribed": true,
          "MyVote": 1,
          "Score": 67,
          "SubredditName": "PercyJacksonMemes"
         },
         {
          "IsSubscribed": true,
          "MyVote": 1,
          "Score": 691,
          "SubredditName": "gaming"
         },
         {
          "IsSubscribed": true,
          "MyVote": 1,
          "Score": 6108,
          "SubredditName": "gaming"
         },
         {
          "IsSubscribed": true,
          "MyVote": -1,
          "Score": -52,
          "SubredditName": "mathmemes"
         },
         {
          "IsSubscribed": true,
          "MyVote": 1,
          "Score": 149,
          "SubredditName": "ProgrammerHumor"
         },
         {
          "IsSubscribed": true,
          "MyVote": 1,
          "Score": 5604,
          "SubredditName": "gaming"
         },
         {
          "IsSubscribed": true,
          "MyVote": 1,
          "Score": 13,
          "SubredditName": "startrekmemes"
         },
         {
          "IsSubscribed": false,
          "MyVote": 1,
          "Score": 1350,
          "SubredditName": "BaldursGate3"
         },
         {
          "IsSubscribed": false,
          "MyVote": 1,
          "Score": 6819,
          "SubredditName": "BaldursGate3"
         },
         {
          "IsSubscribed": true,
          "MyVote": 1,
          "Score": 8,
          "SubredditName": "TheLastAirbender"
         },
         {
          "IsSubscribed": true,
          "MyVote": 1,
          "Score": 4,
          "SubredditName": "startrekmemes"
         },
         {
          "IsSubscribed": true,
          "MyVote": 1,
          "Score": 26,
          "SubredditName": "mathmemes"
         },
         {
          "IsSubscribed": true,
          "MyVote": 1,
          "Score": 8,
          "SubredditName": "montypython"
         },
         {
          "IsSubscribed": true,
          "MyVote": 1,
          "Score": 25,
          "SubredditName": "montypython"
         },
         {
          "IsSubscribed": true,
          "MyVote": 1,
          "Score": 1308,
          "SubredditName": "ProgrammerHumor"
         },
         {
          "IsSubscribed": false,
          "MyVote": 1,
          "Score": 2664,
          "SubredditName": "BaldursGate3"
         },
         {
          "IsSubscribed": true,
          "MyVote": 1,
          "Score": 5,
          "SubredditName": "startrek"
         },
         {
          "IsSubscribed": true,
          "MyVote": 1,
          "Score": 49,
          "SubredditName": "TheLastAirbender"
         },
         {
          "IsSubscribed": true,
          "MyVote": 1,
          "Score": 3,
          "SubredditName": "SatisfactoryGame"
         },
         {
          "IsSubscribed": true,
          "MyVote": 1,
          "Score": 39,
          "SubredditName": "mathmemes"
         },
         {
          "IsSubscribed": true,
          "MyVote": -1,
          "Score": -39,
          "SubredditName": "mathmemes"
         },
         {
          "IsSubscribed": true,
          "MyVote": 1,
          "Score": 14,
          "SubredditName": "seinfeld"
         },
         {
          "IsSubscribed": true,
          "MyVote": 1,
          "Score": 24,
          "SubredditName": "camphalfblood"
         },
         {
          "IsSubscribed": true,
          "MyVote": 1,
          "Score": 5,
          "SubredditName": "startrek"
         },
         {
          "IsSubscribed": true,
          "MyVote": 1,
          "Score": 3882,
          "SubredditName": "TheLastAirbender"
         },
         {
          "IsSubscribed": true,
          "MyVote": 1,
          "Score": 25,
          "SubredditName": "startrek"
         },
         {
          "IsSubscribed": true,
          "MyVote": 1,
          "Score": 2,
          "SubredditName": "GreekMythology"
         },
         {
          "IsSubscribed": true,
          "MyVote": 1,
          "Score": 5,
          "SubredditName": "veYakinEvren"
         },
         {
          "IsSubscribed": true,
          "MyVote": 1,
          "Score": 82,
          "SubredditName": "mathmemes"
         },
         {
          "IsSubscribed": true,
          "MyVote": 1,
          "Score": 160,
          "SubredditName": "gaming"
         },
         {
          "IsSubscribed": true,
          "MyVote": -1,
          "Score": 2,
          "SubredditName": "veYakinEvren"
         },
         {
          "IsSubscribed": false,
          "MyVote": 1,
          "Score": 1,
          "SubredditName": "bootstrap"
         },
         {
          "IsSubscribed": false,
          "MyVote": 1,
          "Score": 836,
          "SubredditName": "BaldursGate3"
         },
         {
          "IsSubscribed": true,
          "MyVote": -1,
          "Score": 57,
          "SubredditName": "ProgrammerHumor"
         },
         {
          "IsSubscribed": true,
          "MyVote": 1,
          "Score": 2,
          "SubredditName": "TheLastAirbender"
         },
         {
          "IsSubscribed": true,
          "MyVote": 1,
          "Score": 1003,
          "SubredditName": "TheLastAirbender"
         },
         {
          "IsSubscribed": true,
          "MyVote": 1,
          "Score": 65,
          "SubredditName": "django"
         },
         {
          "IsSubscribed": true,
          "MyVote": 1,
          "Score": 15,
          "SubredditName": "veYakinEvren"
         },
         {
          "IsSubscribed": true,
          "MyVote": 1,
          "Score": 562,
          "SubredditName": "TheLastAirbender"
         },
         {
          "IsSubscribed": true,
          "MyVote": 1,
          "Score": 1134,
          "SubredditName": "ProgrammerHumor"
         },
         {
          "IsSubscribed": true,
          "MyVote": 1,
          "Score": 286,
          "SubredditName": "TheLastAirbender"
         },
         {
          "IsSubscribed": true,
          "MyVote": 1,
          "Score": 2,
          "SubredditName": "TheLastAirbender"
         },
         {
          "IsSubscribed": true,
          "MyVote": 1,
          "Score": 51,
          "SubredditName": "django"
         }
        ]
       },
       "hconcat": [
        {
         "encoding": {
          "tooltip": [
           {
            "aggregate": "count",
            "type": "quantitative"
           }
          ],
          "x": {
           "axis": {
            "labelAngle": 0,
            "labelExpr": "datum.label == '1' ? 'Upvote' : 'Downvote'"
           },
           "field": "MyVote",
           "sort": "-x",
           "type": "ordinal"
          },
          "y": {
           "aggregate": "count",
           "type": "quantitative"
          }
         },
         "height": 300,
         "mark": {
          "type": "bar"
         },
         "title": "Number of Votes by Direction",
         "width": 600
        },
        {
         "encoding": {
          "tooltip": [
           {
            "aggregate": "count",
            "type": "quantitative"
           }
          ],
          "x": {
           "axis": {
            "labelAngle": 0,
            "labelExpr": "datum.label == 'true' ? 'Subscribed' : 'Not Subscribed'"
           },
           "field": "IsSubscribed",
           "sort": "-y",
           "type": "nominal"
          },
          "y": {
           "aggregate": "count",
           "type": "quantitative"
          }
         },
         "height": 300,
         "mark": {
          "type": "bar"
         },
         "title": "Number of Votes by Subscribtion Status",
         "width": 600
        }
       ]
      },
      "text/plain": [
       "<VegaLite 5 object>\n",
       "\n",
       "If you see this message, it means the renderer has not been properly enabled\n",
       "for the frontend that you are using. For more information, see\n",
       "https://altair-viz.github.io/user_guide/display_frontends.html#troubleshooting\n"
      ]
     },
     "execution_count": 10,
     "metadata": {},
     "output_type": "execute_result"
    }
   ],
   "source": [
    "# Drop np.nan values from the MyVote column\n",
    "post_votes_df = post_votes_df.dropna(subset=[\"MyVote\"]).reset_index(drop=True)\n",
    "comment_votes_df = comment_votes_df.dropna(subset=[\"MyVote\"]).reset_index(drop=True)\n",
    "# Concat\n",
    "votes_df = pd.concat([post_votes_df, comment_votes_df]).reset_index(drop=True)\n",
    "\n",
    "# Count the number of votes\n",
    "chart_votes = alt.Chart(votes_df).mark_bar().encode(\n",
    "    alt.X(\"MyVote:O\", sort=\"-x\", axis=alt.Axis(labelAngle=0, labelExpr=\"datum.label == '1' ? 'Upvote' : 'Downvote'\")),\n",
    "    alt.Y(\"count()\"),\n",
    "    tooltip=[\"count()\"],  # Show the count when hovering over the bar\n",
    ").properties(\n",
    "    title=\"Number of Votes by Direction\",\n",
    "    width=600,\n",
    "    height=300,\n",
    ")\n",
    "\n",
    "# Count the number of subscribed subs\n",
    "chart_subscribed = alt.Chart(votes_df).mark_bar().encode(\n",
    "    alt.X(\"IsSubscribed:N\", sort=\"-y\", axis=alt.Axis(labelAngle=0, labelExpr=\"datum.label == 'true' ? 'Subscribed' : 'Not Subscribed'\")),\n",
    "    alt.Y(\"count()\"),\n",
    "    tooltip=[\"count()\"],  # Show the count when hovering over the bar\n",
    ").properties(\n",
    "    title=\"Number of Votes by Subscribtion Status\",\n",
    "    width=600,\n",
    "    height=300,\n",
    ")\n",
    "\n",
    "chart = alt.hconcat(chart_votes, chart_subscribed)\n",
    "\n",
    "chart = chart.configure(\n",
    "    padding={\"left\": 15, \"right\": 15, \"top\": 15, \"bottom\": 15},\n",
    "    title={\"fontSize\": 18},\n",
    ").configure_view(\n",
    "    stroke=None,\n",
    ").configure_axisX(\n",
    "    labelFontSize=14,\n",
    "    titleFontSize=14,\n",
    "    grid=False,  # Remove the grid\n",
    "    domainWidth=2,  # Set the width of the axis line\n",
    "    domainColor=\"#000\"  # Set the color of the axis line\n",
    ").configure_axisY(\n",
    "    labelFontSize=14,\n",
    "    titleFontSize=14,\n",
    "    grid=False,  # Remove the grid\n",
    "    domain=False,  # Remove the axis line\n",
    ")\n",
    "\n",
    "chart"
   ]
  },
  {
   "cell_type": "code",
   "execution_count": 11,
   "id": "b4c7330f",
   "metadata": {},
   "outputs": [],
   "source": [
    "# Save the charts\n",
    "\n",
    "chart_votes = chart_votes.configure(\n",
    "    padding={\"left\": 15, \"right\": 15, \"top\": 15, \"bottom\": 15},\n",
    "    title={\"fontSize\": 18},\n",
    ").configure_view(\n",
    "    stroke=None,\n",
    ").configure_axisX(\n",
    "    labelFontSize=14,\n",
    "    titleFontSize=14,\n",
    "    grid=False,  # Remove the grid\n",
    "    domainWidth=2,  # Set the width of the axis line\n",
    "    domainColor=\"#000\"  # Set the color of the axis line\n",
    ").configure_axisY(\n",
    "    labelFontSize=14,\n",
    "    titleFontSize=14,\n",
    "    grid=False,  # Remove the grid\n",
    "    domain=False,  # Remove the axis line\n",
    ")\n",
    "chart_subscribed = chart_subscribed.configure(\n",
    "    padding={\"left\": 15, \"right\": 15, \"top\": 15, \"bottom\": 15},\n",
    "    title={\"fontSize\": 18},\n",
    ").configure_view(\n",
    "    stroke=None,\n",
    ").configure_axisX(\n",
    "    labelFontSize=14,\n",
    "    titleFontSize=14,\n",
    "    grid=False,  # Remove the grid\n",
    "    domainWidth=2,  # Set the width of the axis line\n",
    "    domainColor=\"#000\"  # Set the color of the axis line\n",
    ").configure_axisY(\n",
    "    labelFontSize=14,\n",
    "    titleFontSize=14,\n",
    "    grid=False,  # Remove the grid\n",
    "    domain=False,  # Remove the axis line\n",
    ")\n",
    "\n",
    "chart_votes.save(\"figures/voted/altair_vote_counts.html\")\n",
    "chart_votes.save(\"figures/img/voted/altair_vote_counts.png\")\n",
    "chart_subscribed.save(\"figures/voted/altair_subscribed_counts.html\")\n",
    "chart_subscribed.save(\"figures/img/voted/altair_subscribed_counts.png\")"
   ]
  },
  {
   "cell_type": "markdown",
   "id": "f8b0f613",
   "metadata": {},
   "source": [
    "### Histogram for Total Score\n",
    "\n",
    "Histogram for the total score of the posts and comments that I have voted in each subreddit.  \n",
    "\n",
    "Even though scores are generally on the low side, there are some outliers with high scores. Therefore, I will both use a histogram with a selected range and a log histogram to see the distribution better. (The first two charts are interactive, you can select a range to see better.)"
   ]
  },
  {
   "cell_type": "code",
   "execution_count": 12,
   "id": "e3792315",
   "metadata": {},
   "outputs": [
    {
     "data": {
      "application/vnd.vegalite.v5+json": {
       "$schema": "https://vega.github.io/schema/vega-lite/v5.16.3.json",
       "config": {
        "axisX": {
         "domainColor": "#000",
         "domainWidth": 2,
         "grid": false,
         "labelFontSize": 14,
         "titleFontSize": 14
        },
        "axisY": {
         "domain": false,
         "grid": false,
         "labelFontSize": 14,
         "titleFontSize": 14
        },
        "padding": {
         "bottom": 15,
         "left": 15,
         "right": 15,
         "top": 15
        },
        "title": {
         "fontSize": 18
        },
        "view": {
         "continuousHeight": 300,
         "continuousWidth": 300,
         "stroke": null
        }
       },
       "datasets": {
        "data-7ed2be3be5149d7d08c6845f3d874e89": [
         {
          "Score": 195
         },
         {
          "Score": 11075
         },
         {
          "Score": 145
         },
         {
          "Score": 23310
         },
         {
          "Score": 1456
         },
         {
          "Score": 63
         },
         {
          "Score": 8
         },
         {
          "Score": 24
         },
         {
          "Score": 99
         },
         {
          "Score": 1447
         },
         {
          "Score": 584
         },
         {
          "Score": 0
         },
         {
          "Score": 17
         },
         {
          "Score": 1101
         },
         {
          "Score": 36
         },
         {
          "Score": 221
         },
         {
          "Score": 25224
         },
         {
          "Score": 3
         },
         {
          "Score": 42
         },
         {
          "Score": 600
         },
         {
          "Score": 352
         },
         {
          "Score": 28
         },
         {
          "Score": 7
         },
         {
          "Score": 4
         },
         {
          "Score": 263
         },
         {
          "Score": 2
         },
         {
          "Score": 239
         },
         {
          "Score": 121
         },
         {
          "Score": 146
         },
         {
          "Score": 221
         },
         {
          "Score": 90
         },
         {
          "Score": 345
         },
         {
          "Score": 449
         },
         {
          "Score": 269
         },
         {
          "Score": 599
         },
         {
          "Score": 18073
         },
         {
          "Score": 107
         },
         {
          "Score": 22
         },
         {
          "Score": 1037
         },
         {
          "Score": 1253
         },
         {
          "Score": 63
         },
         {
          "Score": 68630
         },
         {
          "Score": 51
         },
         {
          "Score": 33
         },
         {
          "Score": 23
         },
         {
          "Score": 7
         },
         {
          "Score": 30
         },
         {
          "Score": 225
         },
         {
          "Score": 28
         },
         {
          "Score": 438
         },
         {
          "Score": 70
         },
         {
          "Score": 367
         },
         {
          "Score": 15
         },
         {
          "Score": 649
         },
         {
          "Score": 559
         },
         {
          "Score": 349
         },
         {
          "Score": 90
         },
         {
          "Score": 627
         },
         {
          "Score": 43
         },
         {
          "Score": 3
         },
         {
          "Score": 267
         },
         {
          "Score": 420
         },
         {
          "Score": 2856
         },
         {
          "Score": 153
         },
         {
          "Score": 610
         },
         {
          "Score": 377
         },
         {
          "Score": 316
         },
         {
          "Score": 11
         },
         {
          "Score": 0
         },
         {
          "Score": 279
         },
         {
          "Score": 13002
         },
         {
          "Score": 30
         },
         {
          "Score": 214
         },
         {
          "Score": 276
         },
         {
          "Score": 29
         },
         {
          "Score": 8
         },
         {
          "Score": 112
         },
         {
          "Score": 81
         },
         {
          "Score": 34
         },
         {
          "Score": 4119
         },
         {
          "Score": 895
         },
         {
          "Score": 79
         },
         {
          "Score": 68
         },
         {
          "Score": 32970
         },
         {
          "Score": 717
         },
         {
          "Score": 131
         },
         {
          "Score": 209
         },
         {
          "Score": 45
         },
         {
          "Score": 1006
         },
         {
          "Score": 804
         },
         {
          "Score": 67
         },
         {
          "Score": 702
         },
         {
          "Score": 5004
         },
         {
          "Score": 51
         },
         {
          "Score": 418
         },
         {
          "Score": 274
         },
         {
          "Score": 138
         },
         {
          "Score": 193
         },
         {
          "Score": 240
         },
         {
          "Score": 4165
         },
         {
          "Score": 41
         },
         {
          "Score": 117
         },
         {
          "Score": 197
         },
         {
          "Score": 168
         },
         {
          "Score": 359
         },
         {
          "Score": 2936
         },
         {
          "Score": 354
         },
         {
          "Score": 530
         },
         {
          "Score": 196
         },
         {
          "Score": 25025
         },
         {
          "Score": 576
         },
         {
          "Score": 19150
         },
         {
          "Score": 605
         },
         {
          "Score": 1400
         },
         {
          "Score": 848
         },
         {
          "Score": 57
         },
         {
          "Score": 531
         },
         {
          "Score": 3127
         },
         {
          "Score": 1
         },
         {
          "Score": 367
         },
         {
          "Score": 1027
         },
         {
          "Score": 86
         },
         {
          "Score": 312
         },
         {
          "Score": 2068
         },
         {
          "Score": 1292
         },
         {
          "Score": 53
         },
         {
          "Score": 4595
         },
         {
          "Score": 163
         },
         {
          "Score": 285
         },
         {
          "Score": 1307
         },
         {
          "Score": 1613
         },
         {
          "Score": 2667
         },
         {
          "Score": 202
         },
         {
          "Score": 1
         },
         {
          "Score": 133
         },
         {
          "Score": 7
         },
         {
          "Score": 154
         },
         {
          "Score": 3981
         },
         {
          "Score": 1948
         },
         {
          "Score": 209
         },
         {
          "Score": 4
         },
         {
          "Score": 27627
         },
         {
          "Score": 421
         },
         {
          "Score": 1521
         },
         {
          "Score": 1188
         },
         {
          "Score": 529
         },
         {
          "Score": 35
         },
         {
          "Score": 1194
         },
         {
          "Score": 86
         },
         {
          "Score": 492
         },
         {
          "Score": 12675
         },
         {
          "Score": 61
         },
         {
          "Score": 47
         },
         {
          "Score": 502
         },
         {
          "Score": 5836
         },
         {
          "Score": 1109
         },
         {
          "Score": 4990
         },
         {
          "Score": 236
         },
         {
          "Score": 449
         },
         {
          "Score": 324
         },
         {
          "Score": 241
         },
         {
          "Score": 77
         },
         {
          "Score": 50
         },
         {
          "Score": 455
         },
         {
          "Score": 72
         },
         {
          "Score": 295
         },
         {
          "Score": 7118
         },
         {
          "Score": 520
         },
         {
          "Score": 601
         },
         {
          "Score": 795
         },
         {
          "Score": 136
         },
         {
          "Score": 3808
         },
         {
          "Score": 50
         },
         {
          "Score": 10254
         },
         {
          "Score": 299
         },
         {
          "Score": 1866
         },
         {
          "Score": 223
         },
         {
          "Score": 0
         },
         {
          "Score": 39
         },
         {
          "Score": 2490
         },
         {
          "Score": 423
         },
         {
          "Score": 172
         },
         {
          "Score": 91
         },
         {
          "Score": 2366
         },
         {
          "Score": 229
         },
         {
          "Score": 279
         },
         {
          "Score": 62
         },
         {
          "Score": 1183
         },
         {
          "Score": 89
         },
         {
          "Score": 139
         },
         {
          "Score": 5247
         },
         {
          "Score": 1137
         },
         {
          "Score": 325
         },
         {
          "Score": 1570
         },
         {
          "Score": 539
         },
         {
          "Score": 25
         },
         {
          "Score": 3111
         },
         {
          "Score": 478
         },
         {
          "Score": 0
         },
         {
          "Score": 942
         },
         {
          "Score": 33
         },
         {
          "Score": 210
         },
         {
          "Score": 120
         },
         {
          "Score": 529
         },
         {
          "Score": 1261
         },
         {
          "Score": 165
         },
         {
          "Score": 220
         },
         {
          "Score": 265
         },
         {
          "Score": 628
         },
         {
          "Score": 45
         },
         {
          "Score": 112
         },
         {
          "Score": 1308
         },
         {
          "Score": 1550
         },
         {
          "Score": 201
         },
         {
          "Score": 311
         },
         {
          "Score": 2839
         },
         {
          "Score": 3029
         },
         {
          "Score": 809
         },
         {
          "Score": 7
         },
         {
          "Score": 142
         },
         {
          "Score": 6967
         },
         {
          "Score": 446
         },
         {
          "Score": 4
         },
         {
          "Score": 215
         },
         {
          "Score": 81
         },
         {
          "Score": 75
         },
         {
          "Score": 3458
         },
         {
          "Score": 3083
         },
         {
          "Score": 14092
         },
         {
          "Score": 345
         },
         {
          "Score": 49
         },
         {
          "Score": 169
         },
         {
          "Score": 423
         },
         {
          "Score": 92
         },
         {
          "Score": 629
         },
         {
          "Score": 262
         },
         {
          "Score": 17
         },
         {
          "Score": 704
         },
         {
          "Score": 465
         },
         {
          "Score": 495
         },
         {
          "Score": 306
         },
         {
          "Score": 8512
         },
         {
          "Score": 0
         },
         {
          "Score": 671
         },
         {
          "Score": 147
         },
         {
          "Score": 2
         },
         {
          "Score": 220
         },
         {
          "Score": 0
         },
         {
          "Score": 2583
         },
         {
          "Score": 24
         },
         {
          "Score": 175
         },
         {
          "Score": 20263
         },
         {
          "Score": 4698
         },
         {
          "Score": 286
         },
         {
          "Score": 515
         },
         {
          "Score": 195
         },
         {
          "Score": 50
         },
         {
          "Score": 116
         },
         {
          "Score": 2170
         },
         {
          "Score": 3607
         },
         {
          "Score": 21
         },
         {
          "Score": 293
         },
         {
          "Score": 0
         },
         {
          "Score": 1179
         },
         {
          "Score": 0
         },
         {
          "Score": 611
         },
         {
          "Score": 0
         },
         {
          "Score": 6727
         },
         {
          "Score": 2
         },
         {
          "Score": 4
         },
         {
          "Score": 173
         },
         {
          "Score": 83
         },
         {
          "Score": 1344
         },
         {
          "Score": 9010
         },
         {
          "Score": 235
         },
         {
          "Score": 1109
         },
         {
          "Score": 23
         },
         {
          "Score": 3077
         },
         {
          "Score": 3254
         },
         {
          "Score": 1533
         },
         {
          "Score": 846
         },
         {
          "Score": 27
         },
         {
          "Score": 290
         },
         {
          "Score": 65
         },
         {
          "Score": 586
         },
         {
          "Score": 612
         },
         {
          "Score": 432
         },
         {
          "Score": 37
         },
         {
          "Score": 305
         },
         {
          "Score": 804
         },
         {
          "Score": 4
         },
         {
          "Score": 1
         },
         {
          "Score": 262
         },
         {
          "Score": 1812
         },
         {
          "Score": 3169
         },
         {
          "Score": 465
         },
         {
          "Score": 58
         },
         {
          "Score": 141
         },
         {
          "Score": 303
         },
         {
          "Score": 4030
         },
         {
          "Score": 3590
         },
         {
          "Score": 12
         },
         {
          "Score": 1320
         },
         {
          "Score": 54
         },
         {
          "Score": 28
         },
         {
          "Score": 80
         },
         {
          "Score": 183
         },
         {
          "Score": 72
         },
         {
          "Score": 463
         },
         {
          "Score": 126
         },
         {
          "Score": 901
         },
         {
          "Score": 2172
         },
         {
          "Score": 1863
         },
         {
          "Score": 369
         },
         {
          "Score": 0
         },
         {
          "Score": 2422
         },
         {
          "Score": 32
         },
         {
          "Score": 915
         },
         {
          "Score": 3
         },
         {
          "Score": 44
         },
         {
          "Score": 27
         },
         {
          "Score": 1990
         },
         {
          "Score": 1168
         },
         {
          "Score": 6352
         },
         {
          "Score": 705
         },
         {
          "Score": 10
         },
         {
          "Score": 753
         },
         {
          "Score": 50
         },
         {
          "Score": 538
         },
         {
          "Score": 214
         },
         {
          "Score": 2357
         },
         {
          "Score": 19
         },
         {
          "Score": 1400
         },
         {
          "Score": 103
         },
         {
          "Score": 823
         },
         {
          "Score": 343
         },
         {
          "Score": 472
         },
         {
          "Score": 2201
         },
         {
          "Score": 107
         },
         {
          "Score": 14260
         },
         {
          "Score": 3078
         },
         {
          "Score": 4800
         },
         {
          "Score": 9
         },
         {
          "Score": 190
         },
         {
          "Score": 349
         },
         {
          "Score": 241
         },
         {
          "Score": 1725
         },
         {
          "Score": 124
         },
         {
          "Score": 22
         },
         {
          "Score": 329
         },
         {
          "Score": 51
         },
         {
          "Score": 2251
         },
         {
          "Score": 584
         },
         {
          "Score": 36
         },
         {
          "Score": 2691
         },
         {
          "Score": 1386
         },
         {
          "Score": 52
         },
         {
          "Score": 253
         },
         {
          "Score": 2
         },
         {
          "Score": 409
         },
         {
          "Score": 2466
         },
         {
          "Score": 499
         },
         {
          "Score": 5149
         },
         {
          "Score": 1243
         },
         {
          "Score": 11438
         },
         {
          "Score": 18
         },
         {
          "Score": 37
         },
         {
          "Score": 101650
         },
         {
          "Score": 417
         },
         {
          "Score": 460
         },
         {
          "Score": 30355
         },
         {
          "Score": 9
         },
         {
          "Score": 17
         },
         {
          "Score": 1357
         },
         {
          "Score": 66
         },
         {
          "Score": 1029
         },
         {
          "Score": 336
         },
         {
          "Score": 1128
         },
         {
          "Score": 28
         },
         {
          "Score": 907
         },
         {
          "Score": 51
         },
         {
          "Score": 12
         },
         {
          "Score": 76
         },
         {
          "Score": 0
         },
         {
          "Score": 158
         },
         {
          "Score": 349
         },
         {
          "Score": 169
         },
         {
          "Score": 18
         },
         {
          "Score": 6024
         },
         {
          "Score": 30
         },
         {
          "Score": 2537
         },
         {
          "Score": 0
         },
         {
          "Score": 158
         },
         {
          "Score": 298
         },
         {
          "Score": 528
         },
         {
          "Score": 10342
         },
         {
          "Score": 64
         },
         {
          "Score": 186
         },
         {
          "Score": 851
         },
         {
          "Score": 85
         },
         {
          "Score": 1158
         },
         {
          "Score": 434
         },
         {
          "Score": 8
         },
         {
          "Score": 68
         },
         {
          "Score": 510
         },
         {
          "Score": 174
         },
         {
          "Score": 560
         },
         {
          "Score": 1806
         },
         {
          "Score": 673
         },
         {
          "Score": 220
         },
         {
          "Score": 402
         },
         {
          "Score": 6680
         },
         {
          "Score": 223
         },
         {
          "Score": 56
         },
         {
          "Score": 58
         },
         {
          "Score": 27
         },
         {
          "Score": 790
         },
         {
          "Score": 98
         },
         {
          "Score": 1078
         },
         {
          "Score": 150
         },
         {
          "Score": 63
         },
         {
          "Score": 238
         },
         {
          "Score": 35
         },
         {
          "Score": 3185
         },
         {
          "Score": 428
         },
         {
          "Score": 3295
         },
         {
          "Score": 186
         },
         {
          "Score": 1117
         },
         {
          "Score": 394
         },
         {
          "Score": 10566
         },
         {
          "Score": 57
         },
         {
          "Score": 3211
         },
         {
          "Score": 201
         },
         {
          "Score": 922
         },
         {
          "Score": 1423
         },
         {
          "Score": 49
         },
         {
          "Score": 934
         },
         {
          "Score": 101
         },
         {
          "Score": 399
         },
         {
          "Score": 175
         },
         {
          "Score": 172
         },
         {
          "Score": 511
         },
         {
          "Score": 5774
         },
         {
          "Score": 2230
         },
         {
          "Score": 58
         },
         {
          "Score": 87
         },
         {
          "Score": 220
         },
         {
          "Score": 69
         },
         {
          "Score": 35
         },
         {
          "Score": 180
         },
         {
          "Score": 664
         },
         {
          "Score": 3905
         },
         {
          "Score": 1673
         },
         {
          "Score": 64
         },
         {
          "Score": 281
         },
         {
          "Score": 345
         },
         {
          "Score": 1345
         },
         {
          "Score": 3651
         },
         {
          "Score": 9813
         },
         {
          "Score": 6589
         },
         {
          "Score": 974
         },
         {
          "Score": 120
         },
         {
          "Score": 18
         },
         {
          "Score": 1048
         },
         {
          "Score": 641
         },
         {
          "Score": 3235
         },
         {
          "Score": 3310
         },
         {
          "Score": 182
         },
         {
          "Score": 419
         },
         {
          "Score": 3327
         },
         {
          "Score": 29
         },
         {
          "Score": 63
         },
         {
          "Score": 472
         },
         {
          "Score": 347
         },
         {
          "Score": 807
         },
         {
          "Score": 483
         },
         {
          "Score": 61
         },
         {
          "Score": 94
         },
         {
          "Score": 319
         },
         {
          "Score": 1231
         },
         {
          "Score": 2605
         },
         {
          "Score": 305
         },
         {
          "Score": 777
         },
         {
          "Score": 26455
         },
         {
          "Score": 505
         },
         {
          "Score": 4121
         },
         {
          "Score": 16057
         },
         {
          "Score": 180
         },
         {
          "Score": 236
         },
         {
          "Score": 1232
         },
         {
          "Score": 170
         },
         {
          "Score": 176
         },
         {
          "Score": 726
         },
         {
          "Score": 199
         },
         {
          "Score": 2451
         },
         {
          "Score": 197
         },
         {
          "Score": 3077
         },
         {
          "Score": 465
         },
         {
          "Score": 282
         },
         {
          "Score": 297
         },
         {
          "Score": 503
         },
         {
          "Score": 4022
         },
         {
          "Score": 13
         },
         {
          "Score": 10
         },
         {
          "Score": 3462
         },
         {
          "Score": 438
         },
         {
          "Score": 3
         },
         {
          "Score": 357
         },
         {
          "Score": 588
         },
         {
          "Score": 27
         },
         {
          "Score": 54
         },
         {
          "Score": 224
         },
         {
          "Score": 751
         },
         {
          "Score": 3112
         },
         {
          "Score": 5409
         },
         {
          "Score": 660
         },
         {
          "Score": 424
         },
         {
          "Score": 173
         },
         {
          "Score": 440
         },
         {
          "Score": 86
         },
         {
          "Score": 40
         },
         {
          "Score": 523
         },
         {
          "Score": 169
         },
         {
          "Score": 3900
         },
         {
          "Score": 1242
         },
         {
          "Score": 11
         },
         {
          "Score": 165
         },
         {
          "Score": 0
         },
         {
          "Score": 6913
         },
         {
          "Score": 17
         },
         {
          "Score": 283
         },
         {
          "Score": 255
         },
         {
          "Score": 58
         },
         {
          "Score": 714
         },
         {
          "Score": 441
         },
         {
          "Score": 234
         },
         {
          "Score": 29576
         },
         {
          "Score": 26
         },
         {
          "Score": 331
         },
         {
          "Score": 157
         },
         {
          "Score": 3315
         },
         {
          "Score": 243
         },
         {
          "Score": 3404
         },
         {
          "Score": 2583
         },
         {
          "Score": 133
         },
         {
          "Score": 2357
         },
         {
          "Score": 5415
         },
         {
          "Score": 45
         },
         {
          "Score": 715
         },
         {
          "Score": 47
         },
         {
          "Score": 14540
         },
         {
          "Score": 1320
         },
         {
          "Score": 454
         },
         {
          "Score": 1345
         },
         {
          "Score": 11104
         },
         {
          "Score": 63
         },
         {
          "Score": 53
         },
         {
          "Score": 2113
         },
         {
          "Score": 64
         },
         {
          "Score": 1981
         },
         {
          "Score": 9048
         },
         {
          "Score": 1
         },
         {
          "Score": 1382
         },
         {
          "Score": 228
         },
         {
          "Score": 114
         },
         {
          "Score": 1269
         },
         {
          "Score": 6744
         },
         {
          "Score": 396
         },
         {
          "Score": 349
         },
         {
          "Score": 37
         },
         {
          "Score": 327
         },
         {
          "Score": 1772
         },
         {
          "Score": 124
         },
         {
          "Score": 405
         },
         {
          "Score": 1123
         },
         {
          "Score": 1126
         },
         {
          "Score": 16826
         },
         {
          "Score": 0
         },
         {
          "Score": 369
         },
         {
          "Score": 708
         },
         {
          "Score": 26
         },
         {
          "Score": 391
         },
         {
          "Score": 431
         },
         {
          "Score": 145
         },
         {
          "Score": 2988
         },
         {
          "Score": 4662
         },
         {
          "Score": 507
         },
         {
          "Score": 299
         },
         {
          "Score": 1514
         },
         {
          "Score": 1276
         },
         {
          "Score": 3605
         },
         {
          "Score": 2409
         },
         {
          "Score": 1371
         },
         {
          "Score": 1050
         },
         {
          "Score": 3826
         },
         {
          "Score": 2603
         },
         {
          "Score": 1143
         },
         {
          "Score": 1815
         },
         {
          "Score": 152
         },
         {
          "Score": 6219
         },
         {
          "Score": 645
         },
         {
          "Score": 415
         },
         {
          "Score": 8
         },
         {
          "Score": 130
         },
         {
          "Score": 1924
         },
         {
          "Score": 7376
         },
         {
          "Score": 9
         },
         {
          "Score": 2210
         },
         {
          "Score": 44
         },
         {
          "Score": 183
         },
         {
          "Score": 283
         },
         {
          "Score": 15
         },
         {
          "Score": 1734
         },
         {
          "Score": 9498
         },
         {
          "Score": 1165
         },
         {
          "Score": 564
         },
         {
          "Score": 4911
         },
         {
          "Score": 398
         },
         {
          "Score": 4348
         },
         {
          "Score": 171
         },
         {
          "Score": 647
         },
         {
          "Score": 483
         },
         {
          "Score": 1380
         },
         {
          "Score": 0
         },
         {
          "Score": 62
         },
         {
          "Score": 1746
         },
         {
          "Score": 456
         },
         {
          "Score": 967
         },
         {
          "Score": 4091
         },
         {
          "Score": 11
         },
         {
          "Score": 1382
         },
         {
          "Score": 137
         },
         {
          "Score": 5270
         },
         {
          "Score": 1821
         },
         {
          "Score": 185
         },
         {
          "Score": 91
         },
         {
          "Score": 706
         },
         {
          "Score": 2873
         },
         {
          "Score": 7041
         },
         {
          "Score": 667
         },
         {
          "Score": 36
         },
         {
          "Score": 791
         },
         {
          "Score": 3194
         },
         {
          "Score": 16420
         },
         {
          "Score": 3757
         },
         {
          "Score": 1527
         },
         {
          "Score": 894
         },
         {
          "Score": 9885
         },
         {
          "Score": 2885
         },
         {
          "Score": 2648
         },
         {
          "Score": 5686
         },
         {
          "Score": 1
         },
         {
          "Score": 12
         },
         {
          "Score": 59
         },
         {
          "Score": 73
         },
         {
          "Score": 94
         },
         {
          "Score": 1429
         },
         {
          "Score": 1044
         },
         {
          "Score": 343
         },
         {
          "Score": 220
         },
         {
          "Score": 2123
         },
         {
          "Score": 352
         },
         {
          "Score": 335
         },
         {
          "Score": 121
         },
         {
          "Score": 4405
         },
         {
          "Score": 10623
         },
         {
          "Score": 12
         },
         {
          "Score": 267
         },
         {
          "Score": 180
         },
         {
          "Score": 2480
         },
         {
          "Score": 358
         },
         {
          "Score": 1047
         },
         {
          "Score": 19184
         },
         {
          "Score": 681
         },
         {
          "Score": 50
         },
         {
          "Score": 2962
         },
         {
          "Score": 362
         },
         {
          "Score": 8219
         },
         {
          "Score": 510
         },
         {
          "Score": 904
         },
         {
          "Score": 1504
         },
         {
          "Score": 46
         },
         {
          "Score": 18
         },
         {
          "Score": 2285
         },
         {
          "Score": 14
         },
         {
          "Score": 3076
         },
         {
          "Score": 399
         },
         {
          "Score": 484
         },
         {
          "Score": 769
         },
         {
          "Score": 2580
         },
         {
          "Score": 1053
         },
         {
          "Score": 1019
         },
         {
          "Score": 3894
         },
         {
          "Score": 2950
         },
         {
          "Score": 2574
         },
         {
          "Score": 4494
         },
         {
          "Score": 807
         },
         {
          "Score": 708
         },
         {
          "Score": 561
         },
         {
          "Score": 4281
         },
         {
          "Score": 28811
         },
         {
          "Score": 2780
         },
         {
          "Score": 1302
         },
         {
          "Score": 12162
         },
         {
          "Score": 5900
         },
         {
          "Score": 5563
         },
         {
          "Score": 10533
         },
         {
          "Score": 12
         },
         {
          "Score": 15482
         },
         {
          "Score": 1008
         },
         {
          "Score": 753
         },
         {
          "Score": 1659
         },
         {
          "Score": 2267
         },
         {
          "Score": 2
         },
         {
          "Score": 1133
         },
         {
          "Score": 204
         },
         {
          "Score": 182
         },
         {
          "Score": 9988
         },
         {
          "Score": 2
         },
         {
          "Score": 1311
         },
         {
          "Score": 916
         },
         {
          "Score": 3096
         },
         {
          "Score": 636
         },
         {
          "Score": 40
         },
         {
          "Score": 1094
         },
         {
          "Score": 1623
         },
         {
          "Score": 14037
         },
         {
          "Score": 4217
         },
         {
          "Score": 58
         },
         {
          "Score": 390
         },
         {
          "Score": 9352
         },
         {
          "Score": 2585
         },
         {
          "Score": 1905
         },
         {
          "Score": 3673
         },
         {
          "Score": 339
         },
         {
          "Score": 2524
         },
         {
          "Score": 74
         },
         {
          "Score": 364
         },
         {
          "Score": 332
         },
         {
          "Score": 619
         },
         {
          "Score": 0
         },
         {
          "Score": 299
         },
         {
          "Score": 6347
         },
         {
          "Score": 680
         },
         {
          "Score": 3227
         },
         {
          "Score": 495
         },
         {
          "Score": 2183
         },
         {
          "Score": 6430
         },
         {
          "Score": 51
         },
         {
          "Score": 1433
         },
         {
          "Score": 268
         },
         {
          "Score": 13579
         },
         {
          "Score": 350
         },
         {
          "Score": 1076
         },
         {
          "Score": 862
         },
         {
          "Score": 2258
         },
         {
          "Score": 12632
         },
         {
          "Score": 5187
         },
         {
          "Score": 1648
         },
         {
          "Score": 3245
         },
         {
          "Score": 50
         },
         {
          "Score": 28
         },
         {
          "Score": 2351
         },
         {
          "Score": 357
         },
         {
          "Score": 1350
         },
         {
          "Score": 5930
         },
         {
          "Score": 1480
         },
         {
          "Score": 364
         },
         {
          "Score": 521
         },
         {
          "Score": 30
         },
         {
          "Score": 171
         },
         {
          "Score": 2085
         },
         {
          "Score": 286
         },
         {
          "Score": 975
         },
         {
          "Score": 2646
         },
         {
          "Score": 4950
         },
         {
          "Score": 0
         },
         {
          "Score": 3087
         },
         {
          "Score": 563
         },
         {
          "Score": 393
         },
         {
          "Score": 1411
         },
         {
          "Score": 911
         },
         {
          "Score": 663
         },
         {
          "Score": 846
         },
         {
          "Score": 5331
         },
         {
          "Score": 679
         },
         {
          "Score": 172
         },
         {
          "Score": 0
         },
         {
          "Score": 0
         },
         {
          "Score": 676
         },
         {
          "Score": 26
         },
         {
          "Score": 18277
         },
         {
          "Score": 729
         },
         {
          "Score": 68
         },
         {
          "Score": 24
         },
         {
          "Score": 3595
         },
         {
          "Score": 73
         },
         {
          "Score": 854
         },
         {
          "Score": 2043
         },
         {
          "Score": 519
         },
         {
          "Score": 891
         },
         {
          "Score": 445
         },
         {
          "Score": 185
         },
         {
          "Score": 0
         },
         {
          "Score": 1440
         },
         {
          "Score": 7272
         },
         {
          "Score": 2078
         },
         {
          "Score": 330
         },
         {
          "Score": 356
         },
         {
          "Score": 0
         },
         {
          "Score": 459
         },
         {
          "Score": 714
         },
         {
          "Score": 1949
         },
         {
          "Score": 595
         },
         {
          "Score": 2396
         },
         {
          "Score": 578
         },
         {
          "Score": 131
         },
         {
          "Score": 262
         },
         {
          "Score": 3002
         },
         {
          "Score": 129
         },
         {
          "Score": 1101
         },
         {
          "Score": 0
         },
         {
          "Score": 4228
         },
         {
          "Score": 680
         },
         {
          "Score": 2128
         },
         {
          "Score": 798
         },
         {
          "Score": 299
         },
         {
          "Score": 3988
         },
         {
          "Score": 440
         },
         {
          "Score": 0
         },
         {
          "Score": 828
         },
         {
          "Score": 510
         },
         {
          "Score": 319
         },
         {
          "Score": 633
         },
         {
          "Score": 946
         },
         {
          "Score": 7636
         },
         {
          "Score": 55740
         },
         {
          "Score": 207
         },
         {
          "Score": 1181
         },
         {
          "Score": 2
         },
         {
          "Score": 1008
         },
         {
          "Score": 80
         },
         {
          "Score": 2764
         },
         {
          "Score": 5921
         },
         {
          "Score": 2912
         },
         {
          "Score": 261
         },
         {
          "Score": 2
         },
         {
          "Score": 3980
         },
         {
          "Score": 652
         },
         {
          "Score": 307
         },
         {
          "Score": 2184
         },
         {
          "Score": 2817
         },
         {
          "Score": 23
         },
         {
          "Score": 75
         },
         {
          "Score": 1709
         },
         {
          "Score": 875
         },
         {
          "Score": 0
         },
         {
          "Score": 564
         },
         {
          "Score": 1464
         },
         {
          "Score": 28
         },
         {
          "Score": 214
         },
         {
          "Score": 536
         },
         {
          "Score": 39
         },
         {
          "Score": 176
         },
         {
          "Score": 246
         },
         {
          "Score": 1543
         },
         {
          "Score": 256
         },
         {
          "Score": 366
         },
         {
          "Score": 609
         },
         {
          "Score": 47
         },
         {
          "Score": 55
         },
         {
          "Score": 21274
         },
         {
          "Score": 982
         },
         {
          "Score": 249
         },
         {
          "Score": 147
         },
         {
          "Score": 13188
         },
         {
          "Score": 33
         },
         {
          "Score": 1301
         },
         {
          "Score": 236
         },
         {
          "Score": 88
         },
         {
          "Score": 78
         },
         {
          "Score": 59
         },
         {
          "Score": 16
         },
         {
          "Score": 1487
         },
         {
          "Score": 37
         },
         {
          "Score": 2345
         },
         {
          "Score": 24
         },
         {
          "Score": 93
         },
         {
          "Score": 60
         },
         {
          "Score": 3337
         },
         {
          "Score": 401
         },
         {
          "Score": 13
         },
         {
          "Score": 268
         },
         {
          "Score": 128
         },
         {
          "Score": 40
         },
         {
          "Score": 71
         },
         {
          "Score": 1055
         },
         {
          "Score": 56
         },
         {
          "Score": 19
         },
         {
          "Score": 186
         },
         {
          "Score": 750
         },
         {
          "Score": 49
         },
         {
          "Score": 15
         },
         {
          "Score": 316
         },
         {
          "Score": 22
         },
         {
          "Score": 627
         },
         {
          "Score": 36
         },
         {
          "Score": 100
         },
         {
          "Score": 69
         },
         {
          "Score": 935
         },
         {
          "Score": 41
         },
         {
          "Score": 103
         },
         {
          "Score": 187
         },
         {
          "Score": 19494
         },
         {
          "Score": 3181
         },
         {
          "Score": 112
         },
         {
          "Score": 267
         },
         {
          "Score": 375
         },
         {
          "Score": 135
         },
         {
          "Score": 51
         },
         {
          "Score": 526
         },
         {
          "Score": 25445
         },
         {
          "Score": 2121
         },
         {
          "Score": 176
         },
         {
          "Score": 6170
         },
         {
          "Score": 178
         },
         {
          "Score": 217
         },
         {
          "Score": 85
         },
         {
          "Score": 1356
         },
         {
          "Score": 22
         },
         {
          "Score": 3255
         },
         {
          "Score": 380
         },
         {
          "Score": 719
         },
         {
          "Score": 393
         },
         {
          "Score": 175
         },
         {
          "Score": 706
         },
         {
          "Score": 131
         },
         {
          "Score": 946
         },
         {
          "Score": 11847
         },
         {
          "Score": 2946
         },
         {
          "Score": 94
         },
         {
          "Score": 665
         },
         {
          "Score": 129
         },
         {
          "Score": 138
         },
         {
          "Score": 908
         },
         {
          "Score": 386
         },
         {
          "Score": 481
         },
         {
          "Score": 182
         },
         {
          "Score": 2
         },
         {
          "Score": 30
         },
         {
          "Score": 1439
         },
         {
          "Score": 2178
         },
         {
          "Score": 59
         },
         {
          "Score": 58
         },
         {
          "Score": 17
         },
         {
          "Score": 44
         },
         {
          "Score": 303
         },
         {
          "Score": 612
         },
         {
          "Score": 37
         },
         {
          "Score": 64
         },
         {
          "Score": 54
         },
         {
          "Score": 138
         },
         {
          "Score": 151
         },
         {
          "Score": 126
         },
         {
          "Score": 67
         },
         {
          "Score": 118
         },
         {
          "Score": 56
         },
         {
          "Score": 229
         },
         {
          "Score": 72
         },
         {
          "Score": 135
         },
         {
          "Score": 126
         },
         {
          "Score": 48
         },
         {
          "Score": 6572
         },
         {
          "Score": 133
         },
         {
          "Score": 137
         },
         {
          "Score": 373
         },
         {
          "Score": 195
         },
         {
          "Score": 43
         },
         {
          "Score": 256
         },
         {
          "Score": 310
         },
         {
          "Score": 6418
         },
         {
          "Score": 230
         },
         {
          "Score": 312
         },
         {
          "Score": 356
         },
         {
          "Score": 44
         },
         {
          "Score": 102
         },
         {
          "Score": 279
         },
         {
          "Score": 633
         },
         {
          "Score": 115
         },
         {
          "Score": 255
         },
         {
          "Score": 45
         },
         {
          "Score": 5
         },
         {
          "Score": 23
         },
         {
          "Score": 331
         },
         {
          "Score": 18
         },
         {
          "Score": 47
         },
         {
          "Score": 77
         },
         {
          "Score": 107
         },
         {
          "Score": 64
         },
         {
          "Score": 68
         },
         {
          "Score": 245
         },
         {
          "Score": 184
         },
         {
          "Score": 358
         },
         {
          "Score": 43
         },
         {
          "Score": 202
         },
         {
          "Score": 225
         },
         {
          "Score": 229
         },
         {
          "Score": 29
         },
         {
          "Score": 51
         },
         {
          "Score": 65
         },
         {
          "Score": 35
         },
         {
          "Score": 243
         },
         {
          "Score": 1251
         },
         {
          "Score": 10
         },
         {
          "Score": 187
         },
         {
          "Score": 364
         },
         {
          "Score": 544
         },
         {
          "Score": 169
         },
         {
          "Score": 453
         },
         {
          "Score": 25
         },
         {
          "Score": 346
         },
         {
          "Score": 10
         },
         {
          "Score": 4488
         },
         {
          "Score": 106
         },
         {
          "Score": 107
         },
         {
          "Score": 190
         },
         {
          "Score": 21
         },
         {
          "Score": 196
         },
         {
          "Score": 122
         },
         {
          "Score": 465
         },
         {
          "Score": 76
         },
         {
          "Score": 138
         },
         {
          "Score": 24
         },
         {
          "Score": 68
         },
         {
          "Score": 18
         },
         {
          "Score": 354
         },
         {
          "Score": 195
         },
         {
          "Score": 56
         },
         {
          "Score": 87
         },
         {
          "Score": 57
         },
         {
          "Score": 23
         },
         {
          "Score": 6855
         },
         {
          "Score": 173
         },
         {
          "Score": 276
         },
         {
          "Score": 79
         },
         {
          "Score": 159
         },
         {
          "Score": 782
         },
         {
          "Score": 2226
         },
         {
          "Score": 170
         },
         {
          "Score": 118
         },
         {
          "Score": 689
         },
         {
          "Score": 5900
         },
         {
          "Score": 100
         },
         {
          "Score": 265
         },
         {
          "Score": 1901
         },
         {
          "Score": 97
         },
         {
          "Score": 206
         },
         {
          "Score": 235
         },
         {
          "Score": 285
         },
         {
          "Score": 80
         },
         {
          "Score": 35
         },
         {
          "Score": 77
         },
         {
          "Score": 602
         },
         {
          "Score": 425
         },
         {
          "Score": 30
         },
         {
          "Score": 46
         },
         {
          "Score": 41
         },
         {
          "Score": 27
         },
         {
          "Score": 105
         },
         {
          "Score": 226
         },
         {
          "Score": 285
         },
         {
          "Score": 149
         },
         {
          "Score": 32
         },
         {
          "Score": 27
         },
         {
          "Score": 234
         },
         {
          "Score": 365
         },
         {
          "Score": 230
         },
         {
          "Score": 253
         },
         {
          "Score": 450
         },
         {
          "Score": 196
         },
         {
          "Score": 174
         },
         {
          "Score": 7
         },
         {
          "Score": 355
         },
         {
          "Score": 40
         },
         {
          "Score": 964
         },
         {
          "Score": 45
         },
         {
          "Score": 37
         },
         {
          "Score": 122
         },
         {
          "Score": 175
         },
         {
          "Score": 139
         },
         {
          "Score": 149
         },
         {
          "Score": 346
         },
         {
          "Score": 178
         },
         {
          "Score": 255
         },
         {
          "Score": 233
         },
         {
          "Score": 194
         },
         {
          "Score": 129
         },
         {
          "Score": 472
         },
         {
          "Score": 185
         },
         {
          "Score": 59
         },
         {
          "Score": 514
         },
         {
          "Score": 110
         },
         {
          "Score": 398
         },
         {
          "Score": 32
         },
         {
          "Score": 82
         },
         {
          "Score": 82
         },
         {
          "Score": 102
         },
         {
          "Score": 20
         },
         {
          "Score": 240
         },
         {
          "Score": 621
         },
         {
          "Score": 301
         },
         {
          "Score": 12
         },
         {
          "Score": 219
         },
         {
          "Score": 128
         },
         {
          "Score": 122
         },
         {
          "Score": 184
         },
         {
          "Score": 173
         },
         {
          "Score": 186
         },
         {
          "Score": 47
         },
         {
          "Score": 86
         },
         {
          "Score": 165
         },
         {
          "Score": 13
         },
         {
          "Score": 46
         },
         {
          "Score": 6
         },
         {
          "Score": 235
         },
         {
          "Score": 234
         },
         {
          "Score": 118
         },
         {
          "Score": 62
         },
         {
          "Score": 191
         },
         {
          "Score": 331
         },
         {
          "Score": 240
         },
         {
          "Score": 42
         },
         {
          "Score": 25
         },
         {
          "Score": 719
         },
         {
          "Score": 77
         },
         {
          "Score": 304
         },
         {
          "Score": 240
         },
         {
          "Score": 49
         },
         {
          "Score": 230
         },
         {
          "Score": 271
         },
         {
          "Score": 107
         },
         {
          "Score": 322
         },
         {
          "Score": 386
         },
         {
          "Score": 330
         },
         {
          "Score": 621
         },
         {
          "Score": 257
         },
         {
          "Score": 84
         },
         {
          "Score": 297
         },
         {
          "Score": 783
         },
         {
          "Score": 6
         },
         {
          "Score": 243
         },
         {
          "Score": 595
         },
         {
          "Score": 27
         },
         {
          "Score": 672
         },
         {
          "Score": 313
         },
         {
          "Score": 299
         },
         {
          "Score": 256
         },
         {
          "Score": 148
         },
         {
          "Score": 260
         },
         {
          "Score": 127
         },
         {
          "Score": 167
         },
         {
          "Score": 174
         },
         {
          "Score": 142
         },
         {
          "Score": 286
         },
         {
          "Score": 182
         },
         {
          "Score": 156
         },
         {
          "Score": 148
         },
         {
          "Score": 157
         },
         {
          "Score": 147
         },
         {
          "Score": 138
         },
         {
          "Score": 292
         },
         {
          "Score": 98
         },
         {
          "Score": 1
         },
         {
          "Score": 331
         },
         {
          "Score": 4733
         },
         {
          "Score": 49
         },
         {
          "Score": 130
         },
         {
          "Score": 62
         },
         {
          "Score": 324
         },
         {
          "Score": 41
         },
         {
          "Score": 30
         },
         {
          "Score": 55
         },
         {
          "Score": 391
         },
         {
          "Score": 66
         },
         {
          "Score": 1
         },
         {
          "Score": 345
         },
         {
          "Score": 357
         },
         {
          "Score": 192
         },
         {
          "Score": 109
         },
         {
          "Score": 356
         },
         {
          "Score": 84
         },
         {
          "Score": 11
         },
         {
          "Score": 443
         },
         {
          "Score": 223
         },
         {
          "Score": 177
         },
         {
          "Score": 181
         },
         {
          "Score": 133
         },
         {
          "Score": 1
         },
         {
          "Score": 7
         },
         {
          "Score": 203
         },
         {
          "Score": 90
         },
         {
          "Score": 11
         },
         {
          "Score": 43
         },
         {
          "Score": 67
         },
         {
          "Score": 135
         },
         {
          "Score": 3338
         },
         {
          "Score": 109
         },
         {
          "Score": 16221
         },
         {
          "Score": 27
         },
         {
          "Score": 111
         },
         {
          "Score": 49
         },
         {
          "Score": 294
         },
         {
          "Score": 8
         },
         {
          "Score": 131
         },
         {
          "Score": 62
         },
         {
          "Score": 321
         },
         {
          "Score": 24
         },
         {
          "Score": 81
         },
         {
          "Score": 305
         },
         {
          "Score": 207
         },
         {
          "Score": 127
         },
         {
          "Score": 159
         },
         {
          "Score": 271
         },
         {
          "Score": 204
         },
         {
          "Score": 269
         },
         {
          "Score": 55
         },
         {
          "Score": 28
         },
         {
          "Score": 190
         },
         {
          "Score": 128
         },
         {
          "Score": 250
         },
         {
          "Score": 192
         },
         {
          "Score": 309
         },
         {
          "Score": 65
         },
         {
          "Score": 191
         },
         {
          "Score": 2
         },
         {
          "Score": 260
         },
         {
          "Score": 258
         },
         {
          "Score": 164
         },
         {
          "Score": 52
         },
         {
          "Score": 16
         },
         {
          "Score": 295
         },
         {
          "Score": 258
         },
         {
          "Score": 1105
         },
         {
          "Score": 20
         },
         {
          "Score": 180
         },
         {
          "Score": 269
         },
         {
          "Score": 185
         },
         {
          "Score": 21
         },
         {
          "Score": 22
         },
         {
          "Score": 686
         },
         {
          "Score": 91
         },
         {
          "Score": 67
         },
         {
          "Score": 32
         },
         {
          "Score": 233
         },
         {
          "Score": 200
         },
         {
          "Score": 91
         },
         {
          "Score": 21
         },
         {
          "Score": 138
         },
         {
          "Score": 299
         },
         {
          "Score": 262
         },
         {
          "Score": 3835
         },
         {
          "Score": 177
         },
         {
          "Score": 70
         },
         {
          "Score": 1194
         },
         {
          "Score": 139
         },
         {
          "Score": 1169
         },
         {
          "Score": 195
         },
         {
          "Score": 548
         },
         {
          "Score": 52
         },
         {
          "Score": 113
         },
         {
          "Score": 1136
         },
         {
          "Score": 8
         },
         {
          "Score": 76
         },
         {
          "Score": 10
         },
         {
          "Score": 146
         },
         {
          "Score": 299
         },
         {
          "Score": 212
         },
         {
          "Score": 68
         },
         {
          "Score": 252
         },
         {
          "Score": 28
         },
         {
          "Score": 5250
         },
         {
          "Score": 60
         },
         {
          "Score": 6197
         },
         {
          "Score": 78
         },
         {
          "Score": 448
         },
         {
          "Score": 1140
         },
         {
          "Score": 183
         },
         {
          "Score": 35
         },
         {
          "Score": 257
         },
         {
          "Score": 85
         },
         {
          "Score": 93
         },
         {
          "Score": 480
         },
         {
          "Score": 31
         },
         {
          "Score": 336
         },
         {
          "Score": 61
         },
         {
          "Score": 153
         },
         {
          "Score": 199
         },
         {
          "Score": 62
         },
         {
          "Score": 2
         },
         {
          "Score": 342
         },
         {
          "Score": 4980
         },
         {
          "Score": 1367
         },
         {
          "Score": 88
         },
         {
          "Score": 46
         },
         {
          "Score": 108
         },
         {
          "Score": 183
         },
         {
          "Score": 59
         },
         {
          "Score": 42
         },
         {
          "Score": 432
         },
         {
          "Score": 302
         },
         {
          "Score": 7
         },
         {
          "Score": 16
         },
         {
          "Score": 784
         },
         {
          "Score": 58
         },
         {
          "Score": 1468
         },
         {
          "Score": 510
         },
         {
          "Score": 71
         },
         {
          "Score": 260
         },
         {
          "Score": 183
         },
         {
          "Score": 6209
         },
         {
          "Score": 60
         },
         {
          "Score": 277
         },
         {
          "Score": 72
         },
         {
          "Score": 504
         },
         {
          "Score": 14
         },
         {
          "Score": 128
         },
         {
          "Score": 1182
         },
         {
          "Score": 47
         },
         {
          "Score": 2
         },
         {
          "Score": 352
         },
         {
          "Score": 1700
         },
         {
          "Score": 146
         },
         {
          "Score": 141
         },
         {
          "Score": 101
         },
         {
          "Score": 12
         },
         {
          "Score": 598
         },
         {
          "Score": 14
         },
         {
          "Score": 4777
         },
         {
          "Score": 151
         },
         {
          "Score": 147
         },
         {
          "Score": 165
         },
         {
          "Score": 376
         },
         {
          "Score": 971
         },
         {
          "Score": 44
         },
         {
          "Score": 375
         },
         {
          "Score": 130
         },
         {
          "Score": 111
         },
         {
          "Score": 208
         },
         {
          "Score": 134
         },
         {
          "Score": 164
         },
         {
          "Score": 3
         },
         {
          "Score": 313
         },
         {
          "Score": 213
         },
         {
          "Score": 3
         },
         {
          "Score": 2105
         },
         {
          "Score": 0
         },
         {
          "Score": 306
         },
         {
          "Score": 405
         },
         {
          "Score": 2054
         },
         {
          "Score": 441
         },
         {
          "Score": 287
         },
         {
          "Score": 50901
         },
         {
          "Score": 169
         },
         {
          "Score": 461
         },
         {
          "Score": 15
         },
         {
          "Score": 3
         },
         {
          "Score": 5128
         },
         {
          "Score": 52
         },
         {
          "Score": 282
         },
         {
          "Score": 62
         },
         {
          "Score": 126
         },
         {
          "Score": 1158
         },
         {
          "Score": 10021
         },
         {
          "Score": 891
         },
         {
          "Score": 1510
         },
         {
          "Score": 40
         },
         {
          "Score": 849
         },
         {
          "Score": 3855
         },
         {
          "Score": 4
         },
         {
          "Score": 891
         },
         {
          "Score": 3949
         },
         {
          "Score": 1921
         },
         {
          "Score": 3719
         },
         {
          "Score": 154
         },
         {
          "Score": 56681
         },
         {
          "Score": 21
         },
         {
          "Score": 4
         },
         {
          "Score": 13
         },
         {
          "Score": 9280
         },
         {
          "Score": 3245
         },
         {
          "Score": 167
         },
         {
          "Score": 174
         },
         {
          "Score": 297
         },
         {
          "Score": 313
         },
         {
          "Score": 245
         },
         {
          "Score": 130
         },
         {
          "Score": 1
         },
         {
          "Score": 81
         },
         {
          "Score": 219
         },
         {
          "Score": 3492
         },
         {
          "Score": 280
         },
         {
          "Score": 351
         },
         {
          "Score": 126
         },
         {
          "Score": 93
         },
         {
          "Score": 289
         },
         {
          "Score": 203
         },
         {
          "Score": 710
         },
         {
          "Score": 103
         },
         {
          "Score": 15
         },
         {
          "Score": 7047
         },
         {
          "Score": 524
         },
         {
          "Score": 19
         },
         {
          "Score": 262
         },
         {
          "Score": 2
         },
         {
          "Score": 28
         },
         {
          "Score": 514
         },
         {
          "Score": 2
         },
         {
          "Score": 42900
         },
         {
          "Score": 50
         },
         {
          "Score": 136
         },
         {
          "Score": 275
         },
         {
          "Score": 22447
         },
         {
          "Score": 7
         },
         {
          "Score": 208
         },
         {
          "Score": 395
         },
         {
          "Score": 499
         },
         {
          "Score": 1774
         },
         {
          "Score": 689
         },
         {
          "Score": 26
         },
         {
          "Score": 0
         },
         {
          "Score": 2076
         },
         {
          "Score": 8
         },
         {
          "Score": 6632
         },
         {
          "Score": 472
         },
         {
          "Score": 7304
         },
         {
          "Score": 55721
         },
         {
          "Score": 4846
         },
         {
          "Score": 462
         },
         {
          "Score": 362
         },
         {
          "Score": 450
         },
         {
          "Score": 925
         },
         {
          "Score": 8560
         },
         {
          "Score": 867
         },
         {
          "Score": 4324
         },
         {
          "Score": 7429
         },
         {
          "Score": 0
         },
         {
          "Score": 5251
         },
         {
          "Score": 26
         },
         {
          "Score": 313
         },
         {
          "Score": 1363
         },
         {
          "Score": 307
         },
         {
          "Score": 3685
         },
         {
          "Score": 583
         },
         {
          "Score": 55
         },
         {
          "Score": 366
         },
         {
          "Score": 210
         },
         {
          "Score": 1700
         },
         {
          "Score": 4005
         },
         {
          "Score": 2797
         },
         {
          "Score": 28
         },
         {
          "Score": 1897
         },
         {
          "Score": 1663
         },
         {
          "Score": 209
         },
         {
          "Score": 250
         },
         {
          "Score": 5436
         },
         {
          "Score": 3102
         },
         {
          "Score": 46
         },
         {
          "Score": 0
         },
         {
          "Score": 36
         },
         {
          "Score": 57
         },
         {
          "Score": 26
         },
         {
          "Score": 655
         },
         {
          "Score": 501
         },
         {
          "Score": 33
         },
         {
          "Score": 437
         },
         {
          "Score": 821
         },
         {
          "Score": 179
         },
         {
          "Score": 161
         },
         {
          "Score": 7
         },
         {
          "Score": 4069
         },
         {
          "Score": 345
         },
         {
          "Score": 22
         },
         {
          "Score": 191
         },
         {
          "Score": 717
         },
         {
          "Score": 68
         },
         {
          "Score": 3
         },
         {
          "Score": 2397
         },
         {
          "Score": 101
         },
         {
          "Score": 12
         },
         {
          "Score": 16122
         },
         {
          "Score": 1828
         },
         {
          "Score": 351
         },
         {
          "Score": 6
         },
         {
          "Score": 84
         },
         {
          "Score": 77
         },
         {
          "Score": 1143
         },
         {
          "Score": 190
         },
         {
          "Score": 541
         },
         {
          "Score": 80634
         },
         {
          "Score": 1211
         },
         {
          "Score": 0
         },
         {
          "Score": 9
         },
         {
          "Score": 70
         },
         {
          "Score": 5
         },
         {
          "Score": 18
         },
         {
          "Score": 252
         },
         {
          "Score": 0
         },
         {
          "Score": 92
         },
         {
          "Score": 1332
         },
         {
          "Score": 1730
         },
         {
          "Score": 294
         },
         {
          "Score": 328
         },
         {
          "Score": 218
         },
         {
          "Score": 1327
         },
         {
          "Score": 673
         },
         {
          "Score": 9
         },
         {
          "Score": 8
         },
         {
          "Score": 248
         },
         {
          "Score": 155
         },
         {
          "Score": 1256
         },
         {
          "Score": 122
         },
         {
          "Score": 956
         },
         {
          "Score": 240
         },
         {
          "Score": 171
         },
         {
          "Score": 344
         },
         {
          "Score": 13
         },
         {
          "Score": 4
         },
         {
          "Score": 167
         },
         {
          "Score": 45
         },
         {
          "Score": 3577
         },
         {
          "Score": 5100
         },
         {
          "Score": 129
         },
         {
          "Score": 7
         },
         {
          "Score": 203
         },
         {
          "Score": 87
         },
         {
          "Score": 1990
         },
         {
          "Score": 367
         },
         {
          "Score": 144
         },
         {
          "Score": 2873
         },
         {
          "Score": 124
         },
         {
          "Score": 75
         },
         {
          "Score": 304
         },
         {
          "Score": 825
         },
         {
          "Score": 14
         },
         {
          "Score": 4470
         },
         {
          "Score": 23
         },
         {
          "Score": 3926
         },
         {
          "Score": 7058
         },
         {
          "Score": 107
         },
         {
          "Score": 7
         },
         {
          "Score": 2
         },
         {
          "Score": 3
         },
         {
          "Score": 79
         },
         {
          "Score": 59
         },
         {
          "Score": 0
         },
         {
          "Score": 11
         },
         {
          "Score": 26
         },
         {
          "Score": 20344
         },
         {
          "Score": 8737
         },
         {
          "Score": 6
         },
         {
          "Score": 182
         },
         {
          "Score": 2
         },
         {
          "Score": 1
         },
         {
          "Score": 1182
         },
         {
          "Score": 197
         },
         {
          "Score": 3
         },
         {
          "Score": 17
         },
         {
          "Score": 327
         },
         {
          "Score": 6
         },
         {
          "Score": 1
         },
         {
          "Score": 129
         },
         {
          "Score": 1
         },
         {
          "Score": 6
         },
         {
          "Score": 2
         },
         {
          "Score": 2
         },
         {
          "Score": 90
         },
         {
          "Score": 1
         },
         {
          "Score": 1
         },
         {
          "Score": 5
         },
         {
          "Score": 12
         },
         {
          "Score": 37
         },
         {
          "Score": 2
         },
         {
          "Score": 26
         },
         {
          "Score": 1
         },
         {
          "Score": 2
         },
         {
          "Score": 14
         },
         {
          "Score": 22
         },
         {
          "Score": 2
         },
         {
          "Score": 5
         },
         {
          "Score": 2
         },
         {
          "Score": 1
         },
         {
          "Score": 2
         },
         {
          "Score": 2
         },
         {
          "Score": 17
         },
         {
          "Score": 1
         },
         {
          "Score": 11
         },
         {
          "Score": 279
         },
         {
          "Score": 12
         },
         {
          "Score": 3
         },
         {
          "Score": 1
         },
         {
          "Score": 2
         },
         {
          "Score": 5
         },
         {
          "Score": 383
         },
         {
          "Score": 2
         },
         {
          "Score": 1
         },
         {
          "Score": 5
         },
         {
          "Score": 30
         },
         {
          "Score": 13
         },
         {
          "Score": 1
         },
         {
          "Score": 143
         },
         {
          "Score": 2
         },
         {
          "Score": 5
         },
         {
          "Score": 8
         },
         {
          "Score": 8
         },
         {
          "Score": 1
         },
         {
          "Score": 1
         },
         {
          "Score": 2
         },
         {
          "Score": 1
         },
         {
          "Score": 6
         },
         {
          "Score": 12
         },
         {
          "Score": 11
         },
         {
          "Score": 1
         },
         {
          "Score": 2
         },
         {
          "Score": 8
         },
         {
          "Score": 1
         },
         {
          "Score": 2
         },
         {
          "Score": 1
         },
         {
          "Score": 3
         },
         {
          "Score": 148
         },
         {
          "Score": 1
         },
         {
          "Score": 3
         },
         {
          "Score": 6
         },
         {
          "Score": 91
         },
         {
          "Score": 11
         },
         {
          "Score": 1
         },
         {
          "Score": 5
         },
         {
          "Score": 958
         },
         {
          "Score": 2
         },
         {
          "Score": 3
         },
         {
          "Score": 3
         },
         {
          "Score": 29
         },
         {
          "Score": 208
         },
         {
          "Score": 1
         },
         {
          "Score": 10
         },
         {
          "Score": 2
         },
         {
          "Score": 150
         },
         {
          "Score": 10
         },
         {
          "Score": 32
         },
         {
          "Score": 17114
         },
         {
          "Score": 9
         },
         {
          "Score": 1
         },
         {
          "Score": 10
         },
         {
          "Score": 37
         },
         {
          "Score": 27
         },
         {
          "Score": 9
         },
         {
          "Score": 2
         },
         {
          "Score": 48
         },
         {
          "Score": 2
         },
         {
          "Score": 3
         },
         {
          "Score": 16
         },
         {
          "Score": 14
         },
         {
          "Score": 19
         },
         {
          "Score": 1
         },
         {
          "Score": 36
         },
         {
          "Score": -1
         },
         {
          "Score": 1
         },
         {
          "Score": 2
         },
         {
          "Score": 1
         },
         {
          "Score": 9
         },
         {
          "Score": 3521
         },
         {
          "Score": 1
         },
         {
          "Score": 1
         },
         {
          "Score": 2
         },
         {
          "Score": 3
         },
         {
          "Score": 659
         },
         {
          "Score": 13
         },
         {
          "Score": 1
         },
         {
          "Score": 171
         },
         {
          "Score": 5
         },
         {
          "Score": 3
         },
         {
          "Score": 1
         },
         {
          "Score": 16
         },
         {
          "Score": 3
         },
         {
          "Score": 434
         },
         {
          "Score": 716
         },
         {
          "Score": 1
         },
         {
          "Score": 1
         },
         {
          "Score": 2
         },
         {
          "Score": 1
         },
         {
          "Score": 5
         },
         {
          "Score": 1
         },
         {
          "Score": 3
         },
         {
          "Score": 1
         },
         {
          "Score": 1
         },
         {
          "Score": 6
         },
         {
          "Score": 9
         },
         {
          "Score": 2
         },
         {
          "Score": 2
         },
         {
          "Score": 4
         },
         {
          "Score": 3
         },
         {
          "Score": 1
         },
         {
          "Score": 40
         },
         {
          "Score": 1
         },
         {
          "Score": 1
         },
         {
          "Score": 1
         },
         {
          "Score": 1
         },
         {
          "Score": 1
         },
         {
          "Score": 3
         },
         {
          "Score": 152
         },
         {
          "Score": 1
         },
         {
          "Score": 20
         },
         {
          "Score": 4
         },
         {
          "Score": 3
         },
         {
          "Score": 3
         },
         {
          "Score": 1
         },
         {
          "Score": 445
         },
         {
          "Score": 2
         },
         {
          "Score": 3
         },
         {
          "Score": 461
         },
         {
          "Score": 3
         },
         {
          "Score": 3
         },
         {
          "Score": 1
         },
         {
          "Score": 2
         },
         {
          "Score": 7
         },
         {
          "Score": 204
         },
         {
          "Score": 1
         },
         {
          "Score": 2
         },
         {
          "Score": 2
         },
         {
          "Score": 1
         },
         {
          "Score": 9
         },
         {
          "Score": 1
         },
         {
          "Score": 1080
         },
         {
          "Score": 16
         },
         {
          "Score": 11
         },
         {
          "Score": 169
         },
         {
          "Score": 8
         },
         {
          "Score": 3
         },
         {
          "Score": 13
         },
         {
          "Score": 3
         },
         {
          "Score": 1
         },
         {
          "Score": 5
         },
         {
          "Score": 2
         },
         {
          "Score": 32
         },
         {
          "Score": 10
         },
         {
          "Score": 739
         },
         {
          "Score": 324
         },
         {
          "Score": 2
         },
         {
          "Score": 4
         },
         {
          "Score": 16
         },
         {
          "Score": 0
         },
         {
          "Score": 9
         },
         {
          "Score": 9
         },
         {
          "Score": 5
         },
         {
          "Score": 7
         },
         {
          "Score": 1
         },
         {
          "Score": 2
         },
         {
          "Score": 4
         },
         {
          "Score": 6
         },
         {
          "Score": 2
         },
         {
          "Score": 1
         },
         {
          "Score": 7
         },
         {
          "Score": 14
         },
         {
          "Score": 3
         },
         {
          "Score": 417
         },
         {
          "Score": 2
         },
         {
          "Score": 81
         },
         {
          "Score": 2
         },
         {
          "Score": 30
         },
         {
          "Score": 2
         },
         {
          "Score": 57
         },
         {
          "Score": 1
         },
         {
          "Score": 7
         },
         {
          "Score": 1
         },
         {
          "Score": 2
         },
         {
          "Score": -2
         },
         {
          "Score": 7
         },
         {
          "Score": 12
         },
         {
          "Score": 1
         },
         {
          "Score": 3
         },
         {
          "Score": 2
         },
         {
          "Score": 30
         },
         {
          "Score": 2
         },
         {
          "Score": 176
         },
         {
          "Score": 13
         },
         {
          "Score": 111
         },
         {
          "Score": 1
         },
         {
          "Score": 662
         },
         {
          "Score": 5
         },
         {
          "Score": 4
         },
         {
          "Score": 1
         },
         {
          "Score": 40
         },
         {
          "Score": 52
         },
         {
          "Score": 12
         },
         {
          "Score": 100
         },
         {
          "Score": 37
         },
         {
          "Score": 54
         },
         {
          "Score": 6
         },
         {
          "Score": 23
         },
         {
          "Score": 2
         },
         {
          "Score": 37
         },
         {
          "Score": 48
         },
         {
          "Score": 39
         },
         {
          "Score": 6
         },
         {
          "Score": 249
         },
         {
          "Score": 113
         },
         {
          "Score": 13
         },
         {
          "Score": 1
         },
         {
          "Score": 20
         },
         {
          "Score": 260
         },
         {
          "Score": 1
         },
         {
          "Score": 12
         },
         {
          "Score": 1
         },
         {
          "Score": 7
         },
         {
          "Score": 1
         },
         {
          "Score": 6
         },
         {
          "Score": 68
         },
         {
          "Score": 1
         },
         {
          "Score": 2
         },
         {
          "Score": 1
         },
         {
          "Score": 35
         },
         {
          "Score": 4
         },
         {
          "Score": 4
         },
         {
          "Score": 7
         },
         {
          "Score": 6
         },
         {
          "Score": 6
         },
         {
          "Score": 5
         },
         {
          "Score": 53
         },
         {
          "Score": 3
         },
         {
          "Score": 18
         },
         {
          "Score": 1289
         },
         {
          "Score": 31
         },
         {
          "Score": 1
         },
         {
          "Score": 1
         },
         {
          "Score": 238
         },
         {
          "Score": 506
         },
         {
          "Score": 713
         },
         {
          "Score": 7
         },
         {
          "Score": 7
         },
         {
          "Score": 47
         },
         {
          "Score": 13
         },
         {
          "Score": 1
         },
         {
          "Score": 41
         },
         {
          "Score": 24
         },
         {
          "Score": 29
         },
         {
          "Score": 2
         },
         {
          "Score": 1
         },
         {
          "Score": 128
         },
         {
          "Score": 13
         },
         {
          "Score": 1
         },
         {
          "Score": -1
         },
         {
          "Score": 12
         },
         {
          "Score": 7
         },
         {
          "Score": 559
         },
         {
          "Score": 35
         },
         {
          "Score": 1
         },
         {
          "Score": 12
         },
         {
          "Score": 17
         },
         {
          "Score": 1
         },
         {
          "Score": 941
         },
         {
          "Score": 28
         },
         {
          "Score": 1
         },
         {
          "Score": 8
         },
         {
          "Score": 2
         },
         {
          "Score": 1072
         },
         {
          "Score": 4
         },
         {
          "Score": 517
         },
         {
          "Score": 806
         },
         {
          "Score": 5
         },
         {
          "Score": 28
         },
         {
          "Score": 936
         },
         {
          "Score": 28
         },
         {
          "Score": 8
         },
         {
          "Score": 60
         },
         {
          "Score": 21
         },
         {
          "Score": 1
         },
         {
          "Score": 257
         },
         {
          "Score": 173
         },
         {
          "Score": 14
         },
         {
          "Score": 3
         },
         {
          "Score": 2
         },
         {
          "Score": 87
         },
         {
          "Score": 3
         },
         {
          "Score": 7
         },
         {
          "Score": 60
         },
         {
          "Score": 236
         },
         {
          "Score": 3
         },
         {
          "Score": 166
         },
         {
          "Score": 28
         },
         {
          "Score": 151
         },
         {
          "Score": 81
         },
         {
          "Score": 4
         },
         {
          "Score": 1
         },
         {
          "Score": 33
         },
         {
          "Score": 2
         },
         {
          "Score": 20
         },
         {
          "Score": 436
         },
         {
          "Score": 1
         },
         {
          "Score": 344
         },
         {
          "Score": 77
         },
         {
          "Score": 208
         },
         {
          "Score": 46
         },
         {
          "Score": 2751
         },
         {
          "Score": 82
         },
         {
          "Score": 68
         },
         {
          "Score": 1091
         },
         {
          "Score": 7
         },
         {
          "Score": 19
         },
         {
          "Score": 5
         },
         {
          "Score": 2
         },
         {
          "Score": 26
         },
         {
          "Score": 13
         },
         {
          "Score": 2
         },
         {
          "Score": 274
         },
         {
          "Score": 551
         },
         {
          "Score": 1
         },
         {
          "Score": 4
         },
         {
          "Score": 3
         },
         {
          "Score": 3
         },
         {
          "Score": 290
         },
         {
          "Score": 9
         },
         {
          "Score": 99
         },
         {
          "Score": 1
         },
         {
          "Score": 90
         },
         {
          "Score": 271
         },
         {
          "Score": 151
         },
         {
          "Score": 815
         },
         {
          "Score": 10
         },
         {
          "Score": 4
         },
         {
          "Score": 21
         },
         {
          "Score": 17
         },
         {
          "Score": 2
         },
         {
          "Score": 106
         },
         {
          "Score": -4
         },
         {
          "Score": 4
         },
         {
          "Score": 30
         },
         {
          "Score": 3
         },
         {
          "Score": 3
         },
         {
          "Score": 107
         },
         {
          "Score": 16
         },
         {
          "Score": 3
         },
         {
          "Score": 4
         },
         {
          "Score": 62
         },
         {
          "Score": 25
         },
         {
          "Score": 44
         },
         {
          "Score": 188
         },
         {
          "Score": 96
         },
         {
          "Score": 1
         },
         {
          "Score": 321
         },
         {
          "Score": 339
         },
         {
          "Score": 3
         },
         {
          "Score": 112
         },
         {
          "Score": 7
         },
         {
          "Score": 190
         },
         {
          "Score": 5
         },
         {
          "Score": 9
         },
         {
          "Score": 145
         },
         {
          "Score": 728
         },
         {
          "Score": 7477
         },
         {
          "Score": 183
         },
         {
          "Score": 2
         },
         {
          "Score": 2367
         },
         {
          "Score": 6414
         },
         {
          "Score": 5
         },
         {
          "Score": 280
         },
         {
          "Score": 7
         },
         {
          "Score": 12
         },
         {
          "Score": 29
         },
         {
          "Score": 2
         },
         {
          "Score": 50
         },
         {
          "Score": -1
         },
         {
          "Score": 3
         },
         {
          "Score": 214
         },
         {
          "Score": 19
         },
         {
          "Score": 179
         },
         {
          "Score": 2
         },
         {
          "Score": 35
         },
         {
          "Score": 1
         },
         {
          "Score": 1438
         },
         {
          "Score": 2
         },
         {
          "Score": 17
         },
         {
          "Score": 1691
         },
         {
          "Score": 7
         },
         {
          "Score": 5626
         },
         {
          "Score": 23
         },
         {
          "Score": 825
         },
         {
          "Score": 241
         },
         {
          "Score": 21
         },
         {
          "Score": 8
         },
         {
          "Score": 9858
         },
         {
          "Score": 7
         },
         {
          "Score": 3918
         },
         {
          "Score": 41
         },
         {
          "Score": 93
         },
         {
          "Score": 129
         },
         {
          "Score": 122
         },
         {
          "Score": 1452
         },
         {
          "Score": 703
         },
         {
          "Score": 171
         },
         {
          "Score": 51
         },
         {
          "Score": 186
         },
         {
          "Score": 13
         },
         {
          "Score": 76
         },
         {
          "Score": 1
         },
         {
          "Score": 20
         },
         {
          "Score": 95
         },
         {
          "Score": 2
         },
         {
          "Score": 58
         },
         {
          "Score": 784
         },
         {
          "Score": 114
         },
         {
          "Score": 3
         },
         {
          "Score": 22
         },
         {
          "Score": 7673
         },
         {
          "Score": 7
         },
         {
          "Score": 67
         },
         {
          "Score": 691
         },
         {
          "Score": 6108
         },
         {
          "Score": -52
         },
         {
          "Score": 149
         },
         {
          "Score": 5604
         },
         {
          "Score": 13
         },
         {
          "Score": 1350
         },
         {
          "Score": 6819
         },
         {
          "Score": 8
         },
         {
          "Score": 4
         },
         {
          "Score": 26
         },
         {
          "Score": 8
         },
         {
          "Score": 25
         },
         {
          "Score": 1308
         },
         {
          "Score": 2664
         },
         {
          "Score": 5
         },
         {
          "Score": 49
         },
         {
          "Score": 3
         },
         {
          "Score": 39
         },
         {
          "Score": -39
         },
         {
          "Score": 14
         },
         {
          "Score": 24
         },
         {
          "Score": 5
         },
         {
          "Score": 3882
         },
         {
          "Score": 25
         },
         {
          "Score": 2
         },
         {
          "Score": 5
         },
         {
          "Score": 82
         },
         {
          "Score": 160
         },
         {
          "Score": 2
         },
         {
          "Score": 1
         },
         {
          "Score": 836
         },
         {
          "Score": 57
         },
         {
          "Score": 2
         },
         {
          "Score": 1003
         },
         {
          "Score": 65
         },
         {
          "Score": 15
         },
         {
          "Score": 562
         },
         {
          "Score": 1134
         },
         {
          "Score": 286
         },
         {
          "Score": 2
         },
         {
          "Score": 51
         }
        ],
        "data-ab0504601da57b20cb1da4deb9642c23": [
         {
          "Score": 2.290034611362518
         },
         {
          "Score": 4.044343734895107
         },
         {
          "Score": 2.161368002234975
         },
         {
          "Score": 4.367542273520577
         },
         {
          "Score": 3.1631613749770184
         },
         {
          "Score": 1.7993405494535817
         },
         {
          "Score": 0.9030899869919435
         },
         {
          "Score": 1.380211241711606
         },
         {
          "Score": 1.99563519459755
         },
         {
          "Score": 3.1604685311190375
         },
         {
          "Score": 2.7664128471123997
         },
         {
          "Score": 0
         },
         {
          "Score": 1.2304489213782739
         },
         {
          "Score": 3.041787318971752
         },
         {
          "Score": 1.5563025007672873
         },
         {
          "Score": 2.3443922736851106
         },
         {
          "Score": 4.401813957739848
         },
         {
          "Score": 0.47712125471966244
         },
         {
          "Score": 1.6232492903979006
         },
         {
          "Score": 2.7781512503836434
         },
         {
          "Score": 2.546542663478131
         },
         {
          "Score": 1.4471580313422192
         },
         {
          "Score": 0.8450980400142568
         },
         {
          "Score": 0.6020599913279624
         },
         {
          "Score": 2.419955748489758
         },
         {
          "Score": 0.3010299956639812
         },
         {
          "Score": 2.3783979009481375
         },
         {
          "Score": 2.0827853703164503
         },
         {
          "Score": 2.164352855784437
         },
         {
          "Score": 2.3443922736851106
         },
         {
          "Score": 1.954242509439325
         },
         {
          "Score": 2.537819095073274
         },
         {
          "Score": 2.6522463410033232
         },
         {
          "Score": 2.429752280002408
         },
         {
          "Score": 2.7774268223893115
         },
         {
          "Score": 4.257030248593287
         },
         {
          "Score": 2.0293837776852097
         },
         {
          "Score": 1.3424226808222062
         },
         {
          "Score": 3.015778756389041
         },
         {
          "Score": 3.09795107099415
         },
         {
          "Score": 1.7993405494535817
         },
         {
          "Score": 4.836513998890672
         },
         {
          "Score": 1.7075701760979363
         },
         {
          "Score": 1.5185139398778875
         },
         {
          "Score": 1.3617278360175928
         },
         {
          "Score": 0.8450980400142568
         },
         {
          "Score": 1.4771212547196624
         },
         {
          "Score": 2.3521825181113627
         },
         {
          "Score": 1.4471580313422192
         },
         {
          "Score": 2.6414741105040997
         },
         {
          "Score": 1.845098040014257
         },
         {
          "Score": 2.5646660642520893
         },
         {
          "Score": 1.1760912590556813
         },
         {
          "Score": 2.812244696800369
         },
         {
          "Score": 2.747411807886423
         },
         {
          "Score": 2.5428254269591797
         },
         {
          "Score": 1.954242509439325
         },
         {
          "Score": 2.7972675408307164
         },
         {
          "Score": 1.6334684555795864
         },
         {
          "Score": 0.47712125471966244
         },
         {
          "Score": 2.4265112613645754
         },
         {
          "Score": 2.6232492903979003
         },
         {
          "Score": 3.455758203104137
         },
         {
          "Score": 2.184691430817599
         },
         {
          "Score": 2.785329835010767
         },
         {
          "Score": 2.576341350205793
         },
         {
          "Score": 2.499687082618404
         },
         {
          "Score": 1.0413926851582251
         },
         {
          "Score": 0
         },
         {
          "Score": 2.4456042032735974
         },
         {
          "Score": 4.114010161703462
         },
         {
          "Score": 1.4771212547196624
         },
         {
          "Score": 2.330413773349191
         },
         {
          "Score": 2.4409090820652177
         },
         {
          "Score": 1.462397997898956
         },
         {
          "Score": 0.9030899869919435
         },
         {
          "Score": 2.0492180226701815
         },
         {
          "Score": 1.9084850188786497
         },
         {
          "Score": 1.5314789170422551
         },
         {
          "Score": 3.6147917919564176
         },
         {
          "Score": 2.951823035315912
         },
         {
          "Score": 1.8976270912904414
         },
         {
          "Score": 1.8325089127062364
         },
         {
          "Score": 4.518118947143153
         },
         {
          "Score": 2.8555191556678
         },
         {
          "Score": 2.1172712956557644
         },
         {
          "Score": 2.3201462861110542
         },
         {
          "Score": 1.6532125137753437
         },
         {
          "Score": 3.0025979807199086
         },
         {
          "Score": 2.905256048748451
         },
         {
          "Score": 1.8260748027008264
         },
         {
          "Score": 2.846337112129805
         },
         {
          "Score": 3.6993173010213822
         },
         {
          "Score": 1.7075701760979363
         },
         {
          "Score": 2.621176281775035
         },
         {
          "Score": 2.437750562820388
         },
         {
          "Score": 2.1398790864012365
         },
         {
          "Score": 2.285557309007774
         },
         {
          "Score": 2.380211241711606
         },
         {
          "Score": 3.6196150057428063
         },
         {
          "Score": 1.6127838567197355
         },
         {
          "Score": 2.0681858617461617
         },
         {
          "Score": 2.294466226161593
         },
         {
          "Score": 2.225309281725863
         },
         {
          "Score": 2.5550944485783194
         },
         {
          "Score": 3.467756051244033
         },
         {
          "Score": 2.5490032620257876
         },
         {
          "Score": 2.724275869600789
         },
         {
          "Score": 2.292256071356476
         },
         {
          "Score": 4.398374086151356
         },
         {
          "Score": 2.760422483423212
         },
         {
          "Score": 4.282168778304642
         },
         {
          "Score": 2.781755374652469
         },
         {
          "Score": 3.146128035678238
         },
         {
          "Score": 2.9283958522567137
         },
         {
          "Score": 1.7558748556724915
         },
         {
          "Score": 2.725094521081469
         },
         {
          "Score": 3.4951278812429334
         },
         {
          "Score": 0
         },
         {
          "Score": 2.5646660642520893
         },
         {
          "Score": 3.0115704435972783
         },
         {
          "Score": 1.9344984512435677
         },
         {
          "Score": 2.494154594018443
         },
         {
          "Score": 3.315550534421905
         },
         {
          "Score": 3.1112625136590655
         },
         {
          "Score": 1.724275869600789
         },
         {
          "Score": 3.66228551572213
         },
         {
          "Score": 2.2121876044039577
         },
         {
          "Score": 2.45484486000851
         },
         {
          "Score": 3.116275587580544
         },
         {
          "Score": 3.2076343673889616
         },
         {
          "Score": 3.4260230156898763
         },
         {
          "Score": 2.305351369446624
         },
         {
          "Score": 0
         },
         {
          "Score": 2.123851640967086
         },
         {
          "Score": 0.8450980400142568
         },
         {
          "Score": 2.187520720836463
         },
         {
          "Score": 3.599992177584098
         },
         {
          "Score": 3.2895889525425965
         },
         {
          "Score": 2.3201462861110542
         },
         {
          "Score": 0.6020599913279624
         },
         {
          "Score": 4.441333727689481
         },
         {
          "Score": 2.6242820958356683
         },
         {
          "Score": 3.182129214052998
         },
         {
          "Score": 3.074816440645175
         },
         {
          "Score": 2.7234556720351857
         },
         {
          "Score": 1.5440680443502757
         },
         {
          "Score": 3.0770043267933502
         },
         {
          "Score": 1.9344984512435677
         },
         {
          "Score": 2.69196510276736
         },
         {
          "Score": 4.102947968005374
         },
         {
          "Score": 1.7853298350107671
         },
         {
          "Score": 1.6720978579357175
         },
         {
          "Score": 2.7007037171450192
         },
         {
          "Score": 3.766115283221414
         },
         {
          "Score": 3.04493154614916
         },
         {
          "Score": 3.6981005456233897
         },
         {
          "Score": 2.3729120029701067
         },
         {
          "Score": 2.6522463410033232
         },
         {
          "Score": 2.510545010206612
         },
         {
          "Score": 2.3820170425748683
         },
         {
          "Score": 1.8864907251724818
         },
         {
          "Score": 1.6989700043360187
         },
         {
          "Score": 2.6580113966571126
         },
         {
          "Score": 1.8573324964312685
         },
         {
          "Score": 2.469822015978163
         },
         {
          "Score": 3.8523579836678272
         },
         {
          "Score": 2.716003343634799
         },
         {
          "Score": 2.7788744720027396
         },
         {
          "Score": 2.9003671286564705
         },
         {
          "Score": 2.1335389083702174
         },
         {
          "Score": 3.580696939712437
         },
         {
          "Score": 1.6989700043360187
         },
         {
          "Score": 4.010893313104381
         },
         {
          "Score": 2.4756711883244296
         },
         {
          "Score": 3.2709116394104814
         },
         {
          "Score": 2.3483048630481607
         },
         {
          "Score": 0
         },
         {
          "Score": 1.591064607026499
         },
         {
          "Score": 3.3961993470957363
         },
         {
          "Score": 2.6263403673750423
         },
         {
          "Score": 2.2355284469075487
         },
         {
          "Score": 1.9590413923210936
         },
         {
          "Score": 3.3740147402919116
         },
         {
          "Score": 2.359835482339888
         },
         {
          "Score": 2.4456042032735974
         },
         {
          "Score": 1.792391689498254
         },
         {
          "Score": 3.0729847446279304
         },
         {
          "Score": 1.9493900066449128
         },
         {
          "Score": 2.143014800254095
         },
         {
          "Score": 3.719911064198339
         },
         {
          "Score": 3.0557604646877348
         },
         {
          "Score": 2.5118833609788744
         },
         {
          "Score": 3.1958996524092336
         },
         {
          "Score": 2.7315887651867388
         },
         {
          "Score": 1.3979400086720377
         },
         {
          "Score": 3.4929000111087034
         },
         {
          "Score": 2.6794278966121188
         },
         {
          "Score": 0
         },
         {
          "Score": 2.9740509027928774
         },
         {
          "Score": 1.5185139398778875
         },
         {
          "Score": 2.322219294733919
         },
         {
          "Score": 2.0791812460476247
         },
         {
          "Score": 2.7234556720351857
         },
         {
          "Score": 3.1007150865730817
         },
         {
          "Score": 2.2174839442139063
         },
         {
          "Score": 2.342422680822206
         },
         {
          "Score": 2.423245873936808
         },
         {
          "Score": 2.797959643737196
         },
         {
          "Score": 1.6532125137753437
         },
         {
          "Score": 2.0492180226701815
         },
         {
          "Score": 3.1166077439882485
         },
         {
          "Score": 3.1903316981702914
         },
         {
          "Score": 2.303196057420489
         },
         {
          "Score": 2.4927603890268375
         },
         {
          "Score": 3.4531653925258574
         },
         {
          "Score": 3.481299273332856
         },
         {
          "Score": 2.9079485216122722
         },
         {
          "Score": 0.8450980400142568
         },
         {
          "Score": 2.1522883443830563
         },
         {
          "Score": 3.8430458105345693
         },
         {
          "Score": 2.649334858712142
         },
         {
          "Score": 0.6020599913279624
         },
         {
          "Score": 2.3324384599156054
         },
         {
          "Score": 1.9084850188786497
         },
         {
          "Score": 1.8750612633917
         },
         {
          "Score": 3.5388249889379035
         },
         {
          "Score": 3.488973524726508
         },
         {
          "Score": 4.148972634509205
         },
         {
          "Score": 2.537819095073274
         },
         {
          "Score": 1.6901960800285136
         },
         {
          "Score": 2.2278867046136734
         },
         {
          "Score": 2.6263403673750423
         },
         {
          "Score": 1.9637878273455553
         },
         {
          "Score": 2.798650645445269
         },
         {
          "Score": 2.4183012913197452
         },
         {
          "Score": 1.2304489213782739
         },
         {
          "Score": 2.847572659142112
         },
         {
          "Score": 2.667452952889954
         },
         {
          "Score": 2.694605198933569
         },
         {
          "Score": 2.48572142648158
         },
         {
          "Score": 3.930031614950973
         },
         {
          "Score": 0
         },
         {
          "Score": 2.826722520168992
         },
         {
          "Score": 2.167317334748176
         },
         {
          "Score": 0.3010299956639812
         },
         {
          "Score": 2.342422680822206
         },
         {
          "Score": 0
         },
         {
          "Score": 3.412124406173317
         },
         {
          "Score": 1.380211241711606
         },
         {
          "Score": 2.2430380486862944
         },
         {
          "Score": 4.306703744429641
         },
         {
          "Score": 3.671913012441587
         },
         {
          "Score": 2.456366033129043
         },
         {
          "Score": 2.711807229041191
         },
         {
          "Score": 2.290034611362518
         },
         {
          "Score": 1.6989700043360187
         },
         {
          "Score": 2.0644579892269186
         },
         {
          "Score": 3.3364597338485296
         },
         {
          "Score": 3.5571461423183632
         },
         {
          "Score": 1.3222192947339193
         },
         {
          "Score": 2.4668676203541096
         },
         {
          "Score": 0
         },
         {
          "Score": 3.071513805095089
         },
         {
          "Score": 0
         },
         {
          "Score": 2.786041210242554
         },
         {
          "Score": 0
         },
         {
          "Score": 3.827821427682802
         },
         {
          "Score": 0.3010299956639812
         },
         {
          "Score": 0.6020599913279624
         },
         {
          "Score": 2.2380461031287955
         },
         {
          "Score": 1.919078092376074
         },
         {
          "Score": 3.1283992687178066
         },
         {
          "Score": 3.954724790979063
         },
         {
          "Score": 2.3710678622717363
         },
         {
          "Score": 3.04493154614916
         },
         {
          "Score": 1.3617278360175928
         },
         {
          "Score": 3.4881274962474587
         },
         {
          "Score": 3.51241754860084
         },
         {
          "Score": 3.185542154854375
         },
         {
          "Score": 2.9273703630390235
         },
         {
          "Score": 1.4313637641589874
         },
         {
          "Score": 2.462397997898956
         },
         {
          "Score": 1.8129133566428555
         },
         {
          "Score": 2.767897616018091
         },
         {
          "Score": 2.7867514221455614
         },
         {
          "Score": 2.635483746814912
         },
         {
          "Score": 1.568201724066995
         },
         {
          "Score": 2.484299839346786
         },
         {
          "Score": 2.905256048748451
         },
         {
          "Score": 0.6020599913279624
         },
         {
          "Score": 0
         },
         {
          "Score": 2.4183012913197452
         },
         {
          "Score": 3.2581581933407944
         },
         {
          "Score": 3.5009222391903005
         },
         {
          "Score": 2.667452952889954
         },
         {
          "Score": 1.7634279935629373
         },
         {
          "Score": 2.1492191126553797
         },
         {
          "Score": 2.481442628502305
         },
         {
          "Score": 3.6053050461411096
         },
         {
          "Score": 3.5550944485783194
         },
         {
          "Score": 1.0791812460476249
         },
         {
          "Score": 3.12057393120585
         },
         {
          "Score": 1.7323937598229686
         },
         {
          "Score": 1.4471580313422192
         },
         {
          "Score": 1.9030899869919435
         },
         {
          "Score": 2.2624510897304293
         },
         {
          "Score": 1.8573324964312685
         },
         {
          "Score": 2.6655809910179533
         },
         {
          "Score": 2.100370545117563
         },
         {
          "Score": 2.954724790979063
         },
         {
          "Score": 3.336859820916809
         },
         {
          "Score": 3.2702128548962426
         },
         {
          "Score": 2.56702636615906
         },
         {
          "Score": 0
         },
         {
          "Score": 3.3841741388070337
         },
         {
          "Score": 1.505149978319906
         },
         {
          "Score": 2.9614210940664485
         },
         {
          "Score": 0.47712125471966244
         },
         {
          "Score": 1.6434526764861874
         },
         {
          "Score": 1.4313637641589874
         },
         {
          "Score": 3.298853076409707
         },
         {
          "Score": 3.0674428427763805
         },
         {
          "Score": 3.8029104894190398
         },
         {
          "Score": 2.848189116991399
         },
         {
          "Score": 1
         },
         {
          "Score": 2.8767949762007006
         },
         {
          "Score": 1.6989700043360187
         },
         {
          "Score": 2.7307822756663893
         },
         {
          "Score": 2.330413773349191
         },
         {
          "Score": 3.3723595825243238
         },
         {
          "Score": 1.2787536009528289
         },
         {
          "Score": 3.146128035678238
         },
         {
          "Score": 2.012837224705172
         },
         {
          "Score": 2.91539983521227
         },
         {
          "Score": 2.5352941200427703
         },
         {
          "Score": 2.673941998634088
         },
         {
          "Score": 3.342620042553348
         },
         {
          "Score": 2.0293837776852097
         },
         {
          "Score": 4.1541195255158465
         },
         {
          "Score": 3.48826861549546
         },
         {
          "Score": 3.681241237375587
         },
         {
          "Score": 0.9542425094393249
         },
         {
          "Score": 2.278753600952829
         },
         {
          "Score": 2.5428254269591797
         },
         {
          "Score": 2.3820170425748683
         },
         {
          "Score": 3.2367890994092927
         },
         {
          "Score": 2.093421685162235
         },
         {
          "Score": 1.3424226808222062
         },
         {
          "Score": 2.5171958979499744
         },
         {
          "Score": 1.7075701760979363
         },
         {
          "Score": 3.35237549500052
         },
         {
          "Score": 2.7664128471123997
         },
         {
          "Score": 1.5563025007672873
         },
         {
          "Score": 3.4299136977637543
         },
         {
          "Score": 3.141763230275788
         },
         {
          "Score": 1.7160033436347992
         },
         {
          "Score": 2.403120521175818
         },
         {
          "Score": 0.3010299956639812
         },
         {
          "Score": 2.611723308007342
         },
         {
          "Score": 3.3919930722597127
         },
         {
          "Score": 2.6981005456233897
         },
         {
          "Score": 3.7117228918272347
         },
         {
          "Score": 3.094471128641645
         },
         {
          "Score": 4.058350092210653
         },
         {
          "Score": 1.255272505103306
         },
         {
          "Score": 1.568201724066995
         },
         {
          "Score": 5.007107382974057
         },
         {
          "Score": 2.6201360549737576
         },
         {
          "Score": 2.662757831681574
         },
         {
          "Score": 4.4822302372089675
         },
         {
          "Score": 0.9542425094393249
         },
         {
          "Score": 1.2304489213782739
         },
         {
          "Score": 3.132579847659737
         },
         {
          "Score": 1.8195439355418688
         },
         {
          "Score": 3.012415374762433
         },
         {
          "Score": 2.526339277389844
         },
         {
          "Score": 3.0523090996473234
         },
         {
          "Score": 1.4471580313422192
         },
         {
          "Score": 2.957607287060095
         },
         {
          "Score": 1.7075701760979363
         },
         {
          "Score": 1.0791812460476249
         },
         {
          "Score": 1.8808135922807914
         },
         {
          "Score": 0
         },
         {
          "Score": 2.1986570869544226
         },
         {
          "Score": 2.5428254269591797
         },
         {
          "Score": 2.2278867046136734
         },
         {
          "Score": 1.255272505103306
         },
         {
          "Score": 3.7798849631926443
         },
         {
          "Score": 1.4771212547196624
         },
         {
          "Score": 3.404320467221731
         },
         {
          "Score": 0
         },
         {
          "Score": 2.1986570869544226
         },
         {
          "Score": 2.4742162640762553
         },
         {
          "Score": 2.722633922533812
         },
         {
          "Score": 4.014604533436051
         },
         {
          "Score": 1.806179973983887
         },
         {
          "Score": 2.2695129442179165
         },
         {
          "Score": 2.929929560084588
         },
         {
          "Score": 1.9294189257142926
         },
         {
          "Score": 3.0637085593914173
         },
         {
          "Score": 2.637489729512511
         },
         {
          "Score": 0.9030899869919435
         },
         {
          "Score": 1.8325089127062364
         },
         {
          "Score": 2.7075701760979363
         },
         {
          "Score": 2.2405492482826
         },
         {
          "Score": 2.7481880270062002
         },
         {
          "Score": 3.256717745977487
         },
         {
          "Score": 2.828015064223977
         },
         {
          "Score": 2.342422680822206
         },
         {
          "Score": 2.60422605308447
         },
         {
          "Score": 3.824776462475546
         },
         {
          "Score": 2.3483048630481607
         },
         {
          "Score": 1.7481880270062005
         },
         {
          "Score": 1.7634279935629373
         },
         {
          "Score": 1.4313637641589874
         },
         {
          "Score": 2.8976270912904414
         },
         {
          "Score": 1.9912260756924949
         },
         {
          "Score": 3.03261876085072
         },
         {
          "Score": 2.1760912590556813
         },
         {
          "Score": 1.7993405494535817
         },
         {
          "Score": 2.376576957056512
         },
         {
          "Score": 1.5440680443502757
         },
         {
          "Score": 3.503109436671369
         },
         {
          "Score": 2.6314437690131722
         },
         {
          "Score": 3.517855418930029
         },
         {
          "Score": 2.2695129442179165
         },
         {
          "Score": 3.048053173115609
         },
         {
          "Score": 2.595496221825574
         },
         {
          "Score": 4.0239106063509205
         },
         {
          "Score": 1.7558748556724915
         },
         {
          "Score": 3.5066403055665023
         },
         {
          "Score": 2.303196057420489
         },
         {
          "Score": 2.9647309210536292
         },
         {
          "Score": 3.153204900084284
         },
         {
          "Score": 1.6901960800285136
         },
         {
          "Score": 2.9703468762300935
         },
         {
          "Score": 2.0043213737826426
         },
         {
          "Score": 2.6009728956867484
         },
         {
          "Score": 2.2430380486862944
         },
         {
          "Score": 2.2355284469075487
         },
         {
          "Score": 2.708420900134713
         },
         {
          "Score": 3.7614767795447017
         },
         {
          "Score": 3.3483048630481607
         },
         {
          "Score": 1.7634279935629373
         },
         {
          "Score": 1.9395192526186185
         },
         {
          "Score": 2.342422680822206
         },
         {
          "Score": 1.8388490907372552
         },
         {
          "Score": 1.5440680443502757
         },
         {
          "Score": 2.255272505103306
         },
         {
          "Score": 2.8221680793680175
         },
         {
          "Score": 3.591621038213319
         },
         {
          "Score": 3.2234959409623944
         },
         {
          "Score": 1.806179973983887
         },
         {
          "Score": 2.44870631990508
         },
         {
          "Score": 2.537819095073274
         },
         {
          "Score": 3.128722284338427
         },
         {
          "Score": 3.5624118329497274
         },
         {
          "Score": 3.991801798844644
         },
         {
          "Score": 3.8188195075475364
         },
         {
          "Score": 2.9885589568786157
         },
         {
          "Score": 2.0791812460476247
         },
         {
          "Score": 1.255272505103306
         },
         {
          "Score": 3.0203612826477078
         },
         {
          "Score": 2.8068580295188172
         },
         {
          "Score": 3.5098742850047193
         },
         {
          "Score": 3.519827993775719
         },
         {
          "Score": 2.2600713879850747
         },
         {
          "Score": 2.622214022966295
         },
         {
          "Score": 3.5220528008688223
         },
         {
          "Score": 1.462397997898956
         },
         {
          "Score": 1.7993405494535817
         },
         {
          "Score": 2.673941998634088
         },
         {
          "Score": 2.5403294747908736
         },
         {
          "Score": 2.90687353472207
         },
         {
          "Score": 2.683947130751512
         },
         {
          "Score": 1.7853298350107671
         },
         {
          "Score": 1.9731278535996986
         },
         {
          "Score": 2.503790683057181
         },
         {
          "Score": 3.090258052931316
         },
         {
          "Score": 3.4158077276355434
         },
         {
          "Score": 2.484299839346786
         },
         {
          "Score": 2.890421018800914
         },
         {
          "Score": 4.422507765868076
         },
         {
          "Score": 2.7032913781186614
         },
         {
          "Score": 3.615002614524588
         },
         {
          "Score": 4.205664407371687
         },
         {
          "Score": 2.255272505103306
         },
         {
          "Score": 2.3729120029701067
         },
         {
          "Score": 3.090610707828407
         },
         {
          "Score": 2.230448921378274
         },
         {
          "Score": 2.24551266781415
         },
         {
          "Score": 2.8609366207000937
         },
         {
          "Score": 2.298853076409707
         },
         {
          "Score": 3.389343311252078
         },
         {
          "Score": 2.294466226161593
         },
         {
          "Score": 3.4881274962474587
         },
         {
          "Score": 2.667452952889954
         },
         {
          "Score": 2.450249108319361
         },
         {
          "Score": 2.4727564493172123
         },
         {
          "Score": 2.7015679850559273
         },
         {
          "Score": 3.6044420662607233
         },
         {
          "Score": 1.1139433523068367
         },
         {
          "Score": 1
         },
         {
          "Score": 3.539327063539375
         },
         {
          "Score": 2.6414741105040997
         },
         {
          "Score": 0.47712125471966244
         },
         {
          "Score": 2.552668216112193
         },
         {
          "Score": 2.7693773260761385
         },
         {
          "Score": 1.4313637641589874
         },
         {
          "Score": 1.7323937598229686
         },
         {
          "Score": 2.3502480183341627
         },
         {
          "Score": 2.8756399370041685
         },
         {
          "Score": 3.4930395883176515
         },
         {
          "Score": 3.7331169814420644
         },
         {
          "Score": 2.8195439355418688
         },
         {
          "Score": 2.6273658565927325
         },
         {
          "Score": 2.2380461031287955
         },
         {
          "Score": 2.6434526764861874
         },
         {
          "Score": 1.9344984512435677
         },
         {
          "Score": 1.6020599913279623
         },
         {
          "Score": 2.718501688867274
         },
         {
          "Score": 2.2278867046136734
         },
         {
          "Score": 3.591064607026499
         },
         {
          "Score": 3.0941215958405612
         },
         {
          "Score": 1.0413926851582251
         },
         {
          "Score": 2.2174839442139063
         },
         {
          "Score": 0
         },
         {
          "Score": 3.8396665568824333
         },
         {
          "Score": 1.2304489213782739
         },
         {
          "Score": 2.45178643552429
         },
         {
          "Score": 2.406540180433955
         },
         {
          "Score": 1.7634279935629373
         },
         {
          "Score": 2.8536982117761744
         },
         {
          "Score": 2.6444385894678386
         },
         {
          "Score": 2.369215857410143
         },
         {
          "Score": 4.47093943756505
         },
         {
          "Score": 1.414973347970818
         },
         {
          "Score": 2.519827993775719
         },
         {
          "Score": 2.1958996524092336
         },
         {
          "Score": 3.520483532740792
         },
         {
          "Score": 2.385606273598312
         },
         {
          "Score": 3.53198955141255
         },
         {
          "Score": 3.412124406173317
         },
         {
          "Score": 2.123851640967086
         },
         {
          "Score": 3.3723595825243238
         },
         {
          "Score": 3.733598460961339
         },
         {
          "Score": 1.6532125137753437
         },
         {
          "Score": 2.8543060418010806
         },
         {
          "Score": 1.6720978579357175
         },
         {
          "Score": 4.162564406523019
         },
         {
          "Score": 3.12057393120585
         },
         {
          "Score": 2.6570558528571038
         },
         {
          "Score": 3.128722284338427
         },
         {
          "Score": 4.045479453110779
         },
         {
          "Score": 1.7993405494535817
         },
         {
          "Score": 1.724275869600789
         },
         {
          "Score": 3.3248994970523134
         },
         {
          "Score": 1.806179973983887
         },
         {
          "Score": 3.296884475538547
         },
         {
          "Score": 3.956552591917399
         },
         {
          "Score": 0
         },
         {
          "Score": 3.1405080430381798
         },
         {
          "Score": 2.357934847000454
         },
         {
          "Score": 2.0569048513364727
         },
         {
          "Score": 3.103461622094705
         },
         {
          "Score": 3.8289175616166857
         },
         {
          "Score": 2.597695185925512
         },
         {
          "Score": 2.5428254269591797
         },
         {
          "Score": 1.568201724066995
         },
         {
          "Score": 2.514547752660286
         },
         {
          "Score": 3.248463717551032
         },
         {
          "Score": 2.093421685162235
         },
         {
          "Score": 2.6074550232146687
         },
         {
          "Score": 3.050379756261458
         },
         {
          "Score": 3.0515383905153275
         },
         {
          "Score": 4.225980884579592
         },
         {
          "Score": 0
         },
         {
          "Score": 2.56702636615906
         },
         {
          "Score": 2.850033257689769
         },
         {
          "Score": 1.414973347970818
         },
         {
          "Score": 2.5921767573958667
         },
         {
          "Score": 2.6344772701607315
         },
         {
          "Score": 2.161368002234975
         },
         {
          "Score": 3.475380593143361
         },
         {
          "Score": 3.668572269184558
         },
         {
          "Score": 2.705007959333336
         },
         {
          "Score": 2.4756711883244296
         },
         {
          "Score": 3.180125875164054
         },
         {
          "Score": 3.1058506743851435
         },
         {
          "Score": 3.5569052690554477
         },
         {
          "Score": 3.3818367999983434
         },
         {
          "Score": 3.1370374547895126
         },
         {
          "Score": 3.0211892990699383
         },
         {
          "Score": 3.582744965691277
         },
         {
          "Score": 3.4154741681092355
         },
         {
          "Score": 3.0580462303952816
         },
         {
          "Score": 3.258876629372131
         },
         {
          "Score": 2.1818435879447726
         },
         {
          "Score": 3.7937205568135233
         },
         {
          "Score": 2.8095597146352675
         },
         {
          "Score": 2.6180480967120925
         },
         {
          "Score": 0.9030899869919435
         },
         {
          "Score": 2.113943352306837
         },
         {
          "Score": 3.284205067701794
         },
         {
          "Score": 3.867820908045573
         },
         {
          "Score": 0.9542425094393249
         },
         {
          "Score": 3.3443922736851106
         },
         {
          "Score": 1.6434526764861874
         },
         {
          "Score": 2.2624510897304293
         },
         {
          "Score": 2.45178643552429
         },
         {
          "Score": 1.1760912590556813
         },
         {
          "Score": 3.2390490931401916
         },
         {
          "Score": 3.9776321652459994
         },
         {
          "Score": 3.0663259253620376
         },
         {
          "Score": 2.751279103983342
         },
         {
          "Score": 3.691169934131604
         },
         {
          "Score": 2.5998830720736876
         },
         {
          "Score": 3.638289535414257
         },
         {
          "Score": 2.2329961103921536
         },
         {
          "Score": 2.8109042806687006
         },
         {
          "Score": 2.683947130751512
         },
         {
          "Score": 3.1398790864012365
         },
         {
          "Score": 0
         },
         {
          "Score": 1.792391689498254
         },
         {
          "Score": 3.2420442393695508
         },
         {
          "Score": 2.658964842664435
         },
         {
          "Score": 2.9854264740830017
         },
         {
          "Score": 3.6118294794983736
         },
         {
          "Score": 1.0413926851582251
         },
         {
          "Score": 3.1405080430381798
         },
         {
          "Score": 2.1367205671564067
         },
         {
          "Score": 3.7218106152125467
         },
         {
          "Score": 3.26030994579492
         },
         {
          "Score": 2.2671717284030137
         },
         {
          "Score": 1.9590413923210936
         },
         {
          "Score": 2.8488047010518036
         },
         {
          "Score": 3.4583356259919475
         },
         {
          "Score": 3.847634344318255
         },
         {
          "Score": 2.824125833916549
         },
         {
          "Score": 1.5563025007672873
         },
         {
          "Score": 2.8981764834976764
         },
         {
          "Score": 3.5043349118024643
         },
         {
          "Score": 4.215373152783422
         },
         {
          "Score": 3.5748411950633847
         },
         {
          "Score": 3.1838390370564214
         },
         {
          "Score": 2.951337518795918
         },
         {
          "Score": 3.994976673649691
         },
         {
          "Score": 3.46014581749175
         },
         {
          "Score": 3.422917980767662
         },
         {
          "Score": 3.754806855354423
         },
         {
          "Score": 0
         },
         {
          "Score": 1.0791812460476249
         },
         {
          "Score": 1.7708520116421442
         },
         {
          "Score": 1.863322860120456
         },
         {
          "Score": 1.9731278535996986
         },
         {
          "Score": 3.1550322287909704
         },
         {
          "Score": 3.0187004986662433
         },
         {
          "Score": 2.5352941200427703
         },
         {
          "Score": 2.342422680822206
         },
         {
          "Score": 3.326949994165999
         },
         {
          "Score": 2.546542663478131
         },
         {
          "Score": 2.525044807036845
         },
         {
          "Score": 2.0827853703164503
         },
         {
          "Score": 3.643945912748067
         },
         {
          "Score": 4.026247181477774
         },
         {
          "Score": 1.0791812460476249
         },
         {
          "Score": 2.4265112613645754
         },
         {
          "Score": 2.255272505103306
         },
         {
          "Score": 3.3944516808262164
         },
         {
          "Score": 2.5538830266438746
         },
         {
          "Score": 3.0199466816788423
         },
         {
          "Score": 4.282939165754773
         },
         {
          "Score": 2.833147111912785
         },
         {
          "Score": 1.6989700043360187
         },
         {
          "Score": 3.47158505418519
         },
         {
          "Score": 2.558708570533166
         },
         {
          "Score": 3.9148189804474733
         },
         {
          "Score": 2.7075701760979363
         },
         {
          "Score": 2.9561684304753633
         },
         {
          "Score": 3.1772478362556233
         },
         {
          "Score": 1.662757831681574
         },
         {
          "Score": 1.255272505103306
         },
         {
          "Score": 3.358886204405869
         },
         {
          "Score": 1.146128035678238
         },
         {
          "Score": 3.4879863311293935
         },
         {
          "Score": 2.6009728956867484
         },
         {
          "Score": 2.6848453616444123
         },
         {
          "Score": 2.885926339801431
         },
         {
          "Score": 3.41161970596323
         },
         {
          "Score": 3.0224283711854865
         },
         {
          "Score": 3.0081741840064264
         },
         {
          "Score": 3.590395947184013
         },
         {
          "Score": 3.469822015978163
         },
         {
          "Score": 3.410608542568368
         },
         {
          "Score": 3.65263306808311
         },
         {
          "Score": 2.90687353472207
         },
         {
          "Score": 2.850033257689769
         },
         {
          "Score": 2.7489628612561616
         },
         {
          "Score": 3.631545227834309
         },
         {
          "Score": 4.459558332454132
         },
         {
          "Score": 3.444044795918076
         },
         {
          "Score": 3.114610984232173
         },
         {
          "Score": 4.085004999076652
         },
         {
          "Score": 3.7708520116421442
         },
         {
          "Score": 3.745309059940828
         },
         {
          "Score": 4.022552084185014
         },
         {
          "Score": 1.0791812460476249
         },
         {
          "Score": 4.189827063120662
         },
         {
          "Score": 3.0034605321095067
         },
         {
          "Score": 2.8767949762007006
         },
         {
          "Score": 3.219846386024361
         },
         {
          "Score": 3.3554515201265174
         },
         {
          "Score": 0.3010299956639812
         },
         {
          "Score": 3.0542299098633974
         },
         {
          "Score": 2.3096301674258988
         },
         {
          "Score": 2.2600713879850747
         },
         {
          "Score": 3.99947853367931
         },
         {
          "Score": 0.3010299956639812
         },
         {
          "Score": 3.117602691690084
         },
         {
          "Score": 2.9618954736678504
         },
         {
          "Score": 3.490800952010855
         },
         {
          "Score": 2.803457115648414
         },
         {
          "Score": 1.6020599913279623
         },
         {
          "Score": 3.039017321997412
         },
         {
          "Score": 3.210318519826232
         },
         {
          "Score": 4.147274299911842
         },
         {
          "Score": 3.6250036010148636
         },
         {
          "Score": 1.7634279935629373
         },
         {
          "Score": 2.591064607026499
         },
         {
          "Score": 3.9709044981537835
         },
         {
          "Score": 3.412460547429961
         },
         {
          "Score": 3.279894980011638
         },
         {
          "Score": 3.5650209283452936
         },
         {
          "Score": 2.530199698203082
         },
         {
          "Score": 3.402089350572097
         },
         {
          "Score": 1.8692317197309762
         },
         {
          "Score": 2.561101383649056
         },
         {
          "Score": 2.5211380837040362
         },
         {
          "Score": 2.791690649020118
         },
         {
          "Score": 0
         },
         {
          "Score": 2.4756711883244296
         },
         {
          "Score": 3.8025684983139563
         },
         {
          "Score": 2.832508912706236
         },
         {
          "Score": 3.508798965403905
         },
         {
          "Score": 2.694605198933569
         },
         {
          "Score": 3.339053735709139
         },
         {
          "Score": 3.808210972924222
         },
         {
          "Score": 1.7075701760979363
         },
         {
          "Score": 3.1562461903973444
         },
         {
          "Score": 2.428134794028789
         },
         {
          "Score": 4.132867788319085
         },
         {
          "Score": 2.5440680443502757
         },
         {
          "Score": 3.0318122713303706
         },
         {
          "Score": 2.9355072658247128
         },
         {
          "Score": 3.353723937588949
         },
         {
          "Score": 4.101472117000238
         },
         {
          "Score": 3.714916247993585
         },
         {
          "Score": 3.216957207361097
         },
         {
          "Score": 3.511214701136388
         },
         {
          "Score": 1.6989700043360187
         },
         {
          "Score": 1.4471580313422192
         },
         {
          "Score": 3.3712526291249394
         },
         {
          "Score": 2.552668216112193
         },
         {
          "Score": 3.130333768495006
         },
         {
          "Score": 3.7730546933642626
         },
         {
          "Score": 3.1702617153949575
         },
         {
          "Score": 2.561101383649056
         },
         {
          "Score": 2.7168377232995247
         },
         {
          "Score": 1.4771212547196624
         },
         {
          "Score": 2.2329961103921536
         },
         {
          "Score": 3.3191060593097763
         },
         {
          "Score": 2.456366033129043
         },
         {
          "Score": 2.989004615698537
         },
         {
          "Score": 3.422589839851482
         },
         {
          "Score": 3.694605198933569
         },
         {
          "Score": 0
         },
         {
          "Score": 3.4895366294820955
         },
         {
          "Score": 2.7505083948513462
         },
         {
          "Score": 2.5943925503754266
         },
         {
          "Score": 3.149527013754348
         },
         {
          "Score": 2.9595183769729982
         },
         {
          "Score": 2.821513528404773
         },
         {
          "Score": 2.9273703630390235
         },
         {
          "Score": 3.726808682524964
         },
         {
          "Score": 2.8318697742805017
         },
         {
          "Score": 2.2355284469075487
         },
         {
          "Score": 0
         },
         {
          "Score": 0
         },
         {
          "Score": 2.829946695941636
         },
         {
          "Score": 1.414973347970818
         },
         {
          "Score": 4.261904911837202
         },
         {
          "Score": 2.8627275283179747
         },
         {
          "Score": 1.8325089127062364
         },
         {
          "Score": 1.380211241711606
         },
         {
          "Score": 3.555698894718901
         },
         {
          "Score": 1.863322860120456
         },
         {
          "Score": 2.931457870689005
         },
         {
          "Score": 3.3102683666324477
         },
         {
          "Score": 2.7151673578484576
         },
         {
          "Score": 2.949877704036875
         },
         {
          "Score": 2.6483600109809315
         },
         {
          "Score": 2.2671717284030137
         },
         {
          "Score": 0
         },
         {
          "Score": 3.1583624920952498
         },
         {
          "Score": 3.861653870213911
         },
         {
          "Score": 3.3176455432211585
         },
         {
          "Score": 2.5185139398778875
         },
         {
          "Score": 2.5514499979728753
         },
         {
          "Score": 0
         },
         {
          "Score": 2.661812685537261
         },
         {
          "Score": 2.8536982117761744
         },
         {
          "Score": 3.2898118391176214
         },
         {
          "Score": 2.7745169657285498
         },
         {
          "Score": 3.3794868137172736
         },
         {
          "Score": 2.761927838420529
         },
         {
          "Score": 2.1172712956557644
         },
         {
          "Score": 2.4183012913197452
         },
         {
          "Score": 3.4774106879072515
         },
         {
          "Score": 2.110589710299249
         },
         {
          "Score": 3.041787318971752
         },
         {
          "Score": 0
         },
         {
          "Score": 3.6261349786353887
         },
         {
          "Score": 2.832508912706236
         },
         {
          "Score": 3.3279716236230104
         },
         {
          "Score": 2.9020028913507296
         },
         {
          "Score": 2.4756711883244296
         },
         {
          "Score": 3.600755149639618
         },
         {
          "Score": 2.6434526764861874
         },
         {
          "Score": 0
         },
         {
          "Score": 2.9180303367848803
         },
         {
          "Score": 2.7075701760979363
         },
         {
          "Score": 2.503790683057181
         },
         {
          "Score": 2.801403710017355
         },
         {
          "Score": 2.975891136401793
         },
         {
          "Score": 3.8828659197216293
         },
         {
          "Score": 4.746166964377285
         },
         {
          "Score": 2.315970345456918
         },
         {
          "Score": 3.072249897613515
         },
         {
          "Score": 0.3010299956639812
         },
         {
          "Score": 3.0034605321095067
         },
         {
          "Score": 1.9030899869919435
         },
         {
          "Score": 3.441538038702161
         },
         {
          "Score": 3.7723950610820003
         },
         {
          "Score": 3.4641913706409997
         },
         {
          "Score": 2.416640507338281
         },
         {
          "Score": 0.3010299956639812
         },
         {
          "Score": 3.5998830720736876
         },
         {
          "Score": 2.81424759573192
         },
         {
          "Score": 2.4871383754771865
         },
         {
          "Score": 3.3392526340327
         },
         {
          "Score": 3.4497868469857735
         },
         {
          "Score": 1.3617278360175928
         },
         {
          "Score": 1.8750612633917
         },
         {
          "Score": 3.232742062720737
         },
         {
          "Score": 2.942008053022313
         },
         {
          "Score": 0
         },
         {
          "Score": 2.751279103983342
         },
         {
          "Score": 3.165541076722373
         },
         {
          "Score": 1.4471580313422192
         },
         {
          "Score": 2.330413773349191
         },
         {
          "Score": 2.72916478969277
         },
         {
          "Score": 1.591064607026499
         },
         {
          "Score": 2.24551266781415
         },
         {
          "Score": 2.3909351071033793
         },
         {
          "Score": 3.188365926063148
         },
         {
          "Score": 2.4082399653118496
         },
         {
          "Score": 2.5634810853944106
         },
         {
          "Score": 2.784617292632875
         },
         {
          "Score": 1.6720978579357175
         },
         {
          "Score": 1.7403626894942439
         },
         {
          "Score": 4.327849154905208
         },
         {
          "Score": 2.9921114877869495
         },
         {
          "Score": 2.3961993470957363
         },
         {
          "Score": 2.167317334748176
         },
         {
          "Score": 4.120178938471115
         },
         {
          "Score": 1.5185139398778875
         },
         {
          "Score": 3.1142772965615864
         },
         {
          "Score": 2.3729120029701067
         },
         {
          "Score": 1.9444826721501687
         },
         {
          "Score": 1.8920946026904804
         },
         {
          "Score": 1.7708520116421442
         },
         {
          "Score": 1.2041199826559248
         },
         {
          "Score": 3.172310968521954
         },
         {
          "Score": 1.568201724066995
         },
         {
          "Score": 3.370142847051102
         },
         {
          "Score": 1.380211241711606
         },
         {
          "Score": 1.968482948553935
         },
         {
          "Score": 1.7781512503836436
         },
         {
          "Score": 3.5233562066547925
         },
         {
          "Score": 2.603144372620182
         },
         {
          "Score": 1.1139433523068367
         },
         {
          "Score": 2.428134794028789
         },
         {
          "Score": 2.1072099696478683
         },
         {
          "Score": 1.6020599913279623
         },
         {
          "Score": 1.8512583487190752
         },
         {
          "Score": 3.0232524596337114
         },
         {
          "Score": 1.7481880270062005
         },
         {
          "Score": 1.2787536009528289
         },
         {
          "Score": 2.2695129442179165
         },
         {
          "Score": 2.8750612633917
         },
         {
          "Score": 1.6901960800285136
         },
         {
          "Score": 1.1760912590556813
         },
         {
          "Score": 2.499687082618404
         },
         {
          "Score": 1.3424226808222062
         },
         {
          "Score": 2.7972675408307164
         },
         {
          "Score": 1.5563025007672873
         },
         {
          "Score": 2
         },
         {
          "Score": 1.8388490907372552
         },
         {
          "Score": 2.9708116108725178
         },
         {
          "Score": 1.6127838567197355
         },
         {
          "Score": 2.012837224705172
         },
         {
          "Score": 2.271841606536499
         },
         {
          "Score": 4.289900961728627
         },
         {
          "Score": 3.502563669107363
         },
         {
          "Score": 2.0492180226701815
         },
         {
          "Score": 2.4265112613645754
         },
         {
          "Score": 2.574031267727719
         },
         {
          "Score": 2.130333768495006
         },
         {
          "Score": 1.7075701760979363
         },
         {
          "Score": 2.7209857441537393
         },
         {
          "Score": 4.405602455209314
         },
         {
          "Score": 3.3265406685165617
         },
         {
          "Score": 2.24551266781415
         },
         {
          "Score": 3.7902851640332416
         },
         {
          "Score": 2.250420002308894
         },
         {
          "Score": 2.3364597338485296
         },
         {
          "Score": 1.9294189257142926
         },
         {
          "Score": 3.1322596895310446
         },
         {
          "Score": 1.3424226808222062
         },
         {
          "Score": 3.512550992904211
         },
         {
          "Score": 2.57978359661681
         },
         {
          "Score": 2.8567288903828825
         },
         {
          "Score": 2.5943925503754266
         },
         {
          "Score": 2.2430380486862944
         },
         {
          "Score": 2.8488047010518036
         },
         {
          "Score": 2.1172712956557644
         },
         {
          "Score": 2.975891136401793
         },
         {
          "Score": 4.073608388456207
         },
         {
          "Score": 3.469232742506612
         },
         {
          "Score": 1.9731278535996986
         },
         {
          "Score": 2.8228216453031045
         },
         {
          "Score": 2.110589710299249
         },
         {
          "Score": 2.1398790864012365
         },
         {
          "Score": 2.958085848521085
         },
         {
          "Score": 2.586587304671755
         },
         {
          "Score": 2.682145076373832
         },
         {
          "Score": 2.2600713879850747
         },
         {
          "Score": 0.3010299956639812
         },
         {
          "Score": 1.4771212547196624
         },
         {
          "Score": 3.158060793936605
         },
         {
          "Score": 3.3380578754197563
         },
         {
          "Score": 1.7708520116421442
         },
         {
          "Score": 1.7634279935629373
         },
         {
          "Score": 1.2304489213782739
         },
         {
          "Score": 1.6434526764861874
         },
         {
          "Score": 2.481442628502305
         },
         {
          "Score": 2.7867514221455614
         },
         {
          "Score": 1.568201724066995
         },
         {
          "Score": 1.806179973983887
         },
         {
          "Score": 1.7323937598229686
         },
         {
          "Score": 2.1398790864012365
         },
         {
          "Score": 2.1789769472931693
         },
         {
          "Score": 2.100370545117563
         },
         {
          "Score": 1.8260748027008264
         },
         {
          "Score": 2.0718820073061255
         },
         {
          "Score": 1.7481880270062005
         },
         {
          "Score": 2.359835482339888
         },
         {
          "Score": 1.8573324964312685
         },
         {
          "Score": 2.130333768495006
         },
         {
          "Score": 2.100370545117563
         },
         {
          "Score": 1.6812412373755872
         },
         {
          "Score": 3.8176975547630243
         },
         {
          "Score": 2.123851640967086
         },
         {
          "Score": 2.1367205671564067
         },
         {
          "Score": 2.571708831808688
         },
         {
          "Score": 2.290034611362518
         },
         {
          "Score": 1.6334684555795864
         },
         {
          "Score": 2.4082399653118496
         },
         {
          "Score": 2.4913616938342726
         },
         {
          "Score": 3.8073997127594854
         },
         {
          "Score": 2.361727836017593
         },
         {
          "Score": 2.494154594018443
         },
         {
          "Score": 2.5514499979728753
         },
         {
          "Score": 1.6434526764861874
         },
         {
          "Score": 2.0086001717619175
         },
         {
          "Score": 2.4456042032735974
         },
         {
          "Score": 2.801403710017355
         },
         {
          "Score": 2.060697840353612
         },
         {
          "Score": 2.406540180433955
         },
         {
          "Score": 1.6532125137753437
         },
         {
          "Score": 0.6989700043360189
         },
         {
          "Score": 1.3617278360175928
         },
         {
          "Score": 2.519827993775719
         },
         {
          "Score": 1.255272505103306
         },
         {
          "Score": 1.6720978579357175
         },
         {
          "Score": 1.8864907251724818
         },
         {
          "Score": 2.0293837776852097
         },
         {
          "Score": 1.806179973983887
         },
         {
          "Score": 1.8325089127062364
         },
         {
          "Score": 2.3891660843645326
         },
         {
          "Score": 2.2648178230095364
         },
         {
          "Score": 2.5538830266438746
         },
         {
          "Score": 1.6334684555795864
         },
         {
          "Score": 2.305351369446624
         },
         {
          "Score": 2.3521825181113627
         },
         {
          "Score": 2.359835482339888
         },
         {
          "Score": 1.462397997898956
         },
         {
          "Score": 1.7075701760979363
         },
         {
          "Score": 1.8129133566428555
         },
         {
          "Score": 1.5440680443502757
         },
         {
          "Score": 2.385606273598312
         },
         {
          "Score": 3.09725730969342
         },
         {
          "Score": 1
         },
         {
          "Score": 2.271841606536499
         },
         {
          "Score": 2.561101383649056
         },
         {
          "Score": 2.73559889969818
         },
         {
          "Score": 2.2278867046136734
         },
         {
          "Score": 2.656098202012832
         },
         {
          "Score": 1.3979400086720377
         },
         {
          "Score": 2.5390760987927767
         },
         {
          "Score": 1
         },
         {
          "Score": 3.652052848248105
         },
         {
          "Score": 2.0253058652647704
         },
         {
          "Score": 2.0293837776852097
         },
         {
          "Score": 2.278753600952829
         },
         {
          "Score": 1.3222192947339193
         },
         {
          "Score": 2.292256071356476
         },
         {
          "Score": 2.0863598306747484
         },
         {
          "Score": 2.667452952889954
         },
         {
          "Score": 1.8808135922807914
         },
         {
          "Score": 2.1398790864012365
         },
         {
          "Score": 1.380211241711606
         },
         {
          "Score": 1.8325089127062364
         },
         {
          "Score": 1.255272505103306
         },
         {
          "Score": 2.5490032620257876
         },
         {
          "Score": 2.290034611362518
         },
         {
          "Score": 1.7481880270062005
         },
         {
          "Score": 1.9395192526186185
         },
         {
          "Score": 1.7558748556724915
         },
         {
          "Score": 1.3617278360175928
         },
         {
          "Score": 3.8360074591255313
         },
         {
          "Score": 2.2380461031287955
         },
         {
          "Score": 2.4409090820652177
         },
         {
          "Score": 1.8976270912904414
         },
         {
          "Score": 2.2013971243204513
         },
         {
          "Score": 2.893206753059848
         },
         {
          "Score": 3.3475251599986895
         },
         {
          "Score": 2.230448921378274
         },
         {
          "Score": 2.0718820073061255
         },
         {
          "Score": 2.8382192219076257
         },
         {
          "Score": 3.7708520116421442
         },
         {
          "Score": 2
         },
         {
          "Score": 2.423245873936808
         },
         {
          "Score": 3.278982116865443
         },
         {
          "Score": 1.9867717342662448
         },
         {
          "Score": 2.3138672203691533
         },
         {
          "Score": 2.3710678622717363
         },
         {
          "Score": 2.45484486000851
         },
         {
          "Score": 1.9030899869919435
         },
         {
          "Score": 1.5440680443502757
         },
         {
          "Score": 1.8864907251724818
         },
         {
          "Score": 2.7795964912578244
         },
         {
          "Score": 2.6283889300503116
         },
         {
          "Score": 1.4771212547196624
         },
         {
          "Score": 1.662757831681574
         },
         {
          "Score": 1.6127838567197355
         },
         {
          "Score": 1.4313637641589874
         },
         {
          "Score": 2.0211892990699383
         },
         {
          "Score": 2.3541084391474008
         },
         {
          "Score": 2.45484486000851
         },
         {
          "Score": 2.173186268412274
         },
         {
          "Score": 1.505149978319906
         },
         {
          "Score": 1.4313637641589874
         },
         {
          "Score": 2.369215857410143
         },
         {
          "Score": 2.5622928644564746
         },
         {
          "Score": 2.361727836017593
         },
         {
          "Score": 2.403120521175818
         },
         {
          "Score": 2.6532125137753435
         },
         {
          "Score": 2.292256071356476
         },
         {
          "Score": 2.2405492482826
         },
         {
          "Score": 0.8450980400142568
         },
         {
          "Score": 2.550228353055094
         },
         {
          "Score": 1.6020599913279623
         },
         {
          "Score": 2.984077033902831
         },
         {
          "Score": 1.6532125137753437
         },
         {
          "Score": 1.568201724066995
         },
         {
          "Score": 2.0863598306747484
         },
         {
          "Score": 2.2430380486862944
         },
         {
          "Score": 2.143014800254095
         },
         {
          "Score": 2.173186268412274
         },
         {
          "Score": 2.5390760987927767
         },
         {
          "Score": 2.250420002308894
         },
         {
          "Score": 2.406540180433955
         },
         {
          "Score": 2.367355921026019
         },
         {
          "Score": 2.287801729930226
         },
         {
          "Score": 2.110589710299249
         },
         {
          "Score": 2.673941998634088
         },
         {
          "Score": 2.2671717284030137
         },
         {
          "Score": 1.7708520116421442
         },
         {
          "Score": 2.710963118995276
         },
         {
          "Score": 2.041392685158225
         },
         {
          "Score": 2.5998830720736876
         },
         {
          "Score": 1.505149978319906
         },
         {
          "Score": 1.9138138523837167
         },
         {
          "Score": 1.9138138523837167
         },
         {
          "Score": 2.0086001717619175
         },
         {
          "Score": 1.3010299956639813
         },
         {
          "Score": 2.380211241711606
         },
         {
          "Score": 2.79309160017658
         },
         {
          "Score": 2.4785664955938436
         },
         {
          "Score": 1.0791812460476249
         },
         {
          "Score": 2.3404441148401185
         },
         {
          "Score": 2.1072099696478683
         },
         {
          "Score": 2.0863598306747484
         },
         {
          "Score": 2.2648178230095364
         },
         {
          "Score": 2.2380461031287955
         },
         {
          "Score": 2.2695129442179165
         },
         {
          "Score": 1.6720978579357175
         },
         {
          "Score": 1.9344984512435677
         },
         {
          "Score": 2.2174839442139063
         },
         {
          "Score": 1.1139433523068367
         },
         {
          "Score": 1.662757831681574
         },
         {
          "Score": 0.7781512503836436
         },
         {
          "Score": 2.3710678622717363
         },
         {
          "Score": 2.369215857410143
         },
         {
          "Score": 2.0718820073061255
         },
         {
          "Score": 1.792391689498254
         },
         {
          "Score": 2.2810333672477277
         },
         {
          "Score": 2.519827993775719
         },
         {
          "Score": 2.380211241711606
         },
         {
          "Score": 1.6232492903979006
         },
         {
          "Score": 1.3979400086720377
         },
         {
          "Score": 2.8567288903828825
         },
         {
          "Score": 1.8864907251724818
         },
         {
          "Score": 2.482873583608754
         },
         {
          "Score": 2.380211241711606
         },
         {
          "Score": 1.6901960800285136
         },
         {
          "Score": 2.361727836017593
         },
         {
          "Score": 2.432969290874406
         },
         {
          "Score": 2.0293837776852097
         },
         {
          "Score": 2.507855871695831
         },
         {
          "Score": 2.586587304671755
         },
         {
          "Score": 2.5185139398778875
         },
         {
          "Score": 2.79309160017658
         },
         {
          "Score": 2.4099331233312946
         },
         {
          "Score": 1.9242792860618816
         },
         {
          "Score": 2.4727564493172123
         },
         {
          "Score": 2.8937617620579434
         },
         {
          "Score": 0.7781512503836436
         },
         {
          "Score": 2.385606273598312
         },
         {
          "Score": 2.7745169657285498
         },
         {
          "Score": 1.4313637641589874
         },
         {
          "Score": 2.8273692730538253
         },
         {
          "Score": 2.4955443375464483
         },
         {
          "Score": 2.4756711883244296
         },
         {
          "Score": 2.4082399653118496
         },
         {
          "Score": 2.1702617153949575
         },
         {
          "Score": 2.4149733479708178
         },
         {
          "Score": 2.103803720955957
         },
         {
          "Score": 2.2227164711475833
         },
         {
          "Score": 2.2405492482826
         },
         {
          "Score": 2.1522883443830563
         },
         {
          "Score": 2.456366033129043
         },
         {
          "Score": 2.2600713879850747
         },
         {
          "Score": 2.1931245983544616
         },
         {
          "Score": 2.1702617153949575
         },
         {
          "Score": 2.1958996524092336
         },
         {
          "Score": 2.167317334748176
         },
         {
          "Score": 2.1398790864012365
         },
         {
          "Score": 2.4653828514484184
         },
         {
          "Score": 1.9912260756924949
         },
         {
          "Score": 0
         },
         {
          "Score": 2.519827993775719
         },
         {
          "Score": 3.6751365044679942
         },
         {
          "Score": 1.6901960800285136
         },
         {
          "Score": 2.113943352306837
         },
         {
          "Score": 1.792391689498254
         },
         {
          "Score": 2.510545010206612
         },
         {
          "Score": 1.6127838567197355
         },
         {
          "Score": 1.4771212547196624
         },
         {
          "Score": 1.7403626894942439
         },
         {
          "Score": 2.5921767573958667
         },
         {
          "Score": 1.8195439355418688
         },
         {
          "Score": 0
         },
         {
          "Score": 2.537819095073274
         },
         {
          "Score": 2.552668216112193
         },
         {
          "Score": 2.2833012287035497
         },
         {
          "Score": 2.037426497940624
         },
         {
          "Score": 2.5514499979728753
         },
         {
          "Score": 1.9242792860618816
         },
         {
          "Score": 1.0413926851582251
         },
         {
          "Score": 2.6464037262230695
         },
         {
          "Score": 2.3483048630481607
         },
         {
          "Score": 2.247973266361807
         },
         {
          "Score": 2.2576785748691846
         },
         {
          "Score": 2.123851640967086
         },
         {
          "Score": 0
         },
         {
          "Score": 0.8450980400142568
         },
         {
          "Score": 2.307496037913213
         },
         {
          "Score": 1.954242509439325
         },
         {
          "Score": 1.0413926851582251
         },
         {
          "Score": 1.6334684555795864
         },
         {
          "Score": 1.8260748027008264
         },
         {
          "Score": 2.130333768495006
         },
         {
          "Score": 3.5234863323432277
         },
         {
          "Score": 2.037426497940624
         },
         {
          "Score": 4.210077624295287
         },
         {
          "Score": 1.4313637641589874
         },
         {
          "Score": 2.0453229787866576
         },
         {
          "Score": 1.6901960800285136
         },
         {
          "Score": 2.4683473304121573
         },
         {
          "Score": 0.9030899869919435
         },
         {
          "Score": 2.1172712956557644
         },
         {
          "Score": 1.792391689498254
         },
         {
          "Score": 2.506505032404872
         },
         {
          "Score": 1.380211241711606
         },
         {
          "Score": 1.9084850188786497
         },
         {
          "Score": 2.484299839346786
         },
         {
          "Score": 2.315970345456918
         },
         {
          "Score": 2.103803720955957
         },
         {
          "Score": 2.2013971243204513
         },
         {
          "Score": 2.432969290874406
         },
         {
          "Score": 2.3096301674258988
         },
         {
          "Score": 2.429752280002408
         },
         {
          "Score": 1.7403626894942439
         },
         {
          "Score": 1.4471580313422192
         },
         {
          "Score": 2.278753600952829
         },
         {
          "Score": 2.1072099696478683
         },
         {
          "Score": 2.3979400086720375
         },
         {
          "Score": 2.2833012287035497
         },
         {
          "Score": 2.4899584794248346
         },
         {
          "Score": 1.8129133566428555
         },
         {
          "Score": 2.2810333672477277
         },
         {
          "Score": 0.3010299956639812
         },
         {
          "Score": 2.4149733479708178
         },
         {
          "Score": 2.41161970596323
         },
         {
          "Score": 2.214843848047698
         },
         {
          "Score": 1.7160033436347992
         },
         {
          "Score": 1.2041199826559248
         },
         {
          "Score": 2.469822015978163
         },
         {
          "Score": 2.41161970596323
         },
         {
          "Score": 3.0433622780211294
         },
         {
          "Score": 1.3010299956639813
         },
         {
          "Score": 2.255272505103306
         },
         {
          "Score": 2.429752280002408
         },
         {
          "Score": 2.2671717284030137
         },
         {
          "Score": 1.3222192947339193
         },
         {
          "Score": 1.3424226808222062
         },
         {
          "Score": 2.8363241157067516
         },
         {
          "Score": 1.9590413923210936
         },
         {
          "Score": 1.8260748027008264
         },
         {
          "Score": 1.505149978319906
         },
         {
          "Score": 2.367355921026019
         },
         {
          "Score": 2.3010299956639813
         },
         {
          "Score": 1.9590413923210936
         },
         {
          "Score": 1.3222192947339193
         },
         {
          "Score": 2.1398790864012365
         },
         {
          "Score": 2.4756711883244296
         },
         {
          "Score": 2.4183012913197452
         },
         {
          "Score": 3.583765368285
         },
         {
          "Score": 2.247973266361807
         },
         {
          "Score": 1.845098040014257
         },
         {
          "Score": 3.0770043267933502
         },
         {
          "Score": 2.143014800254095
         },
         {
          "Score": 3.0678145111618402
         },
         {
          "Score": 2.290034611362518
         },
         {
          "Score": 2.738780558484369
         },
         {
          "Score": 1.7160033436347992
         },
         {
          "Score": 2.0530784434834195
         },
         {
          "Score": 3.055378331375
         },
         {
          "Score": 0.9030899869919435
         },
         {
          "Score": 1.8808135922807914
         },
         {
          "Score": 1
         },
         {
          "Score": 2.164352855784437
         },
         {
          "Score": 2.4756711883244296
         },
         {
          "Score": 2.326335860928751
         },
         {
          "Score": 1.8325089127062364
         },
         {
          "Score": 2.401400540781544
         },
         {
          "Score": 1.4471580313422192
         },
         {
          "Score": 3.720159303405957
         },
         {
          "Score": 1.7781512503836436
         },
         {
          "Score": 3.792181496149679
         },
         {
          "Score": 1.8920946026904804
         },
         {
          "Score": 2.651278013998144
         },
         {
          "Score": 3.0569048513364727
         },
         {
          "Score": 2.2624510897304293
         },
         {
          "Score": 1.5440680443502757
         },
         {
          "Score": 2.4099331233312946
         },
         {
          "Score": 1.9294189257142926
         },
         {
          "Score": 1.968482948553935
         },
         {
          "Score": 2.681241237375587
         },
         {
          "Score": 1.4913616938342726
         },
         {
          "Score": 2.526339277389844
         },
         {
          "Score": 1.7853298350107671
         },
         {
          "Score": 2.184691430817599
         },
         {
          "Score": 2.298853076409707
         },
         {
          "Score": 1.792391689498254
         },
         {
          "Score": 0.3010299956639812
         },
         {
          "Score": 2.534026106056135
         },
         {
          "Score": 3.6972293427597176
         },
         {
          "Score": 3.1357685145678222
         },
         {
          "Score": 1.9444826721501687
         },
         {
          "Score": 1.662757831681574
         },
         {
          "Score": 2.03342375548695
         },
         {
          "Score": 2.2624510897304293
         },
         {
          "Score": 1.7708520116421442
         },
         {
          "Score": 1.6232492903979006
         },
         {
          "Score": 2.635483746814912
         },
         {
          "Score": 2.4800069429571505
         },
         {
          "Score": 0.8450980400142568
         },
         {
          "Score": 1.2041199826559248
         },
         {
          "Score": 2.8943160626844384
         },
         {
          "Score": 1.7634279935629373
         },
         {
          "Score": 3.166726055580052
         },
         {
          "Score": 2.7075701760979363
         },
         {
          "Score": 1.8512583487190752
         },
         {
          "Score": 2.4149733479708178
         },
         {
          "Score": 2.2624510897304293
         },
         {
          "Score": 3.793021659845983
         },
         {
          "Score": 1.7781512503836436
         },
         {
          "Score": 2.4424797690644486
         },
         {
          "Score": 1.8573324964312685
         },
         {
          "Score": 2.7024305364455254
         },
         {
          "Score": 1.146128035678238
         },
         {
          "Score": 2.1072099696478683
         },
         {
          "Score": 3.0726174765452368
         },
         {
          "Score": 1.6720978579357175
         },
         {
          "Score": 0.3010299956639812
         },
         {
          "Score": 2.546542663478131
         },
         {
          "Score": 3.230448921378274
         },
         {
          "Score": 2.164352855784437
         },
         {
          "Score": 2.1492191126553797
         },
         {
          "Score": 2.0043213737826426
         },
         {
          "Score": 1.0791812460476249
         },
         {
          "Score": 2.776701183988411
         },
         {
          "Score": 1.146128035678238
         },
         {
          "Score": 3.679155241283354
         },
         {
          "Score": 2.1789769472931693
         },
         {
          "Score": 2.167317334748176
         },
         {
          "Score": 2.2174839442139063
         },
         {
          "Score": 2.575187844927661
         },
         {
          "Score": 2.9872192299080047
         },
         {
          "Score": 1.6434526764861874
         },
         {
          "Score": 2.574031267727719
         },
         {
          "Score": 2.113943352306837
         },
         {
          "Score": 2.0453229787866576
         },
         {
          "Score": 2.3180633349627615
         },
         {
          "Score": 2.1271047983648077
         },
         {
          "Score": 2.214843848047698
         },
         {
          "Score": 0.47712125471966244
         },
         {
          "Score": 2.4955443375464483
         },
         {
          "Score": 2.3283796034387376
         },
         {
          "Score": 0.47712125471966244
         },
         {
          "Score": 3.323252100171687
         },
         {
          "Score": 0
         },
         {
          "Score": 2.48572142648158
         },
         {
          "Score": 2.6074550232146687
         },
         {
          "Score": 3.3126004392612596
         },
         {
          "Score": 2.6444385894678386
         },
         {
          "Score": 2.4578818967339924
         },
         {
          "Score": 4.706726314561037
         },
         {
          "Score": 2.2278867046136734
         },
         {
          "Score": 2.663700925389648
         },
         {
          "Score": 1.1760912590556813
         },
         {
          "Score": 0.47712125471966244
         },
         {
          "Score": 3.709948016510761
         },
         {
          "Score": 1.7160033436347992
         },
         {
          "Score": 2.450249108319361
         },
         {
          "Score": 1.792391689498254
         },
         {
          "Score": 2.100370545117563
         },
         {
          "Score": 3.0637085593914173
         },
         {
          "Score": 4.000911062131223
         },
         {
          "Score": 2.949877704036875
         },
         {
          "Score": 3.1789769472931693
         },
         {
          "Score": 1.6020599913279623
         },
         {
          "Score": 2.928907690243953
         },
         {
          "Score": 3.586024382386976
         },
         {
          "Score": 0.6020599913279624
         },
         {
          "Score": 2.949877704036875
         },
         {
          "Score": 3.5964871337365443
         },
         {
          "Score": 3.2835273648616936
         },
         {
          "Score": 3.570426178358973
         },
         {
          "Score": 2.187520720836463
         },
         {
          "Score": 4.753437503725226
         },
         {
          "Score": 1.3222192947339193
         },
         {
          "Score": 0.6020599913279624
         },
         {
          "Score": 1.1139433523068367
         },
         {
          "Score": 3.967547976218862
         },
         {
          "Score": 3.511214701136388
         },
         {
          "Score": 2.2227164711475833
         },
         {
          "Score": 2.2405492482826
         },
         {
          "Score": 2.4727564493172123
         },
         {
          "Score": 2.4955443375464483
         },
         {
          "Score": 2.3891660843645326
         },
         {
          "Score": 2.113943352306837
         },
         {
          "Score": 0
         },
         {
          "Score": 1.9084850188786497
         },
         {
          "Score": 2.3404441148401185
         },
         {
          "Score": 3.543074235033532
         },
         {
          "Score": 2.4471580313422194
         },
         {
          "Score": 2.545307116465824
         },
         {
          "Score": 2.100370545117563
         },
         {
          "Score": 1.968482948553935
         },
         {
          "Score": 2.4608978427565478
         },
         {
          "Score": 2.307496037913213
         },
         {
          "Score": 2.8512583487190755
         },
         {
          "Score": 2.012837224705172
         },
         {
          "Score": 1.1760912590556813
         },
         {
          "Score": 3.848004271497268
         },
         {
          "Score": 2.7193312869837265
         },
         {
          "Score": 1.2787536009528289
         },
         {
          "Score": 2.4183012913197452
         },
         {
          "Score": 0.3010299956639812
         },
         {
          "Score": 1.4471580313422192
         },
         {
          "Score": 2.710963118995276
         },
         {
          "Score": 0.3010299956639812
         },
         {
          "Score": 4.632457292184724
         },
         {
          "Score": 1.6989700043360187
         },
         {
          "Score": 2.1335389083702174
         },
         {
          "Score": 2.439332693830263
         },
         {
          "Score": 4.351158306564027
         },
         {
          "Score": 0.8450980400142568
         },
         {
          "Score": 2.3180633349627615
         },
         {
          "Score": 2.59659709562646
         },
         {
          "Score": 2.6981005456233897
         },
         {
          "Score": 3.2489536154957075
         },
         {
          "Score": 2.8382192219076257
         },
         {
          "Score": 1.414973347970818
         },
         {
          "Score": 0
         },
         {
          "Score": 3.31722734917642
         },
         {
          "Score": 0.9030899869919435
         },
         {
          "Score": 3.821644517542217
         },
         {
          "Score": 2.673941998634088
         },
         {
          "Score": 3.8635607645262424
         },
         {
          "Score": 4.74601890191174
         },
         {
          "Score": 3.6853834098014873
         },
         {
          "Score": 2.6646419755561257
         },
         {
          "Score": 2.558708570533166
         },
         {
          "Score": 2.6532125137753435
         },
         {
          "Score": 2.9661417327390325
         },
         {
          "Score": 3.932473764677153
         },
         {
          "Score": 2.9380190974762104
         },
         {
          "Score": 3.6358856852812727
         },
         {
          "Score": 3.8709303583486956
         },
         {
          "Score": 0
         },
         {
          "Score": 3.720242018287057
         },
         {
          "Score": 1.414973347970818
         },
         {
          "Score": 2.4955443375464483
         },
         {
          "Score": 3.1344958558346736
         },
         {
          "Score": 2.4871383754771865
         },
         {
          "Score": 3.56643749219507
         },
         {
          "Score": 2.765668554759014
         },
         {
          "Score": 1.7403626894942439
         },
         {
          "Score": 2.5634810853944106
         },
         {
          "Score": 2.322219294733919
         },
         {
          "Score": 3.230448921378274
         },
         {
          "Score": 3.6026025204202563
         },
         {
          "Score": 3.4466924663715273
         },
         {
          "Score": 1.4471580313422192
         },
         {
          "Score": 3.2780673308886628
         },
         {
          "Score": 3.2208922492195193
         },
         {
          "Score": 2.3201462861110542
         },
         {
          "Score": 2.3979400086720375
         },
         {
          "Score": 3.7352794480604565
         },
         {
          "Score": 3.4916417934775863
         },
         {
          "Score": 1.662757831681574
         },
         {
          "Score": 0
         },
         {
          "Score": 1.5563025007672873
         },
         {
          "Score": 1.7558748556724915
         },
         {
          "Score": 1.414973347970818
         },
         {
          "Score": 2.816241299991783
         },
         {
          "Score": 2.699837725867246
         },
         {
          "Score": 1.5185139398778875
         },
         {
          "Score": 2.640481436970422
         },
         {
          "Score": 2.9143431571194407
         },
         {
          "Score": 2.2528530309798933
         },
         {
          "Score": 2.2068258760318495
         },
         {
          "Score": 0.8450980400142568
         },
         {
          "Score": 3.6094876898532853
         },
         {
          "Score": 2.537819095073274
         },
         {
          "Score": 1.3424226808222062
         },
         {
          "Score": 2.2810333672477277
         },
         {
          "Score": 2.8555191556678
         },
         {
          "Score": 1.8325089127062364
         },
         {
          "Score": 0.47712125471966244
         },
         {
          "Score": 3.379668034033654
         },
         {
          "Score": 2.0043213737826426
         },
         {
          "Score": 1.0791812460476249
         },
         {
          "Score": 4.207418916816812
         },
         {
          "Score": 3.2619761913978125
         },
         {
          "Score": 2.545307116465824
         },
         {
          "Score": 0.7781512503836436
         },
         {
          "Score": 1.9242792860618816
         },
         {
          "Score": 1.8864907251724818
         },
         {
          "Score": 3.0580462303952816
         },
         {
          "Score": 2.278753600952829
         },
         {
          "Score": 2.7331972651065692
         },
         {
          "Score": 4.906518204321726
         },
         {
          "Score": 3.0831441431430524
         },
         {
          "Score": 0
         },
         {
          "Score": 0.9542425094393249
         },
         {
          "Score": 1.845098040014257
         },
         {
          "Score": 0.6989700043360189
         },
         {
          "Score": 1.255272505103306
         },
         {
          "Score": 2.401400540781544
         },
         {
          "Score": 0
         },
         {
          "Score": 1.9637878273455553
         },
         {
          "Score": 3.1245042248342823
         },
         {
          "Score": 3.2380461031287955
         },
         {
          "Score": 2.4683473304121573
         },
         {
          "Score": 2.515873843711679
         },
         {
          "Score": 2.3384564936046046
         },
         {
          "Score": 3.1228709228644354
         },
         {
          "Score": 2.828015064223977
         },
         {
          "Score": 0.9542425094393249
         },
         {
          "Score": 0.9030899869919435
         },
         {
          "Score": 2.3944516808262164
         },
         {
          "Score": 2.1903316981702914
         },
         {
          "Score": 3.0989896394011773
         },
         {
          "Score": 2.0863598306747484
         },
         {
          "Score": 2.9804578922761
         },
         {
          "Score": 2.380211241711606
         },
         {
          "Score": 2.2329961103921536
         },
         {
          "Score": 2.53655844257153
         },
         {
          "Score": 1.1139433523068367
         },
         {
          "Score": 0.6020599913279624
         },
         {
          "Score": 2.2227164711475833
         },
         {
          "Score": 1.6532125137753437
         },
         {
          "Score": 3.5535189401489697
         },
         {
          "Score": 3.7075701760979363
         },
         {
          "Score": 2.110589710299249
         },
         {
          "Score": 0.8450980400142568
         },
         {
          "Score": 2.307496037913213
         },
         {
          "Score": 1.9395192526186185
         },
         {
          "Score": 3.298853076409707
         },
         {
          "Score": 2.5646660642520893
         },
         {
          "Score": 2.1583624920952498
         },
         {
          "Score": 3.4583356259919475
         },
         {
          "Score": 2.093421685162235
         },
         {
          "Score": 1.8750612633917
         },
         {
          "Score": 2.482873583608754
         },
         {
          "Score": 2.916453948549925
         },
         {
          "Score": 1.146128035678238
         },
         {
          "Score": 3.6503075231319366
         },
         {
          "Score": 1.3617278360175928
         },
         {
          "Score": 3.5939502952639875
         },
         {
          "Score": 3.8486816540239506
         },
         {
          "Score": 2.0293837776852097
         },
         {
          "Score": 0.8450980400142568
         },
         {
          "Score": 0.3010299956639812
         },
         {
          "Score": 0.47712125471966244
         },
         {
          "Score": 1.8976270912904414
         },
         {
          "Score": 1.7708520116421442
         },
         {
          "Score": 0
         },
         {
          "Score": 1.0413926851582251
         },
         {
          "Score": 1.414973347970818
         },
         {
          "Score": 4.308436347167652
         },
         {
          "Score": 3.9413623357117613
         },
         {
          "Score": 0.7781512503836436
         },
         {
          "Score": 2.2600713879850747
         },
         {
          "Score": 0.3010299956639812
         },
         {
          "Score": 0
         },
         {
          "Score": 3.0726174765452368
         },
         {
          "Score": 2.294466226161593
         },
         {
          "Score": 0.47712125471966244
         },
         {
          "Score": 1.2304489213782739
         },
         {
          "Score": 2.514547752660286
         },
         {
          "Score": 0.7781512503836436
         },
         {
          "Score": 0
         },
         {
          "Score": 2.110589710299249
         },
         {
          "Score": 0
         },
         {
          "Score": 0.7781512503836436
         },
         {
          "Score": 0.3010299956639812
         },
         {
          "Score": 0.3010299956639812
         },
         {
          "Score": 1.954242509439325
         },
         {
          "Score": 0
         },
         {
          "Score": 0
         },
         {
          "Score": 0.6989700043360189
         },
         {
          "Score": 1.0791812460476249
         },
         {
          "Score": 1.568201724066995
         },
         {
          "Score": 0.3010299956639812
         },
         {
          "Score": 1.414973347970818
         },
         {
          "Score": 0
         },
         {
          "Score": 0.3010299956639812
         },
         {
          "Score": 1.146128035678238
         },
         {
          "Score": 1.3424226808222062
         },
         {
          "Score": 0.3010299956639812
         },
         {
          "Score": 0.6989700043360189
         },
         {
          "Score": 0.3010299956639812
         },
         {
          "Score": 0
         },
         {
          "Score": 0.3010299956639812
         },
         {
          "Score": 0.3010299956639812
         },
         {
          "Score": 1.2304489213782739
         },
         {
          "Score": 0
         },
         {
          "Score": 1.0413926851582251
         },
         {
          "Score": 2.4456042032735974
         },
         {
          "Score": 1.0791812460476249
         },
         {
          "Score": 0.47712125471966244
         },
         {
          "Score": 0
         },
         {
          "Score": 0.3010299956639812
         },
         {
          "Score": 0.6989700043360189
         },
         {
          "Score": 2.583198773968623
         },
         {
          "Score": 0.3010299956639812
         },
         {
          "Score": 0
         },
         {
          "Score": 0.6989700043360189
         },
         {
          "Score": 1.4771212547196624
         },
         {
          "Score": 1.1139433523068367
         },
         {
          "Score": 0
         },
         {
          "Score": 2.155336037465062
         },
         {
          "Score": 0.3010299956639812
         },
         {
          "Score": 0.6989700043360189
         },
         {
          "Score": 0.9030899869919435
         },
         {
          "Score": 0.9030899869919435
         },
         {
          "Score": 0
         },
         {
          "Score": 0
         },
         {
          "Score": 0.3010299956639812
         },
         {
          "Score": 0
         },
         {
          "Score": 0.7781512503836436
         },
         {
          "Score": 1.0791812460476249
         },
         {
          "Score": 1.0413926851582251
         },
         {
          "Score": 0
         },
         {
          "Score": 0.3010299956639812
         },
         {
          "Score": 0.9030899869919435
         },
         {
          "Score": 0
         },
         {
          "Score": 0.3010299956639812
         },
         {
          "Score": 0
         },
         {
          "Score": 0.47712125471966244
         },
         {
          "Score": 2.1702617153949575
         },
         {
          "Score": 0
         },
         {
          "Score": 0.47712125471966244
         },
         {
          "Score": 0.7781512503836436
         },
         {
          "Score": 1.9590413923210936
         },
         {
          "Score": 1.0413926851582251
         },
         {
          "Score": 0
         },
         {
          "Score": 0.6989700043360189
         },
         {
          "Score": 2.9813655090785445
         },
         {
          "Score": 0.3010299956639812
         },
         {
          "Score": 0.47712125471966244
         },
         {
          "Score": 0.47712125471966244
         },
         {
          "Score": 1.462397997898956
         },
         {
          "Score": 2.3180633349627615
         },
         {
          "Score": 0
         },
         {
          "Score": 1
         },
         {
          "Score": 0.3010299956639812
         },
         {
          "Score": 2.1760912590556813
         },
         {
          "Score": 1
         },
         {
          "Score": 1.505149978319906
         },
         {
          "Score": 4.233351527653275
         },
         {
          "Score": 0.9542425094393249
         },
         {
          "Score": 0
         },
         {
          "Score": 1
         },
         {
          "Score": 1.568201724066995
         },
         {
          "Score": 1.4313637641589874
         },
         {
          "Score": 0.9542425094393249
         },
         {
          "Score": 0.3010299956639812
         },
         {
          "Score": 1.6812412373755872
         },
         {
          "Score": 0.3010299956639812
         },
         {
          "Score": 0.47712125471966244
         },
         {
          "Score": 1.2041199826559248
         },
         {
          "Score": 1.146128035678238
         },
         {
          "Score": 1.2787536009528289
         },
         {
          "Score": 0
         },
         {
          "Score": 1.5563025007672873
         },
         {
          "Score": 0
         },
         {
          "Score": 0
         },
         {
          "Score": 0.3010299956639812
         },
         {
          "Score": 0
         },
         {
          "Score": 0.9542425094393249
         },
         {
          "Score": 3.5466660250701842
         },
         {
          "Score": 0
         },
         {
          "Score": 0
         },
         {
          "Score": 0.3010299956639812
         },
         {
          "Score": 0.47712125471966244
         },
         {
          "Score": 2.8188854145940097
         },
         {
          "Score": 1.1139433523068367
         },
         {
          "Score": 0
         },
         {
          "Score": 2.2329961103921536
         },
         {
          "Score": 0.6989700043360189
         },
         {
          "Score": 0.47712125471966244
         },
         {
          "Score": 0
         },
         {
          "Score": 1.2041199826559248
         },
         {
          "Score": 0.47712125471966244
         },
         {
          "Score": 2.637489729512511
         },
         {
          "Score": 2.8549130223078554
         },
         {
          "Score": 0
         },
         {
          "Score": 0
         },
         {
          "Score": 0.3010299956639812
         },
         {
          "Score": 0
         },
         {
          "Score": 0.6989700043360189
         },
         {
          "Score": 0
         },
         {
          "Score": 0.47712125471966244
         },
         {
          "Score": 0
         },
         {
          "Score": 0
         },
         {
          "Score": 0.7781512503836436
         },
         {
          "Score": 0.9542425094393249
         },
         {
          "Score": 0.3010299956639812
         },
         {
          "Score": 0.3010299956639812
         },
         {
          "Score": 0.6020599913279624
         },
         {
          "Score": 0.47712125471966244
         },
         {
          "Score": 0
         },
         {
          "Score": 1.6020599913279623
         },
         {
          "Score": 0
         },
         {
          "Score": 0
         },
         {
          "Score": 0
         },
         {
          "Score": 0
         },
         {
          "Score": 0
         },
         {
          "Score": 0.47712125471966244
         },
         {
          "Score": 2.1818435879447726
         },
         {
          "Score": 0
         },
         {
          "Score": 1.3010299956639813
         },
         {
          "Score": 0.6020599913279624
         },
         {
          "Score": 0.47712125471966244
         },
         {
          "Score": 0.47712125471966244
         },
         {
          "Score": 0
         },
         {
          "Score": 2.6483600109809315
         },
         {
          "Score": 0.3010299956639812
         },
         {
          "Score": 0.47712125471966244
         },
         {
          "Score": 2.663700925389648
         },
         {
          "Score": 0.47712125471966244
         },
         {
          "Score": 0.47712125471966244
         },
         {
          "Score": 0
         },
         {
          "Score": 0.3010299956639812
         },
         {
          "Score": 0.8450980400142568
         },
         {
          "Score": 2.3096301674258988
         },
         {
          "Score": 0
         },
         {
          "Score": 0.3010299956639812
         },
         {
          "Score": 0.3010299956639812
         },
         {
          "Score": 0
         },
         {
          "Score": 0.9542425094393249
         },
         {
          "Score": 0
         },
         {
          "Score": 3.03342375548695
         },
         {
          "Score": 1.2041199826559248
         },
         {
          "Score": 1.0413926851582251
         },
         {
          "Score": 2.2278867046136734
         },
         {
          "Score": 0.9030899869919435
         },
         {
          "Score": 0.47712125471966244
         },
         {
          "Score": 1.1139433523068367
         },
         {
          "Score": 0.47712125471966244
         },
         {
          "Score": 0
         },
         {
          "Score": 0.6989700043360189
         },
         {
          "Score": 0.3010299956639812
         },
         {
          "Score": 1.505149978319906
         },
         {
          "Score": 1
         },
         {
          "Score": 2.8686444383948255
         },
         {
          "Score": 2.510545010206612
         },
         {
          "Score": 0.3010299956639812
         },
         {
          "Score": 0.6020599913279624
         },
         {
          "Score": 1.2041199826559248
         },
         {
          "Score": 0
         },
         {
          "Score": 0.9542425094393249
         },
         {
          "Score": 0.9542425094393249
         },
         {
          "Score": 0.6989700043360189
         },
         {
          "Score": 0.8450980400142568
         },
         {
          "Score": 0
         },
         {
          "Score": 0.3010299956639812
         },
         {
          "Score": 0.6020599913279624
         },
         {
          "Score": 0.7781512503836436
         },
         {
          "Score": 0.3010299956639812
         },
         {
          "Score": 0
         },
         {
          "Score": 0.8450980400142568
         },
         {
          "Score": 1.146128035678238
         },
         {
          "Score": 0.47712125471966244
         },
         {
          "Score": 2.6201360549737576
         },
         {
          "Score": 0.3010299956639812
         },
         {
          "Score": 1.9084850188786497
         },
         {
          "Score": 0.3010299956639812
         },
         {
          "Score": 1.4771212547196624
         },
         {
          "Score": 0.3010299956639812
         },
         {
          "Score": 1.7558748556724915
         },
         {
          "Score": 0
         },
         {
          "Score": 0.8450980400142568
         },
         {
          "Score": 0
         },
         {
          "Score": 0.3010299956639812
         },
         {
          "Score": 0
         },
         {
          "Score": 0.8450980400142568
         },
         {
          "Score": 1.0791812460476249
         },
         {
          "Score": 0
         },
         {
          "Score": 0.47712125471966244
         },
         {
          "Score": 0.3010299956639812
         },
         {
          "Score": 1.4771212547196624
         },
         {
          "Score": 0.3010299956639812
         },
         {
          "Score": 2.24551266781415
         },
         {
          "Score": 1.1139433523068367
         },
         {
          "Score": 2.0453229787866576
         },
         {
          "Score": 0
         },
         {
          "Score": 2.8208579894397
         },
         {
          "Score": 0.6989700043360189
         },
         {
          "Score": 0.6020599913279624
         },
         {
          "Score": 0
         },
         {
          "Score": 1.6020599913279623
         },
         {
          "Score": 1.7160033436347992
         },
         {
          "Score": 1.0791812460476249
         },
         {
          "Score": 2
         },
         {
          "Score": 1.568201724066995
         },
         {
          "Score": 1.7323937598229686
         },
         {
          "Score": 0.7781512503836436
         },
         {
          "Score": 1.3617278360175928
         },
         {
          "Score": 0.3010299956639812
         },
         {
          "Score": 1.568201724066995
         },
         {
          "Score": 1.6812412373755872
         },
         {
          "Score": 1.591064607026499
         },
         {
          "Score": 0.7781512503836436
         },
         {
          "Score": 2.3961993470957363
         },
         {
          "Score": 2.0530784434834195
         },
         {
          "Score": 1.1139433523068367
         },
         {
          "Score": 0
         },
         {
          "Score": 1.3010299956639813
         },
         {
          "Score": 2.4149733479708178
         },
         {
          "Score": 0
         },
         {
          "Score": 1.0791812460476249
         },
         {
          "Score": 0
         },
         {
          "Score": 0.8450980400142568
         },
         {
          "Score": 0
         },
         {
          "Score": 0.7781512503836436
         },
         {
          "Score": 1.8325089127062364
         },
         {
          "Score": 0
         },
         {
          "Score": 0.3010299956639812
         },
         {
          "Score": 0
         },
         {
          "Score": 1.5440680443502757
         },
         {
          "Score": 0.6020599913279624
         },
         {
          "Score": 0.6020599913279624
         },
         {
          "Score": 0.8450980400142568
         },
         {
          "Score": 0.7781512503836436
         },
         {
          "Score": 0.7781512503836436
         },
         {
          "Score": 0.6989700043360189
         },
         {
          "Score": 1.724275869600789
         },
         {
          "Score": 0.47712125471966244
         },
         {
          "Score": 1.255272505103306
         },
         {
          "Score": 3.110252917353403
         },
         {
          "Score": 1.4913616938342726
         },
         {
          "Score": 0
         },
         {
          "Score": 0
         },
         {
          "Score": 2.376576957056512
         },
         {
          "Score": 2.7041505168397992
         },
         {
          "Score": 2.8530895298518657
         },
         {
          "Score": 0.8450980400142568
         },
         {
          "Score": 0.8450980400142568
         },
         {
          "Score": 1.6720978579357175
         },
         {
          "Score": 1.1139433523068367
         },
         {
          "Score": 0
         },
         {
          "Score": 1.6127838567197355
         },
         {
          "Score": 1.380211241711606
         },
         {
          "Score": 1.462397997898956
         },
         {
          "Score": 0.3010299956639812
         },
         {
          "Score": 0
         },
         {
          "Score": 2.1072099696478683
         },
         {
          "Score": 1.1139433523068367
         },
         {
          "Score": 0
         },
         {
          "Score": 0
         },
         {
          "Score": 1.0791812460476249
         },
         {
          "Score": 0.8450980400142568
         },
         {
          "Score": 2.747411807886423
         },
         {
          "Score": 1.5440680443502757
         },
         {
          "Score": 0
         },
         {
          "Score": 1.0791812460476249
         },
         {
          "Score": 1.2304489213782739
         },
         {
          "Score": 0
         },
         {
          "Score": 2.973589623427257
         },
         {
          "Score": 1.4471580313422192
         },
         {
          "Score": 0
         },
         {
          "Score": 0.9030899869919435
         },
         {
          "Score": 0.3010299956639812
         },
         {
          "Score": 3.030194785356751
         },
         {
          "Score": 0.6020599913279624
         },
         {
          "Score": 2.7134905430939424
         },
         {
          "Score": 2.906335041805091
         },
         {
          "Score": 0.6989700043360189
         },
         {
          "Score": 1.4471580313422192
         },
         {
          "Score": 2.971275848738105
         },
         {
          "Score": 1.4471580313422192
         },
         {
          "Score": 0.9030899869919435
         },
         {
          "Score": 1.7781512503836436
         },
         {
          "Score": 1.3222192947339193
         },
         {
          "Score": 0
         },
         {
          "Score": 2.4099331233312946
         },
         {
          "Score": 2.2380461031287955
         },
         {
          "Score": 1.146128035678238
         },
         {
          "Score": 0.47712125471966244
         },
         {
          "Score": 0.3010299956639812
         },
         {
          "Score": 1.9395192526186185
         },
         {
          "Score": 0.47712125471966244
         },
         {
          "Score": 0.8450980400142568
         },
         {
          "Score": 1.7781512503836436
         },
         {
          "Score": 2.3729120029701067
         },
         {
          "Score": 0.47712125471966244
         },
         {
          "Score": 2.220108088040055
         },
         {
          "Score": 1.4471580313422192
         },
         {
          "Score": 2.1789769472931693
         },
         {
          "Score": 1.9084850188786497
         },
         {
          "Score": 0.6020599913279624
         },
         {
          "Score": 0
         },
         {
          "Score": 1.5185139398778875
         },
         {
          "Score": 0.3010299956639812
         },
         {
          "Score": 1.3010299956639813
         },
         {
          "Score": 2.639486489268586
         },
         {
          "Score": 0
         },
         {
          "Score": 2.53655844257153
         },
         {
          "Score": 1.8864907251724818
         },
         {
          "Score": 2.3180633349627615
         },
         {
          "Score": 1.662757831681574
         },
         {
          "Score": 3.4394905903896835
         },
         {
          "Score": 1.9138138523837167
         },
         {
          "Score": 1.8325089127062364
         },
         {
          "Score": 3.037824750588342
         },
         {
          "Score": 0.8450980400142568
         },
         {
          "Score": 1.2787536009528289
         },
         {
          "Score": 0.6989700043360189
         },
         {
          "Score": 0.3010299956639812
         },
         {
          "Score": 1.414973347970818
         },
         {
          "Score": 1.1139433523068367
         },
         {
          "Score": 0.3010299956639812
         },
         {
          "Score": 2.437750562820388
         },
         {
          "Score": 2.741151598851785
         },
         {
          "Score": 0
         },
         {
          "Score": 0.6020599913279624
         },
         {
          "Score": 0.47712125471966244
         },
         {
          "Score": 0.47712125471966244
         },
         {
          "Score": 2.462397997898956
         },
         {
          "Score": 0.9542425094393249
         },
         {
          "Score": 1.99563519459755
         },
         {
          "Score": 0
         },
         {
          "Score": 1.954242509439325
         },
         {
          "Score": 2.432969290874406
         },
         {
          "Score": 2.1789769472931693
         },
         {
          "Score": 2.9111576087399764
         },
         {
          "Score": 1
         },
         {
          "Score": 0.6020599913279624
         },
         {
          "Score": 1.3222192947339193
         },
         {
          "Score": 1.2304489213782739
         },
         {
          "Score": 0.3010299956639812
         },
         {
          "Score": 2.0253058652647704
         },
         {
          "Score": 0
         },
         {
          "Score": 0.6020599913279624
         },
         {
          "Score": 1.4771212547196624
         },
         {
          "Score": 0.47712125471966244
         },
         {
          "Score": 0.47712125471966244
         },
         {
          "Score": 2.0293837776852097
         },
         {
          "Score": 1.2041199826559248
         },
         {
          "Score": 0.47712125471966244
         },
         {
          "Score": 0.6020599913279624
         },
         {
          "Score": 1.792391689498254
         },
         {
          "Score": 1.3979400086720377
         },
         {
          "Score": 1.6434526764861874
         },
         {
          "Score": 2.27415784926368
         },
         {
          "Score": 1.9822712330395684
         },
         {
          "Score": 0
         },
         {
          "Score": 2.506505032404872
         },
         {
          "Score": 2.530199698203082
         },
         {
          "Score": 0.47712125471966244
         },
         {
          "Score": 2.0492180226701815
         },
         {
          "Score": 0.8450980400142568
         },
         {
          "Score": 2.278753600952829
         },
         {
          "Score": 0.6989700043360189
         },
         {
          "Score": 0.9542425094393249
         },
         {
          "Score": 2.161368002234975
         },
         {
          "Score": 2.862131379313037
         },
         {
          "Score": 3.8737273806466797
         },
         {
          "Score": 2.2624510897304293
         },
         {
          "Score": 0.3010299956639812
         },
         {
          "Score": 3.374198257929083
         },
         {
          "Score": 3.8071289555924217
         },
         {
          "Score": 0.6989700043360189
         },
         {
          "Score": 2.4471580313422194
         },
         {
          "Score": 0.8450980400142568
         },
         {
          "Score": 1.0791812460476249
         },
         {
          "Score": 1.462397997898956
         },
         {
          "Score": 0.3010299956639812
         },
         {
          "Score": 1.6989700043360187
         },
         {
          "Score": 0
         },
         {
          "Score": 0.47712125471966244
         },
         {
          "Score": 2.330413773349191
         },
         {
          "Score": 1.2787536009528289
         },
         {
          "Score": 2.2528530309798933
         },
         {
          "Score": 0.3010299956639812
         },
         {
          "Score": 1.5440680443502757
         },
         {
          "Score": 0
         },
         {
          "Score": 3.1577588860468637
         },
         {
          "Score": 0.3010299956639812
         },
         {
          "Score": 1.2304489213782739
         },
         {
          "Score": 3.2281436075977417
         },
         {
          "Score": 0.8450980400142568
         },
         {
          "Score": 3.750199727829182
         },
         {
          "Score": 1.3617278360175928
         },
         {
          "Score": 2.916453948549925
         },
         {
          "Score": 2.3820170425748683
         },
         {
          "Score": 1.3222192947339193
         },
         {
          "Score": 0.9030899869919435
         },
         {
          "Score": 3.993788813818705
         },
         {
          "Score": 0.8450980400142568
         },
         {
          "Score": 3.5930644316587177
         },
         {
          "Score": 1.6127838567197355
         },
         {
          "Score": 1.968482948553935
         },
         {
          "Score": 2.110589710299249
         },
         {
          "Score": 2.0863598306747484
         },
         {
          "Score": 3.161966616364075
         },
         {
          "Score": 2.846955325019824
         },
         {
          "Score": 2.2329961103921536
         },
         {
          "Score": 1.7075701760979363
         },
         {
          "Score": 2.2695129442179165
         },
         {
          "Score": 1.1139433523068367
         },
         {
          "Score": 1.8808135922807914
         },
         {
          "Score": 0
         },
         {
          "Score": 1.3010299956639813
         },
         {
          "Score": 1.9777236052888478
         },
         {
          "Score": 0.3010299956639812
         },
         {
          "Score": 1.7634279935629373
         },
         {
          "Score": 2.8943160626844384
         },
         {
          "Score": 2.0569048513364727
         },
         {
          "Score": 0.47712125471966244
         },
         {
          "Score": 1.3424226808222062
         },
         {
          "Score": 3.8849651982007325
         },
         {
          "Score": 0.8450980400142568
         },
         {
          "Score": 1.8260748027008264
         },
         {
          "Score": 2.8394780473741985
         },
         {
          "Score": 3.7858990283843834
         },
         {
          "Score": 0
         },
         {
          "Score": 2.173186268412274
         },
         {
          "Score": 3.748498126613737
         },
         {
          "Score": 1.1139433523068367
         },
         {
          "Score": 3.130333768495006
         },
         {
          "Score": 3.833720690444633
         },
         {
          "Score": 0.9030899869919435
         },
         {
          "Score": 0.6020599913279624
         },
         {
          "Score": 1.414973347970818
         },
         {
          "Score": 0.9030899869919435
         },
         {
          "Score": 1.3979400086720377
         },
         {
          "Score": 3.1166077439882485
         },
         {
          "Score": 3.4255342204982635
         },
         {
          "Score": 0.6989700043360189
         },
         {
          "Score": 1.6901960800285136
         },
         {
          "Score": 0.47712125471966244
         },
         {
          "Score": 1.591064607026499
         },
         {
          "Score": 0
         },
         {
          "Score": 1.146128035678238
         },
         {
          "Score": 1.380211241711606
         },
         {
          "Score": 0.6989700043360189
         },
         {
          "Score": 3.589055531052344
         },
         {
          "Score": 1.3979400086720377
         },
         {
          "Score": 0.3010299956639812
         },
         {
          "Score": 0.6989700043360189
         },
         {
          "Score": 1.9138138523837167
         },
         {
          "Score": 2.2041199826559246
         },
         {
          "Score": 0.3010299956639812
         },
         {
          "Score": 0
         },
         {
          "Score": 2.9222062774390163
         },
         {
          "Score": 1.7558748556724915
         },
         {
          "Score": 0.3010299956639812
         },
         {
          "Score": 3.0013009330204183
         },
         {
          "Score": 1.8129133566428555
         },
         {
          "Score": 1.1760912590556813
         },
         {
          "Score": 2.749736315569061
         },
         {
          "Score": 3.0546130545568877
         },
         {
          "Score": 2.456366033129043
         },
         {
          "Score": 0.3010299956639812
         },
         {
          "Score": 1.7075701760979363
         }
        ]
       },
       "params": [
        {
         "name": "param_1",
         "select": {
          "encodings": [
           "x"
          ],
          "type": "interval"
         },
         "views": [
          "view_1"
         ]
        }
       ],
       "vconcat": [
        {
         "data": {
          "name": "data-7ed2be3be5149d7d08c6845f3d874e89"
         },
         "encoding": {
          "tooltip": [
           {
            "aggregate": "count",
            "type": "quantitative"
           }
          ],
          "x": {
           "bin": {
            "extent": [
             -52,
             101650
            ]
           },
           "field": "Score",
           "type": "quantitative"
          },
          "y": {
           "aggregate": "count",
           "type": "quantitative"
          }
         },
         "height": 400,
         "mark": {
          "type": "bar"
         },
         "name": "view_1",
         "title": "All Scores",
         "width": 1200
        },
        {
         "data": {
          "name": "data-7ed2be3be5149d7d08c6845f3d874e89"
         },
         "encoding": {
          "tooltip": [
           {
            "aggregate": "count",
            "type": "quantitative"
           }
          ],
          "x": {
           "bin": {
            "maxbins": 7
           },
           "field": "Score",
           "type": "quantitative"
          },
          "y": {
           "aggregate": "count",
           "type": "quantitative"
          }
         },
         "height": 400,
         "mark": {
          "type": "bar"
         },
         "transform": [
          {
           "filter": {
            "param": "param_1"
           }
          }
         ],
         "width": 1200
        },
        {
         "data": {
          "name": "data-ab0504601da57b20cb1da4deb9642c23"
         },
         "encoding": {
          "tooltip": [
           {
            "aggregate": "count",
            "type": "quantitative"
           }
          ],
          "x": {
           "axis": {
            "labelExpr": "pow(10, datum.value)"
           },
           "bin": {},
           "field": "Score",
           "title": "Score (log10 spacing)",
           "type": "quantitative"
          },
          "y": {
           "aggregate": "count",
           "type": "quantitative"
          }
         },
         "height": 400,
         "mark": {
          "type": "bar"
         },
         "title": "Total Scores (log10 spacing)",
         "width": 1200
        }
       ]
      },
      "text/plain": [
       "<VegaLite 5 object>\n",
       "\n",
       "If you see this message, it means the renderer has not been properly enabled\n",
       "for the frontend that you are using. For more information, see\n",
       "https://altair-viz.github.io/user_guide/display_frontends.html#troubleshooting\n"
      ]
     },
     "execution_count": 12,
     "metadata": {},
     "output_type": "execute_result"
    }
   ],
   "source": [
    "post_scores = post_votes_df[[\"Score\"]].dropna()\n",
    "comment_scores = comment_votes_df[[\"Score\"]].dropna()\n",
    "# Concat\n",
    "scores = pd.concat([post_scores, comment_scores]).reset_index(drop=True)\n",
    "\n",
    "brush = alt.selection_interval(encodings=['x'])\n",
    "# Create a histogram for the net votes\n",
    "chart_scores_1 = alt.Chart(scores).mark_bar().encode(\n",
    "    x=alt.X(\"Score:Q\").bin(alt.Bin(extent=[scores[\"Score\"].min(), scores[\"Score\"].max()])),\n",
    "    y=alt.Y(\"count()\"),\n",
    "    tooltip=[\"count()\"],  # Show the count when hovering over the bar\n",
    ").properties(\n",
    "    width=1200,\n",
    "    height=400,\n",
    "    title=\"All Scores\",\n",
    ").add_params(\n",
    "    brush\n",
    ")\n",
    "\n",
    "chart_scores_2 = alt.Chart(scores).mark_bar().encode(\n",
    "    x=alt.X(\"Score:Q\").bin(alt.Bin(maxbins=7)),\n",
    "    y=alt.Y(\"count()\"),\n",
    "    tooltip=[\"count()\"],  # Show the count when hovering over the bar\n",
    ").properties(\n",
    "    width=1200,\n",
    "    height=400,\n",
    ").transform_filter(\n",
    "    brush\n",
    ")\n",
    "\n",
    "scores_logged = scores.copy()\n",
    "scores_logged[\"Score\"] = scores_logged[\"Score\"].map(lambda x: np.log10(x) if x > 0 else 0)\n",
    "chart_scores_log = alt.Chart(scores_logged).mark_bar().encode(\n",
    "    x=alt.X(\"Score:Q\", title=\"Score (log10 spacing)\", axis=alt.Axis(labelExpr=\"pow(10, datum.value)\")).bin(),\n",
    "    y=alt.Y(\"count()\"),\n",
    "    tooltip=[\"count()\"],  # Show the count when hovering over the bar\n",
    ").properties(\n",
    "    width=1200,\n",
    "    height=400,\n",
    "    title=\"Total Scores (log10 spacing)\",\n",
    ")\n",
    "\n",
    "chart_scores = alt.vconcat(chart_scores_1, chart_scores_2, chart_scores_log).configure(\n",
    "    padding={\"left\": 15, \"right\": 15, \"top\": 15, \"bottom\": 15},\n",
    "    title={\"fontSize\": 18},\n",
    ").configure_view(\n",
    "    stroke=None,\n",
    ").configure_axisX(\n",
    "    labelFontSize=14,\n",
    "    titleFontSize=14,\n",
    "    grid=False,  # Remove the grid\n",
    "    domainWidth=2,  # Set the width of the axis line\n",
    "    domainColor=\"#000\"  # Set the color of the axis line\n",
    ").configure_axisY(\n",
    "    labelFontSize=14,\n",
    "    titleFontSize=14,\n",
    "    grid=False,  # Remove the grid\n",
    "    domain=False,  # Remove the axis line\n",
    ")\n",
    "\n",
    "chart_scores"
   ]
  },
  {
   "cell_type": "code",
   "execution_count": 13,
   "id": "17df1469",
   "metadata": {},
   "outputs": [],
   "source": [
    "# Save the charts\n",
    "\n",
    "ch = (chart_scores_1 | chart_scores_2).configure(\n",
    "    padding={\"left\": 15, \"right\": 15, \"top\": 15, \"bottom\": 15},\n",
    "    title={\"fontSize\": 18},\n",
    ").configure_view(\n",
    "    stroke=None,\n",
    ").configure_axisX(\n",
    "    labelFontSize=14,\n",
    "    titleFontSize=14,\n",
    "    grid=False,  # Remove the grid\n",
    "    domainWidth=2,  # Set the width of the axis line\n",
    "    domainColor=\"#000\"  # Set the color of the axis line\n",
    ").configure_axisY(\n",
    "    labelFontSize=14,\n",
    "    titleFontSize=14,\n",
    "    grid=False,  # Remove the grid\n",
    "    domain=False,  # Remove the axis line\n",
    ")\n",
    "chart_scores_log = chart_scores_log.configure(\n",
    "    padding={\"left\": 15, \"right\": 15, \"top\": 15, \"bottom\": 15},\n",
    "    title={\"fontSize\": 18},\n",
    ").configure_view(\n",
    "    stroke=None,\n",
    ").configure_axisX(\n",
    "    labelFontSize=14,\n",
    "    titleFontSize=14,\n",
    "    grid=False,  # Remove the grid\n",
    "    domainWidth=2,  # Set the width of the axis line\n",
    "    domainColor=\"#000\"  # Set the color of the axis line\n",
    ").configure_axisY(\n",
    "    labelFontSize=14,\n",
    "    titleFontSize=14,\n",
    "    grid=False,  # Remove the grid\n",
    "    domain=False,  # Remove the axis line\n",
    ")\n",
    "\n",
    "ch.save(\"figures/voted/altair_scores_interactive.html\")\n",
    "chart_scores_log.save(\"figures/voted/altair_scores_log.html\")\n",
    "chart_scores_log.save(\"figures/img/voted/altair_post_scores_log.png\")"
   ]
  },
  {
   "cell_type": "markdown",
   "id": "57f4552d",
   "metadata": {},
   "source": [
    "## Created Posts and Comments"
   ]
  },
  {
   "cell_type": "code",
   "execution_count": 14,
   "id": "f891444c",
   "metadata": {},
   "outputs": [],
   "source": [
    "posts_df = pd.read_csv(\"data/final_data/post_headers.csv\").rename(columns={\"Scores\": \"Score\"})\n",
    "comments_df = pd.read_csv(\"data/final_data/comment_headers.csv\")"
   ]
  },
  {
   "cell_type": "markdown",
   "id": "582894b2",
   "metadata": {},
   "source": [
    "### Subs\n",
    "\n",
    "Count the number of posts and comments that I have created in each subreddit and visualize them in a bar chart"
   ]
  },
  {
   "cell_type": "code",
   "execution_count": 15,
   "id": "4403069b",
   "metadata": {},
   "outputs": [
    {
     "data": {
      "application/vnd.vegalite.v5+json": {
       "$schema": "https://vega.github.io/schema/vega-lite/v5.16.3.json",
       "config": {
        "axisX": {
         "domainColor": "#000",
         "domainWidth": 2,
         "grid": false,
         "labelFontSize": 11,
         "titleFontSize": 18
        },
        "axisY": {
         "domain": false,
         "grid": false,
         "labelFontSize": 14,
         "titleFontSize": 18
        },
        "padding": {
         "bottom": 15,
         "left": 15,
         "right": 15,
         "top": 15
        },
        "title": {
         "fontSize": 18
        },
        "view": {
         "continuousHeight": 300,
         "continuousWidth": 300,
         "stroke": null
        }
       },
       "data": {
        "name": "data-ff5edac15923f772e8ecb234cea181c1"
       },
       "datasets": {
        "data-ff5edac15923f772e8ecb234cea181c1": [
         {
          "Count": 1,
          "IsSubscribed": false,
          "Subreddit": "DMAcademy"
         },
         {
          "Count": 3,
          "IsSubscribed": true,
          "Subreddit": "ElectroBOOM"
         },
         {
          "Count": 3,
          "IsSubscribed": false,
          "Subreddit": "GenP"
         },
         {
          "Count": 3,
          "IsSubscribed": true,
          "Subreddit": "GreekMythology"
         },
         {
          "Count": 4,
          "IsSubscribed": false,
          "Subreddit": "NintendoDSi"
         },
         {
          "Count": 2,
          "IsSubscribed": true,
          "Subreddit": "PercyJacksonMemes"
         },
         {
          "Count": 4,
          "IsSubscribed": true,
          "Subreddit": "ProgrammerHumor"
         },
         {
          "Count": 6,
          "IsSubscribed": true,
          "Subreddit": "SatisfactoryGame"
         },
         {
          "Count": 25,
          "IsSubscribed": true,
          "Subreddit": "TheLastAirbender"
         },
         {
          "Count": 1,
          "IsSubscribed": true,
          "Subreddit": "Ubuntu"
         },
         {
          "Count": 1,
          "IsSubscribed": false,
          "Subreddit": "algorithms"
         },
         {
          "Count": 2,
          "IsSubscribed": false,
          "Subreddit": "bootstrap"
         },
         {
          "Count": 26,
          "IsSubscribed": true,
          "Subreddit": "camphalfblood"
         },
         {
          "Count": 8,
          "IsSubscribed": true,
          "Subreddit": "consolerepair"
         },
         {
          "Count": 3,
          "IsSubscribed": true,
          "Subreddit": "djangolearning"
         },
         {
          "Count": 1,
          "IsSubscribed": false,
          "Subreddit": "dndmemes"
         },
         {
          "Count": 6,
          "IsSubscribed": false,
          "Subreddit": "flashcarts"
         },
         {
          "Count": 6,
          "IsSubscribed": true,
          "Subreddit": "gaming"
         },
         {
          "Count": 5,
          "IsSubscribed": true,
          "Subreddit": "mathmemes"
         },
         {
          "Count": 4,
          "IsSubscribed": true,
          "Subreddit": "montypython"
         },
         {
          "Count": 1,
          "IsSubscribed": true,
          "Subreddit": "movies"
         },
         {
          "Count": 1,
          "IsSubscribed": false,
          "Subreddit": "pcbuilding"
         },
         {
          "Count": 1,
          "IsSubscribed": false,
          "Subreddit": "programmingmemes"
         },
         {
          "Count": 15,
          "IsSubscribed": true,
          "Subreddit": "seinfeld"
         },
         {
          "Count": 21,
          "IsSubscribed": true,
          "Subreddit": "startrek"
         },
         {
          "Count": 9,
          "IsSubscribed": true,
          "Subreddit": "startrekmemes"
         },
         {
          "Count": 1,
          "IsSubscribed": false,
          "Subreddit": "tumblr"
         },
         {
          "Count": 1,
          "IsSubscribed": true,
          "Subreddit": "unexpectedpython"
         },
         {
          "Count": 36,
          "IsSubscribed": true,
          "Subreddit": "veYakinEvren"
         },
         {
          "Count": 4,
          "IsSubscribed": false,
          "Subreddit": "webdev"
         },
         {
          "Count": 4,
          "IsSubscribed": true,
          "Subreddit": "yugioh"
         }
        ]
       },
       "encoding": {
        "color": {
         "field": "IsSubscribed",
         "legend": {
          "labelFontSize": 12,
          "offset": 0,
          "orient": "top-right",
          "title": "Is Subscribed",
          "titleFontSize": 14
         },
         "scale": {
          "domain": [
           true,
           false
          ],
          "range": [
           "#1f77b4",
           "#ff7f0e"
          ]
         },
         "type": "nominal"
        },
        "tooltip": [
         {
          "field": "Count",
          "type": "quantitative"
         },
         {
          "field": "Subreddit",
          "type": "nominal"
         }
        ],
        "x": {
         "axis": {
          "labelAngle": -45
         },
         "field": "Subreddit",
         "sort": "-y",
         "title": "Subreddit",
         "type": "nominal"
        },
        "y": {
         "field": "Count",
         "type": "quantitative"
        }
       },
       "height": 400,
       "mark": {
        "type": "bar"
       },
       "params": [
        {
         "bind": {
          "input": "range",
          "max": 36,
          "min": 1,
          "name": "Minimum Count",
          "step": 1
         },
         "name": "minCount",
         "select": {
          "fields": [
           "minCount"
          ],
          "type": "point"
         },
         "value": [
          {
           "minCount": 1
          }
         ]
        },
        {
         "bind": {
          "input": "range",
          "max": 36,
          "min": 1,
          "name": "Max Count",
          "step": 1
         },
         "name": "maxCount",
         "select": {
          "fields": [
           "maxCount"
          ],
          "type": "point"
         },
         "value": [
          {
           "maxCount": 36
          }
         ]
        }
       ],
       "transform": [
        {
         "filter": "((datum.Count >= minCount.minCount) && (datum.Count <= maxCount.maxCount))"
        }
       ],
       "width": 1200
      },
      "text/plain": [
       "<VegaLite 5 object>\n",
       "\n",
       "If you see this message, it means the renderer has not been properly enabled\n",
       "for the frontend that you are using. For more information, see\n",
       "https://altair-viz.github.io/user_guide/display_frontends.html#troubleshooting\n"
      ]
     },
     "execution_count": 15,
     "metadata": {},
     "output_type": "execute_result"
    }
   ],
   "source": [
    "subreddit_count_df = created_df = pd.concat([posts_df[[\"Subreddit\"]], comments_df[[\"Subreddit\"]]]).reset_index(drop=True)\n",
    "subreddit_count_df[\"Count\"] = 1\n",
    "subreddit_count_df = subreddit_count_df.groupby(\"Subreddit\").count().reset_index()\n",
    "subreddit_count_df[\"IsSubscribed\"] = subreddit_count_df[\"Subreddit\"].map(lambda x: bool(is_subscribed_to(x, subreddits_df)))\n",
    "subreddit_count_df[\"Subreddit\"] = subreddit_count_df[\"Subreddit\"].astype(dtype=\"category\")\n",
    "\n",
    "\n",
    "# Add a slider to it to filter the minimum count\n",
    "slider1 = alt.binding_range(min=1, max=subreddit_count_df[\"Count\"].max(), step=1, name=\"Minimum Count\")\n",
    "slider2 = alt.binding_range(min=1, max=subreddit_count_df[\"Count\"].max(), step=1, name=\"Max Count\")\n",
    "selector1 = alt.selection_point(fields=[\"minCount\"], bind=slider1, name=\"minCount\", value=[{\"minCount\": 1}])\n",
    "selector2 = alt.selection_point(fields=[\"maxCount\"], bind=slider2, name=\"maxCount\", value=[{\"maxCount\": subreddit_count_df[\"Count\"].max()}])\n",
    "# Create the chart\n",
    "chart = alt.Chart(subreddit_count_df).mark_bar().encode(\n",
    "    alt.X(\"Subreddit:N\", sort=\"-y\", title=\"Subreddit\", axis=alt.Axis(labelAngle=-45)),\n",
    "    alt.Y(\"Count:Q\"),\n",
    "    tooltip=[\"Count:Q\", \"Subreddit:N\"],  # Show the count when hovering over the bar\n",
    "    color = alt.Color(\n",
    "        \"IsSubscribed:N\", \n",
    "        scale=alt.Scale(domain=[True, False], range=[\"#1f77b4\", \"#ff7f0e\"]),\n",
    "        legend=alt.Legend(title=\"Is Subscribed\", labelFontSize=12, titleFontSize=14, offset=0, orient=\"top-right\"),\n",
    "        ),\n",
    ").properties(\n",
    "    width=1200,\n",
    "    height=400,\n",
    ").add_params(\n",
    "    selector1,\n",
    "    selector2,\n",
    ").transform_filter(\n",
    "    (alt.datum.Count >= selector1.minCount) & (alt.datum.Count <= selector2.maxCount)\n",
    ")\n",
    "\n",
    "chart = chart.configure(\n",
    "    padding={\"left\": 15, \"right\": 15, \"top\": 15, \"bottom\": 15},\n",
    "    title={\"fontSize\": 18},\n",
    ").configure_view(\n",
    "    stroke=None,\n",
    ").configure_axisX(\n",
    "    labelFontSize=11,\n",
    "    titleFontSize=18,\n",
    "    grid=False,  # Remove the grid\n",
    "    domainWidth=2,  # Set the width of the axis line\n",
    "    domainColor=\"#000\"  # Set the color of the axis line\n",
    ").configure_axisY(\n",
    "    labelFontSize=14,\n",
    "    titleFontSize=18,\n",
    "    grid=False,  # Remove the grid\n",
    "    domain=False,  # Remove the axis line\n",
    ")\n",
    "\n",
    "chart.save(\"figures/created/altair_subreddit_counts.html\")\n",
    "chart.save(\"figures/img/created/altair_subreddit_counts.png\")\n",
    "chart"
   ]
  },
  {
   "cell_type": "markdown",
   "id": "b5530488",
   "metadata": {},
   "source": [
    "### Tags\n",
    "\n",
    "Same for the tags"
   ]
  },
  {
   "cell_type": "code",
   "execution_count": 16,
   "id": "22efc91d",
   "metadata": {},
   "outputs": [
    {
     "data": {
      "application/vnd.vegalite.v5+json": {
       "$schema": "https://vega.github.io/schema/vega-lite/v5.16.3.json",
       "config": {
        "axisX": {
         "domainColor": "#000",
         "domainWidth": 2,
         "grid": false,
         "labelFontSize": 13
        },
        "axisY": {
         "domain": false,
         "grid": false,
         "labelFontSize": 14,
         "titleFontSize": 18
        },
        "padding": {
         "bottom": 15,
         "left": 15,
         "right": 15,
         "top": 15
        },
        "title": {
         "fontSize": 18
        },
        "view": {
         "continuousHeight": 300,
         "continuousWidth": 300,
         "stroke": null
        }
       },
       "data": {
        "name": "data-2d6dffccd0aea2888ae1d77adf5e6c89"
       },
       "datasets": {
        "data-2d6dffccd0aea2888ae1d77adf5e6c89": [
         {
          "Count": 106,
          "Tag": "fandom"
         },
         {
          "Count": 86,
          "Tag": "meme"
         },
         {
          "Count": 76,
          "Tag": "movie/show"
         },
         {
          "Count": 51,
          "Tag": "information/question"
         },
         {
          "Count": 48,
          "Tag": "game"
         },
         {
          "Count": 37,
          "Tag": "discussion"
         },
         {
          "Count": 18,
          "Tag": "hobby"
         },
         {
          "Count": 8,
          "Tag": "programming"
         }
        ]
       },
       "encoding": {
        "color": {
         "value": "#1f77b4"
        },
        "tooltip": [
         {
          "field": "Count",
          "type": "quantitative"
         }
        ],
        "x": {
         "field": "Count",
         "type": "quantitative"
        },
        "y": {
         "field": "Tag",
         "sort": "-x",
         "title": null,
         "type": "nominal"
        }
       },
       "height": 333.33,
       "mark": {
        "type": "bar"
       },
       "title": "The Number of My Created Content for Each Tag",
       "width": 500
      },
      "text/plain": [
       "<VegaLite 5 object>\n",
       "\n",
       "If you see this message, it means the renderer has not been properly enabled\n",
       "for the frontend that you are using. For more information, see\n",
       "https://altair-viz.github.io/user_guide/display_frontends.html#troubleshooting\n"
      ]
     },
     "execution_count": 16,
     "metadata": {},
     "output_type": "execute_result"
    }
   ],
   "source": [
    "tags_df = created_df = pd.concat([posts_df[[\"Subreddit\"]], comments_df[[\"Subreddit\"]]]).reset_index(drop=True)\n",
    "tags_df[\"Tags\"] = tags_df[\"Subreddit\"].map(lambda x: subreddits_df[subreddits_df[\"subreddit\"] == x][\"Tags\"].reset_index(drop=True)[0] if x in subreddits_df[\"subreddit\"].values else None)\n",
    "tags_df = tags_df.dropna().reset_index(drop=True).drop(columns=[\"Subreddit\"])\n",
    "tag_count_dict = tags_df[\"Tags\"].map(lambda x: x.split(\", \")).explode().value_counts().to_dict()\n",
    "tag_count_df = pd.DataFrame({\"Tag\": list(tag_count_dict.keys()), \"Count\": list(tag_count_dict.values())})\n",
    "tag_count_df[\"Tag\"] = tag_count_df[\"Tag\"].astype(dtype=\"category\")\n",
    "\n",
    "\n",
    "tags_chart = alt.Chart(tag_count_df).mark_bar().encode(\n",
    "    alt.X(\"Count:Q\"),\n",
    "    alt.Y(\"Tag:N\", sort=\"-x\", title=None),\n",
    "    color=alt.value(\"#1f77b4\"),\n",
    "    tooltip=[\"Count:Q\"],  # Show the count when hovering over the bar\n",
    ").properties(\n",
    "    # Set the size of the chart\n",
    "    width=500,\n",
    "    height=333.33,\n",
    "    title = \"The Number of My Created Content for Each Tag\"\n",
    ").configure(\n",
    "    padding={\"left\": 15, \"right\": 15, \"top\": 15, \"bottom\": 15},\n",
    "    title={\"fontSize\": 18},\n",
    ").configure_view(\n",
    "    stroke=None,\n",
    ").configure_axisX(\n",
    "    labelFontSize=13,\n",
    "    grid=False,  # Remove the grid\n",
    "    domainWidth=2,  # Set the width of the axis line\n",
    "    domainColor=\"#000\"  # Set the color of the axis line\n",
    ").configure_axisY(\n",
    "    labelFontSize=14,\n",
    "    titleFontSize=18,\n",
    "    grid=False,  # Remove the grid\n",
    "    domain=False,  # Remove the axis line\n",
    ")\n",
    "\n",
    "tags_chart.save(\"figures/created/altair_tag_counts.html\")\n",
    "tags_chart.save(\"figures/img/created/altair_tag_counts.png\")\n",
    "tags_chart"
   ]
  },
  {
   "cell_type": "markdown",
   "id": "084a1f82",
   "metadata": {},
   "source": [
    "### If I am Subscribed\n",
    "\n",
    "Count the number of posts and comments that I have created in subreddits that I am subscribed and not subscribed and visualize them in a bar chart."
   ]
  },
  {
   "cell_type": "code",
   "execution_count": 17,
   "id": "17c0c274",
   "metadata": {},
   "outputs": [
    {
     "data": {
      "application/vnd.vegalite.v5+json": {
       "$schema": "https://vega.github.io/schema/vega-lite/v5.16.3.json",
       "config": {
        "axisX": {
         "domainColor": "#000",
         "domainWidth": 2,
         "grid": false,
         "labelFontSize": 14,
         "titleFontSize": 14
        },
        "axisY": {
         "domain": false,
         "grid": false,
         "labelFontSize": 14,
         "titleFontSize": 14
        },
        "padding": {
         "bottom": 15,
         "left": 15,
         "right": 15,
         "top": 15
        },
        "title": {
         "fontSize": 18
        },
        "view": {
         "continuousHeight": 300,
         "continuousWidth": 300,
         "stroke": null
        }
       },
       "data": {
        "name": "data-be7b0cc36d76243752487a2516558cf3"
       },
       "datasets": {
        "data-be7b0cc36d76243752487a2516558cf3": [
         {
          "IsSubscribed": 1
         },
         {
          "IsSubscribed": 0
         },
         {
          "IsSubscribed": 1
         },
         {
          "IsSubscribed": 0
         },
         {
          "IsSubscribed": 0
         },
         {
          "IsSubscribed": 0
         },
         {
          "IsSubscribed": 1
         },
         {
          "IsSubscribed": 1
         },
         {
          "IsSubscribed": 1
         },
         {
          "IsSubscribed": 1
         },
         {
          "IsSubscribed": 0
         },
         {
          "IsSubscribed": 1
         },
         {
          "IsSubscribed": 1
         },
         {
          "IsSubscribed": 1
         },
         {
          "IsSubscribed": 1
         },
         {
          "IsSubscribed": 0
         },
         {
          "IsSubscribed": 0
         },
         {
          "IsSubscribed": 1
         },
         {
          "IsSubscribed": 0
         },
         {
          "IsSubscribed": 1
         },
         {
          "IsSubscribed": 1
         },
         {
          "IsSubscribed": 1
         },
         {
          "IsSubscribed": 1
         },
         {
          "IsSubscribed": 0
         },
         {
          "IsSubscribed": 0
         },
         {
          "IsSubscribed": 1
         },
         {
          "IsSubscribed": 0
         },
         {
          "IsSubscribed": 1
         },
         {
          "IsSubscribed": 1
         },
         {
          "IsSubscribed": 0
         },
         {
          "IsSubscribed": 1
         },
         {
          "IsSubscribed": 1
         },
         {
          "IsSubscribed": 1
         },
         {
          "IsSubscribed": 1
         },
         {
          "IsSubscribed": 1
         },
         {
          "IsSubscribed": 1
         },
         {
          "IsSubscribed": 1
         },
         {
          "IsSubscribed": 1
         },
         {
          "IsSubscribed": 1
         },
         {
          "IsSubscribed": 1
         },
         {
          "IsSubscribed": 1
         },
         {
          "IsSubscribed": 0
         },
         {
          "IsSubscribed": 1
         },
         {
          "IsSubscribed": 1
         },
         {
          "IsSubscribed": 0
         },
         {
          "IsSubscribed": 1
         },
         {
          "IsSubscribed": 0
         },
         {
          "IsSubscribed": 1
         },
         {
          "IsSubscribed": 1
         },
         {
          "IsSubscribed": 1
         },
         {
          "IsSubscribed": 1
         },
         {
          "IsSubscribed": 1
         },
         {
          "IsSubscribed": 1
         },
         {
          "IsSubscribed": 1
         },
         {
          "IsSubscribed": 1
         },
         {
          "IsSubscribed": 1
         },
         {
          "IsSubscribed": 1
         },
         {
          "IsSubscribed": 1
         },
         {
          "IsSubscribed": 1
         },
         {
          "IsSubscribed": 1
         },
         {
          "IsSubscribed": 1
         },
         {
          "IsSubscribed": 1
         },
         {
          "IsSubscribed": 1
         },
         {
          "IsSubscribed": 1
         },
         {
          "IsSubscribed": 1
         },
         {
          "IsSubscribed": 1
         },
         {
          "IsSubscribed": 0
         },
         {
          "IsSubscribed": 1
         },
         {
          "IsSubscribed": 1
         },
         {
          "IsSubscribed": 0
         },
         {
          "IsSubscribed": 1
         },
         {
          "IsSubscribed": 1
         },
         {
          "IsSubscribed": 1
         },
         {
          "IsSubscribed": 1
         },
         {
          "IsSubscribed": 1
         },
         {
          "IsSubscribed": 1
         },
         {
          "IsSubscribed": 0
         },
         {
          "IsSubscribed": 1
         },
         {
          "IsSubscribed": 1
         },
         {
          "IsSubscribed": 1
         },
         {
          "IsSubscribed": 1
         },
         {
          "IsSubscribed": 1
         },
         {
          "IsSubscribed": 1
         },
         {
          "IsSubscribed": 1
         },
         {
          "IsSubscribed": 1
         },
         {
          "IsSubscribed": 0
         },
         {
          "IsSubscribed": 1
         },
         {
          "IsSubscribed": 1
         },
         {
          "IsSubscribed": 1
         },
         {
          "IsSubscribed": 0
         },
         {
          "IsSubscribed": 1
         },
         {
          "IsSubscribed": 1
         },
         {
          "IsSubscribed": 1
         },
         {
          "IsSubscribed": 1
         },
         {
          "IsSubscribed": 1
         },
         {
          "IsSubscribed": 1
         },
         {
          "IsSubscribed": 0
         },
         {
          "IsSubscribed": 1
         },
         {
          "IsSubscribed": 1
         },
         {
          "IsSubscribed": 1
         },
         {
          "IsSubscribed": 1
         },
         {
          "IsSubscribed": 1
         },
         {
          "IsSubscribed": 1
         },
         {
          "IsSubscribed": 1
         },
         {
          "IsSubscribed": 0
         },
         {
          "IsSubscribed": 1
         },
         {
          "IsSubscribed": 1
         },
         {
          "IsSubscribed": 0
         },
         {
          "IsSubscribed": 1
         },
         {
          "IsSubscribed": 1
         },
         {
          "IsSubscribed": 1
         },
         {
          "IsSubscribed": 1
         },
         {
          "IsSubscribed": 1
         },
         {
          "IsSubscribed": 1
         },
         {
          "IsSubscribed": 1
         },
         {
          "IsSubscribed": 1
         },
         {
          "IsSubscribed": 1
         },
         {
          "IsSubscribed": 1
         },
         {
          "IsSubscribed": 1
         },
         {
          "IsSubscribed": 1
         },
         {
          "IsSubscribed": 1
         },
         {
          "IsSubscribed": 1
         },
         {
          "IsSubscribed": 1
         },
         {
          "IsSubscribed": 1
         },
         {
          "IsSubscribed": 1
         },
         {
          "IsSubscribed": 1
         },
         {
          "IsSubscribed": 1
         },
         {
          "IsSubscribed": 1
         },
         {
          "IsSubscribed": 1
         },
         {
          "IsSubscribed": 1
         },
         {
          "IsSubscribed": 1
         },
         {
          "IsSubscribed": 1
         },
         {
          "IsSubscribed": 1
         },
         {
          "IsSubscribed": 1
         },
         {
          "IsSubscribed": 1
         },
         {
          "IsSubscribed": 1
         },
         {
          "IsSubscribed": 1
         },
         {
          "IsSubscribed": 1
         },
         {
          "IsSubscribed": 1
         },
         {
          "IsSubscribed": 1
         },
         {
          "IsSubscribed": 1
         },
         {
          "IsSubscribed": 1
         },
         {
          "IsSubscribed": 1
         },
         {
          "IsSubscribed": 1
         },
         {
          "IsSubscribed": 1
         },
         {
          "IsSubscribed": 0
         },
         {
          "IsSubscribed": 1
         },
         {
          "IsSubscribed": 1
         },
         {
          "IsSubscribed": 1
         },
         {
          "IsSubscribed": 1
         },
         {
          "IsSubscribed": 1
         },
         {
          "IsSubscribed": 1
         },
         {
          "IsSubscribed": 1
         },
         {
          "IsSubscribed": 1
         },
         {
          "IsSubscribed": 1
         },
         {
          "IsSubscribed": 1
         },
         {
          "IsSubscribed": 1
         },
         {
          "IsSubscribed": 1
         },
         {
          "IsSubscribed": 1
         },
         {
          "IsSubscribed": 1
         },
         {
          "IsSubscribed": 1
         },
         {
          "IsSubscribed": 1
         },
         {
          "IsSubscribed": 1
         },
         {
          "IsSubscribed": 1
         },
         {
          "IsSubscribed": 1
         },
         {
          "IsSubscribed": 1
         },
         {
          "IsSubscribed": 1
         },
         {
          "IsSubscribed": 1
         },
         {
          "IsSubscribed": 1
         },
         {
          "IsSubscribed": 1
         },
         {
          "IsSubscribed": 1
         },
         {
          "IsSubscribed": 1
         },
         {
          "IsSubscribed": 1
         },
         {
          "IsSubscribed": 1
         },
         {
          "IsSubscribed": 1
         },
         {
          "IsSubscribed": 1
         },
         {
          "IsSubscribed": 1
         },
         {
          "IsSubscribed": 1
         },
         {
          "IsSubscribed": 1
         },
         {
          "IsSubscribed": 1
         },
         {
          "IsSubscribed": 1
         },
         {
          "IsSubscribed": 1
         },
         {
          "IsSubscribed": 1
         },
         {
          "IsSubscribed": 1
         },
         {
          "IsSubscribed": 1
         },
         {
          "IsSubscribed": 1
         },
         {
          "IsSubscribed": 1
         },
         {
          "IsSubscribed": 1
         },
         {
          "IsSubscribed": 1
         },
         {
          "IsSubscribed": 1
         },
         {
          "IsSubscribed": 1
         },
         {
          "IsSubscribed": 1
         },
         {
          "IsSubscribed": 1
         },
         {
          "IsSubscribed": 1
         },
         {
          "IsSubscribed": 1
         },
         {
          "IsSubscribed": 1
         },
         {
          "IsSubscribed": 1
         },
         {
          "IsSubscribed": 1
         },
         {
          "IsSubscribed": 1
         },
         {
          "IsSubscribed": 1
         },
         {
          "IsSubscribed": 1
         },
         {
          "IsSubscribed": 1
         },
         {
          "IsSubscribed": 0
         },
         {
          "IsSubscribed": 1
         },
         {
          "IsSubscribed": 1
         },
         {
          "IsSubscribed": 1
         },
         {
          "IsSubscribed": 1
         },
         {
          "IsSubscribed": 1
         }
        ]
       },
       "encoding": {
        "tooltip": [
         {
          "aggregate": "count",
          "type": "quantitative"
         }
        ],
        "x": {
         "axis": {
          "labelAngle": -45,
          "labelExpr": "datum.label == '1' ? 'Subscribed' : 'Not Subscribed'"
         },
         "field": "IsSubscribed",
         "sort": "-y",
         "type": "nominal"
        },
        "y": {
         "aggregate": "count",
         "type": "quantitative"
        }
       },
       "height": 300,
       "mark": {
        "type": "bar"
       },
       "width": 600
      },
      "text/plain": [
       "<VegaLite 5 object>\n",
       "\n",
       "If you see this message, it means the renderer has not been properly enabled\n",
       "for the frontend that you are using. For more information, see\n",
       "https://altair-viz.github.io/user_guide/display_frontends.html#troubleshooting\n"
      ]
     },
     "execution_count": 17,
     "metadata": {},
     "output_type": "execute_result"
    }
   ],
   "source": [
    "created_df = pd.concat([posts_df[[\"IsSubscribed\"]], comments_df[[\"IsSubscribed\"]]]).reset_index(drop=True)\n",
    "\n",
    "# Count the number of subscribed subs\n",
    "chart_subscribed = alt.Chart(created_df).mark_bar().encode(\n",
    "    alt.X(\"IsSubscribed:N\", sort=\"-y\", axis=alt.Axis(labelAngle=-45, labelExpr=\"datum.label == '1' ? 'Subscribed' : 'Not Subscribed'\")),\n",
    "    alt.Y(\"count()\"),\n",
    "    tooltip=[\"count()\"],  # Show the count when hovering over the bar\n",
    ").properties(\n",
    "    width=600,\n",
    "    height=300,\n",
    ").configure(\n",
    "    padding={\"left\": 15, \"right\": 15, \"top\": 15, \"bottom\": 15},\n",
    "    title={\"fontSize\": 18},\n",
    ").configure_view(\n",
    "    stroke=None,\n",
    ").configure_axisX(\n",
    "    labelFontSize=14,\n",
    "    titleFontSize=14,\n",
    "    grid=False,  # Remove the grid\n",
    "    domainWidth=2,  # Set the width of the axis line\n",
    "    domainColor=\"#000\"  # Set the color of the axis line\n",
    ").configure_axisY(\n",
    "    labelFontSize=14,\n",
    "    titleFontSize=14,\n",
    "    grid=False,  # Remove the grid\n",
    "    domain=False,  # Remove the axis line\n",
    ")\n",
    "\n",
    "chart_subscribed.save(\"figures/created/altair_subscribed_counts.html\")\n",
    "chart_subscribed.save(\"figures/img/created/altair_subscribed_counts.png\")\n",
    "chart_subscribed"
   ]
  },
  {
   "cell_type": "markdown",
   "id": "9a3ddc64",
   "metadata": {},
   "source": [
    "### Score Histograms\n",
    "\n",
    "istogram for the total score of the posts and comments that I have created.\n",
    "\n",
    "Even though scores are generally on the low side, there are some outliers with high scores. Therefore, I will both use a histogram with a selected range and a log histogram to see the distribution better. (The first two charts are interactive, you can select a range to see better.)"
   ]
  },
  {
   "cell_type": "code",
   "execution_count": 18,
   "id": "72c1c74d",
   "metadata": {},
   "outputs": [
    {
     "data": {
      "application/vnd.vegalite.v5+json": {
       "$schema": "https://vega.github.io/schema/vega-lite/v5.16.3.json",
       "config": {
        "axisX": {
         "domainColor": "#000",
         "domainWidth": 2,
         "grid": false,
         "labelFontSize": 14,
         "titleFontSize": 14
        },
        "axisY": {
         "domain": false,
         "grid": false,
         "labelFontSize": 14,
         "titleFontSize": 14
        },
        "padding": {
         "bottom": 15,
         "left": 15,
         "right": 15,
         "top": 15
        },
        "title": {
         "fontSize": 18
        },
        "view": {
         "continuousHeight": 300,
         "continuousWidth": 300,
         "stroke": null
        }
       },
       "datasets": {
        "data-c896e41f25901087f147df52671c785e": [
         {
          "Score": 3
         },
         {
          "Score": 2
         },
         {
          "Score": 3
         },
         {
          "Score": 1
         },
         {
          "Score": 2
         },
         {
          "Score": 1
         },
         {
          "Score": 60
         },
         {
          "Score": 12
         },
         {
          "Score": 10
         },
         {
          "Score": 2
         },
         {
          "Score": 1
         },
         {
          "Score": 2
         },
         {
          "Score": 8
         },
         {
          "Score": 7
         },
         {
          "Score": 1
         },
         {
          "Score": 0
         },
         {
          "Score": 6
         },
         {
          "Score": 3
         },
         {
          "Score": 4
         },
         {
          "Score": 16
         },
         {
          "Score": 1
         },
         {
          "Score": 1
         },
         {
          "Score": 19
         },
         {
          "Score": 3
         },
         {
          "Score": 1
         },
         {
          "Score": 18
         },
         {
          "Score": 1
         },
         {
          "Score": 29
         },
         {
          "Score": 329
         },
         {
          "Score": 1
         },
         {
          "Score": 7
         },
         {
          "Score": 4
         },
         {
          "Score": 1
         },
         {
          "Score": 2
         },
         {
          "Score": 1
         },
         {
          "Score": 2
         },
         {
          "Score": 1
         },
         {
          "Score": 1
         },
         {
          "Score": 1
         },
         {
          "Score": 11
         },
         {
          "Score": 5
         },
         {
          "Score": 2
         },
         {
          "Score": 3
         },
         {
          "Score": -2
         },
         {
          "Score": 1
         },
         {
          "Score": 14
         },
         {
          "Score": 1
         },
         {
          "Score": 6
         },
         {
          "Score": 15
         },
         {
          "Score": 1
         },
         {
          "Score": 1
         },
         {
          "Score": 14
         },
         {
          "Score": 8
         },
         {
          "Score": 23
         },
         {
          "Score": 1
         },
         {
          "Score": 2
         },
         {
          "Score": 1
         },
         {
          "Score": 1
         },
         {
          "Score": 5
         },
         {
          "Score": 2
         },
         {
          "Score": 6
         },
         {
          "Score": 1
         },
         {
          "Score": 1
         },
         {
          "Score": 3
         },
         {
          "Score": 1
         },
         {
          "Score": 17
         },
         {
          "Score": 1
         },
         {
          "Score": 12
         },
         {
          "Score": 1
         },
         {
          "Score": 1
         },
         {
          "Score": 3
         },
         {
          "Score": 1
         },
         {
          "Score": 1
         },
         {
          "Score": 2
         },
         {
          "Score": 1
         },
         {
          "Score": 1
         },
         {
          "Score": 1
         },
         {
          "Score": 3
         },
         {
          "Score": 1
         },
         {
          "Score": 20
         },
         {
          "Score": 3
         },
         {
          "Score": 1
         },
         {
          "Score": 1
         },
         {
          "Score": 2
         },
         {
          "Score": 14
         },
         {
          "Score": 1
         },
         {
          "Score": 1
         },
         {
          "Score": 2
         },
         {
          "Score": 3
         },
         {
          "Score": 1
         },
         {
          "Score": 7
         },
         {
          "Score": 1
         },
         {
          "Score": 1
         },
         {
          "Score": 2
         },
         {
          "Score": 2
         },
         {
          "Score": 2
         },
         {
          "Score": 1
         },
         {
          "Score": 1
         },
         {
          "Score": 3
         },
         {
          "Score": 9
         },
         {
          "Score": 4
         },
         {
          "Score": 1
         },
         {
          "Score": 1
         },
         {
          "Score": 3
         },
         {
          "Score": 12
         },
         {
          "Score": 89
         },
         {
          "Score": 1
         },
         {
          "Score": 1
         },
         {
          "Score": 170
         },
         {
          "Score": 2
         },
         {
          "Score": 9
         },
         {
          "Score": 3
         },
         {
          "Score": 3
         },
         {
          "Score": 1
         },
         {
          "Score": 1
         },
         {
          "Score": 1
         },
         {
          "Score": 2
         },
         {
          "Score": 10
         },
         {
          "Score": 1
         },
         {
          "Score": 2
         },
         {
          "Score": 10
         },
         {
          "Score": 6
         },
         {
          "Score": 0
         },
         {
          "Score": 3
         },
         {
          "Score": 8
         },
         {
          "Score": 1
         },
         {
          "Score": 6
         },
         {
          "Score": 51
         },
         {
          "Score": 1
         },
         {
          "Score": 16
         },
         {
          "Score": 8
         },
         {
          "Score": 4
         },
         {
          "Score": 3
         },
         {
          "Score": 1
         },
         {
          "Score": 2
         },
         {
          "Score": 8
         },
         {
          "Score": 1
         },
         {
          "Score": 48
         },
         {
          "Score": 6
         },
         {
          "Score": 6
         },
         {
          "Score": -1
         },
         {
          "Score": 5
         },
         {
          "Score": 1
         },
         {
          "Score": 2
         },
         {
          "Score": 1
         },
         {
          "Score": 1
         },
         {
          "Score": 7
         },
         {
          "Score": 3
         },
         {
          "Score": 2
         },
         {
          "Score": 2
         },
         {
          "Score": 2
         },
         {
          "Score": 112
         },
         {
          "Score": 1
         },
         {
          "Score": 4
         },
         {
          "Score": 1
         },
         {
          "Score": 4
         },
         {
          "Score": 40
         },
         {
          "Score": 1
         },
         {
          "Score": 22
         },
         {
          "Score": 1
         },
         {
          "Score": 2
         },
         {
          "Score": 2
         },
         {
          "Score": 1
         },
         {
          "Score": 5
         },
         {
          "Score": 2
         },
         {
          "Score": 2
         },
         {
          "Score": 2
         },
         {
          "Score": 1
         },
         {
          "Score": 13
         },
         {
          "Score": 1
         },
         {
          "Score": 1
         },
         {
          "Score": 1
         },
         {
          "Score": 3
         },
         {
          "Score": 1
         },
         {
          "Score": 1
         },
         {
          "Score": 1
         },
         {
          "Score": 35
         },
         {
          "Score": 4
         },
         {
          "Score": 5
         },
         {
          "Score": 8
         },
         {
          "Score": 4
         },
         {
          "Score": 5
         },
         {
          "Score": 3
         },
         {
          "Score": 8
         },
         {
          "Score": 30
         },
         {
          "Score": 1
         },
         {
          "Score": 3
         },
         {
          "Score": 3
         },
         {
          "Score": 1
         },
         {
          "Score": 16
         },
         {
          "Score": 1
         },
         {
          "Score": 3
         },
         {
          "Score": 4
         },
         {
          "Score": 1
         },
         {
          "Score": 1
         },
         {
          "Score": 2
         },
         {
          "Score": 5
         },
         {
          "Score": 30
         },
         {
          "Score": 2
         },
         {
          "Score": 1
         },
         {
          "Score": 3
         },
         {
          "Score": 1
         },
         {
          "Score": 1
         },
         {
          "Score": -1
         },
         {
          "Score": 2
         },
         {
          "Score": 1
         },
         {
          "Score": 1
         },
         {
          "Score": 2
         }
        ],
        "data-edcfb0b1ab48a739a4dccce633cf3ce7": [
         {
          "Score": 0.47712125471966244
         },
         {
          "Score": 0.3010299956639812
         },
         {
          "Score": 0.47712125471966244
         },
         {
          "Score": 0
         },
         {
          "Score": 0.3010299956639812
         },
         {
          "Score": 0
         },
         {
          "Score": 1.7781512503836436
         },
         {
          "Score": 1.0791812460476249
         },
         {
          "Score": 1
         },
         {
          "Score": 0.3010299956639812
         },
         {
          "Score": 0
         },
         {
          "Score": 0.3010299956639812
         },
         {
          "Score": 0.9030899869919435
         },
         {
          "Score": 0.8450980400142568
         },
         {
          "Score": 0
         },
         {
          "Score": 0
         },
         {
          "Score": 0.7781512503836436
         },
         {
          "Score": 0.47712125471966244
         },
         {
          "Score": 0.6020599913279624
         },
         {
          "Score": 1.2041199826559248
         },
         {
          "Score": 0
         },
         {
          "Score": 0
         },
         {
          "Score": 1.2787536009528289
         },
         {
          "Score": 0.47712125471966244
         },
         {
          "Score": 0
         },
         {
          "Score": 1.255272505103306
         },
         {
          "Score": 0
         },
         {
          "Score": 1.462397997898956
         },
         {
          "Score": 2.5171958979499744
         },
         {
          "Score": 0
         },
         {
          "Score": 0.8450980400142568
         },
         {
          "Score": 0.6020599913279624
         },
         {
          "Score": 0
         },
         {
          "Score": 0.3010299956639812
         },
         {
          "Score": 0
         },
         {
          "Score": 0.3010299956639812
         },
         {
          "Score": 0
         },
         {
          "Score": 0
         },
         {
          "Score": 0
         },
         {
          "Score": 1.0413926851582251
         },
         {
          "Score": 0.6989700043360189
         },
         {
          "Score": 0.3010299956639812
         },
         {
          "Score": 0.47712125471966244
         },
         {
          "Score": 0
         },
         {
          "Score": 0
         },
         {
          "Score": 1.146128035678238
         },
         {
          "Score": 0
         },
         {
          "Score": 0.7781512503836436
         },
         {
          "Score": 1.1760912590556813
         },
         {
          "Score": 0
         },
         {
          "Score": 0
         },
         {
          "Score": 1.146128035678238
         },
         {
          "Score": 0.9030899869919435
         },
         {
          "Score": 1.3617278360175928
         },
         {
          "Score": 0
         },
         {
          "Score": 0.3010299956639812
         },
         {
          "Score": 0
         },
         {
          "Score": 0
         },
         {
          "Score": 0.6989700043360189
         },
         {
          "Score": 0.3010299956639812
         },
         {
          "Score": 0.7781512503836436
         },
         {
          "Score": 0
         },
         {
          "Score": 0
         },
         {
          "Score": 0.47712125471966244
         },
         {
          "Score": 0
         },
         {
          "Score": 1.2304489213782739
         },
         {
          "Score": 0
         },
         {
          "Score": 1.0791812460476249
         },
         {
          "Score": 0
         },
         {
          "Score": 0
         },
         {
          "Score": 0.47712125471966244
         },
         {
          "Score": 0
         },
         {
          "Score": 0
         },
         {
          "Score": 0.3010299956639812
         },
         {
          "Score": 0
         },
         {
          "Score": 0
         },
         {
          "Score": 0
         },
         {
          "Score": 0.47712125471966244
         },
         {
          "Score": 0
         },
         {
          "Score": 1.3010299956639813
         },
         {
          "Score": 0.47712125471966244
         },
         {
          "Score": 0
         },
         {
          "Score": 0
         },
         {
          "Score": 0.3010299956639812
         },
         {
          "Score": 1.146128035678238
         },
         {
          "Score": 0
         },
         {
          "Score": 0
         },
         {
          "Score": 0.3010299956639812
         },
         {
          "Score": 0.47712125471966244
         },
         {
          "Score": 0
         },
         {
          "Score": 0.8450980400142568
         },
         {
          "Score": 0
         },
         {
          "Score": 0
         },
         {
          "Score": 0.3010299956639812
         },
         {
          "Score": 0.3010299956639812
         },
         {
          "Score": 0.3010299956639812
         },
         {
          "Score": 0
         },
         {
          "Score": 0
         },
         {
          "Score": 0.47712125471966244
         },
         {
          "Score": 0.9542425094393249
         },
         {
          "Score": 0.6020599913279624
         },
         {
          "Score": 0
         },
         {
          "Score": 0
         },
         {
          "Score": 0.47712125471966244
         },
         {
          "Score": 1.0791812460476249
         },
         {
          "Score": 1.9493900066449128
         },
         {
          "Score": 0
         },
         {
          "Score": 0
         },
         {
          "Score": 2.230448921378274
         },
         {
          "Score": 0.3010299956639812
         },
         {
          "Score": 0.9542425094393249
         },
         {
          "Score": 0.47712125471966244
         },
         {
          "Score": 0.47712125471966244
         },
         {
          "Score": 0
         },
         {
          "Score": 0
         },
         {
          "Score": 0
         },
         {
          "Score": 0.3010299956639812
         },
         {
          "Score": 1
         },
         {
          "Score": 0
         },
         {
          "Score": 0.3010299956639812
         },
         {
          "Score": 1
         },
         {
          "Score": 0.7781512503836436
         },
         {
          "Score": 0
         },
         {
          "Score": 0.47712125471966244
         },
         {
          "Score": 0.9030899869919435
         },
         {
          "Score": 0
         },
         {
          "Score": 0.7781512503836436
         },
         {
          "Score": 1.7075701760979363
         },
         {
          "Score": 0
         },
         {
          "Score": 1.2041199826559248
         },
         {
          "Score": 0.9030899869919435
         },
         {
          "Score": 0.6020599913279624
         },
         {
          "Score": 0.47712125471966244
         },
         {
          "Score": 0
         },
         {
          "Score": 0.3010299956639812
         },
         {
          "Score": 0.9030899869919435
         },
         {
          "Score": 0
         },
         {
          "Score": 1.6812412373755872
         },
         {
          "Score": 0.7781512503836436
         },
         {
          "Score": 0.7781512503836436
         },
         {
          "Score": 0
         },
         {
          "Score": 0.6989700043360189
         },
         {
          "Score": 0
         },
         {
          "Score": 0.3010299956639812
         },
         {
          "Score": 0
         },
         {
          "Score": 0
         },
         {
          "Score": 0.8450980400142568
         },
         {
          "Score": 0.47712125471966244
         },
         {
          "Score": 0.3010299956639812
         },
         {
          "Score": 0.3010299956639812
         },
         {
          "Score": 0.3010299956639812
         },
         {
          "Score": 2.0492180226701815
         },
         {
          "Score": 0
         },
         {
          "Score": 0.6020599913279624
         },
         {
          "Score": 0
         },
         {
          "Score": 0.6020599913279624
         },
         {
          "Score": 1.6020599913279623
         },
         {
          "Score": 0
         },
         {
          "Score": 1.3424226808222062
         },
         {
          "Score": 0
         },
         {
          "Score": 0.3010299956639812
         },
         {
          "Score": 0.3010299956639812
         },
         {
          "Score": 0
         },
         {
          "Score": 0.6989700043360189
         },
         {
          "Score": 0.3010299956639812
         },
         {
          "Score": 0.3010299956639812
         },
         {
          "Score": 0.3010299956639812
         },
         {
          "Score": 0
         },
         {
          "Score": 1.1139433523068367
         },
         {
          "Score": 0
         },
         {
          "Score": 0
         },
         {
          "Score": 0
         },
         {
          "Score": 0.47712125471966244
         },
         {
          "Score": 0
         },
         {
          "Score": 0
         },
         {
          "Score": 0
         },
         {
          "Score": 1.5440680443502757
         },
         {
          "Score": 0.6020599913279624
         },
         {
          "Score": 0.6989700043360189
         },
         {
          "Score": 0.9030899869919435
         },
         {
          "Score": 0.6020599913279624
         },
         {
          "Score": 0.6989700043360189
         },
         {
          "Score": 0.47712125471966244
         },
         {
          "Score": 0.9030899869919435
         },
         {
          "Score": 1.4771212547196624
         },
         {
          "Score": 0
         },
         {
          "Score": 0.47712125471966244
         },
         {
          "Score": 0.47712125471966244
         },
         {
          "Score": 0
         },
         {
          "Score": 1.2041199826559248
         },
         {
          "Score": 0
         },
         {
          "Score": 0.47712125471966244
         },
         {
          "Score": 0.6020599913279624
         },
         {
          "Score": 0
         },
         {
          "Score": 0
         },
         {
          "Score": 0.3010299956639812
         },
         {
          "Score": 0.6989700043360189
         },
         {
          "Score": 1.4771212547196624
         },
         {
          "Score": 0.3010299956639812
         },
         {
          "Score": 0
         },
         {
          "Score": 0.47712125471966244
         },
         {
          "Score": 0
         },
         {
          "Score": 0
         },
         {
          "Score": 0
         },
         {
          "Score": 0.3010299956639812
         },
         {
          "Score": 0
         },
         {
          "Score": 0
         },
         {
          "Score": 0.3010299956639812
         }
        ]
       },
       "params": [
        {
         "name": "param_2",
         "select": {
          "encodings": [
           "x"
          ],
          "type": "interval"
         },
         "views": [
          "view_3"
         ]
        }
       ],
       "vconcat": [
        {
         "data": {
          "name": "data-c896e41f25901087f147df52671c785e"
         },
         "encoding": {
          "tooltip": [
           {
            "aggregate": "count",
            "type": "quantitative"
           }
          ],
          "x": {
           "bin": {
            "extent": [
             -2,
             329
            ]
           },
           "field": "Score",
           "type": "quantitative"
          },
          "y": {
           "aggregate": "count",
           "type": "quantitative"
          }
         },
         "height": 400,
         "mark": {
          "type": "bar"
         },
         "name": "view_3",
         "title": "All Scores",
         "width": 1200
        },
        {
         "data": {
          "name": "data-c896e41f25901087f147df52671c785e"
         },
         "encoding": {
          "tooltip": [
           {
            "aggregate": "count",
            "type": "quantitative"
           }
          ],
          "x": {
           "bin": {
            "maxbins": 7
           },
           "field": "Score",
           "type": "quantitative"
          },
          "y": {
           "aggregate": "count",
           "type": "quantitative"
          }
         },
         "height": 400,
         "mark": {
          "type": "bar"
         },
         "transform": [
          {
           "filter": {
            "param": "param_2"
           }
          }
         ],
         "width": 1200
        },
        {
         "data": {
          "name": "data-edcfb0b1ab48a739a4dccce633cf3ce7"
         },
         "encoding": {
          "tooltip": [
           {
            "aggregate": "count",
            "type": "quantitative"
           }
          ],
          "x": {
           "axis": {
            "labelExpr": "datum.value == round(datum.value) ? pow(10, datum.value) : ''"
           },
           "bin": {},
           "field": "Score",
           "title": "Score (log10 spacing)",
           "type": "quantitative"
          },
          "y": {
           "aggregate": "count",
           "type": "quantitative"
          }
         },
         "height": 400,
         "mark": {
          "type": "bar"
         },
         "title": "Total Scores (log10 spacing)",
         "width": 1200
        }
       ]
      },
      "text/plain": [
       "<VegaLite 5 object>\n",
       "\n",
       "If you see this message, it means the renderer has not been properly enabled\n",
       "for the frontend that you are using. For more information, see\n",
       "https://altair-viz.github.io/user_guide/display_frontends.html#troubleshooting\n"
      ]
     },
     "execution_count": 18,
     "metadata": {},
     "output_type": "execute_result"
    }
   ],
   "source": [
    "# Concat\n",
    "scores = pd.concat([posts_df[[\"Score\"]], comments_df[[\"Score\"]]]).dropna().reset_index(drop=True)\n",
    "\n",
    "brush = alt.selection_interval(encodings=['x'])\n",
    "# Create a histogram for the net votes\n",
    "chart_scores_1 = alt.Chart(scores).mark_bar().encode(\n",
    "    x=alt.X(\"Score:Q\").bin(alt.Bin(extent=[scores[\"Score\"].min(), scores[\"Score\"].max()])),\n",
    "    y=alt.Y(\"count()\"),\n",
    "    tooltip=[\"count()\"],  # Show the count when hovering over the bar\n",
    ").properties(\n",
    "    width=1200,\n",
    "    height=400,\n",
    "    title=\"All Scores\",\n",
    ").add_params(\n",
    "    brush\n",
    ")\n",
    "\n",
    "chart_scores_2 = alt.Chart(scores).mark_bar().encode(\n",
    "    x=alt.X(\"Score:Q\").bin(alt.Bin(maxbins=7)),\n",
    "    y=alt.Y(\"count()\"),\n",
    "    tooltip=[\"count()\"],  # Show the count when hovering over the bar\n",
    ").properties(\n",
    "    width=1200,\n",
    "    height=400,\n",
    ").transform_filter(\n",
    "    brush\n",
    ")\n",
    "\n",
    "scores_logged = scores.copy()\n",
    "scores_logged[\"Score\"] = scores_logged[\"Score\"].map(lambda x: np.log10(x) if x > 0 else 0)\n",
    "chart_scores_log = alt.Chart(scores_logged).mark_bar().encode(\n",
    "    x=alt.X(\"Score:Q\", title=\"Score (log10 spacing)\", axis=alt.Axis(labelExpr=\"datum.value == round(datum.value) ? pow(10, datum.value) : ''\")).bin(),\n",
    "    y=alt.Y(\"count()\"),\n",
    "    tooltip=[\"count()\"],  # Show the count when hovering over the bar\n",
    ").properties(\n",
    "    width=1200,\n",
    "    height=400,\n",
    "    title=\"Total Scores (log10 spacing)\",\n",
    ")\n",
    "\n",
    "chart_scores = alt.vconcat(chart_scores_1, chart_scores_2, chart_scores_log).configure(\n",
    "    padding={\"left\": 15, \"right\": 15, \"top\": 15, \"bottom\": 15},\n",
    "    title={\"fontSize\": 18},\n",
    ").configure_view(\n",
    "    stroke=None,\n",
    ").configure_axisX(\n",
    "    labelFontSize=14,\n",
    "    titleFontSize=14,\n",
    "    grid=False,  # Remove the grid\n",
    "    domainWidth=2,  # Set the width of the axis line\n",
    "    domainColor=\"#000\"  # Set the color of the axis line\n",
    ").configure_axisY(\n",
    "    labelFontSize=14,\n",
    "    titleFontSize=14,\n",
    "    grid=False,  # Remove the grid\n",
    "    domain=False,  # Remove the axis line\n",
    ")\n",
    "\n",
    "chart_scores"
   ]
  },
  {
   "cell_type": "code",
   "execution_count": 19,
   "id": "34dc5ef9",
   "metadata": {},
   "outputs": [],
   "source": [
    "# Save the charts\n",
    "\n",
    "ch = (chart_scores_1 | chart_scores_2).configure(\n",
    "    padding={\"left\": 15, \"right\": 15, \"top\": 15, \"bottom\": 15},\n",
    "    title={\"fontSize\": 18},\n",
    ").configure_view(\n",
    "    stroke=None,\n",
    ").configure_axisX(\n",
    "    labelFontSize=14,\n",
    "    titleFontSize=14,\n",
    "    grid=False,  # Remove the grid\n",
    "    domainWidth=2,  # Set the width of the axis line\n",
    "    domainColor=\"#000\"  # Set the color of the axis line\n",
    ").configure_axisY(\n",
    "    labelFontSize=14,\n",
    "    titleFontSize=14,\n",
    "    grid=False,  # Remove the grid\n",
    "    domain=False,  # Remove the axis line\n",
    ")\n",
    "chart_scores_log = chart_scores_log.configure(\n",
    "    padding={\"left\": 15, \"right\": 15, \"top\": 15, \"bottom\": 15},\n",
    "    title={\"fontSize\": 18},\n",
    ").configure_view(\n",
    "    stroke=None,\n",
    ").configure_axisX(\n",
    "    labelFontSize=14,\n",
    "    titleFontSize=14,\n",
    "    grid=False,  # Remove the grid\n",
    "    domainWidth=2,  # Set the width of the axis line\n",
    "    domainColor=\"#000\"  # Set the color of the axis line\n",
    ").configure_axisY(\n",
    "    labelFontSize=14,\n",
    "    titleFontSize=14,\n",
    "    grid=False,  # Remove the grid\n",
    "    domain=False,  # Remove the axis line\n",
    ")\n",
    "\n",
    "ch.save(\"figures/created/altair_scores_interactive.html\")\n",
    "chart_scores_log.save(\"figures/created/altair_scores_log.html\")\n",
    "chart_scores_log.save(\"figures/img/voted/altair_post_scores_log.png\")"
   ]
  },
  {
   "cell_type": "markdown",
   "id": "33e89d32",
   "metadata": {},
   "source": [
    "### If I comment on my own posts\n",
    "\n",
    "Count the number of comments that I have made on my own posts/others' posts and visualize them in a bar chart."
   ]
  },
  {
   "cell_type": "code",
   "execution_count": 20,
   "id": "fbd0e9f7",
   "metadata": {},
   "outputs": [
    {
     "data": {
      "application/vnd.vegalite.v5+json": {
       "$schema": "https://vega.github.io/schema/vega-lite/v5.16.3.json",
       "config": {
        "axisX": {
         "domainColor": "#000",
         "domainWidth": 2,
         "grid": false,
         "labelFontSize": 14,
         "titleFontSize": 14
        },
        "axisY": {
         "domain": false,
         "grid": false,
         "labelFontSize": 14,
         "titleFontSize": 14
        },
        "padding": {
         "bottom": 15,
         "left": 15,
         "right": 15,
         "top": 15
        },
        "title": {
         "fontSize": 18
        },
        "view": {
         "continuousHeight": 300,
         "continuousWidth": 300,
         "stroke": null
        }
       },
       "data": {
        "name": "data-eacd6e4278fb0a21aa1deabf55113d89"
       },
       "datasets": {
        "data-eacd6e4278fb0a21aa1deabf55113d89": [
         {
          "ID": "j7jy563",
          "IsPostOwned": 1,
          "IsSubscribed": 1,
          "Score": 7,
          "Subreddit": "startrek"
         },
         {
          "ID": "j7k0fm0",
          "IsPostOwned": 0,
          "IsSubscribed": 1,
          "Score": 4,
          "Subreddit": "startrek"
         },
         {
          "ID": "jo77dm4",
          "IsPostOwned": 0,
          "IsSubscribed": 1,
          "Score": 1,
          "Subreddit": "veYakinEvren"
         },
         {
          "ID": "jr1sd8q",
          "IsPostOwned": 0,
          "IsSubscribed": 1,
          "Score": 2,
          "Subreddit": "veYakinEvren"
         },
         {
          "ID": "j7yb85s",
          "IsPostOwned": 0,
          "IsSubscribed": 1,
          "Score": 1,
          "Subreddit": "gaming"
         },
         {
          "ID": "j89nsid",
          "IsPostOwned": 0,
          "IsSubscribed": 1,
          "Score": 2,
          "Subreddit": "veYakinEvren"
         },
         {
          "ID": "jo78aae",
          "IsPostOwned": 0,
          "IsSubscribed": 1,
          "Score": 1,
          "Subreddit": "veYakinEvren"
         },
         {
          "ID": "jeb5ul8",
          "IsPostOwned": 0,
          "IsSubscribed": 1,
          "Score": 1,
          "Subreddit": "veYakinEvren"
         },
         {
          "ID": "j7w036m",
          "IsPostOwned": 1,
          "IsSubscribed": 1,
          "Score": 1,
          "Subreddit": "startrekmemes"
         },
         {
          "ID": "j7jxnof",
          "IsPostOwned": 1,
          "IsSubscribed": 1,
          "Score": 11,
          "Subreddit": "startrek"
         },
         {
          "ID": "i6n7ir4",
          "IsPostOwned": 0,
          "IsSubscribed": 1,
          "Score": 5,
          "Subreddit": "ProgrammerHumor"
         },
         {
          "ID": "gqp3r4z",
          "IsPostOwned": 1,
          "IsSubscribed": 0,
          "Score": 2,
          "Subreddit": "NintendoDSi"
         },
         {
          "ID": "jo73kfc",
          "IsPostOwned": 0,
          "IsSubscribed": 1,
          "Score": 3,
          "Subreddit": "veYakinEvren"
         },
         {
          "ID": "jr1thyi",
          "IsPostOwned": 0,
          "IsSubscribed": 1,
          "Score": -2,
          "Subreddit": "seinfeld"
         },
         {
          "ID": "ibgmn8t",
          "IsPostOwned": 1,
          "IsSubscribed": 0,
          "Score": 1,
          "Subreddit": "flashcarts"
         },
         {
          "ID": "jm1dflb",
          "IsPostOwned": 0,
          "IsSubscribed": 1,
          "Score": 14,
          "Subreddit": "GreekMythology"
         },
         {
          "ID": "hn8deeq",
          "IsPostOwned": 1,
          "IsSubscribed": 0,
          "Score": 1,
          "Subreddit": "flashcarts"
         },
         {
          "ID": "j7lf5f7",
          "IsPostOwned": 0,
          "IsSubscribed": 1,
          "Score": 6,
          "Subreddit": "seinfeld"
         },
         {
          "ID": "jqm5w6t",
          "IsPostOwned": 0,
          "IsSubscribed": 1,
          "Score": 15,
          "Subreddit": "TheLastAirbender"
         },
         {
          "ID": "jadaxq3",
          "IsPostOwned": 0,
          "IsSubscribed": 1,
          "Score": 1,
          "Subreddit": "gaming"
         },
         {
          "ID": "i799ge4",
          "IsPostOwned": 0,
          "IsSubscribed": 1,
          "Score": 1,
          "Subreddit": "ProgrammerHumor"
         },
         {
          "ID": "j7leszi",
          "IsPostOwned": 0,
          "IsSubscribed": 1,
          "Score": 14,
          "Subreddit": "seinfeld"
         },
         {
          "ID": "jft1nhx",
          "IsPostOwned": 0,
          "IsSubscribed": 1,
          "Score": 8,
          "Subreddit": "veYakinEvren"
         },
         {
          "ID": "iosst35",
          "IsPostOwned": 0,
          "IsSubscribed": 1,
          "Score": 23,
          "Subreddit": "mathmemes"
         },
         {
          "ID": "j7lhohw",
          "IsPostOwned": 0,
          "IsSubscribed": 1,
          "Score": 1,
          "Subreddit": "seinfeld"
         },
         {
          "ID": "isamb3q",
          "IsPostOwned": 0,
          "IsSubscribed": 1,
          "Score": 2,
          "Subreddit": "gaming"
         },
         {
          "ID": "j7thoau",
          "IsPostOwned": 0,
          "IsSubscribed": 1,
          "Score": 1,
          "Subreddit": "gaming"
         },
         {
          "ID": "j7r2k3s",
          "IsPostOwned": 1,
          "IsSubscribed": 1,
          "Score": 1,
          "Subreddit": "startrek"
         },
         {
          "ID": "j7lecvr",
          "IsPostOwned": 1,
          "IsSubscribed": 1,
          "Score": 5,
          "Subreddit": "startrek"
         },
         {
          "ID": "hz17rd8",
          "IsPostOwned": 0,
          "IsSubscribed": 1,
          "Score": 2,
          "Subreddit": "veYakinEvren"
         },
         {
          "ID": "j8a4ew2",
          "IsPostOwned": 0,
          "IsSubscribed": 1,
          "Score": 6,
          "Subreddit": "SatisfactoryGame"
         },
         {
          "ID": "jqmx4jy",
          "IsPostOwned": 0,
          "IsSubscribed": 1,
          "Score": 1,
          "Subreddit": "TheLastAirbender"
         },
         {
          "ID": "iu0fr67",
          "IsPostOwned": 0,
          "IsSubscribed": 1,
          "Score": 1,
          "Subreddit": "seinfeld"
         },
         {
          "ID": "j7lvgb5",
          "IsPostOwned": 1,
          "IsSubscribed": 1,
          "Score": 3,
          "Subreddit": "startrek"
         },
         {
          "ID": "jffru4y",
          "IsPostOwned": 0,
          "IsSubscribed": 1,
          "Score": 1,
          "Subreddit": "seinfeld"
         },
         {
          "ID": "j7jy34j",
          "IsPostOwned": 1,
          "IsSubscribed": 1,
          "Score": 17,
          "Subreddit": "startrek"
         },
         {
          "ID": "gqp9qvp",
          "IsPostOwned": 1,
          "IsSubscribed": 0,
          "Score": 1,
          "Subreddit": "NintendoDSi"
         },
         {
          "ID": "g2hth06",
          "IsPostOwned": 0,
          "IsSubscribed": 1,
          "Score": 12,
          "Subreddit": "veYakinEvren"
         },
         {
          "ID": "j7vvask",
          "IsPostOwned": 0,
          "IsSubscribed": 1,
          "Score": 1,
          "Subreddit": "seinfeld"
         },
         {
          "ID": "gqp8o65",
          "IsPostOwned": 1,
          "IsSubscribed": 0,
          "Score": 1,
          "Subreddit": "NintendoDSi"
         },
         {
          "ID": "j7r2ezp",
          "IsPostOwned": 1,
          "IsSubscribed": 1,
          "Score": 3,
          "Subreddit": "startrek"
         },
         {
          "ID": "j80cwgw",
          "IsPostOwned": 1,
          "IsSubscribed": 1,
          "Score": 1,
          "Subreddit": "startrek"
         },
         {
          "ID": "j7r634y",
          "IsPostOwned": 1,
          "IsSubscribed": 1,
          "Score": 1,
          "Subreddit": "startrek"
         },
         {
          "ID": "h5urnfo",
          "IsPostOwned": 0,
          "IsSubscribed": 1,
          "Score": 2,
          "Subreddit": "veYakinEvren"
         },
         {
          "ID": "gqrj6g5",
          "IsPostOwned": 1,
          "IsSubscribed": 1,
          "Score": 1,
          "Subreddit": "consolerepair"
         },
         {
          "ID": "j7r7g4o",
          "IsPostOwned": 1,
          "IsSubscribed": 1,
          "Score": 1,
          "Subreddit": "startrek"
         },
         {
          "ID": "jeb5dgq",
          "IsPostOwned": 0,
          "IsSubscribed": 0,
          "Score": 1,
          "Subreddit": "webdev"
         },
         {
          "ID": "j7r27hp",
          "IsPostOwned": 1,
          "IsSubscribed": 1,
          "Score": 3,
          "Subreddit": "startrek"
         },
         {
          "ID": "j7tmkj4",
          "IsPostOwned": 0,
          "IsSubscribed": 1,
          "Score": 1,
          "Subreddit": "gaming"
         },
         {
          "ID": "jm1enaq",
          "IsPostOwned": 0,
          "IsSubscribed": 1,
          "Score": 20,
          "Subreddit": "GreekMythology"
         },
         {
          "ID": "jqhysfr",
          "IsPostOwned": 0,
          "IsSubscribed": 1,
          "Score": 3,
          "Subreddit": "TheLastAirbender"
         },
         {
          "ID": "gk74by2",
          "IsPostOwned": 1,
          "IsSubscribed": 1,
          "Score": 1,
          "Subreddit": "veYakinEvren"
         },
         {
          "ID": "jj0e7p7",
          "IsPostOwned": 0,
          "IsSubscribed": 1,
          "Score": 1,
          "Subreddit": "veYakinEvren"
         },
         {
          "ID": "j1ym54u",
          "IsPostOwned": 1,
          "IsSubscribed": 1,
          "Score": 2,
          "Subreddit": "consolerepair"
         },
         {
          "ID": "jrxgqyo",
          "IsPostOwned": 0,
          "IsSubscribed": 1,
          "Score": 14,
          "Subreddit": "startrekmemes"
         },
         {
          "ID": "iy4t7k8",
          "IsPostOwned": 1,
          "IsSubscribed": 0,
          "Score": 1,
          "Subreddit": "GenP"
         },
         {
          "ID": "jr1t3m4",
          "IsPostOwned": 0,
          "IsSubscribed": 1,
          "Score": 1,
          "Subreddit": "yugioh"
         },
         {
          "ID": "jj0esul",
          "IsPostOwned": 0,
          "IsSubscribed": 1,
          "Score": 2,
          "Subreddit": "veYakinEvren"
         },
         {
          "ID": "jarbm3b",
          "IsPostOwned": 0,
          "IsSubscribed": 1,
          "Score": 3,
          "Subreddit": "TheLastAirbender"
         },
         {
          "ID": "jedh9y0",
          "IsPostOwned": 0,
          "IsSubscribed": 0,
          "Score": 1,
          "Subreddit": "webdev"
         },
         {
          "ID": "j7rj0rh",
          "IsPostOwned": 0,
          "IsSubscribed": 1,
          "Score": 7,
          "Subreddit": "SatisfactoryGame"
         },
         {
          "ID": "iblio4g",
          "IsPostOwned": 1,
          "IsSubscribed": 1,
          "Score": 1,
          "Subreddit": "consolerepair"
         },
         {
          "ID": "j7vt6zq",
          "IsPostOwned": 0,
          "IsSubscribed": 1,
          "Score": 1,
          "Subreddit": "startrek"
         },
         {
          "ID": "jr1t19j",
          "IsPostOwned": 0,
          "IsSubscribed": 1,
          "Score": 2,
          "Subreddit": "yugioh"
         },
         {
          "ID": "h5urpnt",
          "IsPostOwned": 0,
          "IsSubscribed": 1,
          "Score": 2,
          "Subreddit": "veYakinEvren"
         },
         {
          "ID": "j80dw2z",
          "IsPostOwned": 1,
          "IsSubscribed": 1,
          "Score": 2,
          "Subreddit": "startrek"
         },
         {
          "ID": "iy4vgrw",
          "IsPostOwned": 1,
          "IsSubscribed": 0,
          "Score": 1,
          "Subreddit": "GenP"
         },
         {
          "ID": "gk74q0f",
          "IsPostOwned": 1,
          "IsSubscribed": 1,
          "Score": 1,
          "Subreddit": "veYakinEvren"
         },
         {
          "ID": "gk609m8",
          "IsPostOwned": 1,
          "IsSubscribed": 1,
          "Score": 3,
          "Subreddit": "veYakinEvren"
         },
         {
          "ID": "jqhyltm",
          "IsPostOwned": 0,
          "IsSubscribed": 1,
          "Score": 9,
          "Subreddit": "veYakinEvren"
         },
         {
          "ID": "jr1tub6",
          "IsPostOwned": 0,
          "IsSubscribed": 1,
          "Score": 4,
          "Subreddit": "seinfeld"
         },
         {
          "ID": "j7vsek3",
          "IsPostOwned": 0,
          "IsSubscribed": 1,
          "Score": 1,
          "Subreddit": "startrek"
         },
         {
          "ID": "j7k0lcu",
          "IsPostOwned": 0,
          "IsSubscribed": 1,
          "Score": 1,
          "Subreddit": "startrek"
         },
         {
          "ID": "i3q2jzq",
          "IsPostOwned": 0,
          "IsSubscribed": 1,
          "Score": 3,
          "Subreddit": "ProgrammerHumor"
         },
         {
          "ID": "jfaef9l",
          "IsPostOwned": 0,
          "IsSubscribed": 0,
          "Score": 12,
          "Subreddit": "dndmemes"
         },
         {
          "ID": "iwoy56h",
          "IsPostOwned": 0,
          "IsSubscribed": 1,
          "Score": 89,
          "Subreddit": "seinfeld"
         },
         {
          "ID": "j7lga0q",
          "IsPostOwned": 0,
          "IsSubscribed": 1,
          "Score": 1,
          "Subreddit": "startrekmemes"
         },
         {
          "ID": "hnkva2k",
          "IsPostOwned": 1,
          "IsSubscribed": 0,
          "Score": 1,
          "Subreddit": "flashcarts"
         },
         {
          "ID": "jodkcsd",
          "IsPostOwned": 0,
          "IsSubscribed": 1,
          "Score": 170,
          "Subreddit": "SatisfactoryGame"
         },
         {
          "ID": "g178erm",
          "IsPostOwned": 0,
          "IsSubscribed": 1,
          "Score": 2,
          "Subreddit": "veYakinEvren"
         },
         {
          "ID": "jdwya4j",
          "IsPostOwned": 0,
          "IsSubscribed": 1,
          "Score": 9,
          "Subreddit": "startrekmemes"
         },
         {
          "ID": "johkmvb",
          "IsPostOwned": 0,
          "IsSubscribed": 1,
          "Score": 3,
          "Subreddit": "SatisfactoryGame"
         },
         {
          "ID": "j7le3m1",
          "IsPostOwned": 1,
          "IsSubscribed": 1,
          "Score": 3,
          "Subreddit": "startrek"
         },
         {
          "ID": "j7vz00e",
          "IsPostOwned": 0,
          "IsSubscribed": 1,
          "Score": 1,
          "Subreddit": "seinfeld"
         },
         {
          "ID": "hprwgyf",
          "IsPostOwned": 1,
          "IsSubscribed": 1,
          "Score": 1,
          "Subreddit": "ElectroBOOM"
         },
         {
          "ID": "gqp3qhl",
          "IsPostOwned": 1,
          "IsSubscribed": 1,
          "Score": 1,
          "Subreddit": "consolerepair"
         },
         {
          "ID": "jffrzqf",
          "IsPostOwned": 0,
          "IsSubscribed": 1,
          "Score": 2,
          "Subreddit": "ProgrammerHumor"
         },
         {
          "ID": "jf6s59v",
          "IsPostOwned": 0,
          "IsSubscribed": 1,
          "Score": 10,
          "Subreddit": "TheLastAirbender"
         },
         {
          "ID": "j7tgkpu",
          "IsPostOwned": 0,
          "IsSubscribed": 1,
          "Score": 1,
          "Subreddit": "seinfeld"
         },
         {
          "ID": "jo77h0j",
          "IsPostOwned": 0,
          "IsSubscribed": 1,
          "Score": 2,
          "Subreddit": "veYakinEvren"
         },
         {
          "ID": "g2htihw",
          "IsPostOwned": 0,
          "IsSubscribed": 1,
          "Score": 10,
          "Subreddit": "veYakinEvren"
         },
         {
          "ID": "jmz8lpi",
          "IsPostOwned": 0,
          "IsSubscribed": 1,
          "Score": 6,
          "Subreddit": "veYakinEvren"
         },
         {
          "ID": "jcabsl7",
          "IsPostOwned": 0,
          "IsSubscribed": 1,
          "Score": 0,
          "Subreddit": "yugioh"
         },
         {
          "ID": "j7keol9",
          "IsPostOwned": 1,
          "IsSubscribed": 1,
          "Score": 3,
          "Subreddit": "startrek"
         },
         {
          "ID": "jaic4c0",
          "IsPostOwned": 0,
          "IsSubscribed": 1,
          "Score": 8,
          "Subreddit": "seinfeld"
         },
         {
          "ID": "jofmgxf",
          "IsPostOwned": 0,
          "IsSubscribed": 1,
          "Score": 1,
          "Subreddit": "movies"
         },
         {
          "ID": "jn3d5a2",
          "IsPostOwned": 0,
          "IsSubscribed": 1,
          "Score": 6,
          "Subreddit": "TheLastAirbender"
         },
         {
          "ID": "ic67f27",
          "IsPostOwned": 0,
          "IsSubscribed": 1,
          "Score": 51,
          "Subreddit": "startrekmemes"
         },
         {
          "ID": "jo788al",
          "IsPostOwned": 0,
          "IsSubscribed": 1,
          "Score": 1,
          "Subreddit": "veYakinEvren"
         },
         {
          "ID": "j7k0ven",
          "IsPostOwned": 1,
          "IsSubscribed": 1,
          "Score": 16,
          "Subreddit": "startrek"
         },
         {
          "ID": "k43dzb4",
          "IsPostOwned": 0,
          "IsSubscribed": 1,
          "Score": 8,
          "Subreddit": "camphalfblood"
         },
         {
          "ID": "k3bsskt",
          "IsPostOwned": 1,
          "IsSubscribed": 1,
          "Score": 4,
          "Subreddit": "TheLastAirbender"
         },
         {
          "ID": "jxe632d",
          "IsPostOwned": 0,
          "IsSubscribed": 1,
          "Score": 3,
          "Subreddit": "veYakinEvren"
         },
         {
          "ID": "k5kyi2w",
          "IsPostOwned": 0,
          "IsSubscribed": 1,
          "Score": 1,
          "Subreddit": "TheLastAirbender"
         },
         {
          "ID": "jshmlu7",
          "IsPostOwned": 0,
          "IsSubscribed": 1,
          "Score": 2,
          "Subreddit": "TheLastAirbender"
         },
         {
          "ID": "k5db02a",
          "IsPostOwned": 0,
          "IsSubscribed": 1,
          "Score": 8,
          "Subreddit": "camphalfblood"
         },
         {
          "ID": "k48zmdv",
          "IsPostOwned": 0,
          "IsSubscribed": 1,
          "Score": 1,
          "Subreddit": "seinfeld"
         },
         {
          "ID": "k6qgmqd",
          "IsPostOwned": 1,
          "IsSubscribed": 1,
          "Score": 48,
          "Subreddit": "TheLastAirbender"
         },
         {
          "ID": "k63bkt5",
          "IsPostOwned": 0,
          "IsSubscribed": 1,
          "Score": 6,
          "Subreddit": "camphalfblood"
         },
         {
          "ID": "k09wmce",
          "IsPostOwned": 0,
          "IsSubscribed": 1,
          "Score": 6,
          "Subreddit": "camphalfblood"
         },
         {
          "ID": "kccdo9r",
          "IsPostOwned": 0,
          "IsSubscribed": 1,
          "Score": -1,
          "Subreddit": "gaming"
         },
         {
          "ID": "k3zzbn4",
          "IsPostOwned": 1,
          "IsSubscribed": 1,
          "Score": 5,
          "Subreddit": "camphalfblood"
         },
         {
          "ID": "k4dsi03",
          "IsPostOwned": 0,
          "IsSubscribed": 1,
          "Score": 1,
          "Subreddit": "mathmemes"
         },
         {
          "ID": "jshmko6",
          "IsPostOwned": 0,
          "IsSubscribed": 1,
          "Score": 2,
          "Subreddit": "TheLastAirbender"
         },
         {
          "ID": "k9h7g31",
          "IsPostOwned": 0,
          "IsSubscribed": 1,
          "Score": 1,
          "Subreddit": "TheLastAirbender"
         },
         {
          "ID": "jw8pa9d",
          "IsPostOwned": 0,
          "IsSubscribed": 0,
          "Score": 1,
          "Subreddit": "tumblr"
         },
         {
          "ID": "k63a437",
          "IsPostOwned": 0,
          "IsSubscribed": 1,
          "Score": 7,
          "Subreddit": "camphalfblood"
         },
         {
          "ID": "jxxbsqc",
          "IsPostOwned": 1,
          "IsSubscribed": 1,
          "Score": 3,
          "Subreddit": "camphalfblood"
         },
         {
          "ID": "k63y5o7",
          "IsPostOwned": 0,
          "IsSubscribed": 1,
          "Score": 2,
          "Subreddit": "camphalfblood"
         },
         {
          "ID": "k3wdyrc",
          "IsPostOwned": 0,
          "IsSubscribed": 1,
          "Score": 2,
          "Subreddit": "camphalfblood"
         },
         {
          "ID": "k0ekhtq",
          "IsPostOwned": 0,
          "IsSubscribed": 1,
          "Score": 2,
          "Subreddit": "veYakinEvren"
         },
         {
          "ID": "jxz2uki",
          "IsPostOwned": 0,
          "IsSubscribed": 1,
          "Score": 112,
          "Subreddit": "PercyJacksonMemes"
         },
         {
          "ID": "jx5zarr",
          "IsPostOwned": 0,
          "IsSubscribed": 1,
          "Score": 1,
          "Subreddit": "veYakinEvren"
         },
         {
          "ID": "k3zzhhn",
          "IsPostOwned": 1,
          "IsSubscribed": 1,
          "Score": 4,
          "Subreddit": "camphalfblood"
         },
         {
          "ID": "k2u54cv",
          "IsPostOwned": 0,
          "IsSubscribed": 1,
          "Score": 1,
          "Subreddit": "veYakinEvren"
         },
         {
          "ID": "k63yst6",
          "IsPostOwned": 0,
          "IsSubscribed": 1,
          "Score": 4,
          "Subreddit": "camphalfblood"
         },
         {
          "ID": "k3zqs0r",
          "IsPostOwned": 0,
          "IsSubscribed": 1,
          "Score": 40,
          "Subreddit": "camphalfblood"
         },
         {
          "ID": "k63bo0x",
          "IsPostOwned": 0,
          "IsSubscribed": 1,
          "Score": 1,
          "Subreddit": "camphalfblood"
         },
         {
          "ID": "k63bvc6",
          "IsPostOwned": 0,
          "IsSubscribed": 1,
          "Score": 22,
          "Subreddit": "camphalfblood"
         },
         {
          "ID": "k6pb04o",
          "IsPostOwned": 1,
          "IsSubscribed": 1,
          "Score": 1,
          "Subreddit": "djangolearning"
         },
         {
          "ID": "k3ydmqx",
          "IsPostOwned": 0,
          "IsSubscribed": 1,
          "Score": 2,
          "Subreddit": "startrekmemes"
         },
         {
          "ID": "k8merzn",
          "IsPostOwned": 0,
          "IsSubscribed": 1,
          "Score": 2,
          "Subreddit": "TheLastAirbender"
         },
         {
          "ID": "k8meels",
          "IsPostOwned": 0,
          "IsSubscribed": 1,
          "Score": 1,
          "Subreddit": "mathmemes"
         },
         {
          "ID": "k636hk9",
          "IsPostOwned": 0,
          "IsSubscribed": 1,
          "Score": 5,
          "Subreddit": "camphalfblood"
         },
         {
          "ID": "k6y9ful",
          "IsPostOwned": 0,
          "IsSubscribed": 1,
          "Score": 2,
          "Subreddit": "mathmemes"
         },
         {
          "ID": "k6vbvk1",
          "IsPostOwned": 1,
          "IsSubscribed": 1,
          "Score": 2,
          "Subreddit": "TheLastAirbender"
         },
         {
          "ID": "k58t5z7",
          "IsPostOwned": 0,
          "IsSubscribed": 1,
          "Score": 2,
          "Subreddit": "camphalfblood"
         },
         {
          "ID": "k3c1fgl",
          "IsPostOwned": 1,
          "IsSubscribed": 1,
          "Score": 1,
          "Subreddit": "TheLastAirbender"
         },
         {
          "ID": "k6pt5sd",
          "IsPostOwned": 1,
          "IsSubscribed": 1,
          "Score": 13,
          "Subreddit": "TheLastAirbender"
         },
         {
          "ID": "k3yjgr3",
          "IsPostOwned": 0,
          "IsSubscribed": 1,
          "Score": 1,
          "Subreddit": "camphalfblood"
         },
         {
          "ID": "k3prfdf",
          "IsPostOwned": 0,
          "IsSubscribed": 1,
          "Score": 1,
          "Subreddit": "consolerepair"
         },
         {
          "ID": "k63yg7q",
          "IsPostOwned": 0,
          "IsSubscribed": 1,
          "Score": 1,
          "Subreddit": "camphalfblood"
         },
         {
          "ID": "k59c42k",
          "IsPostOwned": 0,
          "IsSubscribed": 1,
          "Score": 3,
          "Subreddit": "veYakinEvren"
         },
         {
          "ID": "jvmt1uq",
          "IsPostOwned": 0,
          "IsSubscribed": 1,
          "Score": 1,
          "Subreddit": "Ubuntu"
         },
         {
          "ID": "k5q9mlf",
          "IsPostOwned": 0,
          "IsSubscribed": 1,
          "Score": 1,
          "Subreddit": "TheLastAirbender"
         },
         {
          "ID": "k49mpih",
          "IsPostOwned": 0,
          "IsSubscribed": 1,
          "Score": 1,
          "Subreddit": "TheLastAirbender"
         },
         {
          "ID": "k0e5kjr",
          "IsPostOwned": 0,
          "IsSubscribed": 1,
          "Score": 35,
          "Subreddit": "PercyJacksonMemes"
         },
         {
          "ID": "k63z7al",
          "IsPostOwned": 0,
          "IsSubscribed": 1,
          "Score": 4,
          "Subreddit": "camphalfblood"
         },
         {
          "ID": "jshmn5a",
          "IsPostOwned": 0,
          "IsSubscribed": 1,
          "Score": 5,
          "Subreddit": "TheLastAirbender"
         },
         {
          "ID": "k6ygtkg",
          "IsPostOwned": 1,
          "IsSubscribed": 1,
          "Score": 8,
          "Subreddit": "TheLastAirbender"
         },
         {
          "ID": "k8mf3jm",
          "IsPostOwned": 0,
          "IsSubscribed": 1,
          "Score": 4,
          "Subreddit": "startrekmemes"
         },
         {
          "ID": "k3zyks3",
          "IsPostOwned": 1,
          "IsSubscribed": 1,
          "Score": 5,
          "Subreddit": "camphalfblood"
         },
         {
          "ID": "jvey8c7",
          "IsPostOwned": 0,
          "IsSubscribed": 1,
          "Score": 3,
          "Subreddit": "veYakinEvren"
         },
         {
          "ID": "kajva9l",
          "IsPostOwned": 0,
          "IsSubscribed": 1,
          "Score": 8,
          "Subreddit": "montypython"
         },
         {
          "ID": "k3zqojh",
          "IsPostOwned": 0,
          "IsSubscribed": 1,
          "Score": 30,
          "Subreddit": "camphalfblood"
         },
         {
          "ID": "k3wesoy",
          "IsPostOwned": 0,
          "IsSubscribed": 1,
          "Score": 1,
          "Subreddit": "seinfeld"
         },
         {
          "ID": "k683idg",
          "IsPostOwned": 0,
          "IsSubscribed": 1,
          "Score": 3,
          "Subreddit": "seinfeld"
         },
         {
          "ID": "ka0w62t",
          "IsPostOwned": 0,
          "IsSubscribed": 1,
          "Score": 3,
          "Subreddit": "SatisfactoryGame"
         },
         {
          "ID": "k3wf552",
          "IsPostOwned": 0,
          "IsSubscribed": 1,
          "Score": 1,
          "Subreddit": "ElectroBOOM"
         },
         {
          "ID": "k63fky7",
          "IsPostOwned": 0,
          "IsSubscribed": 1,
          "Score": 16,
          "Subreddit": "camphalfblood"
         },
         {
          "ID": "k0ekjpw",
          "IsPostOwned": 0,
          "IsSubscribed": 1,
          "Score": 1,
          "Subreddit": "montypython"
         },
         {
          "ID": "k63ylsm",
          "IsPostOwned": 0,
          "IsSubscribed": 1,
          "Score": 3,
          "Subreddit": "camphalfblood"
         },
         {
          "ID": "k543c2f",
          "IsPostOwned": 0,
          "IsSubscribed": 1,
          "Score": 4,
          "Subreddit": "veYakinEvren"
         },
         {
          "ID": "k0em66x",
          "IsPostOwned": 0,
          "IsSubscribed": 1,
          "Score": 1,
          "Subreddit": "montypython"
         },
         {
          "ID": "k6np51r",
          "IsPostOwned": 1,
          "IsSubscribed": 1,
          "Score": 1,
          "Subreddit": "djangolearning"
         },
         {
          "ID": "k9wqxnj",
          "IsPostOwned": 0,
          "IsSubscribed": 1,
          "Score": 2,
          "Subreddit": "GreekMythology"
         },
         {
          "ID": "k7cblcw",
          "IsPostOwned": 0,
          "IsSubscribed": 1,
          "Score": 5,
          "Subreddit": "veYakinEvren"
         },
         {
          "ID": "k636dsr",
          "IsPostOwned": 0,
          "IsSubscribed": 1,
          "Score": 30,
          "Subreddit": "camphalfblood"
         },
         {
          "ID": "jz6zilg",
          "IsPostOwned": 0,
          "IsSubscribed": 1,
          "Score": 2,
          "Subreddit": "veYakinEvren"
         },
         {
          "ID": "k3zs5wl",
          "IsPostOwned": 0,
          "IsSubscribed": 1,
          "Score": 1,
          "Subreddit": "veYakinEvren"
         },
         {
          "ID": "k59ckm9",
          "IsPostOwned": 0,
          "IsSubscribed": 1,
          "Score": 3,
          "Subreddit": "veYakinEvren"
         },
         {
          "ID": "jsfmcq2",
          "IsPostOwned": 0,
          "IsSubscribed": 1,
          "Score": 1,
          "Subreddit": "SatisfactoryGame"
         },
         {
          "ID": "k6sw5pn",
          "IsPostOwned": 1,
          "IsSubscribed": 0,
          "Score": 1,
          "Subreddit": "bootstrap"
         },
         {
          "ID": "jxz1l2k",
          "IsPostOwned": 0,
          "IsSubscribed": 1,
          "Score": -1,
          "Subreddit": "yugioh"
         },
         {
          "ID": "k97l0xc",
          "IsPostOwned": 0,
          "IsSubscribed": 1,
          "Score": 2,
          "Subreddit": "TheLastAirbender"
         },
         {
          "ID": "k5kx721",
          "IsPostOwned": 0,
          "IsSubscribed": 1,
          "Score": 1,
          "Subreddit": "mathmemes"
         },
         {
          "ID": "k40vri7",
          "IsPostOwned": 0,
          "IsSubscribed": 1,
          "Score": 1,
          "Subreddit": "veYakinEvren"
         },
         {
          "ID": "k8met4v",
          "IsPostOwned": 0,
          "IsSubscribed": 1,
          "Score": 2,
          "Subreddit": "TheLastAirbender"
         }
        ]
       },
       "encoding": {
        "tooltip": [
         {
          "aggregate": "count",
          "type": "quantitative"
         }
        ],
        "x": {
         "axis": {
          "labelAngle": -45,
          "labelExpr": "datum.value == 1 ? 'Owned' : 'Not Owned'"
         },
         "field": "IsPostOwned",
         "sort": "-y",
         "type": "nominal"
        },
        "y": {
         "aggregate": "count",
         "type": "quantitative"
        }
       },
       "height": 300,
       "mark": {
        "type": "bar"
       },
       "width": 600
      },
      "text/plain": [
       "<VegaLite 5 object>\n",
       "\n",
       "If you see this message, it means the renderer has not been properly enabled\n",
       "for the frontend that you are using. For more information, see\n",
       "https://altair-viz.github.io/user_guide/display_frontends.html#troubleshooting\n"
      ]
     },
     "execution_count": 20,
     "metadata": {},
     "output_type": "execute_result"
    }
   ],
   "source": [
    "chart = alt.Chart(comments_df).mark_bar().encode(\n",
    "    alt.X(\"IsPostOwned:N\", sort=\"-y\", axis=alt.Axis(labelAngle=-45, labelExpr=\"datum.value == 1 ? 'Owned' : 'Not Owned'\")),\n",
    "    alt.Y(\"count()\"),\n",
    "    tooltip=[\"count()\"],  # Show the count when hovering over the bar\n",
    ").properties(\n",
    "    width=600,\n",
    "    height=300,\n",
    ").configure(\n",
    "    padding={\"left\": 15, \"right\": 15, \"top\": 15, \"bottom\": 15},\n",
    "    title={\"fontSize\": 18},\n",
    ").configure_view(\n",
    "    stroke=None,\n",
    ").configure_axisX(\n",
    "    labelFontSize=14,\n",
    "    titleFontSize=14,\n",
    "    grid=False,  # Remove the grid\n",
    "    domainWidth=2,  # Set the width of the axis line\n",
    "    domainColor=\"#000\"  # Set the color of the axis line\n",
    ").configure_axisY(\n",
    "    labelFontSize=14,\n",
    "    titleFontSize=14,\n",
    "    grid=False,  # Remove the grid\n",
    "    domain=False,  # Remove the axis line\n",
    ")\n",
    "\n",
    "chart.save(\"figures/created/altair_is_post_owned.html\")\n",
    "chart.save(\"figures/img/created/altair_is_post_owned.png\")\n",
    "chart\n"
   ]
  }
 ],
 "metadata": {
  "kernelspec": {
   "display_name": "Python 3 (ipykernel)",
   "language": "python",
   "name": "python3"
  },
  "language_info": {
   "codemirror_mode": {
    "name": "ipython",
    "version": 3
   },
   "file_extension": ".py",
   "mimetype": "text/x-python",
   "name": "python",
   "nbconvert_exporter": "python",
   "pygments_lexer": "ipython3",
   "version": "3.11.6"
  }
 },
 "nbformat": 4,
 "nbformat_minor": 5
}
